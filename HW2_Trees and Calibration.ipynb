{
  "cells": [
    {
      "cell_type": "markdown",
      "metadata": {
        "id": "kcieyh_yMdfr"
      },
      "source": [
        "# Homework 2: Trees and Calibration\n",
        "\n",
        "\n",
        "## Instructions\n",
        "\n",
        "Please push the .ipynb, .py, and .pdf to Github Classroom prior to the deadline. Please include your UNI as well.\n",
        "\n",
        "**Make sure to use the dataset that we provide in CourseWorks/Classroom.**\n",
        "\n",
        "**There are a lot of applied questions based on the code results. Please make sure to answer them all. These are primarily to test your understanding of the results your code generate (similar to any Data Science/ML case study interviews).**\n",
        "\n",
        "Due Date : 10/14 (October 14th), 11:59 PM EST"
      ]
    },
    {
      "cell_type": "markdown",
      "metadata": {
        "id": "fv-kQHwUMjki"
      },
      "source": [
        "## The Dataset\n",
        "\n",
        "### Acknowledgements\n",
        "\n",
        "Big Thanks to https://www.superdatascience.com/pages/deep-learning\n",
        "\n",
        "Banner Photo by Sharon McCutcheon on Unsplash\n",
        "\n",
        "### Description\n",
        "\n",
        "This data set contains details of a bank's customers and the target variable is a binary variable reflecting the fact whether the customer left the bank (closed his account) or he continues to be a customer."
      ]
    },
    {
      "cell_type": "code",
      "execution_count": null,
      "metadata": {
        "colab": {
          "base_uri": "https://localhost:8080/",
          "height": 0
        },
        "id": "CjwtMBgKMr2J",
        "outputId": "ffcba4f4-63ca-4ad7-c6da-ebffb66fb17f",
        "scrolled": false
      },
      "outputs": [],
      "source": [
        "import numpy as np\n",
        "import pandas as pd\n",
        "import matplotlib.pyplot as plt\n",
        "import seaborn as sns\n",
        "\n",
        "from sklearn.model_selection import train_test_split\n",
        "from sklearn.tree import DecisionTreeRegressor\n",
        "from sklearn.tree import DecisionTreeClassifier\n",
        "from sklearn.tree import plot_tree\n",
        "from sklearn.ensemble import RandomForestClassifier\n",
        "from sklearn.ensemble import GradientBoostingClassifier\n",
        "from sklearn.experimental import enable_hist_gradient_boosting\n",
        "from sklearn.ensemble import HistGradientBoostingClassifier\n",
        "\n",
        "from sklearn.model_selection import GridSearchCV\n",
        "from sklearn.metrics import classification_report\n",
        "from sklearn.metrics import brier_score_loss\n",
        "from sklearn.calibration import CalibratedClassifierCV"
      ]
    },
    {
      "cell_type": "code",
      "execution_count": 14,
      "metadata": {
        "id": "PSeHr3FctjLo"
      },
      "outputs": [],
      "source": [
        "from sklearn.calibration import CalibrationDisplay"
      ]
    },
    {
      "cell_type": "markdown",
      "metadata": {
        "id": "soNXPE-bMmeq"
      },
      "source": [
        "## Question 1: Decision Trees"
      ]
    },
    {
      "cell_type": "markdown",
      "metadata": {
        "id": "H-xZ6flhMvaD"
      },
      "source": [
        "**1.1: Load the provided dataset**"
      ]
    },
    {
      "cell_type": "code",
      "execution_count": 37,
      "metadata": {
        "id": "hXMCZnwwMhPs"
      },
      "outputs": [],
      "source": [
        "## YOUR CODE HERE\n",
        "#df = pd.read_csv('/COMS 4995/HW2/HW2_dataset.csv') #df\n",
        "#df.head() # 10000 rows × 14 columns"
      ]
    },
    {
      "cell_type": "code",
      "execution_count": 13,
      "metadata": {
        "colab": {
          "base_uri": "https://localhost:8080/",
          "height": 77
        },
        "id": "EfpiH_0dW8fY",
        "outputId": "3afa2331-09c6-46a0-ac8c-abd933b1be77"
      },
      "outputs": [
        {
          "data": {
            "text/html": [
              "\n",
              "     <input type=\"file\" id=\"files-8ee9ea2b-e62a-4d4f-9642-91aaada3f541\" name=\"files[]\" multiple disabled\n",
              "        style=\"border:none\" />\n",
              "     <output id=\"result-8ee9ea2b-e62a-4d4f-9642-91aaada3f541\">\n",
              "      Upload widget is only available when the cell has been executed in the\n",
              "      current browser session. Please rerun this cell to enable.\n",
              "      </output>\n",
              "      <script>// Copyright 2017 Google LLC\n",
              "//\n",
              "// Licensed under the Apache License, Version 2.0 (the \"License\");\n",
              "// you may not use this file except in compliance with the License.\n",
              "// You may obtain a copy of the License at\n",
              "//\n",
              "//      http://www.apache.org/licenses/LICENSE-2.0\n",
              "//\n",
              "// Unless required by applicable law or agreed to in writing, software\n",
              "// distributed under the License is distributed on an \"AS IS\" BASIS,\n",
              "// WITHOUT WARRANTIES OR CONDITIONS OF ANY KIND, either express or implied.\n",
              "// See the License for the specific language governing permissions and\n",
              "// limitations under the License.\n",
              "\n",
              "/**\n",
              " * @fileoverview Helpers for google.colab Python module.\n",
              " */\n",
              "(function(scope) {\n",
              "function span(text, styleAttributes = {}) {\n",
              "  const element = document.createElement('span');\n",
              "  element.textContent = text;\n",
              "  for (const key of Object.keys(styleAttributes)) {\n",
              "    element.style[key] = styleAttributes[key];\n",
              "  }\n",
              "  return element;\n",
              "}\n",
              "\n",
              "// Max number of bytes which will be uploaded at a time.\n",
              "const MAX_PAYLOAD_SIZE = 100 * 1024;\n",
              "\n",
              "function _uploadFiles(inputId, outputId) {\n",
              "  const steps = uploadFilesStep(inputId, outputId);\n",
              "  const outputElement = document.getElementById(outputId);\n",
              "  // Cache steps on the outputElement to make it available for the next call\n",
              "  // to uploadFilesContinue from Python.\n",
              "  outputElement.steps = steps;\n",
              "\n",
              "  return _uploadFilesContinue(outputId);\n",
              "}\n",
              "\n",
              "// This is roughly an async generator (not supported in the browser yet),\n",
              "// where there are multiple asynchronous steps and the Python side is going\n",
              "// to poll for completion of each step.\n",
              "// This uses a Promise to block the python side on completion of each step,\n",
              "// then passes the result of the previous step as the input to the next step.\n",
              "function _uploadFilesContinue(outputId) {\n",
              "  const outputElement = document.getElementById(outputId);\n",
              "  const steps = outputElement.steps;\n",
              "\n",
              "  const next = steps.next(outputElement.lastPromiseValue);\n",
              "  return Promise.resolve(next.value.promise).then((value) => {\n",
              "    // Cache the last promise value to make it available to the next\n",
              "    // step of the generator.\n",
              "    outputElement.lastPromiseValue = value;\n",
              "    return next.value.response;\n",
              "  });\n",
              "}\n",
              "\n",
              "/**\n",
              " * Generator function which is called between each async step of the upload\n",
              " * process.\n",
              " * @param {string} inputId Element ID of the input file picker element.\n",
              " * @param {string} outputId Element ID of the output display.\n",
              " * @return {!Iterable<!Object>} Iterable of next steps.\n",
              " */\n",
              "function* uploadFilesStep(inputId, outputId) {\n",
              "  const inputElement = document.getElementById(inputId);\n",
              "  inputElement.disabled = false;\n",
              "\n",
              "  const outputElement = document.getElementById(outputId);\n",
              "  outputElement.innerHTML = '';\n",
              "\n",
              "  const pickedPromise = new Promise((resolve) => {\n",
              "    inputElement.addEventListener('change', (e) => {\n",
              "      resolve(e.target.files);\n",
              "    });\n",
              "  });\n",
              "\n",
              "  const cancel = document.createElement('button');\n",
              "  inputElement.parentElement.appendChild(cancel);\n",
              "  cancel.textContent = 'Cancel upload';\n",
              "  const cancelPromise = new Promise((resolve) => {\n",
              "    cancel.onclick = () => {\n",
              "      resolve(null);\n",
              "    };\n",
              "  });\n",
              "\n",
              "  // Wait for the user to pick the files.\n",
              "  const files = yield {\n",
              "    promise: Promise.race([pickedPromise, cancelPromise]),\n",
              "    response: {\n",
              "      action: 'starting',\n",
              "    }\n",
              "  };\n",
              "\n",
              "  cancel.remove();\n",
              "\n",
              "  // Disable the input element since further picks are not allowed.\n",
              "  inputElement.disabled = true;\n",
              "\n",
              "  if (!files) {\n",
              "    return {\n",
              "      response: {\n",
              "        action: 'complete',\n",
              "      }\n",
              "    };\n",
              "  }\n",
              "\n",
              "  for (const file of files) {\n",
              "    const li = document.createElement('li');\n",
              "    li.append(span(file.name, {fontWeight: 'bold'}));\n",
              "    li.append(span(\n",
              "        `(${file.type || 'n/a'}) - ${file.size} bytes, ` +\n",
              "        `last modified: ${\n",
              "            file.lastModifiedDate ? file.lastModifiedDate.toLocaleDateString() :\n",
              "                                    'n/a'} - `));\n",
              "    const percent = span('0% done');\n",
              "    li.appendChild(percent);\n",
              "\n",
              "    outputElement.appendChild(li);\n",
              "\n",
              "    const fileDataPromise = new Promise((resolve) => {\n",
              "      const reader = new FileReader();\n",
              "      reader.onload = (e) => {\n",
              "        resolve(e.target.result);\n",
              "      };\n",
              "      reader.readAsArrayBuffer(file);\n",
              "    });\n",
              "    // Wait for the data to be ready.\n",
              "    let fileData = yield {\n",
              "      promise: fileDataPromise,\n",
              "      response: {\n",
              "        action: 'continue',\n",
              "      }\n",
              "    };\n",
              "\n",
              "    // Use a chunked sending to avoid message size limits. See b/62115660.\n",
              "    let position = 0;\n",
              "    do {\n",
              "      const length = Math.min(fileData.byteLength - position, MAX_PAYLOAD_SIZE);\n",
              "      const chunk = new Uint8Array(fileData, position, length);\n",
              "      position += length;\n",
              "\n",
              "      const base64 = btoa(String.fromCharCode.apply(null, chunk));\n",
              "      yield {\n",
              "        response: {\n",
              "          action: 'append',\n",
              "          file: file.name,\n",
              "          data: base64,\n",
              "        },\n",
              "      };\n",
              "\n",
              "      let percentDone = fileData.byteLength === 0 ?\n",
              "          100 :\n",
              "          Math.round((position / fileData.byteLength) * 100);\n",
              "      percent.textContent = `${percentDone}% done`;\n",
              "\n",
              "    } while (position < fileData.byteLength);\n",
              "  }\n",
              "\n",
              "  // All done.\n",
              "  yield {\n",
              "    response: {\n",
              "      action: 'complete',\n",
              "    }\n",
              "  };\n",
              "}\n",
              "\n",
              "scope.google = scope.google || {};\n",
              "scope.google.colab = scope.google.colab || {};\n",
              "scope.google.colab._files = {\n",
              "  _uploadFiles,\n",
              "  _uploadFilesContinue,\n",
              "};\n",
              "})(self);\n",
              "</script> "
            ],
            "text/plain": [
              "<IPython.core.display.HTML object>"
            ]
          },
          "metadata": {},
          "output_type": "display_data"
        },
        {
          "name": "stdout",
          "output_type": "stream",
          "text": [
            "Saving HW2_dataset.csv to HW2_dataset.csv\n"
          ]
        }
      ],
      "source": [
        "from google.colab import files\n",
        "uploaded = files.upload()"
      ]
    },
    {
      "cell_type": "code",
      "execution_count": 11,
      "metadata": {
        "colab": {
          "base_uri": "https://localhost:8080/",
          "height": 0
        },
        "id": "qkf2ljcUYfO1",
        "outputId": "e9b5657d-16cf-47aa-c479-7c2beb67391c"
      },
      "outputs": [
        {
          "name": "stdout",
          "output_type": "stream",
          "text": [
            "Mounted at /content/drive\n"
          ]
        }
      ],
      "source": [
        "from google.colab import drive\n",
        "drive.mount('/content/drive')"
      ]
    },
    {
      "cell_type": "code",
      "execution_count": 15,
      "metadata": {
        "id": "dhHxTTXDXEw6"
      },
      "outputs": [],
      "source": [
        "# import io\n",
        "df = pd.read_csv('HW2_dataset.csv')"
      ]
    },
    {
      "cell_type": "code",
      "execution_count": 16,
      "metadata": {
        "colab": {
          "base_uri": "https://localhost:8080/",
          "height": 250
        },
        "id": "IqbaxTYhS45u",
        "outputId": "51565fe1-46c4-4ad5-f7a9-165605635c36"
      },
      "outputs": [
        {
          "data": {
            "text/html": [
              "\n",
              "  <div id=\"df-707f0d3c-e9ba-4d19-a8b4-28b8f254ba4e\">\n",
              "    <div class=\"colab-df-container\">\n",
              "      <div>\n",
              "<style scoped>\n",
              "    .dataframe tbody tr th:only-of-type {\n",
              "        vertical-align: middle;\n",
              "    }\n",
              "\n",
              "    .dataframe tbody tr th {\n",
              "        vertical-align: top;\n",
              "    }\n",
              "\n",
              "    .dataframe thead th {\n",
              "        text-align: right;\n",
              "    }\n",
              "</style>\n",
              "<table border=\"1\" class=\"dataframe\">\n",
              "  <thead>\n",
              "    <tr style=\"text-align: right;\">\n",
              "      <th></th>\n",
              "      <th>RowNumber</th>\n",
              "      <th>CustomerId</th>\n",
              "      <th>Surname</th>\n",
              "      <th>CreditScore</th>\n",
              "      <th>Geography</th>\n",
              "      <th>Gender</th>\n",
              "      <th>Age</th>\n",
              "      <th>Tenure</th>\n",
              "      <th>Balance</th>\n",
              "      <th>NumOfProducts</th>\n",
              "      <th>HasCrCard</th>\n",
              "      <th>IsActiveMember</th>\n",
              "      <th>EstimatedSalary</th>\n",
              "      <th>Exited</th>\n",
              "    </tr>\n",
              "  </thead>\n",
              "  <tbody>\n",
              "    <tr>\n",
              "      <th>0</th>\n",
              "      <td>1</td>\n",
              "      <td>15634602</td>\n",
              "      <td>Hargrave</td>\n",
              "      <td>619.0</td>\n",
              "      <td>France</td>\n",
              "      <td>Female</td>\n",
              "      <td>42</td>\n",
              "      <td>2</td>\n",
              "      <td>0.00</td>\n",
              "      <td>1</td>\n",
              "      <td>1</td>\n",
              "      <td>1</td>\n",
              "      <td>101348.88</td>\n",
              "      <td>1</td>\n",
              "    </tr>\n",
              "    <tr>\n",
              "      <th>1</th>\n",
              "      <td>2</td>\n",
              "      <td>15647311</td>\n",
              "      <td>Hill</td>\n",
              "      <td>608.0</td>\n",
              "      <td>Spain</td>\n",
              "      <td>Female</td>\n",
              "      <td>41</td>\n",
              "      <td>1</td>\n",
              "      <td>83807.86</td>\n",
              "      <td>1</td>\n",
              "      <td>0</td>\n",
              "      <td>1</td>\n",
              "      <td>112542.58</td>\n",
              "      <td>0</td>\n",
              "    </tr>\n",
              "    <tr>\n",
              "      <th>2</th>\n",
              "      <td>3</td>\n",
              "      <td>15619304</td>\n",
              "      <td>Onio</td>\n",
              "      <td>502.0</td>\n",
              "      <td>France</td>\n",
              "      <td>Female</td>\n",
              "      <td>42</td>\n",
              "      <td>8</td>\n",
              "      <td>159660.80</td>\n",
              "      <td>3</td>\n",
              "      <td>1</td>\n",
              "      <td>0</td>\n",
              "      <td>113931.57</td>\n",
              "      <td>1</td>\n",
              "    </tr>\n",
              "    <tr>\n",
              "      <th>3</th>\n",
              "      <td>4</td>\n",
              "      <td>15701354</td>\n",
              "      <td>Boni</td>\n",
              "      <td>699.0</td>\n",
              "      <td>France</td>\n",
              "      <td>Female</td>\n",
              "      <td>39</td>\n",
              "      <td>1</td>\n",
              "      <td>0.00</td>\n",
              "      <td>2</td>\n",
              "      <td>0</td>\n",
              "      <td>0</td>\n",
              "      <td>93826.63</td>\n",
              "      <td>0</td>\n",
              "    </tr>\n",
              "    <tr>\n",
              "      <th>4</th>\n",
              "      <td>5</td>\n",
              "      <td>15737888</td>\n",
              "      <td>Mitchell</td>\n",
              "      <td>850.0</td>\n",
              "      <td>Spain</td>\n",
              "      <td>Female</td>\n",
              "      <td>43</td>\n",
              "      <td>2</td>\n",
              "      <td>125510.82</td>\n",
              "      <td>1</td>\n",
              "      <td>1</td>\n",
              "      <td>1</td>\n",
              "      <td>79084.10</td>\n",
              "      <td>0</td>\n",
              "    </tr>\n",
              "  </tbody>\n",
              "</table>\n",
              "</div>\n",
              "      <button class=\"colab-df-convert\" onclick=\"convertToInteractive('df-707f0d3c-e9ba-4d19-a8b4-28b8f254ba4e')\"\n",
              "              title=\"Convert this dataframe to an interactive table.\"\n",
              "              style=\"display:none;\">\n",
              "        \n",
              "  <svg xmlns=\"http://www.w3.org/2000/svg\" height=\"24px\"viewBox=\"0 0 24 24\"\n",
              "       width=\"24px\">\n",
              "    <path d=\"M0 0h24v24H0V0z\" fill=\"none\"/>\n",
              "    <path d=\"M18.56 5.44l.94 2.06.94-2.06 2.06-.94-2.06-.94-.94-2.06-.94 2.06-2.06.94zm-11 1L8.5 8.5l.94-2.06 2.06-.94-2.06-.94L8.5 2.5l-.94 2.06-2.06.94zm10 10l.94 2.06.94-2.06 2.06-.94-2.06-.94-.94-2.06-.94 2.06-2.06.94z\"/><path d=\"M17.41 7.96l-1.37-1.37c-.4-.4-.92-.59-1.43-.59-.52 0-1.04.2-1.43.59L10.3 9.45l-7.72 7.72c-.78.78-.78 2.05 0 2.83L4 21.41c.39.39.9.59 1.41.59.51 0 1.02-.2 1.41-.59l7.78-7.78 2.81-2.81c.8-.78.8-2.07 0-2.86zM5.41 20L4 18.59l7.72-7.72 1.47 1.35L5.41 20z\"/>\n",
              "  </svg>\n",
              "      </button>\n",
              "      \n",
              "  <style>\n",
              "    .colab-df-container {\n",
              "      display:flex;\n",
              "      flex-wrap:wrap;\n",
              "      gap: 12px;\n",
              "    }\n",
              "\n",
              "    .colab-df-convert {\n",
              "      background-color: #E8F0FE;\n",
              "      border: none;\n",
              "      border-radius: 50%;\n",
              "      cursor: pointer;\n",
              "      display: none;\n",
              "      fill: #1967D2;\n",
              "      height: 32px;\n",
              "      padding: 0 0 0 0;\n",
              "      width: 32px;\n",
              "    }\n",
              "\n",
              "    .colab-df-convert:hover {\n",
              "      background-color: #E2EBFA;\n",
              "      box-shadow: 0px 1px 2px rgba(60, 64, 67, 0.3), 0px 1px 3px 1px rgba(60, 64, 67, 0.15);\n",
              "      fill: #174EA6;\n",
              "    }\n",
              "\n",
              "    [theme=dark] .colab-df-convert {\n",
              "      background-color: #3B4455;\n",
              "      fill: #D2E3FC;\n",
              "    }\n",
              "\n",
              "    [theme=dark] .colab-df-convert:hover {\n",
              "      background-color: #434B5C;\n",
              "      box-shadow: 0px 1px 3px 1px rgba(0, 0, 0, 0.15);\n",
              "      filter: drop-shadow(0px 1px 2px rgba(0, 0, 0, 0.3));\n",
              "      fill: #FFFFFF;\n",
              "    }\n",
              "  </style>\n",
              "\n",
              "      <script>\n",
              "        const buttonEl =\n",
              "          document.querySelector('#df-707f0d3c-e9ba-4d19-a8b4-28b8f254ba4e button.colab-df-convert');\n",
              "        buttonEl.style.display =\n",
              "          google.colab.kernel.accessAllowed ? 'block' : 'none';\n",
              "\n",
              "        async function convertToInteractive(key) {\n",
              "          const element = document.querySelector('#df-707f0d3c-e9ba-4d19-a8b4-28b8f254ba4e');\n",
              "          const dataTable =\n",
              "            await google.colab.kernel.invokeFunction('convertToInteractive',\n",
              "                                                     [key], {});\n",
              "          if (!dataTable) return;\n",
              "\n",
              "          const docLinkHtml = 'Like what you see? Visit the ' +\n",
              "            '<a target=\"_blank\" href=https://colab.research.google.com/notebooks/data_table.ipynb>data table notebook</a>'\n",
              "            + ' to learn more about interactive tables.';\n",
              "          element.innerHTML = '';\n",
              "          dataTable['output_type'] = 'display_data';\n",
              "          await google.colab.output.renderOutput(dataTable, element);\n",
              "          const docLink = document.createElement('div');\n",
              "          docLink.innerHTML = docLinkHtml;\n",
              "          element.appendChild(docLink);\n",
              "        }\n",
              "      </script>\n",
              "    </div>\n",
              "  </div>\n",
              "  "
            ],
            "text/plain": [
              "   RowNumber  CustomerId   Surname  CreditScore Geography  Gender  Age  \\\n",
              "0          1    15634602  Hargrave        619.0    France  Female   42   \n",
              "1          2    15647311      Hill        608.0     Spain  Female   41   \n",
              "2          3    15619304      Onio        502.0    France  Female   42   \n",
              "3          4    15701354      Boni        699.0    France  Female   39   \n",
              "4          5    15737888  Mitchell        850.0     Spain  Female   43   \n",
              "\n",
              "   Tenure    Balance  NumOfProducts  HasCrCard  IsActiveMember  \\\n",
              "0       2       0.00              1          1               1   \n",
              "1       1   83807.86              1          0               1   \n",
              "2       8  159660.80              3          1               0   \n",
              "3       1       0.00              2          0               0   \n",
              "4       2  125510.82              1          1               1   \n",
              "\n",
              "   EstimatedSalary  Exited  \n",
              "0        101348.88       1  \n",
              "1        112542.58       0  \n",
              "2        113931.57       1  \n",
              "3         93826.63       0  \n",
              "4         79084.10       0  "
            ]
          },
          "execution_count": 16,
          "metadata": {},
          "output_type": "execute_result"
        }
      ],
      "source": [
        "df.head()"
      ]
    },
    {
      "cell_type": "markdown",
      "metadata": {
        "id": "cNKBWPxnMzDr"
      },
      "source": [
        "**1.2: Plot % of missing values in each column. Would you consider dropping any columns? Assuming we want to train a decision tree, would you consider imputing the missing values? If not, why? (Remove the columns that you consider dropping)**"
      ]
    },
    {
      "cell_type": "markdown",
      "metadata": {
        "id": "M4vsFtO3atz6"
      },
      "source": [
        "I drop columns with missing values because I don't want to input missing values into dicision tree models. The trees classify the label based on the value of variables. If the value is missing, the tree cannot classify and predict. "
      ]
    },
    {
      "cell_type": "code",
      "execution_count": 17,
      "metadata": {
        "colab": {
          "base_uri": "https://localhost:8080/",
          "height": 488
        },
        "id": "So4uaCb4M13v",
        "outputId": "6ab8d900-d2c8-4780-99da-92c98b3f08e2"
      },
      "outputs": [
        {
          "data": {
            "text/html": [
              "\n",
              "  <div id=\"df-13692f24-104f-431e-87a2-cf135d16c9a0\">\n",
              "    <div class=\"colab-df-container\">\n",
              "      <div>\n",
              "<style scoped>\n",
              "    .dataframe tbody tr th:only-of-type {\n",
              "        vertical-align: middle;\n",
              "    }\n",
              "\n",
              "    .dataframe tbody tr th {\n",
              "        vertical-align: top;\n",
              "    }\n",
              "\n",
              "    .dataframe thead th {\n",
              "        text-align: right;\n",
              "    }\n",
              "</style>\n",
              "<table border=\"1\" class=\"dataframe\">\n",
              "  <thead>\n",
              "    <tr style=\"text-align: right;\">\n",
              "      <th></th>\n",
              "      <th>0</th>\n",
              "    </tr>\n",
              "  </thead>\n",
              "  <tbody>\n",
              "    <tr>\n",
              "      <th>RowNumber</th>\n",
              "      <td>0</td>\n",
              "    </tr>\n",
              "    <tr>\n",
              "      <th>CustomerId</th>\n",
              "      <td>0</td>\n",
              "    </tr>\n",
              "    <tr>\n",
              "      <th>Surname</th>\n",
              "      <td>0</td>\n",
              "    </tr>\n",
              "    <tr>\n",
              "      <th>CreditScore</th>\n",
              "      <td>441</td>\n",
              "    </tr>\n",
              "    <tr>\n",
              "      <th>Geography</th>\n",
              "      <td>0</td>\n",
              "    </tr>\n",
              "    <tr>\n",
              "      <th>Gender</th>\n",
              "      <td>0</td>\n",
              "    </tr>\n",
              "    <tr>\n",
              "      <th>Age</th>\n",
              "      <td>0</td>\n",
              "    </tr>\n",
              "    <tr>\n",
              "      <th>Tenure</th>\n",
              "      <td>0</td>\n",
              "    </tr>\n",
              "    <tr>\n",
              "      <th>Balance</th>\n",
              "      <td>123</td>\n",
              "    </tr>\n",
              "    <tr>\n",
              "      <th>NumOfProducts</th>\n",
              "      <td>0</td>\n",
              "    </tr>\n",
              "    <tr>\n",
              "      <th>HasCrCard</th>\n",
              "      <td>0</td>\n",
              "    </tr>\n",
              "    <tr>\n",
              "      <th>IsActiveMember</th>\n",
              "      <td>0</td>\n",
              "    </tr>\n",
              "    <tr>\n",
              "      <th>EstimatedSalary</th>\n",
              "      <td>800</td>\n",
              "    </tr>\n",
              "    <tr>\n",
              "      <th>Exited</th>\n",
              "      <td>0</td>\n",
              "    </tr>\n",
              "  </tbody>\n",
              "</table>\n",
              "</div>\n",
              "      <button class=\"colab-df-convert\" onclick=\"convertToInteractive('df-13692f24-104f-431e-87a2-cf135d16c9a0')\"\n",
              "              title=\"Convert this dataframe to an interactive table.\"\n",
              "              style=\"display:none;\">\n",
              "        \n",
              "  <svg xmlns=\"http://www.w3.org/2000/svg\" height=\"24px\"viewBox=\"0 0 24 24\"\n",
              "       width=\"24px\">\n",
              "    <path d=\"M0 0h24v24H0V0z\" fill=\"none\"/>\n",
              "    <path d=\"M18.56 5.44l.94 2.06.94-2.06 2.06-.94-2.06-.94-.94-2.06-.94 2.06-2.06.94zm-11 1L8.5 8.5l.94-2.06 2.06-.94-2.06-.94L8.5 2.5l-.94 2.06-2.06.94zm10 10l.94 2.06.94-2.06 2.06-.94-2.06-.94-.94-2.06-.94 2.06-2.06.94z\"/><path d=\"M17.41 7.96l-1.37-1.37c-.4-.4-.92-.59-1.43-.59-.52 0-1.04.2-1.43.59L10.3 9.45l-7.72 7.72c-.78.78-.78 2.05 0 2.83L4 21.41c.39.39.9.59 1.41.59.51 0 1.02-.2 1.41-.59l7.78-7.78 2.81-2.81c.8-.78.8-2.07 0-2.86zM5.41 20L4 18.59l7.72-7.72 1.47 1.35L5.41 20z\"/>\n",
              "  </svg>\n",
              "      </button>\n",
              "      \n",
              "  <style>\n",
              "    .colab-df-container {\n",
              "      display:flex;\n",
              "      flex-wrap:wrap;\n",
              "      gap: 12px;\n",
              "    }\n",
              "\n",
              "    .colab-df-convert {\n",
              "      background-color: #E8F0FE;\n",
              "      border: none;\n",
              "      border-radius: 50%;\n",
              "      cursor: pointer;\n",
              "      display: none;\n",
              "      fill: #1967D2;\n",
              "      height: 32px;\n",
              "      padding: 0 0 0 0;\n",
              "      width: 32px;\n",
              "    }\n",
              "\n",
              "    .colab-df-convert:hover {\n",
              "      background-color: #E2EBFA;\n",
              "      box-shadow: 0px 1px 2px rgba(60, 64, 67, 0.3), 0px 1px 3px 1px rgba(60, 64, 67, 0.15);\n",
              "      fill: #174EA6;\n",
              "    }\n",
              "\n",
              "    [theme=dark] .colab-df-convert {\n",
              "      background-color: #3B4455;\n",
              "      fill: #D2E3FC;\n",
              "    }\n",
              "\n",
              "    [theme=dark] .colab-df-convert:hover {\n",
              "      background-color: #434B5C;\n",
              "      box-shadow: 0px 1px 3px 1px rgba(0, 0, 0, 0.15);\n",
              "      filter: drop-shadow(0px 1px 2px rgba(0, 0, 0, 0.3));\n",
              "      fill: #FFFFFF;\n",
              "    }\n",
              "  </style>\n",
              "\n",
              "      <script>\n",
              "        const buttonEl =\n",
              "          document.querySelector('#df-13692f24-104f-431e-87a2-cf135d16c9a0 button.colab-df-convert');\n",
              "        buttonEl.style.display =\n",
              "          google.colab.kernel.accessAllowed ? 'block' : 'none';\n",
              "\n",
              "        async function convertToInteractive(key) {\n",
              "          const element = document.querySelector('#df-13692f24-104f-431e-87a2-cf135d16c9a0');\n",
              "          const dataTable =\n",
              "            await google.colab.kernel.invokeFunction('convertToInteractive',\n",
              "                                                     [key], {});\n",
              "          if (!dataTable) return;\n",
              "\n",
              "          const docLinkHtml = 'Like what you see? Visit the ' +\n",
              "            '<a target=\"_blank\" href=https://colab.research.google.com/notebooks/data_table.ipynb>data table notebook</a>'\n",
              "            + ' to learn more about interactive tables.';\n",
              "          element.innerHTML = '';\n",
              "          dataTable['output_type'] = 'display_data';\n",
              "          await google.colab.output.renderOutput(dataTable, element);\n",
              "          const docLink = document.createElement('div');\n",
              "          docLink.innerHTML = docLinkHtml;\n",
              "          element.appendChild(docLink);\n",
              "        }\n",
              "      </script>\n",
              "    </div>\n",
              "  </div>\n",
              "  "
            ],
            "text/plain": [
              "                   0\n",
              "RowNumber          0\n",
              "CustomerId         0\n",
              "Surname            0\n",
              "CreditScore      441\n",
              "Geography          0\n",
              "Gender             0\n",
              "Age                0\n",
              "Tenure             0\n",
              "Balance          123\n",
              "NumOfProducts      0\n",
              "HasCrCard          0\n",
              "IsActiveMember     0\n",
              "EstimatedSalary  800\n",
              "Exited             0"
            ]
          },
          "execution_count": 17,
          "metadata": {},
          "output_type": "execute_result"
        }
      ],
      "source": [
        "## YOUR CODE HERE\n",
        "df_na = pd.DataFrame(df.isnull().sum()) # series\n",
        "df_na"
      ]
    },
    {
      "cell_type": "code",
      "execution_count": 18,
      "metadata": {
        "id": "PlQapKLGQJVF",
        "scrolled": true
      },
      "outputs": [],
      "source": [
        "df_na = df_na[0]/df.shape[0] "
      ]
    },
    {
      "cell_type": "code",
      "execution_count": 19,
      "metadata": {
        "colab": {
          "base_uri": "https://localhost:8080/",
          "height": 337
        },
        "id": "HHX89Nj5QJVF",
        "outputId": "46b19136-7d25-4532-91f7-8730c93ff778",
        "scrolled": true
      },
      "outputs": [
        {
          "data": {
            "image/png": "[encoded data removed]",
            "text/plain": [
              "<Figure size 432x288 with 1 Axes>"
            ]
          },
          "metadata": {
            "needs_background": "light"
          },
          "output_type": "display_data"
        }
      ],
      "source": [
        "plt.bar(df_na.index, df_na.values)\n",
        "plt.xticks(rotation=90)\n",
        "plt.ylabel('% of missing values');"
      ]
    },
    {
      "cell_type": "code",
      "execution_count": 20,
      "metadata": {
        "id": "7CsEIhbWQJVG"
      },
      "outputs": [],
      "source": [
        "todrop = ['CreditScore', 'Balance', 'EstimatedSalary']\n",
        "df_new = df.drop(df[todrop], axis=1)\n",
        "df_new = df_new.drop(df_new[['Surname','CustomerId','RowNumber']], axis=1)"
      ]
    },
    {
      "cell_type": "code",
      "execution_count": 21,
      "metadata": {
        "colab": {
          "base_uri": "https://localhost:8080/",
          "height": 424
        },
        "id": "VWRhsQLgQJVG",
        "outputId": "260d127a-320e-4ef1-f6dd-2cc051df9bfc"
      },
      "outputs": [
        {
          "data": {
            "text/html": [
              "\n",
              "  <div id=\"df-096f345b-30a7-4250-9480-26bd4dc9cd8a\">\n",
              "    <div class=\"colab-df-container\">\n",
              "      <div>\n",
              "<style scoped>\n",
              "    .dataframe tbody tr th:only-of-type {\n",
              "        vertical-align: middle;\n",
              "    }\n",
              "\n",
              "    .dataframe tbody tr th {\n",
              "        vertical-align: top;\n",
              "    }\n",
              "\n",
              "    .dataframe thead th {\n",
              "        text-align: right;\n",
              "    }\n",
              "</style>\n",
              "<table border=\"1\" class=\"dataframe\">\n",
              "  <thead>\n",
              "    <tr style=\"text-align: right;\">\n",
              "      <th></th>\n",
              "      <th>Geography</th>\n",
              "      <th>Gender</th>\n",
              "      <th>Age</th>\n",
              "      <th>Tenure</th>\n",
              "      <th>NumOfProducts</th>\n",
              "      <th>HasCrCard</th>\n",
              "      <th>IsActiveMember</th>\n",
              "      <th>Exited</th>\n",
              "    </tr>\n",
              "  </thead>\n",
              "  <tbody>\n",
              "    <tr>\n",
              "      <th>0</th>\n",
              "      <td>France</td>\n",
              "      <td>Female</td>\n",
              "      <td>42</td>\n",
              "      <td>2</td>\n",
              "      <td>1</td>\n",
              "      <td>1</td>\n",
              "      <td>1</td>\n",
              "      <td>1</td>\n",
              "    </tr>\n",
              "    <tr>\n",
              "      <th>1</th>\n",
              "      <td>Spain</td>\n",
              "      <td>Female</td>\n",
              "      <td>41</td>\n",
              "      <td>1</td>\n",
              "      <td>1</td>\n",
              "      <td>0</td>\n",
              "      <td>1</td>\n",
              "      <td>0</td>\n",
              "    </tr>\n",
              "    <tr>\n",
              "      <th>2</th>\n",
              "      <td>France</td>\n",
              "      <td>Female</td>\n",
              "      <td>42</td>\n",
              "      <td>8</td>\n",
              "      <td>3</td>\n",
              "      <td>1</td>\n",
              "      <td>0</td>\n",
              "      <td>1</td>\n",
              "    </tr>\n",
              "    <tr>\n",
              "      <th>3</th>\n",
              "      <td>France</td>\n",
              "      <td>Female</td>\n",
              "      <td>39</td>\n",
              "      <td>1</td>\n",
              "      <td>2</td>\n",
              "      <td>0</td>\n",
              "      <td>0</td>\n",
              "      <td>0</td>\n",
              "    </tr>\n",
              "    <tr>\n",
              "      <th>4</th>\n",
              "      <td>Spain</td>\n",
              "      <td>Female</td>\n",
              "      <td>43</td>\n",
              "      <td>2</td>\n",
              "      <td>1</td>\n",
              "      <td>1</td>\n",
              "      <td>1</td>\n",
              "      <td>0</td>\n",
              "    </tr>\n",
              "    <tr>\n",
              "      <th>...</th>\n",
              "      <td>...</td>\n",
              "      <td>...</td>\n",
              "      <td>...</td>\n",
              "      <td>...</td>\n",
              "      <td>...</td>\n",
              "      <td>...</td>\n",
              "      <td>...</td>\n",
              "      <td>...</td>\n",
              "    </tr>\n",
              "    <tr>\n",
              "      <th>9995</th>\n",
              "      <td>France</td>\n",
              "      <td>Male</td>\n",
              "      <td>39</td>\n",
              "      <td>5</td>\n",
              "      <td>2</td>\n",
              "      <td>1</td>\n",
              "      <td>0</td>\n",
              "      <td>0</td>\n",
              "    </tr>\n",
              "    <tr>\n",
              "      <th>9996</th>\n",
              "      <td>France</td>\n",
              "      <td>Male</td>\n",
              "      <td>35</td>\n",
              "      <td>10</td>\n",
              "      <td>1</td>\n",
              "      <td>1</td>\n",
              "      <td>1</td>\n",
              "      <td>0</td>\n",
              "    </tr>\n",
              "    <tr>\n",
              "      <th>9997</th>\n",
              "      <td>France</td>\n",
              "      <td>Female</td>\n",
              "      <td>36</td>\n",
              "      <td>7</td>\n",
              "      <td>1</td>\n",
              "      <td>0</td>\n",
              "      <td>1</td>\n",
              "      <td>1</td>\n",
              "    </tr>\n",
              "    <tr>\n",
              "      <th>9998</th>\n",
              "      <td>Germany</td>\n",
              "      <td>Male</td>\n",
              "      <td>42</td>\n",
              "      <td>3</td>\n",
              "      <td>2</td>\n",
              "      <td>1</td>\n",
              "      <td>0</td>\n",
              "      <td>1</td>\n",
              "    </tr>\n",
              "    <tr>\n",
              "      <th>9999</th>\n",
              "      <td>France</td>\n",
              "      <td>Female</td>\n",
              "      <td>28</td>\n",
              "      <td>4</td>\n",
              "      <td>1</td>\n",
              "      <td>1</td>\n",
              "      <td>0</td>\n",
              "      <td>0</td>\n",
              "    </tr>\n",
              "  </tbody>\n",
              "</table>\n",
              "<p>10000 rows × 8 columns</p>\n",
              "</div>\n",
              "      <button class=\"colab-df-convert\" onclick=\"convertToInteractive('df-096f345b-30a7-4250-9480-26bd4dc9cd8a')\"\n",
              "              title=\"Convert this dataframe to an interactive table.\"\n",
              "              style=\"display:none;\">\n",
              "        \n",
              "  <svg xmlns=\"http://www.w3.org/2000/svg\" height=\"24px\"viewBox=\"0 0 24 24\"\n",
              "       width=\"24px\">\n",
              "    <path d=\"M0 0h24v24H0V0z\" fill=\"none\"/>\n",
              "    <path d=\"M18.56 5.44l.94 2.06.94-2.06 2.06-.94-2.06-.94-.94-2.06-.94 2.06-2.06.94zm-11 1L8.5 8.5l.94-2.06 2.06-.94-2.06-.94L8.5 2.5l-.94 2.06-2.06.94zm10 10l.94 2.06.94-2.06 2.06-.94-2.06-.94-.94-2.06-.94 2.06-2.06.94z\"/><path d=\"M17.41 7.96l-1.37-1.37c-.4-.4-.92-.59-1.43-.59-.52 0-1.04.2-1.43.59L10.3 9.45l-7.72 7.72c-.78.78-.78 2.05 0 2.83L4 21.41c.39.39.9.59 1.41.59.51 0 1.02-.2 1.41-.59l7.78-7.78 2.81-2.81c.8-.78.8-2.07 0-2.86zM5.41 20L4 18.59l7.72-7.72 1.47 1.35L5.41 20z\"/>\n",
              "  </svg>\n",
              "      </button>\n",
              "      \n",
              "  <style>\n",
              "    .colab-df-container {\n",
              "      display:flex;\n",
              "      flex-wrap:wrap;\n",
              "      gap: 12px;\n",
              "    }\n",
              "\n",
              "    .colab-df-convert {\n",
              "      background-color: #E8F0FE;\n",
              "      border: none;\n",
              "      border-radius: 50%;\n",
              "      cursor: pointer;\n",
              "      display: none;\n",
              "      fill: #1967D2;\n",
              "      height: 32px;\n",
              "      padding: 0 0 0 0;\n",
              "      width: 32px;\n",
              "    }\n",
              "\n",
              "    .colab-df-convert:hover {\n",
              "      background-color: #E2EBFA;\n",
              "      box-shadow: 0px 1px 2px rgba(60, 64, 67, 0.3), 0px 1px 3px 1px rgba(60, 64, 67, 0.15);\n",
              "      fill: #174EA6;\n",
              "    }\n",
              "\n",
              "    [theme=dark] .colab-df-convert {\n",
              "      background-color: #3B4455;\n",
              "      fill: #D2E3FC;\n",
              "    }\n",
              "\n",
              "    [theme=dark] .colab-df-convert:hover {\n",
              "      background-color: #434B5C;\n",
              "      box-shadow: 0px 1px 3px 1px rgba(0, 0, 0, 0.15);\n",
              "      filter: drop-shadow(0px 1px 2px rgba(0, 0, 0, 0.3));\n",
              "      fill: #FFFFFF;\n",
              "    }\n",
              "  </style>\n",
              "\n",
              "      <script>\n",
              "        const buttonEl =\n",
              "          document.querySelector('#df-096f345b-30a7-4250-9480-26bd4dc9cd8a button.colab-df-convert');\n",
              "        buttonEl.style.display =\n",
              "          google.colab.kernel.accessAllowed ? 'block' : 'none';\n",
              "\n",
              "        async function convertToInteractive(key) {\n",
              "          const element = document.querySelector('#df-096f345b-30a7-4250-9480-26bd4dc9cd8a');\n",
              "          const dataTable =\n",
              "            await google.colab.kernel.invokeFunction('convertToInteractive',\n",
              "                                                     [key], {});\n",
              "          if (!dataTable) return;\n",
              "\n",
              "          const docLinkHtml = 'Like what you see? Visit the ' +\n",
              "            '<a target=\"_blank\" href=https://colab.research.google.com/notebooks/data_table.ipynb>data table notebook</a>'\n",
              "            + ' to learn more about interactive tables.';\n",
              "          element.innerHTML = '';\n",
              "          dataTable['output_type'] = 'display_data';\n",
              "          await google.colab.output.renderOutput(dataTable, element);\n",
              "          const docLink = document.createElement('div');\n",
              "          docLink.innerHTML = docLinkHtml;\n",
              "          element.appendChild(docLink);\n",
              "        }\n",
              "      </script>\n",
              "    </div>\n",
              "  </div>\n",
              "  "
            ],
            "text/plain": [
              "     Geography  Gender  Age  Tenure  NumOfProducts  HasCrCard  IsActiveMember  \\\n",
              "0       France  Female   42       2              1          1               1   \n",
              "1        Spain  Female   41       1              1          0               1   \n",
              "2       France  Female   42       8              3          1               0   \n",
              "3       France  Female   39       1              2          0               0   \n",
              "4        Spain  Female   43       2              1          1               1   \n",
              "...        ...     ...  ...     ...            ...        ...             ...   \n",
              "9995    France    Male   39       5              2          1               0   \n",
              "9996    France    Male   35      10              1          1               1   \n",
              "9997    France  Female   36       7              1          0               1   \n",
              "9998   Germany    Male   42       3              2          1               0   \n",
              "9999    France  Female   28       4              1          1               0   \n",
              "\n",
              "      Exited  \n",
              "0          1  \n",
              "1          0  \n",
              "2          1  \n",
              "3          0  \n",
              "4          0  \n",
              "...      ...  \n",
              "9995       0  \n",
              "9996       0  \n",
              "9997       1  \n",
              "9998       1  \n",
              "9999       0  \n",
              "\n",
              "[10000 rows x 8 columns]"
            ]
          },
          "execution_count": 21,
          "metadata": {},
          "output_type": "execute_result"
        }
      ],
      "source": [
        "df_new"
      ]
    },
    {
      "cell_type": "markdown",
      "metadata": {
        "id": "2tjZUNSwQJVG"
      },
      "source": [
        "drop 'Surname', 'CustomerId','RowNumber' because they doesn't affect our target. "
      ]
    },
    {
      "cell_type": "markdown",
      "metadata": {
        "id": "3J9e8OsSM3qS"
      },
      "source": [
        "**1.3: Plot side-by-side bars of class distribtuion for each category for the categorical feature and the target categories.**\n",
        "\n",
        "**Clarification with Example below : Here `flWinner` is the Target Variable and `descMapName` is a categorical feature. You are required to make such side-by-side bar plot for each categorical feature with repect to it's class distribution with the target feature for our dataset.**\n",
        "\n",
        "![download.png](data:image/png;base64,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)"
      ]
    },
    {
      "cell_type": "markdown",
      "metadata": {
        "id": "-GpVqycRQJVJ"
      },
      "source": [
        "categorical features: Geography, Gender, HasCrCard, IsActiveMember"
      ]
    },
    {
      "cell_type": "code",
      "execution_count": 23,
      "metadata": {
        "id": "tkda7-KtNKML",
        "scrolled": true
      },
      "outputs": [],
      "source": [
        "## YOUR CODE HERE"
      ]
    },
    {
      "cell_type": "code",
      "execution_count": 24,
      "metadata": {
        "colab": {
          "base_uri": "https://localhost:8080/",
          "height": 269
        },
        "id": "qskw5DZtQJVK",
        "outputId": "158282ee-bde8-4578-f76f-96d9483ea403",
        "scrolled": false
      },
      "outputs": [
        {
          "data": {
            "text/html": [
              "\n",
              "  <div id=\"df-1029ec77-9a68-4d2f-9169-7bd32e952eb3\">\n",
              "    <div class=\"colab-df-container\">\n",
              "      <div>\n",
              "<style scoped>\n",
              "    .dataframe tbody tr th:only-of-type {\n",
              "        vertical-align: middle;\n",
              "    }\n",
              "\n",
              "    .dataframe tbody tr th {\n",
              "        vertical-align: top;\n",
              "    }\n",
              "\n",
              "    .dataframe thead th {\n",
              "        text-align: right;\n",
              "    }\n",
              "</style>\n",
              "<table border=\"1\" class=\"dataframe\">\n",
              "  <thead>\n",
              "    <tr style=\"text-align: right;\">\n",
              "      <th></th>\n",
              "      <th></th>\n",
              "      <th>Gender</th>\n",
              "      <th>Age</th>\n",
              "      <th>Tenure</th>\n",
              "      <th>NumOfProducts</th>\n",
              "      <th>HasCrCard</th>\n",
              "      <th>IsActiveMember</th>\n",
              "    </tr>\n",
              "    <tr>\n",
              "      <th>Geography</th>\n",
              "      <th>Exited</th>\n",
              "      <th></th>\n",
              "      <th></th>\n",
              "      <th></th>\n",
              "      <th></th>\n",
              "      <th></th>\n",
              "      <th></th>\n",
              "    </tr>\n",
              "  </thead>\n",
              "  <tbody>\n",
              "    <tr>\n",
              "      <th rowspan=\"2\" valign=\"top\">France</th>\n",
              "      <th>0</th>\n",
              "      <td>4204</td>\n",
              "      <td>4204</td>\n",
              "      <td>4204</td>\n",
              "      <td>4204</td>\n",
              "      <td>4204</td>\n",
              "      <td>4204</td>\n",
              "    </tr>\n",
              "    <tr>\n",
              "      <th>1</th>\n",
              "      <td>810</td>\n",
              "      <td>810</td>\n",
              "      <td>810</td>\n",
              "      <td>810</td>\n",
              "      <td>810</td>\n",
              "      <td>810</td>\n",
              "    </tr>\n",
              "    <tr>\n",
              "      <th rowspan=\"2\" valign=\"top\">Germany</th>\n",
              "      <th>0</th>\n",
              "      <td>1695</td>\n",
              "      <td>1695</td>\n",
              "      <td>1695</td>\n",
              "      <td>1695</td>\n",
              "      <td>1695</td>\n",
              "      <td>1695</td>\n",
              "    </tr>\n",
              "    <tr>\n",
              "      <th>1</th>\n",
              "      <td>814</td>\n",
              "      <td>814</td>\n",
              "      <td>814</td>\n",
              "      <td>814</td>\n",
              "      <td>814</td>\n",
              "      <td>814</td>\n",
              "    </tr>\n",
              "    <tr>\n",
              "      <th rowspan=\"2\" valign=\"top\">Spain</th>\n",
              "      <th>0</th>\n",
              "      <td>2064</td>\n",
              "      <td>2064</td>\n",
              "      <td>2064</td>\n",
              "      <td>2064</td>\n",
              "      <td>2064</td>\n",
              "      <td>2064</td>\n",
              "    </tr>\n",
              "    <tr>\n",
              "      <th>1</th>\n",
              "      <td>413</td>\n",
              "      <td>413</td>\n",
              "      <td>413</td>\n",
              "      <td>413</td>\n",
              "      <td>413</td>\n",
              "      <td>413</td>\n",
              "    </tr>\n",
              "  </tbody>\n",
              "</table>\n",
              "</div>\n",
              "      <button class=\"colab-df-convert\" onclick=\"convertToInteractive('df-1029ec77-9a68-4d2f-9169-7bd32e952eb3')\"\n",
              "              title=\"Convert this dataframe to an interactive table.\"\n",
              "              style=\"display:none;\">\n",
              "        \n",
              "  <svg xmlns=\"http://www.w3.org/2000/svg\" height=\"24px\"viewBox=\"0 0 24 24\"\n",
              "       width=\"24px\">\n",
              "    <path d=\"M0 0h24v24H0V0z\" fill=\"none\"/>\n",
              "    <path d=\"M18.56 5.44l.94 2.06.94-2.06 2.06-.94-2.06-.94-.94-2.06-.94 2.06-2.06.94zm-11 1L8.5 8.5l.94-2.06 2.06-.94-2.06-.94L8.5 2.5l-.94 2.06-2.06.94zm10 10l.94 2.06.94-2.06 2.06-.94-2.06-.94-.94-2.06-.94 2.06-2.06.94z\"/><path d=\"M17.41 7.96l-1.37-1.37c-.4-.4-.92-.59-1.43-.59-.52 0-1.04.2-1.43.59L10.3 9.45l-7.72 7.72c-.78.78-.78 2.05 0 2.83L4 21.41c.39.39.9.59 1.41.59.51 0 1.02-.2 1.41-.59l7.78-7.78 2.81-2.81c.8-.78.8-2.07 0-2.86zM5.41 20L4 18.59l7.72-7.72 1.47 1.35L5.41 20z\"/>\n",
              "  </svg>\n",
              "      </button>\n",
              "      \n",
              "  <style>\n",
              "    .colab-df-container {\n",
              "      display:flex;\n",
              "      flex-wrap:wrap;\n",
              "      gap: 12px;\n",
              "    }\n",
              "\n",
              "    .colab-df-convert {\n",
              "      background-color: #E8F0FE;\n",
              "      border: none;\n",
              "      border-radius: 50%;\n",
              "      cursor: pointer;\n",
              "      display: none;\n",
              "      fill: #1967D2;\n",
              "      height: 32px;\n",
              "      padding: 0 0 0 0;\n",
              "      width: 32px;\n",
              "    }\n",
              "\n",
              "    .colab-df-convert:hover {\n",
              "      background-color: #E2EBFA;\n",
              "      box-shadow: 0px 1px 2px rgba(60, 64, 67, 0.3), 0px 1px 3px 1px rgba(60, 64, 67, 0.15);\n",
              "      fill: #174EA6;\n",
              "    }\n",
              "\n",
              "    [theme=dark] .colab-df-convert {\n",
              "      background-color: #3B4455;\n",
              "      fill: #D2E3FC;\n",
              "    }\n",
              "\n",
              "    [theme=dark] .colab-df-convert:hover {\n",
              "      background-color: #434B5C;\n",
              "      box-shadow: 0px 1px 3px 1px rgba(0, 0, 0, 0.15);\n",
              "      filter: drop-shadow(0px 1px 2px rgba(0, 0, 0, 0.3));\n",
              "      fill: #FFFFFF;\n",
              "    }\n",
              "  </style>\n",
              "\n",
              "      <script>\n",
              "        const buttonEl =\n",
              "          document.querySelector('#df-1029ec77-9a68-4d2f-9169-7bd32e952eb3 button.colab-df-convert');\n",
              "        buttonEl.style.display =\n",
              "          google.colab.kernel.accessAllowed ? 'block' : 'none';\n",
              "\n",
              "        async function convertToInteractive(key) {\n",
              "          const element = document.querySelector('#df-1029ec77-9a68-4d2f-9169-7bd32e952eb3');\n",
              "          const dataTable =\n",
              "            await google.colab.kernel.invokeFunction('convertToInteractive',\n",
              "                                                     [key], {});\n",
              "          if (!dataTable) return;\n",
              "\n",
              "          const docLinkHtml = 'Like what you see? Visit the ' +\n",
              "            '<a target=\"_blank\" href=https://colab.research.google.com/notebooks/data_table.ipynb>data table notebook</a>'\n",
              "            + ' to learn more about interactive tables.';\n",
              "          element.innerHTML = '';\n",
              "          dataTable['output_type'] = 'display_data';\n",
              "          await google.colab.output.renderOutput(dataTable, element);\n",
              "          const docLink = document.createElement('div');\n",
              "          docLink.innerHTML = docLinkHtml;\n",
              "          element.appendChild(docLink);\n",
              "        }\n",
              "      </script>\n",
              "    </div>\n",
              "  </div>\n",
              "  "
            ],
            "text/plain": [
              "                  Gender   Age  Tenure  NumOfProducts  HasCrCard  \\\n",
              "Geography Exited                                                   \n",
              "France    0         4204  4204    4204           4204       4204   \n",
              "          1          810   810     810            810        810   \n",
              "Germany   0         1695  1695    1695           1695       1695   \n",
              "          1          814   814     814            814        814   \n",
              "Spain     0         2064  2064    2064           2064       2064   \n",
              "          1          413   413     413            413        413   \n",
              "\n",
              "                  IsActiveMember  \n",
              "Geography Exited                  \n",
              "France    0                 4204  \n",
              "          1                  810  \n",
              "Germany   0                 1695  \n",
              "          1                  814  \n",
              "Spain     0                 2064  \n",
              "          1                  413  "
            ]
          },
          "execution_count": 24,
          "metadata": {},
          "output_type": "execute_result"
        }
      ],
      "source": [
        "geog = df_new.groupby(['Geography','Exited']).count() # dataframe\n",
        "geog"
      ]
    },
    {
      "cell_type": "code",
      "execution_count": 25,
      "metadata": {
        "colab": {
          "base_uri": "https://localhost:8080/",
          "height": 279
        },
        "id": "hIJIrYChQJVK",
        "outputId": "da91ea4e-5f0e-48f3-dd46-2f6ecb8deb05"
      },
      "outputs": [
        {
          "data": {
            "image/png": "[encoded data removed]",
            "text/plain": [
              "<Figure size 432x288 with 1 Axes>"
            ]
          },
          "metadata": {
            "needs_background": "light"
          },
          "output_type": "display_data"
        }
      ],
      "source": [
        "geog_cat = ['France', 'Germany', 'Spain']\n",
        "not_exited=[4204,1695,2064]\n",
        "exited=[810,814,413]\n",
        "\n",
        "\n",
        "x_axis = np.arange(len(geog_cat))\n",
        "plt.bar(x_axis -0.2, not_exited, width=0.4, label = 'not exited')\n",
        "plt.bar(x_axis +0.2, exited, width=0.4, label = 'exited')\n",
        "\n",
        "plt.xticks(x_axis, geog_cat)\n",
        "plt.xlabel('Geography')\n",
        "plt.ylabel('count')\n",
        "plt.legend()\n",
        "plt.show()"
      ]
    },
    {
      "cell_type": "code",
      "execution_count": 26,
      "metadata": {
        "colab": {
          "base_uri": "https://localhost:8080/",
          "height": 206
        },
        "id": "reXGtv08QJVK",
        "outputId": "f65d52a1-2a74-4ae6-d4b3-512eabd41425",
        "scrolled": true
      },
      "outputs": [
        {
          "data": {
            "text/html": [
              "\n",
              "  <div id=\"df-a97c7443-6422-46ea-a654-55033194c57e\">\n",
              "    <div class=\"colab-df-container\">\n",
              "      <div>\n",
              "<style scoped>\n",
              "    .dataframe tbody tr th:only-of-type {\n",
              "        vertical-align: middle;\n",
              "    }\n",
              "\n",
              "    .dataframe tbody tr th {\n",
              "        vertical-align: top;\n",
              "    }\n",
              "\n",
              "    .dataframe thead th {\n",
              "        text-align: right;\n",
              "    }\n",
              "</style>\n",
              "<table border=\"1\" class=\"dataframe\">\n",
              "  <thead>\n",
              "    <tr style=\"text-align: right;\">\n",
              "      <th></th>\n",
              "      <th></th>\n",
              "      <th>Geography</th>\n",
              "      <th>Age</th>\n",
              "      <th>Tenure</th>\n",
              "      <th>NumOfProducts</th>\n",
              "      <th>HasCrCard</th>\n",
              "      <th>IsActiveMember</th>\n",
              "    </tr>\n",
              "    <tr>\n",
              "      <th>Gender</th>\n",
              "      <th>Exited</th>\n",
              "      <th></th>\n",
              "      <th></th>\n",
              "      <th></th>\n",
              "      <th></th>\n",
              "      <th></th>\n",
              "      <th></th>\n",
              "    </tr>\n",
              "  </thead>\n",
              "  <tbody>\n",
              "    <tr>\n",
              "      <th rowspan=\"2\" valign=\"top\">Female</th>\n",
              "      <th>0</th>\n",
              "      <td>3404</td>\n",
              "      <td>3404</td>\n",
              "      <td>3404</td>\n",
              "      <td>3404</td>\n",
              "      <td>3404</td>\n",
              "      <td>3404</td>\n",
              "    </tr>\n",
              "    <tr>\n",
              "      <th>1</th>\n",
              "      <td>1139</td>\n",
              "      <td>1139</td>\n",
              "      <td>1139</td>\n",
              "      <td>1139</td>\n",
              "      <td>1139</td>\n",
              "      <td>1139</td>\n",
              "    </tr>\n",
              "    <tr>\n",
              "      <th rowspan=\"2\" valign=\"top\">Male</th>\n",
              "      <th>0</th>\n",
              "      <td>4559</td>\n",
              "      <td>4559</td>\n",
              "      <td>4559</td>\n",
              "      <td>4559</td>\n",
              "      <td>4559</td>\n",
              "      <td>4559</td>\n",
              "    </tr>\n",
              "    <tr>\n",
              "      <th>1</th>\n",
              "      <td>898</td>\n",
              "      <td>898</td>\n",
              "      <td>898</td>\n",
              "      <td>898</td>\n",
              "      <td>898</td>\n",
              "      <td>898</td>\n",
              "    </tr>\n",
              "  </tbody>\n",
              "</table>\n",
              "</div>\n",
              "      <button class=\"colab-df-convert\" onclick=\"convertToInteractive('df-a97c7443-6422-46ea-a654-55033194c57e')\"\n",
              "              title=\"Convert this dataframe to an interactive table.\"\n",
              "              style=\"display:none;\">\n",
              "        \n",
              "  <svg xmlns=\"http://www.w3.org/2000/svg\" height=\"24px\"viewBox=\"0 0 24 24\"\n",
              "       width=\"24px\">\n",
              "    <path d=\"M0 0h24v24H0V0z\" fill=\"none\"/>\n",
              "    <path d=\"M18.56 5.44l.94 2.06.94-2.06 2.06-.94-2.06-.94-.94-2.06-.94 2.06-2.06.94zm-11 1L8.5 8.5l.94-2.06 2.06-.94-2.06-.94L8.5 2.5l-.94 2.06-2.06.94zm10 10l.94 2.06.94-2.06 2.06-.94-2.06-.94-.94-2.06-.94 2.06-2.06.94z\"/><path d=\"M17.41 7.96l-1.37-1.37c-.4-.4-.92-.59-1.43-.59-.52 0-1.04.2-1.43.59L10.3 9.45l-7.72 7.72c-.78.78-.78 2.05 0 2.83L4 21.41c.39.39.9.59 1.41.59.51 0 1.02-.2 1.41-.59l7.78-7.78 2.81-2.81c.8-.78.8-2.07 0-2.86zM5.41 20L4 18.59l7.72-7.72 1.47 1.35L5.41 20z\"/>\n",
              "  </svg>\n",
              "      </button>\n",
              "      \n",
              "  <style>\n",
              "    .colab-df-container {\n",
              "      display:flex;\n",
              "      flex-wrap:wrap;\n",
              "      gap: 12px;\n",
              "    }\n",
              "\n",
              "    .colab-df-convert {\n",
              "      background-color: #E8F0FE;\n",
              "      border: none;\n",
              "      border-radius: 50%;\n",
              "      cursor: pointer;\n",
              "      display: none;\n",
              "      fill: #1967D2;\n",
              "      height: 32px;\n",
              "      padding: 0 0 0 0;\n",
              "      width: 32px;\n",
              "    }\n",
              "\n",
              "    .colab-df-convert:hover {\n",
              "      background-color: #E2EBFA;\n",
              "      box-shadow: 0px 1px 2px rgba(60, 64, 67, 0.3), 0px 1px 3px 1px rgba(60, 64, 67, 0.15);\n",
              "      fill: #174EA6;\n",
              "    }\n",
              "\n",
              "    [theme=dark] .colab-df-convert {\n",
              "      background-color: #3B4455;\n",
              "      fill: #D2E3FC;\n",
              "    }\n",
              "\n",
              "    [theme=dark] .colab-df-convert:hover {\n",
              "      background-color: #434B5C;\n",
              "      box-shadow: 0px 1px 3px 1px rgba(0, 0, 0, 0.15);\n",
              "      filter: drop-shadow(0px 1px 2px rgba(0, 0, 0, 0.3));\n",
              "      fill: #FFFFFF;\n",
              "    }\n",
              "  </style>\n",
              "\n",
              "      <script>\n",
              "        const buttonEl =\n",
              "          document.querySelector('#df-a97c7443-6422-46ea-a654-55033194c57e button.colab-df-convert');\n",
              "        buttonEl.style.display =\n",
              "          google.colab.kernel.accessAllowed ? 'block' : 'none';\n",
              "\n",
              "        async function convertToInteractive(key) {\n",
              "          const element = document.querySelector('#df-a97c7443-6422-46ea-a654-55033194c57e');\n",
              "          const dataTable =\n",
              "            await google.colab.kernel.invokeFunction('convertToInteractive',\n",
              "                                                     [key], {});\n",
              "          if (!dataTable) return;\n",
              "\n",
              "          const docLinkHtml = 'Like what you see? Visit the ' +\n",
              "            '<a target=\"_blank\" href=https://colab.research.google.com/notebooks/data_table.ipynb>data table notebook</a>'\n",
              "            + ' to learn more about interactive tables.';\n",
              "          element.innerHTML = '';\n",
              "          dataTable['output_type'] = 'display_data';\n",
              "          await google.colab.output.renderOutput(dataTable, element);\n",
              "          const docLink = document.createElement('div');\n",
              "          docLink.innerHTML = docLinkHtml;\n",
              "          element.appendChild(docLink);\n",
              "        }\n",
              "      </script>\n",
              "    </div>\n",
              "  </div>\n",
              "  "
            ],
            "text/plain": [
              "               Geography   Age  Tenure  NumOfProducts  HasCrCard  \\\n",
              "Gender Exited                                                      \n",
              "Female 0            3404  3404    3404           3404       3404   \n",
              "       1            1139  1139    1139           1139       1139   \n",
              "Male   0            4559  4559    4559           4559       4559   \n",
              "       1             898   898     898            898        898   \n",
              "\n",
              "               IsActiveMember  \n",
              "Gender Exited                  \n",
              "Female 0                 3404  \n",
              "       1                 1139  \n",
              "Male   0                 4559  \n",
              "       1                  898  "
            ]
          },
          "execution_count": 26,
          "metadata": {},
          "output_type": "execute_result"
        }
      ],
      "source": [
        "gend = df_new.groupby(['Gender','Exited']).count() # dataframe\n",
        "gend"
      ]
    },
    {
      "cell_type": "code",
      "execution_count": 27,
      "metadata": {
        "colab": {
          "base_uri": "https://localhost:8080/",
          "height": 279
        },
        "id": "sY07VBuFQJVL",
        "outputId": "0a4de4c8-6222-4db7-b736-2f9f278e05b4"
      },
      "outputs": [
        {
          "data": {
            "image/png": "[encoded data removed]",
            "text/plain": [
              "<Figure size 432x288 with 1 Axes>"
            ]
          },
          "metadata": {
            "needs_background": "light"
          },
          "output_type": "display_data"
        }
      ],
      "source": [
        "gend_cat = ['Female', 'Male']\n",
        "not_exited=[3404,4559]\n",
        "exited=[1139,898]\n",
        "\n",
        "\n",
        "x_axis = np.arange(len(gend_cat))\n",
        "plt.bar(x_axis -0.2, not_exited, width=0.4, label = 'not exited')\n",
        "plt.bar(x_axis +0.2, exited, width=0.4, label = 'exited')\n",
        "\n",
        "plt.xticks(x_axis, gend_cat)\n",
        "plt.xlabel('Gender')\n",
        "plt.ylabel('count')\n",
        "plt.legend()\n",
        "plt.show()"
      ]
    },
    {
      "cell_type": "code",
      "execution_count": 28,
      "metadata": {
        "colab": {
          "base_uri": "https://localhost:8080/",
          "height": 206
        },
        "id": "LawzGukrQJVL",
        "outputId": "f3359375-6c71-4ede-b369-1f1ba1448d14",
        "scrolled": false
      },
      "outputs": [
        {
          "data": {
            "text/html": [
              "\n",
              "  <div id=\"df-2641b23d-dafe-4aaf-9fcc-552103e73e77\">\n",
              "    <div class=\"colab-df-container\">\n",
              "      <div>\n",
              "<style scoped>\n",
              "    .dataframe tbody tr th:only-of-type {\n",
              "        vertical-align: middle;\n",
              "    }\n",
              "\n",
              "    .dataframe tbody tr th {\n",
              "        vertical-align: top;\n",
              "    }\n",
              "\n",
              "    .dataframe thead th {\n",
              "        text-align: right;\n",
              "    }\n",
              "</style>\n",
              "<table border=\"1\" class=\"dataframe\">\n",
              "  <thead>\n",
              "    <tr style=\"text-align: right;\">\n",
              "      <th></th>\n",
              "      <th></th>\n",
              "      <th>Geography</th>\n",
              "      <th>Gender</th>\n",
              "      <th>Age</th>\n",
              "      <th>Tenure</th>\n",
              "      <th>NumOfProducts</th>\n",
              "      <th>IsActiveMember</th>\n",
              "    </tr>\n",
              "    <tr>\n",
              "      <th>HasCrCard</th>\n",
              "      <th>Exited</th>\n",
              "      <th></th>\n",
              "      <th></th>\n",
              "      <th></th>\n",
              "      <th></th>\n",
              "      <th></th>\n",
              "      <th></th>\n",
              "    </tr>\n",
              "  </thead>\n",
              "  <tbody>\n",
              "    <tr>\n",
              "      <th rowspan=\"2\" valign=\"top\">0</th>\n",
              "      <th>0</th>\n",
              "      <td>2332</td>\n",
              "      <td>2332</td>\n",
              "      <td>2332</td>\n",
              "      <td>2332</td>\n",
              "      <td>2332</td>\n",
              "      <td>2332</td>\n",
              "    </tr>\n",
              "    <tr>\n",
              "      <th>1</th>\n",
              "      <td>613</td>\n",
              "      <td>613</td>\n",
              "      <td>613</td>\n",
              "      <td>613</td>\n",
              "      <td>613</td>\n",
              "      <td>613</td>\n",
              "    </tr>\n",
              "    <tr>\n",
              "      <th rowspan=\"2\" valign=\"top\">1</th>\n",
              "      <th>0</th>\n",
              "      <td>5631</td>\n",
              "      <td>5631</td>\n",
              "      <td>5631</td>\n",
              "      <td>5631</td>\n",
              "      <td>5631</td>\n",
              "      <td>5631</td>\n",
              "    </tr>\n",
              "    <tr>\n",
              "      <th>1</th>\n",
              "      <td>1424</td>\n",
              "      <td>1424</td>\n",
              "      <td>1424</td>\n",
              "      <td>1424</td>\n",
              "      <td>1424</td>\n",
              "      <td>1424</td>\n",
              "    </tr>\n",
              "  </tbody>\n",
              "</table>\n",
              "</div>\n",
              "      <button class=\"colab-df-convert\" onclick=\"convertToInteractive('df-2641b23d-dafe-4aaf-9fcc-552103e73e77')\"\n",
              "              title=\"Convert this dataframe to an interactive table.\"\n",
              "              style=\"display:none;\">\n",
              "        \n",
              "  <svg xmlns=\"http://www.w3.org/2000/svg\" height=\"24px\"viewBox=\"0 0 24 24\"\n",
              "       width=\"24px\">\n",
              "    <path d=\"M0 0h24v24H0V0z\" fill=\"none\"/>\n",
              "    <path d=\"M18.56 5.44l.94 2.06.94-2.06 2.06-.94-2.06-.94-.94-2.06-.94 2.06-2.06.94zm-11 1L8.5 8.5l.94-2.06 2.06-.94-2.06-.94L8.5 2.5l-.94 2.06-2.06.94zm10 10l.94 2.06.94-2.06 2.06-.94-2.06-.94-.94-2.06-.94 2.06-2.06.94z\"/><path d=\"M17.41 7.96l-1.37-1.37c-.4-.4-.92-.59-1.43-.59-.52 0-1.04.2-1.43.59L10.3 9.45l-7.72 7.72c-.78.78-.78 2.05 0 2.83L4 21.41c.39.39.9.59 1.41.59.51 0 1.02-.2 1.41-.59l7.78-7.78 2.81-2.81c.8-.78.8-2.07 0-2.86zM5.41 20L4 18.59l7.72-7.72 1.47 1.35L5.41 20z\"/>\n",
              "  </svg>\n",
              "      </button>\n",
              "      \n",
              "  <style>\n",
              "    .colab-df-container {\n",
              "      display:flex;\n",
              "      flex-wrap:wrap;\n",
              "      gap: 12px;\n",
              "    }\n",
              "\n",
              "    .colab-df-convert {\n",
              "      background-color: #E8F0FE;\n",
              "      border: none;\n",
              "      border-radius: 50%;\n",
              "      cursor: pointer;\n",
              "      display: none;\n",
              "      fill: #1967D2;\n",
              "      height: 32px;\n",
              "      padding: 0 0 0 0;\n",
              "      width: 32px;\n",
              "    }\n",
              "\n",
              "    .colab-df-convert:hover {\n",
              "      background-color: #E2EBFA;\n",
              "      box-shadow: 0px 1px 2px rgba(60, 64, 67, 0.3), 0px 1px 3px 1px rgba(60, 64, 67, 0.15);\n",
              "      fill: #174EA6;\n",
              "    }\n",
              "\n",
              "    [theme=dark] .colab-df-convert {\n",
              "      background-color: #3B4455;\n",
              "      fill: #D2E3FC;\n",
              "    }\n",
              "\n",
              "    [theme=dark] .colab-df-convert:hover {\n",
              "      background-color: #434B5C;\n",
              "      box-shadow: 0px 1px 3px 1px rgba(0, 0, 0, 0.15);\n",
              "      filter: drop-shadow(0px 1px 2px rgba(0, 0, 0, 0.3));\n",
              "      fill: #FFFFFF;\n",
              "    }\n",
              "  </style>\n",
              "\n",
              "      <script>\n",
              "        const buttonEl =\n",
              "          document.querySelector('#df-2641b23d-dafe-4aaf-9fcc-552103e73e77 button.colab-df-convert');\n",
              "        buttonEl.style.display =\n",
              "          google.colab.kernel.accessAllowed ? 'block' : 'none';\n",
              "\n",
              "        async function convertToInteractive(key) {\n",
              "          const element = document.querySelector('#df-2641b23d-dafe-4aaf-9fcc-552103e73e77');\n",
              "          const dataTable =\n",
              "            await google.colab.kernel.invokeFunction('convertToInteractive',\n",
              "                                                     [key], {});\n",
              "          if (!dataTable) return;\n",
              "\n",
              "          const docLinkHtml = 'Like what you see? Visit the ' +\n",
              "            '<a target=\"_blank\" href=https://colab.research.google.com/notebooks/data_table.ipynb>data table notebook</a>'\n",
              "            + ' to learn more about interactive tables.';\n",
              "          element.innerHTML = '';\n",
              "          dataTable['output_type'] = 'display_data';\n",
              "          await google.colab.output.renderOutput(dataTable, element);\n",
              "          const docLink = document.createElement('div');\n",
              "          docLink.innerHTML = docLinkHtml;\n",
              "          element.appendChild(docLink);\n",
              "        }\n",
              "      </script>\n",
              "    </div>\n",
              "  </div>\n",
              "  "
            ],
            "text/plain": [
              "                  Geography  Gender   Age  Tenure  NumOfProducts  \\\n",
              "HasCrCard Exited                                                   \n",
              "0         0            2332    2332  2332    2332           2332   \n",
              "          1             613     613   613     613            613   \n",
              "1         0            5631    5631  5631    5631           5631   \n",
              "          1            1424    1424  1424    1424           1424   \n",
              "\n",
              "                  IsActiveMember  \n",
              "HasCrCard Exited                  \n",
              "0         0                 2332  \n",
              "          1                  613  \n",
              "1         0                 5631  \n",
              "          1                 1424  "
            ]
          },
          "execution_count": 28,
          "metadata": {},
          "output_type": "execute_result"
        }
      ],
      "source": [
        "hasc = df_new.groupby(['HasCrCard','Exited']).count() # dataframe\n",
        "hasc"
      ]
    },
    {
      "cell_type": "code",
      "execution_count": 29,
      "metadata": {
        "colab": {
          "base_uri": "https://localhost:8080/",
          "height": 279
        },
        "id": "vbS2bJ5fQJVL",
        "outputId": "bf9a963a-b940-4aae-a568-5628844a4aa1"
      },
      "outputs": [
        {
          "data": {
            "image/png": "[encoded data removed]",
            "text/plain": [
              "<Figure size 432x288 with 1 Axes>"
            ]
          },
          "metadata": {
            "needs_background": "light"
          },
          "output_type": "display_data"
        }
      ],
      "source": [
        "hasc_cat = ['no', 'yes']\n",
        "not_exited=[2332,5631]\n",
        "exited=[613,1424]\n",
        "\n",
        "\n",
        "x_axis = np.arange(len(hasc_cat))\n",
        "plt.bar(x_axis -0.2, not_exited, width=0.4, label = 'not exited')\n",
        "plt.bar(x_axis +0.2, exited, width=0.4, label = 'exited')\n",
        "\n",
        "plt.xticks(x_axis, hasc_cat)\n",
        "plt.xlabel('HasCrCard')\n",
        "plt.ylabel('count')\n",
        "plt.legend()\n",
        "plt.show()"
      ]
    },
    {
      "cell_type": "code",
      "execution_count": 30,
      "metadata": {
        "colab": {
          "base_uri": "https://localhost:8080/",
          "height": 206
        },
        "id": "Pu_C5JvtQJVM",
        "outputId": "1d09d60a-ff3c-4b8b-8542-a2295af75331"
      },
      "outputs": [
        {
          "data": {
            "text/html": [
              "\n",
              "  <div id=\"df-31ccd1f2-1889-4bbe-8877-e90fe47aa18e\">\n",
              "    <div class=\"colab-df-container\">\n",
              "      <div>\n",
              "<style scoped>\n",
              "    .dataframe tbody tr th:only-of-type {\n",
              "        vertical-align: middle;\n",
              "    }\n",
              "\n",
              "    .dataframe tbody tr th {\n",
              "        vertical-align: top;\n",
              "    }\n",
              "\n",
              "    .dataframe thead th {\n",
              "        text-align: right;\n",
              "    }\n",
              "</style>\n",
              "<table border=\"1\" class=\"dataframe\">\n",
              "  <thead>\n",
              "    <tr style=\"text-align: right;\">\n",
              "      <th></th>\n",
              "      <th></th>\n",
              "      <th>Geography</th>\n",
              "      <th>Gender</th>\n",
              "      <th>Age</th>\n",
              "      <th>Tenure</th>\n",
              "      <th>NumOfProducts</th>\n",
              "      <th>HasCrCard</th>\n",
              "    </tr>\n",
              "    <tr>\n",
              "      <th>IsActiveMember</th>\n",
              "      <th>Exited</th>\n",
              "      <th></th>\n",
              "      <th></th>\n",
              "      <th></th>\n",
              "      <th></th>\n",
              "      <th></th>\n",
              "      <th></th>\n",
              "    </tr>\n",
              "  </thead>\n",
              "  <tbody>\n",
              "    <tr>\n",
              "      <th rowspan=\"2\" valign=\"top\">0</th>\n",
              "      <th>0</th>\n",
              "      <td>3547</td>\n",
              "      <td>3547</td>\n",
              "      <td>3547</td>\n",
              "      <td>3547</td>\n",
              "      <td>3547</td>\n",
              "      <td>3547</td>\n",
              "    </tr>\n",
              "    <tr>\n",
              "      <th>1</th>\n",
              "      <td>1302</td>\n",
              "      <td>1302</td>\n",
              "      <td>1302</td>\n",
              "      <td>1302</td>\n",
              "      <td>1302</td>\n",
              "      <td>1302</td>\n",
              "    </tr>\n",
              "    <tr>\n",
              "      <th rowspan=\"2\" valign=\"top\">1</th>\n",
              "      <th>0</th>\n",
              "      <td>4416</td>\n",
              "      <td>4416</td>\n",
              "      <td>4416</td>\n",
              "      <td>4416</td>\n",
              "      <td>4416</td>\n",
              "      <td>4416</td>\n",
              "    </tr>\n",
              "    <tr>\n",
              "      <th>1</th>\n",
              "      <td>735</td>\n",
              "      <td>735</td>\n",
              "      <td>735</td>\n",
              "      <td>735</td>\n",
              "      <td>735</td>\n",
              "      <td>735</td>\n",
              "    </tr>\n",
              "  </tbody>\n",
              "</table>\n",
              "</div>\n",
              "      <button class=\"colab-df-convert\" onclick=\"convertToInteractive('df-31ccd1f2-1889-4bbe-8877-e90fe47aa18e')\"\n",
              "              title=\"Convert this dataframe to an interactive table.\"\n",
              "              style=\"display:none;\">\n",
              "        \n",
              "  <svg xmlns=\"http://www.w3.org/2000/svg\" height=\"24px\"viewBox=\"0 0 24 24\"\n",
              "       width=\"24px\">\n",
              "    <path d=\"M0 0h24v24H0V0z\" fill=\"none\"/>\n",
              "    <path d=\"M18.56 5.44l.94 2.06.94-2.06 2.06-.94-2.06-.94-.94-2.06-.94 2.06-2.06.94zm-11 1L8.5 8.5l.94-2.06 2.06-.94-2.06-.94L8.5 2.5l-.94 2.06-2.06.94zm10 10l.94 2.06.94-2.06 2.06-.94-2.06-.94-.94-2.06-.94 2.06-2.06.94z\"/><path d=\"M17.41 7.96l-1.37-1.37c-.4-.4-.92-.59-1.43-.59-.52 0-1.04.2-1.43.59L10.3 9.45l-7.72 7.72c-.78.78-.78 2.05 0 2.83L4 21.41c.39.39.9.59 1.41.59.51 0 1.02-.2 1.41-.59l7.78-7.78 2.81-2.81c.8-.78.8-2.07 0-2.86zM5.41 20L4 18.59l7.72-7.72 1.47 1.35L5.41 20z\"/>\n",
              "  </svg>\n",
              "      </button>\n",
              "      \n",
              "  <style>\n",
              "    .colab-df-container {\n",
              "      display:flex;\n",
              "      flex-wrap:wrap;\n",
              "      gap: 12px;\n",
              "    }\n",
              "\n",
              "    .colab-df-convert {\n",
              "      background-color: #E8F0FE;\n",
              "      border: none;\n",
              "      border-radius: 50%;\n",
              "      cursor: pointer;\n",
              "      display: none;\n",
              "      fill: #1967D2;\n",
              "      height: 32px;\n",
              "      padding: 0 0 0 0;\n",
              "      width: 32px;\n",
              "    }\n",
              "\n",
              "    .colab-df-convert:hover {\n",
              "      background-color: #E2EBFA;\n",
              "      box-shadow: 0px 1px 2px rgba(60, 64, 67, 0.3), 0px 1px 3px 1px rgba(60, 64, 67, 0.15);\n",
              "      fill: #174EA6;\n",
              "    }\n",
              "\n",
              "    [theme=dark] .colab-df-convert {\n",
              "      background-color: #3B4455;\n",
              "      fill: #D2E3FC;\n",
              "    }\n",
              "\n",
              "    [theme=dark] .colab-df-convert:hover {\n",
              "      background-color: #434B5C;\n",
              "      box-shadow: 0px 1px 3px 1px rgba(0, 0, 0, 0.15);\n",
              "      filter: drop-shadow(0px 1px 2px rgba(0, 0, 0, 0.3));\n",
              "      fill: #FFFFFF;\n",
              "    }\n",
              "  </style>\n",
              "\n",
              "      <script>\n",
              "        const buttonEl =\n",
              "          document.querySelector('#df-31ccd1f2-1889-4bbe-8877-e90fe47aa18e button.colab-df-convert');\n",
              "        buttonEl.style.display =\n",
              "          google.colab.kernel.accessAllowed ? 'block' : 'none';\n",
              "\n",
              "        async function convertToInteractive(key) {\n",
              "          const element = document.querySelector('#df-31ccd1f2-1889-4bbe-8877-e90fe47aa18e');\n",
              "          const dataTable =\n",
              "            await google.colab.kernel.invokeFunction('convertToInteractive',\n",
              "                                                     [key], {});\n",
              "          if (!dataTable) return;\n",
              "\n",
              "          const docLinkHtml = 'Like what you see? Visit the ' +\n",
              "            '<a target=\"_blank\" href=https://colab.research.google.com/notebooks/data_table.ipynb>data table notebook</a>'\n",
              "            + ' to learn more about interactive tables.';\n",
              "          element.innerHTML = '';\n",
              "          dataTable['output_type'] = 'display_data';\n",
              "          await google.colab.output.renderOutput(dataTable, element);\n",
              "          const docLink = document.createElement('div');\n",
              "          docLink.innerHTML = docLinkHtml;\n",
              "          element.appendChild(docLink);\n",
              "        }\n",
              "      </script>\n",
              "    </div>\n",
              "  </div>\n",
              "  "
            ],
            "text/plain": [
              "                       Geography  Gender   Age  Tenure  NumOfProducts  \\\n",
              "IsActiveMember Exited                                                   \n",
              "0              0            3547    3547  3547    3547           3547   \n",
              "               1            1302    1302  1302    1302           1302   \n",
              "1              0            4416    4416  4416    4416           4416   \n",
              "               1             735     735   735     735            735   \n",
              "\n",
              "                       HasCrCard  \n",
              "IsActiveMember Exited             \n",
              "0              0            3547  \n",
              "               1            1302  \n",
              "1              0            4416  \n",
              "               1             735  "
            ]
          },
          "execution_count": 30,
          "metadata": {},
          "output_type": "execute_result"
        }
      ],
      "source": [
        "isactive = df_new.groupby(['IsActiveMember','Exited']).count() # dataframe\n",
        "isactive"
      ]
    },
    {
      "cell_type": "code",
      "execution_count": 31,
      "metadata": {
        "colab": {
          "base_uri": "https://localhost:8080/",
          "height": 279
        },
        "id": "N0h9mF4nQJVM",
        "outputId": "fe164444-6120-447c-c9c5-18d07756778c"
      },
      "outputs": [
        {
          "data": {
            "image/png": "[encoded data removed]",
            "text/plain": [
              "<Figure size 432x288 with 1 Axes>"
            ]
          },
          "metadata": {
            "needs_background": "light"
          },
          "output_type": "display_data"
        }
      ],
      "source": [
        "isactive_cat = ['no', 'yes']\n",
        "not_exited=[3547,4416]\n",
        "exited=[1302,735]\n",
        "\n",
        "\n",
        "x_axis = np.arange(len(isactive_cat))\n",
        "plt.bar(x_axis -0.2, not_exited, width=0.4, label = 'not exited')\n",
        "plt.bar(x_axis +0.2, exited, width=0.4, label = 'exited')\n",
        "\n",
        "plt.xticks(x_axis, isactive_cat)\n",
        "plt.xlabel('IsActiveMember')\n",
        "plt.ylabel('count')\n",
        "plt.legend()\n",
        "plt.show()"
      ]
    },
    {
      "cell_type": "markdown",
      "metadata": {
        "id": "RZ7RPzW-NPTd"
      },
      "source": [
        "**1.4: Split the data into development and test datasets. Which splitting methodology did you choose and why?**"
      ]
    },
    {
      "cell_type": "code",
      "execution_count": 32,
      "metadata": {
        "colab": {
          "base_uri": "https://localhost:8080/",
          "height": 143
        },
        "id": "YZTJpF4LQJVM",
        "outputId": "54676b41-c68a-47a4-adb6-492bc54365fb"
      },
      "outputs": [
        {
          "data": {
            "text/html": [
              "\n",
              "  <div id=\"df-efd81e3f-64d5-4ed1-8173-5369c336139b\">\n",
              "    <div class=\"colab-df-container\">\n",
              "      <div>\n",
              "<style scoped>\n",
              "    .dataframe tbody tr th:only-of-type {\n",
              "        vertical-align: middle;\n",
              "    }\n",
              "\n",
              "    .dataframe tbody tr th {\n",
              "        vertical-align: top;\n",
              "    }\n",
              "\n",
              "    .dataframe thead th {\n",
              "        text-align: right;\n",
              "    }\n",
              "</style>\n",
              "<table border=\"1\" class=\"dataframe\">\n",
              "  <thead>\n",
              "    <tr style=\"text-align: right;\">\n",
              "      <th></th>\n",
              "      <th>Geography</th>\n",
              "      <th>Gender</th>\n",
              "      <th>Age</th>\n",
              "      <th>Tenure</th>\n",
              "      <th>NumOfProducts</th>\n",
              "      <th>HasCrCard</th>\n",
              "      <th>IsActiveMember</th>\n",
              "    </tr>\n",
              "    <tr>\n",
              "      <th>Exited</th>\n",
              "      <th></th>\n",
              "      <th></th>\n",
              "      <th></th>\n",
              "      <th></th>\n",
              "      <th></th>\n",
              "      <th></th>\n",
              "      <th></th>\n",
              "    </tr>\n",
              "  </thead>\n",
              "  <tbody>\n",
              "    <tr>\n",
              "      <th>0</th>\n",
              "      <td>7963</td>\n",
              "      <td>7963</td>\n",
              "      <td>7963</td>\n",
              "      <td>7963</td>\n",
              "      <td>7963</td>\n",
              "      <td>7963</td>\n",
              "      <td>7963</td>\n",
              "    </tr>\n",
              "    <tr>\n",
              "      <th>1</th>\n",
              "      <td>2037</td>\n",
              "      <td>2037</td>\n",
              "      <td>2037</td>\n",
              "      <td>2037</td>\n",
              "      <td>2037</td>\n",
              "      <td>2037</td>\n",
              "      <td>2037</td>\n",
              "    </tr>\n",
              "  </tbody>\n",
              "</table>\n",
              "</div>\n",
              "      <button class=\"colab-df-convert\" onclick=\"convertToInteractive('df-efd81e3f-64d5-4ed1-8173-5369c336139b')\"\n",
              "              title=\"Convert this dataframe to an interactive table.\"\n",
              "              style=\"display:none;\">\n",
              "        \n",
              "  <svg xmlns=\"http://www.w3.org/2000/svg\" height=\"24px\"viewBox=\"0 0 24 24\"\n",
              "       width=\"24px\">\n",
              "    <path d=\"M0 0h24v24H0V0z\" fill=\"none\"/>\n",
              "    <path d=\"M18.56 5.44l.94 2.06.94-2.06 2.06-.94-2.06-.94-.94-2.06-.94 2.06-2.06.94zm-11 1L8.5 8.5l.94-2.06 2.06-.94-2.06-.94L8.5 2.5l-.94 2.06-2.06.94zm10 10l.94 2.06.94-2.06 2.06-.94-2.06-.94-.94-2.06-.94 2.06-2.06.94z\"/><path d=\"M17.41 7.96l-1.37-1.37c-.4-.4-.92-.59-1.43-.59-.52 0-1.04.2-1.43.59L10.3 9.45l-7.72 7.72c-.78.78-.78 2.05 0 2.83L4 21.41c.39.39.9.59 1.41.59.51 0 1.02-.2 1.41-.59l7.78-7.78 2.81-2.81c.8-.78.8-2.07 0-2.86zM5.41 20L4 18.59l7.72-7.72 1.47 1.35L5.41 20z\"/>\n",
              "  </svg>\n",
              "      </button>\n",
              "      \n",
              "  <style>\n",
              "    .colab-df-container {\n",
              "      display:flex;\n",
              "      flex-wrap:wrap;\n",
              "      gap: 12px;\n",
              "    }\n",
              "\n",
              "    .colab-df-convert {\n",
              "      background-color: #E8F0FE;\n",
              "      border: none;\n",
              "      border-radius: 50%;\n",
              "      cursor: pointer;\n",
              "      display: none;\n",
              "      fill: #1967D2;\n",
              "      height: 32px;\n",
              "      padding: 0 0 0 0;\n",
              "      width: 32px;\n",
              "    }\n",
              "\n",
              "    .colab-df-convert:hover {\n",
              "      background-color: #E2EBFA;\n",
              "      box-shadow: 0px 1px 2px rgba(60, 64, 67, 0.3), 0px 1px 3px 1px rgba(60, 64, 67, 0.15);\n",
              "      fill: #174EA6;\n",
              "    }\n",
              "\n",
              "    [theme=dark] .colab-df-convert {\n",
              "      background-color: #3B4455;\n",
              "      fill: #D2E3FC;\n",
              "    }\n",
              "\n",
              "    [theme=dark] .colab-df-convert:hover {\n",
              "      background-color: #434B5C;\n",
              "      box-shadow: 0px 1px 3px 1px rgba(0, 0, 0, 0.15);\n",
              "      filter: drop-shadow(0px 1px 2px rgba(0, 0, 0, 0.3));\n",
              "      fill: #FFFFFF;\n",
              "    }\n",
              "  </style>\n",
              "\n",
              "      <script>\n",
              "        const buttonEl =\n",
              "          document.querySelector('#df-efd81e3f-64d5-4ed1-8173-5369c336139b button.colab-df-convert');\n",
              "        buttonEl.style.display =\n",
              "          google.colab.kernel.accessAllowed ? 'block' : 'none';\n",
              "\n",
              "        async function convertToInteractive(key) {\n",
              "          const element = document.querySelector('#df-efd81e3f-64d5-4ed1-8173-5369c336139b');\n",
              "          const dataTable =\n",
              "            await google.colab.kernel.invokeFunction('convertToInteractive',\n",
              "                                                     [key], {});\n",
              "          if (!dataTable) return;\n",
              "\n",
              "          const docLinkHtml = 'Like what you see? Visit the ' +\n",
              "            '<a target=\"_blank\" href=https://colab.research.google.com/notebooks/data_table.ipynb>data table notebook</a>'\n",
              "            + ' to learn more about interactive tables.';\n",
              "          element.innerHTML = '';\n",
              "          dataTable['output_type'] = 'display_data';\n",
              "          await google.colab.output.renderOutput(dataTable, element);\n",
              "          const docLink = document.createElement('div');\n",
              "          docLink.innerHTML = docLinkHtml;\n",
              "          element.appendChild(docLink);\n",
              "        }\n",
              "      </script>\n",
              "    </div>\n",
              "  </div>\n",
              "  "
            ],
            "text/plain": [
              "        Geography  Gender   Age  Tenure  NumOfProducts  HasCrCard  \\\n",
              "Exited                                                              \n",
              "0            7963    7963  7963    7963           7963       7963   \n",
              "1            2037    2037  2037    2037           2037       2037   \n",
              "\n",
              "        IsActiveMember  \n",
              "Exited                  \n",
              "0                 7963  \n",
              "1                 2037  "
            ]
          },
          "execution_count": 32,
          "metadata": {},
          "output_type": "execute_result"
        }
      ],
      "source": [
        "labels_dist = df_new.groupby(['Exited']).count() # dataframe\n",
        "labels_dist"
      ]
    },
    {
      "cell_type": "markdown",
      "metadata": {
        "id": "hUj_kqeCQJVM"
      },
      "source": [
        "We first split data into features and label. Then, we use stratified splitting to ensure that the ratio of indicies in the development and test datasets equals that of the original dataset. Because the original dataset is imbalanced with 7963 0's and 2037 1's. "
      ]
    },
    {
      "cell_type": "code",
      "execution_count": 33,
      "metadata": {
        "colab": {
          "base_uri": "https://localhost:8080/",
          "height": 0
        },
        "id": "OT6XcrRmNLmb",
        "outputId": "7bcd514e-3373-49b6-edb7-ca7e1cff4ed8"
      },
      "outputs": [
        {
          "data": {
            "text/plain": [
              "493     1\n",
              "6839    0\n",
              "170     0\n",
              "4958    0\n",
              "4271    0\n",
              "       ..\n",
              "6727    1\n",
              "4674    0\n",
              "6399    1\n",
              "872     0\n",
              "8389    0\n",
              "Name: Exited, Length: 8000, dtype: int64"
            ]
          },
          "execution_count": 33,
          "metadata": {},
          "output_type": "execute_result"
        }
      ],
      "source": [
        "## YOUR CODE HERE\n",
        "# Split data into features and labels\n",
        "df_X = df_new.drop(columns=['Exited'])\n",
        "df_y = df_new['Exited']\n",
        "\n",
        "df_X_dev, df_X_test, df_y_dev, df_y_test = train_test_split(df_X, df_y, test_size=0.2, random_state=0, stratify=df_y)\n",
        "df_y_dev"
      ]
    },
    {
      "cell_type": "markdown",
      "metadata": {
        "id": "74TrbaIrNRkD"
      },
      "source": [
        "**1.5: Preprocess the data (Handle the Categorical Variable). Do we need to apply scaling? Briefly Justify**"
      ]
    },
    {
      "cell_type": "markdown",
      "metadata": {
        "id": "5OqeSppYQJVN"
      },
      "source": [
        "No need to scale because decision tree is invariant to scale of data. The range of one variable does not affect the training process of the other variables. "
      ]
    },
    {
      "cell_type": "code",
      "execution_count": 34,
      "metadata": {
        "id": "kDRSDKg8NUCi"
      },
      "outputs": [],
      "source": [
        "## YOUR CODE HERE\n",
        "df_X_dev= pd.get_dummies(df_X_dev)\n",
        "df_X_test= pd.get_dummies(df_X_test)\n",
        "#df_X_dev"
      ]
    },
    {
      "cell_type": "markdown",
      "metadata": {
        "id": "Gqdb58V-NXsS"
      },
      "source": [
        "**1.6: Fit a Decision Tree on the development data until all leaves are pure. What is the performance of the tree on the development set and test set? Provide metrics you believe are relevant and briefly justify.**"
      ]
    },
    {
      "cell_type": "code",
      "execution_count": 35,
      "metadata": {
        "colab": {
          "base_uri": "https://localhost:8080/",
          "height": 0
        },
        "id": "lcv4m5JDNVHt",
        "outputId": "6d0c618c-195b-433d-9e66-6daf3e7f0b89",
        "scrolled": true
      },
      "outputs": [
        {
          "name": "stdout",
          "output_type": "stream",
          "text": [
            "performance of the tree on the development set:\n",
            "              precision    recall  f1-score   support\n",
            "\n",
            "           0       0.95      1.00      0.97      6370\n",
            "           1       0.99      0.81      0.89      1630\n",
            "\n",
            "    accuracy                           0.96      8000\n",
            "   macro avg       0.97      0.90      0.93      8000\n",
            "weighted avg       0.96      0.96      0.96      8000\n",
            "\n"
          ]
        },
        {
          "data": {
            "text/plain": [
              "0.95825"
            ]
          },
          "execution_count": 35,
          "metadata": {},
          "output_type": "execute_result"
        }
      ],
      "source": [
        "## YOUR CODE HERE\n",
        "clf = DecisionTreeClassifier(random_state=0)\n",
        "clf.fit(df_X_dev, df_y_dev)\n",
        "df_y_dev_pred = clf.predict(df_X_dev)\n",
        "print('performance of the tree on the development set:')\n",
        "print(classification_report(df_y_dev, df_y_dev_pred))\n",
        "clf.score(df_X_dev,df_y_dev)"
      ]
    },
    {
      "cell_type": "code",
      "execution_count": 59,
      "metadata": {
        "colab": {
          "base_uri": "https://localhost:8080/",
          "height": 0
        },
        "id": "zmvXs4G1QJVN",
        "outputId": "4f0e0bf9-d3e5-4240-fe3a-b04c49ba3a2b"
      },
      "outputs": [
        {
          "name": "stdout",
          "output_type": "stream",
          "text": [
            "performance of the tree on the test set:\n",
            "              precision    recall  f1-score   support\n",
            "\n",
            "           0       0.86      0.90      0.88      1593\n",
            "           1       0.51      0.43      0.47       407\n",
            "\n",
            "    accuracy                           0.80      2000\n",
            "   macro avg       0.69      0.66      0.67      2000\n",
            "weighted avg       0.79      0.80      0.79      2000\n",
            "\n"
          ]
        },
        {
          "data": {
            "text/plain": [
              "0.801"
            ]
          },
          "execution_count": 59,
          "metadata": {},
          "output_type": "execute_result"
        }
      ],
      "source": [
        "df_y_test_pred = clf.predict(df_X_test)\n",
        "print('performance of the tree on the test set:')\n",
        "print(classification_report(df_y_test, df_y_test_pred))\n",
        "clf.score(df_X_test,df_y_test)"
      ]
    },
    {
      "cell_type": "markdown",
      "metadata": {
        "id": "M3L302rFK0se"
      },
      "source": [
        "The performance of the tree on the development set is nearly perfect, nearly all the predictions are true for both classes. But the performance of the tree on the test set is not good. The accuracy is low. Especially for the minority class (label=1), the precision and recall are low. The huge difference between performance on development and test data is because the model with pure leaves are overfitting."
      ]
    },
    {
      "cell_type": "markdown",
      "metadata": {
        "id": "X7-C1S4xNcuc"
      },
      "source": [
        "**1.7: Visualize the trained tree until the max_depth 8**"
      ]
    },
    {
      "cell_type": "code",
      "execution_count": 60,
      "metadata": {
        "colab": {
          "base_uri": "https://localhost:8080/",
          "height": 1000
        },
        "id": "ueFZtga1NZki",
        "outputId": "30730b8f-d7c4-499b-85a7-f6e27df93370"
      },
      "outputs": [
        {
          "data": {
            "image/png": "[encoded data removed]",
            "text/plain": [
              "<Figure size 1800x1440 with 1 Axes>"
            ]
          },
          "metadata": {
            "needs_background": "light"
          },
          "output_type": "display_data"
        }
      ],
      "source": [
        "## YOUR CODE HERE\n",
        "fig = plt.figure(figsize=(25,20))\n",
        "_ = plot_tree(clf, max_depth=8)"
      ]
    },
    {
      "cell_type": "markdown",
      "metadata": {
        "id": "U5wnmhqPNgwD"
      },
      "source": [
        "**1.8: Prune the tree using one of the techniques discussed in class and evaluate the performance**"
      ]
    },
    {
      "cell_type": "code",
      "execution_count": 61,
      "metadata": {
        "colab": {
          "base_uri": "https://localhost:8080/",
          "height": 0
        },
        "id": "sTd8yRgYNeIb",
        "outputId": "f7cf7b60-ef52-4cbc-e866-a546c7ccf483"
      },
      "outputs": [
        {
          "data": {
            "text/plain": [
              "{'max_depth': 6}"
            ]
          },
          "execution_count": 61,
          "metadata": {},
          "output_type": "execute_result"
        }
      ],
      "source": [
        "## YOUR CODE HERE\n",
        "clf_gridserach = GridSearchCV(clf, param_grid=[{'max_depth': np.arange(2,10)}], return_train_score=True)\n",
        "clf_gridserach.fit(df_X_dev, df_y_dev)\n",
        "clf_gridserach.best_params_"
      ]
    },
    {
      "cell_type": "code",
      "execution_count": 62,
      "metadata": {
        "colab": {
          "base_uri": "https://localhost:8080/",
          "height": 0
        },
        "id": "e4w9yLaGQJVO",
        "outputId": "36a9a87e-0d94-4950-b0ee-b192dfa9a1ea"
      },
      "outputs": [
        {
          "name": "stdout",
          "output_type": "stream",
          "text": [
            "performance of the tree on the development set:\n",
            "              precision    recall  f1-score   support\n",
            "\n",
            "           0       0.86      0.96      0.91      1593\n",
            "           1       0.73      0.41      0.52       407\n",
            "\n",
            "    accuracy                           0.85      2000\n",
            "   macro avg       0.80      0.69      0.72      2000\n",
            "weighted avg       0.84      0.85      0.83      2000\n",
            "\n"
          ]
        },
        {
          "data": {
            "text/plain": [
              "0.8495"
            ]
          },
          "execution_count": 62,
          "metadata": {},
          "output_type": "execute_result"
        }
      ],
      "source": [
        "best_tree=DecisionTreeClassifier(max_depth=6, random_state=0)\n",
        "best_tree.fit(df_X_dev, df_y_dev)\n",
        "df_y_test_tuned_pred = best_tree.predict(df_X_test)\n",
        "print('performance of the tree on the development set:')\n",
        "print(classification_report(df_y_test, df_y_test_tuned_pred))\n",
        "best_tree.score(df_X_test,df_y_test)"
      ]
    },
    {
      "cell_type": "markdown",
      "metadata": {
        "id": "GtRVoq8ENDNM"
      },
      "source": [
        "The pruned tree has better performance. The accuracy increases. The precision for the minority class (lable=1) improves a lot. The pruned tree mitigated the overfitting problem. "
      ]
    },
    {
      "cell_type": "markdown",
      "metadata": {
        "id": "p68ghSqmNlQN"
      },
      "source": [
        "**1.9: List the top 3 most important features for this trained tree? How would you justify these features being the most important?**"
      ]
    },
    {
      "cell_type": "code",
      "execution_count": 63,
      "metadata": {
        "id": "_7OClU9-NiDU"
      },
      "outputs": [],
      "source": [
        "## YOUR CODE HERE\n",
        "feature_names=list(df_X_dev.columns)"
      ]
    },
    {
      "cell_type": "code",
      "execution_count": 64,
      "metadata": {
        "colab": {
          "base_uri": "https://localhost:8080/",
          "height": 143
        },
        "id": "60aZIIUMtjL1",
        "outputId": "bb997391-dfb8-4ea3-cd84-7bfab5055f96"
      },
      "outputs": [
        {
          "data": {
            "text/html": [
              "\n",
              "  <div id=\"df-bbf96f49-051b-46c1-b109-499b3f2afaab\">\n",
              "    <div class=\"colab-df-container\">\n",
              "      <div>\n",
              "<style scoped>\n",
              "    .dataframe tbody tr th:only-of-type {\n",
              "        vertical-align: middle;\n",
              "    }\n",
              "\n",
              "    .dataframe tbody tr th {\n",
              "        vertical-align: top;\n",
              "    }\n",
              "\n",
              "    .dataframe thead th {\n",
              "        text-align: right;\n",
              "    }\n",
              "</style>\n",
              "<table border=\"1\" class=\"dataframe\">\n",
              "  <thead>\n",
              "    <tr style=\"text-align: right;\">\n",
              "      <th></th>\n",
              "      <th>0</th>\n",
              "      <th>1</th>\n",
              "    </tr>\n",
              "  </thead>\n",
              "  <tbody>\n",
              "    <tr>\n",
              "      <th>0</th>\n",
              "      <td>Age</td>\n",
              "      <td>0.469384</td>\n",
              "    </tr>\n",
              "    <tr>\n",
              "      <th>2</th>\n",
              "      <td>NumOfProducts</td>\n",
              "      <td>0.322209</td>\n",
              "    </tr>\n",
              "    <tr>\n",
              "      <th>4</th>\n",
              "      <td>IsActiveMember</td>\n",
              "      <td>0.128539</td>\n",
              "    </tr>\n",
              "  </tbody>\n",
              "</table>\n",
              "</div>\n",
              "      <button class=\"colab-df-convert\" onclick=\"convertToInteractive('df-bbf96f49-051b-46c1-b109-499b3f2afaab')\"\n",
              "              title=\"Convert this dataframe to an interactive table.\"\n",
              "              style=\"display:none;\">\n",
              "        \n",
              "  <svg xmlns=\"http://www.w3.org/2000/svg\" height=\"24px\"viewBox=\"0 0 24 24\"\n",
              "       width=\"24px\">\n",
              "    <path d=\"M0 0h24v24H0V0z\" fill=\"none\"/>\n",
              "    <path d=\"M18.56 5.44l.94 2.06.94-2.06 2.06-.94-2.06-.94-.94-2.06-.94 2.06-2.06.94zm-11 1L8.5 8.5l.94-2.06 2.06-.94-2.06-.94L8.5 2.5l-.94 2.06-2.06.94zm10 10l.94 2.06.94-2.06 2.06-.94-2.06-.94-.94-2.06-.94 2.06-2.06.94z\"/><path d=\"M17.41 7.96l-1.37-1.37c-.4-.4-.92-.59-1.43-.59-.52 0-1.04.2-1.43.59L10.3 9.45l-7.72 7.72c-.78.78-.78 2.05 0 2.83L4 21.41c.39.39.9.59 1.41.59.51 0 1.02-.2 1.41-.59l7.78-7.78 2.81-2.81c.8-.78.8-2.07 0-2.86zM5.41 20L4 18.59l7.72-7.72 1.47 1.35L5.41 20z\"/>\n",
              "  </svg>\n",
              "      </button>\n",
              "      \n",
              "  <style>\n",
              "    .colab-df-container {\n",
              "      display:flex;\n",
              "      flex-wrap:wrap;\n",
              "      gap: 12px;\n",
              "    }\n",
              "\n",
              "    .colab-df-convert {\n",
              "      background-color: #E8F0FE;\n",
              "      border: none;\n",
              "      border-radius: 50%;\n",
              "      cursor: pointer;\n",
              "      display: none;\n",
              "      fill: #1967D2;\n",
              "      height: 32px;\n",
              "      padding: 0 0 0 0;\n",
              "      width: 32px;\n",
              "    }\n",
              "\n",
              "    .colab-df-convert:hover {\n",
              "      background-color: #E2EBFA;\n",
              "      box-shadow: 0px 1px 2px rgba(60, 64, 67, 0.3), 0px 1px 3px 1px rgba(60, 64, 67, 0.15);\n",
              "      fill: #174EA6;\n",
              "    }\n",
              "\n",
              "    [theme=dark] .colab-df-convert {\n",
              "      background-color: #3B4455;\n",
              "      fill: #D2E3FC;\n",
              "    }\n",
              "\n",
              "    [theme=dark] .colab-df-convert:hover {\n",
              "      background-color: #434B5C;\n",
              "      box-shadow: 0px 1px 3px 1px rgba(0, 0, 0, 0.15);\n",
              "      filter: drop-shadow(0px 1px 2px rgba(0, 0, 0, 0.3));\n",
              "      fill: #FFFFFF;\n",
              "    }\n",
              "  </style>\n",
              "\n",
              "      <script>\n",
              "        const buttonEl =\n",
              "          document.querySelector('#df-bbf96f49-051b-46c1-b109-499b3f2afaab button.colab-df-convert');\n",
              "        buttonEl.style.display =\n",
              "          google.colab.kernel.accessAllowed ? 'block' : 'none';\n",
              "\n",
              "        async function convertToInteractive(key) {\n",
              "          const element = document.querySelector('#df-bbf96f49-051b-46c1-b109-499b3f2afaab');\n",
              "          const dataTable =\n",
              "            await google.colab.kernel.invokeFunction('convertToInteractive',\n",
              "                                                     [key], {});\n",
              "          if (!dataTable) return;\n",
              "\n",
              "          const docLinkHtml = 'Like what you see? Visit the ' +\n",
              "            '<a target=\"_blank\" href=https://colab.research.google.com/notebooks/data_table.ipynb>data table notebook</a>'\n",
              "            + ' to learn more about interactive tables.';\n",
              "          element.innerHTML = '';\n",
              "          dataTable['output_type'] = 'display_data';\n",
              "          await google.colab.output.renderOutput(dataTable, element);\n",
              "          const docLink = document.createElement('div');\n",
              "          docLink.innerHTML = docLinkHtml;\n",
              "          element.appendChild(docLink);\n",
              "        }\n",
              "      </script>\n",
              "    </div>\n",
              "  </div>\n",
              "  "
            ],
            "text/plain": [
              "                0         1\n",
              "0             Age  0.469384\n",
              "2   NumOfProducts  0.322209\n",
              "4  IsActiveMember  0.128539"
            ]
          },
          "execution_count": 64,
          "metadata": {},
          "output_type": "execute_result"
        }
      ],
      "source": [
        "feature_impor=zip(feature_names, best_tree.feature_importances_)\n",
        "a=pd.DataFrame(feature_impor)\n",
        "a\n",
        "a.sort_values(1, ascending=False).head(3)"
      ]
    },
    {
      "cell_type": "markdown",
      "metadata": {
        "id": "WyGQCPdPQJVP"
      },
      "source": [
        "the top 3 most important features for this tuned trained tree are age, NumOfProducts, and IsActiveMember.\n",
        "\n",
        "Feature importance is calculated as the decrease in node impurity weighted by the probability of reaching that node in the tree."
      ]
    },
    {
      "cell_type": "markdown",
      "metadata": {
        "id": "RFAgk6icNpb6"
      },
      "source": [
        "## Question 2: Random Forests"
      ]
    },
    {
      "cell_type": "markdown",
      "metadata": {
        "id": "m-dsnsosNrSD"
      },
      "source": [
        "**2.1: Train a Random Forest model on the development dataset using RandomForestClassifier class in sklearn. Use the default parameters. Evaluate the performance of the model on test dataset. Does this perform better than Decision Tree on the test dataset (compare to results in Q 1.6)?**"
      ]
    },
    {
      "cell_type": "code",
      "execution_count": 80,
      "metadata": {
        "colab": {
          "base_uri": "https://localhost:8080/",
          "height": 0
        },
        "id": "hCEp-L_fNnIr",
        "outputId": "330d1c4c-f74d-41fb-912f-8bc8b383f2f0"
      },
      "outputs": [
        {
          "name": "stdout",
          "output_type": "stream",
          "text": [
            "performance of random forest on the test set:\n",
            "              precision    recall  f1-score   support\n",
            "\n",
            "           0       0.87      0.92      0.89      1593\n",
            "           1       0.58      0.45      0.51       407\n",
            "\n",
            "    accuracy                           0.82      2000\n",
            "   macro avg       0.72      0.68      0.70      2000\n",
            "weighted avg       0.81      0.82      0.81      2000\n",
            "\n"
          ]
        },
        {
          "data": {
            "text/plain": [
              "0.822"
            ]
          },
          "execution_count": 80,
          "metadata": {},
          "output_type": "execute_result"
        }
      ],
      "source": [
        "## YOUR CODE HERE\n",
        "rf=RandomForestClassifier(random_state=0)\n",
        "rf.fit(df_X_dev, df_y_dev)\n",
        "df_y_test_pred = rf.predict(df_X_test)\n",
        "print('performance of random forest on the test set:')\n",
        "print(classification_report(df_y_test, df_y_test_pred))\n",
        "rf.score(df_X_test,df_y_test)"
      ]
    },
    {
      "cell_type": "markdown",
      "metadata": {
        "id": "rZqPseILOJnV"
      },
      "source": [
        "The model performs slightly better than decision tree model in Q1.6. The overall accuracy is higher. The prediction for both classes improves slightly. But the model still does not predict the minority class (label=1) well."
      ]
    },
    {
      "cell_type": "markdown",
      "metadata": {
        "id": "KOItgyuxNxVb"
      },
      "source": [
        "**2.2: Does all trees in the trained random forest model have pure leaves? How would you verify this?**"
      ]
    },
    {
      "cell_type": "markdown",
      "metadata": {
        "id": "fOZGkCHeQJVP"
      },
      "source": [
        "All trees in the trained random forest model have pure leaves. Becuase we leave the max_depth attribute in RandomForestClassifier as default. According to the document, nodes are expanded until all leaves are pure. Besides, we checked the impurities for all the leaves in all the trees in random forest to be 0."
      ]
    },
    {
      "cell_type": "code",
      "execution_count": 89,
      "metadata": {
        "id": "rUj535kZNtHC"
      },
      "outputs": [],
      "source": [
        "## YOUR CODE HERE ####\n",
        "#check purity of the last nodes use bfs. input: model. inside: .tree"
      ]
    },
    {
      "cell_type": "code",
      "execution_count": 103,
      "metadata": {
        "id": "P_D36TKWAe1y"
      },
      "outputs": [],
      "source": [
        "n_nodes=[]\n",
        "children_left=[]\n",
        "children_right=[]"
      ]
    },
    {
      "cell_type": "code",
      "execution_count": 104,
      "metadata": {
        "colab": {
          "base_uri": "https://localhost:8080/",
          "height": 0
        },
        "id": "4jkcVhRb41Lw",
        "outputId": "7f169c5d-0a46-4dd0-8625-cd8e77ee06a7"
      },
      "outputs": [
        {
          "name": "stdout",
          "output_type": "stream",
          "text": [
            "0.0\n",
            "0.0\n",
            "0.0\n",
            "0.0\n",
            "0.0\n",
            "0.0\n",
            "0.0\n",
            "0.0\n",
            "0.0\n",
            "0.0\n",
            "0.0\n",
            "0.0\n",
            "0.0\n",
            "0.0\n",
            "0.0\n",
            "0.0\n",
            "0.0\n",
            "0.0\n",
            "0.0\n",
            "0.0\n",
            "0.0\n",
            "0.0\n",
            "0.0\n",
            "0.0\n",
            "0.0\n",
            "0.0\n",
            "0.0\n",
            "0.0\n",
            "0.0\n",
            "0.0\n",
            "0.0\n",
            "0.0\n",
            "0.0\n",
            "0.0\n",
            "0.0\n",
            "0.0\n",
            "0.0\n",
            "0.0\n",
            "0.0\n",
            "0.0\n",
            "0.0\n",
            "0.0\n",
            "0.0\n",
            "0.0\n",
            "0.0\n",
            "0.0\n",
            "0.0\n",
            "0.0\n",
            "0.0\n",
            "0.0\n",
            "0.0\n",
            "0.0\n",
            "0.0\n",
            "0.0\n",
            "0.0\n",
            "0.0\n",
            "0.0\n",
            "0.0\n",
            "0.0\n",
            "0.0\n",
            "0.0\n",
            "0.0\n",
            "0.0\n",
            "0.0\n",
            "0.0\n",
            "0.0\n",
            "0.0\n",
            "0.0\n",
            "0.0\n",
            "0.0\n",
            "0.0\n",
            "0.0\n",
            "0.0\n",
            "0.0\n",
            "0.0\n",
            "0.0\n",
            "0.0\n",
            "0.0\n",
            "0.0\n",
            "0.0\n",
            "0.0\n",
            "0.0\n",
            "0.0\n",
            "0.0\n",
            "0.0\n",
            "0.0\n",
            "0.0\n",
            "0.0\n",
            "0.0\n",
            "0.0\n",
            "0.0\n",
            "0.0\n",
            "0.0\n",
            "0.0\n",
            "0.0\n",
            "0.0\n",
            "0.0\n",
            "0.0\n",
            "0.0\n",
            "0.0\n"
          ]
        }
      ],
      "source": [
        "for i in range(len(rf.estimators_)):\n",
        "  n_nodes = rf[i].tree_.node_count\n",
        "  children_left = rf[i].tree_.children_left\n",
        "  children_right = rf[i].tree_.children_right\n",
        "  feature = rf[i].tree_.feature\n",
        "  threshold = rf[i].tree_.threshold\n",
        "\n",
        "  node_depth = np.zeros(shape=n_nodes, dtype=np.int64)\n",
        "  is_leaves = np.zeros(shape=n_nodes, dtype=bool)\n",
        "  impurity_leaves=0\n",
        "  stack = [(0, 0)]  # start with the root node id (0) and its depth (0)\n",
        "  while len(stack) > 0:\n",
        "      # `pop` ensures each node is only visited once\n",
        "      node_id, depth = stack.pop()\n",
        "      node_depth[node_id] = depth\n",
        "\n",
        "      # If the left and right child of a node is not the same we have a split\n",
        "      # node\n",
        "      is_split_node = children_left[node_id] != children_right[node_id]\n",
        "      # If a split node, append left and right children and depth to `stack`\n",
        "      # so we can loop through them\n",
        "      if is_split_node:\n",
        "          stack.append((children_left[node_id], depth + 1))\n",
        "          stack.append((children_right[node_id], depth + 1))\n",
        "      else:\n",
        "          is_leaves[node_id] = True\n",
        "  \n",
        "  print(rf[i].tree_.impurity[-1]) # impurity of the last level\n",
        "\n",
        "\n"
      ]
    },
    {
      "cell_type": "markdown",
      "metadata": {
        "id": "3CYjbRWUN1Wr"
      },
      "source": [
        "**2.3: Assume you want to improve the performance of this model. Also, assume that you had to pick two hyperparameters that you could tune to improve its performance. Which hyperparameters would you choose and why?**\n"
      ]
    },
    {
      "cell_type": "code",
      "execution_count": null,
      "metadata": {
        "id": "AOHufXu6NzjL"
      },
      "outputs": [],
      "source": [
        "## YOUR ANSWER HERE"
      ]
    },
    {
      "cell_type": "markdown",
      "metadata": {
        "id": "cjQ-UQxrQhKT"
      },
      "source": [
        "To improve the performance of the model, we tuned number of trees and max depths of each tree. Random forest bootstrapped samples and random subset of features to train each tree. Generalization improves with uncorrelated trees. So, we tuned the number of trees so that trees are not so correlated and we have a suitable number of tree to generalize to improve model preformance. We tuned max depths of each tree to balance between overfitting and model complexity. So that we are not overfitting and the model is complex enough to capture the pattern of the data for prediction."
      ]
    },
    {
      "cell_type": "markdown",
      "metadata": {
        "id": "q33xkjePN9Cy"
      },
      "source": [
        "**2.4: Now, assume you had to choose up to 5 different values (each) for these two hyperparameters. How would you choose these values that could potentially give you a performance lift?**"
      ]
    },
    {
      "cell_type": "code",
      "execution_count": null,
      "metadata": {
        "id": "JIXfnIpCN7AW"
      },
      "outputs": [],
      "source": [
        "## YOUR ANSWER HERE"
      ]
    },
    {
      "cell_type": "code",
      "execution_count": 69,
      "metadata": {
        "id": "DQXpVQlHQJVQ"
      },
      "outputs": [],
      "source": [
        "number_of_trees=[100,150,200,250,300]\n",
        "max_depths=[5,6,7,8,9]"
      ]
    },
    {
      "cell_type": "markdown",
      "metadata": {
        "id": "mCTbu4_BRKvc"
      },
      "source": [
        "The optimal max_depth for the tree model is 6, so we choose tune the max_depth around 6."
      ]
    },
    {
      "cell_type": "markdown",
      "metadata": {
        "id": "RbyGgZx2OAw6"
      },
      "source": [
        "**2.5: Perform model selection using the chosen values for the hyperparameters. Use cross-validation for finding the optimal hyperparameters. Report on the optimal hyperparameters. Estimate the performance of the optimal model (model trained with optimal hyperparameters) on test dataset? Has the performance improved over your plain-vanilla random forest model trained in Q2.1?**"
      ]
    },
    {
      "cell_type": "code",
      "execution_count": null,
      "metadata": {
        "id": "DZPaz4_pN-cc"
      },
      "outputs": [],
      "source": [
        "## YOUR CODE HERE"
      ]
    },
    {
      "cell_type": "code",
      "execution_count": 70,
      "metadata": {
        "colab": {
          "base_uri": "https://localhost:8080/",
          "height": 0
        },
        "id": "VYSTwj4fQJVQ",
        "outputId": "c12db938-3fb8-43df-dbc9-e51ab0c05a01"
      },
      "outputs": [
        {
          "data": {
            "text/plain": [
              "GridSearchCV(cv=5, estimator=RandomForestClassifier(random_state=0),\n",
              "             param_grid=[{'max_depth': [5, 6, 7, 8, 9],\n",
              "                          'n_estimators': [100, 150, 200, 250, 300]}],\n",
              "             return_train_score=True)"
            ]
          },
          "execution_count": 70,
          "metadata": {},
          "output_type": "execute_result"
        }
      ],
      "source": [
        "rf_gridserach = GridSearchCV(rf, param_grid=[{'max_depth': max_depths, 'n_estimators': number_of_trees}], cv=5, return_train_score=True)\n",
        "rf_gridserach.fit(df_X_dev, df_y_dev)"
      ]
    },
    {
      "cell_type": "code",
      "execution_count": 71,
      "metadata": {
        "colab": {
          "base_uri": "https://localhost:8080/",
          "height": 0
        },
        "id": "m84_nvI-QJVR",
        "outputId": "e26eee7d-78be-4167-98bb-359489e28bb1"
      },
      "outputs": [
        {
          "name": "stdout",
          "output_type": "stream",
          "text": [
            "best hyperparameters: {'max_depth': 8, 'n_estimators': 200}\n"
          ]
        }
      ],
      "source": [
        "print('best hyperparameters:', rf_gridserach.best_params_)"
      ]
    },
    {
      "cell_type": "code",
      "execution_count": 72,
      "metadata": {
        "colab": {
          "base_uri": "https://localhost:8080/",
          "height": 0
        },
        "id": "ebgL1qW2QJVR",
        "outputId": "dcddf1fe-192b-4282-8f35-c9f333751719"
      },
      "outputs": [
        {
          "name": "stdout",
          "output_type": "stream",
          "text": [
            "performance of tuned random forest on the test set:\n",
            "              precision    recall  f1-score   support\n",
            "\n",
            "           0       0.86      0.97      0.91      1593\n",
            "           1       0.77      0.40      0.52       407\n",
            "\n",
            "    accuracy                           0.85      2000\n",
            "   macro avg       0.82      0.68      0.72      2000\n",
            "weighted avg       0.84      0.85      0.83      2000\n",
            "\n"
          ]
        },
        {
          "data": {
            "text/plain": [
              "0.8535"
            ]
          },
          "execution_count": 72,
          "metadata": {},
          "output_type": "execute_result"
        }
      ],
      "source": [
        "rf_tuned=RandomForestClassifier(n_estimators=200, max_depth=8, random_state=0)\n",
        "rf_tuned.fit(df_X_dev, df_y_dev)\n",
        "df_y_test_tuned_pred = rf_tuned.predict(df_X_test)\n",
        "print('performance of tuned random forest on the test set:')\n",
        "print(classification_report(df_y_test, df_y_test_tuned_pred))\n",
        "rf_tuned.score(df_X_test,df_y_test)"
      ]
    },
    {
      "cell_type": "markdown",
      "metadata": {
        "id": "TVZZdwgiTNhV"
      },
      "source": [
        "The model performs better than plain-vanilla random forest model trained in Q2.1. The overall accuracy has increased to 0.8535. The precision for minority class (label=1) improves."
      ]
    },
    {
      "cell_type": "markdown",
      "metadata": {
        "id": "RO-EFxtMOG7K"
      },
      "source": [
        "**2.6: Can you find the top 3 most important features from the model trained in Q2.5? How do these features compare to the important features that you found from Q1.9? If they differ, which feature set makes more sense?**"
      ]
    },
    {
      "cell_type": "code",
      "execution_count": 73,
      "metadata": {
        "colab": {
          "base_uri": "https://localhost:8080/",
          "height": 143
        },
        "id": "0Wk7ZclOOCox",
        "outputId": "4519e5d1-286a-4880-b034-9f1d354a18e6"
      },
      "outputs": [
        {
          "data": {
            "text/html": [
              "\n",
              "  <div id=\"df-df028825-aaf0-4b51-ae1e-5df16fc847bd\">\n",
              "    <div class=\"colab-df-container\">\n",
              "      <div>\n",
              "<style scoped>\n",
              "    .dataframe tbody tr th:only-of-type {\n",
              "        vertical-align: middle;\n",
              "    }\n",
              "\n",
              "    .dataframe tbody tr th {\n",
              "        vertical-align: top;\n",
              "    }\n",
              "\n",
              "    .dataframe thead th {\n",
              "        text-align: right;\n",
              "    }\n",
              "</style>\n",
              "<table border=\"1\" class=\"dataframe\">\n",
              "  <thead>\n",
              "    <tr style=\"text-align: right;\">\n",
              "      <th></th>\n",
              "      <th>0</th>\n",
              "      <th>1</th>\n",
              "    </tr>\n",
              "  </thead>\n",
              "  <tbody>\n",
              "    <tr>\n",
              "      <th>0</th>\n",
              "      <td>Age</td>\n",
              "      <td>0.443032</td>\n",
              "    </tr>\n",
              "    <tr>\n",
              "      <th>2</th>\n",
              "      <td>NumOfProducts</td>\n",
              "      <td>0.299702</td>\n",
              "    </tr>\n",
              "    <tr>\n",
              "      <th>4</th>\n",
              "      <td>IsActiveMember</td>\n",
              "      <td>0.086741</td>\n",
              "    </tr>\n",
              "  </tbody>\n",
              "</table>\n",
              "</div>\n",
              "      <button class=\"colab-df-convert\" onclick=\"convertToInteractive('df-df028825-aaf0-4b51-ae1e-5df16fc847bd')\"\n",
              "              title=\"Convert this dataframe to an interactive table.\"\n",
              "              style=\"display:none;\">\n",
              "        \n",
              "  <svg xmlns=\"http://www.w3.org/2000/svg\" height=\"24px\"viewBox=\"0 0 24 24\"\n",
              "       width=\"24px\">\n",
              "    <path d=\"M0 0h24v24H0V0z\" fill=\"none\"/>\n",
              "    <path d=\"M18.56 5.44l.94 2.06.94-2.06 2.06-.94-2.06-.94-.94-2.06-.94 2.06-2.06.94zm-11 1L8.5 8.5l.94-2.06 2.06-.94-2.06-.94L8.5 2.5l-.94 2.06-2.06.94zm10 10l.94 2.06.94-2.06 2.06-.94-2.06-.94-.94-2.06-.94 2.06-2.06.94z\"/><path d=\"M17.41 7.96l-1.37-1.37c-.4-.4-.92-.59-1.43-.59-.52 0-1.04.2-1.43.59L10.3 9.45l-7.72 7.72c-.78.78-.78 2.05 0 2.83L4 21.41c.39.39.9.59 1.41.59.51 0 1.02-.2 1.41-.59l7.78-7.78 2.81-2.81c.8-.78.8-2.07 0-2.86zM5.41 20L4 18.59l7.72-7.72 1.47 1.35L5.41 20z\"/>\n",
              "  </svg>\n",
              "      </button>\n",
              "      \n",
              "  <style>\n",
              "    .colab-df-container {\n",
              "      display:flex;\n",
              "      flex-wrap:wrap;\n",
              "      gap: 12px;\n",
              "    }\n",
              "\n",
              "    .colab-df-convert {\n",
              "      background-color: #E8F0FE;\n",
              "      border: none;\n",
              "      border-radius: 50%;\n",
              "      cursor: pointer;\n",
              "      display: none;\n",
              "      fill: #1967D2;\n",
              "      height: 32px;\n",
              "      padding: 0 0 0 0;\n",
              "      width: 32px;\n",
              "    }\n",
              "\n",
              "    .colab-df-convert:hover {\n",
              "      background-color: #E2EBFA;\n",
              "      box-shadow: 0px 1px 2px rgba(60, 64, 67, 0.3), 0px 1px 3px 1px rgba(60, 64, 67, 0.15);\n",
              "      fill: #174EA6;\n",
              "    }\n",
              "\n",
              "    [theme=dark] .colab-df-convert {\n",
              "      background-color: #3B4455;\n",
              "      fill: #D2E3FC;\n",
              "    }\n",
              "\n",
              "    [theme=dark] .colab-df-convert:hover {\n",
              "      background-color: #434B5C;\n",
              "      box-shadow: 0px 1px 3px 1px rgba(0, 0, 0, 0.15);\n",
              "      filter: drop-shadow(0px 1px 2px rgba(0, 0, 0, 0.3));\n",
              "      fill: #FFFFFF;\n",
              "    }\n",
              "  </style>\n",
              "\n",
              "      <script>\n",
              "        const buttonEl =\n",
              "          document.querySelector('#df-df028825-aaf0-4b51-ae1e-5df16fc847bd button.colab-df-convert');\n",
              "        buttonEl.style.display =\n",
              "          google.colab.kernel.accessAllowed ? 'block' : 'none';\n",
              "\n",
              "        async function convertToInteractive(key) {\n",
              "          const element = document.querySelector('#df-df028825-aaf0-4b51-ae1e-5df16fc847bd');\n",
              "          const dataTable =\n",
              "            await google.colab.kernel.invokeFunction('convertToInteractive',\n",
              "                                                     [key], {});\n",
              "          if (!dataTable) return;\n",
              "\n",
              "          const docLinkHtml = 'Like what you see? Visit the ' +\n",
              "            '<a target=\"_blank\" href=https://colab.research.google.com/notebooks/data_table.ipynb>data table notebook</a>'\n",
              "            + ' to learn more about interactive tables.';\n",
              "          element.innerHTML = '';\n",
              "          dataTable['output_type'] = 'display_data';\n",
              "          await google.colab.output.renderOutput(dataTable, element);\n",
              "          const docLink = document.createElement('div');\n",
              "          docLink.innerHTML = docLinkHtml;\n",
              "          element.appendChild(docLink);\n",
              "        }\n",
              "      </script>\n",
              "    </div>\n",
              "  </div>\n",
              "  "
            ],
            "text/plain": [
              "                0         1\n",
              "0             Age  0.443032\n",
              "2   NumOfProducts  0.299702\n",
              "4  IsActiveMember  0.086741"
            ]
          },
          "execution_count": 73,
          "metadata": {},
          "output_type": "execute_result"
        }
      ],
      "source": [
        "## YOUR CODE HERE\n",
        "feature_impor=zip(feature_names, rf_tuned.feature_importances_)\n",
        "a=pd.DataFrame(feature_impor)\n",
        "a\n",
        "a.sort_values(1, ascending=False).head(3)"
      ]
    },
    {
      "cell_type": "markdown",
      "metadata": {
        "id": "cmOADv2TQJVR"
      },
      "source": [
        "the top 3 most important features for this tuned trained tree are age, NumOfProducts, and IsActiveMember. They are the same to the important features found from Q1.9. The important features found from q2.6 make more sense. Random forest repeats the process of decision trees and average the output from each of the models to make final prediction. So, the result of random forest is more stable and accurate."
      ]
    },
    {
      "cell_type": "markdown",
      "metadata": {
        "id": "z6BGKMj3OMHK"
      },
      "source": [
        "## Question 3: Gradient Boosted Trees"
      ]
    },
    {
      "cell_type": "markdown",
      "metadata": {
        "id": "3LQIeVvAOOKq"
      },
      "source": [
        "**3.1: Choose three hyperparameters to tune GradientBoostingClassifier and HistGradientBoostingClassifier on the development dataset using 5-fold cross validation. Report on the time taken to do model selection for both the models. Also, report the performance of the test dataset from the optimal models.**"
      ]
    },
    {
      "cell_type": "code",
      "execution_count": 36,
      "metadata": {
        "id": "bvwd3dAhOJsQ"
      },
      "outputs": [],
      "source": [
        "## YOUR CODE HERE\n",
        "import time"
      ]
    },
    {
      "cell_type": "code",
      "execution_count": 37,
      "metadata": {
        "id": "-DOf4797QJVS"
      },
      "outputs": [],
      "source": [
        "max_depths=[3,4,5,6]\n",
        "learn_rate=[0.05,0.1,0.15,0.2]\n",
        "n_estimators=[100,200,300,400] # The number of boosting stages to perform"
      ]
    },
    {
      "cell_type": "code",
      "execution_count": 56,
      "metadata": {
        "colab": {
          "base_uri": "https://localhost:8080/",
          "height": 411
        },
        "id": "IxdLpw1GQJVS",
        "outputId": "88f1a6de-3cc4-4264-cc96-033207413652"
      },
      "outputs": [
        {
          "ename": "KeyboardInterrupt",
          "evalue": "ignored",
          "output_type": "error",
          "traceback": [
            "\u001b[0;31m---------------------------------------------------------------------------\u001b[0m",
            "\u001b[0;31mKeyboardInterrupt\u001b[0m                         Traceback (most recent call last)",
            "\u001b[0;32m<ipython-input-56-deaf8870e5be>\u001b[0m in \u001b[0;36m<module>\u001b[0;34m\u001b[0m\n\u001b[1;32m      3\u001b[0m \u001b[0mGB\u001b[0m\u001b[0;34m=\u001b[0m\u001b[0mGradientBoostingClassifier\u001b[0m\u001b[0;34m(\u001b[0m\u001b[0mrandom_state\u001b[0m\u001b[0;34m=\u001b[0m\u001b[0;36m0\u001b[0m\u001b[0;34m)\u001b[0m\u001b[0;34m\u001b[0m\u001b[0;34m\u001b[0m\u001b[0m\n\u001b[1;32m      4\u001b[0m \u001b[0mGB_grid\u001b[0m \u001b[0;34m=\u001b[0m \u001b[0mGridSearchCV\u001b[0m\u001b[0;34m(\u001b[0m\u001b[0mGB\u001b[0m\u001b[0;34m,\u001b[0m \u001b[0mparam_grid\u001b[0m\u001b[0;34m=\u001b[0m\u001b[0;34m[\u001b[0m\u001b[0;34m{\u001b[0m\u001b[0;34m'learning_rate'\u001b[0m\u001b[0;34m:\u001b[0m\u001b[0mlearn_rate\u001b[0m\u001b[0;34m,\u001b[0m \u001b[0;34m'max_depth'\u001b[0m\u001b[0;34m:\u001b[0m \u001b[0mmax_depths\u001b[0m\u001b[0;34m,\u001b[0m \u001b[0;34m'n_estimators'\u001b[0m\u001b[0;34m:\u001b[0m \u001b[0mn_estimators\u001b[0m\u001b[0;34m}\u001b[0m\u001b[0;34m]\u001b[0m\u001b[0;34m,\u001b[0m \u001b[0mcv\u001b[0m\u001b[0;34m=\u001b[0m\u001b[0;36m5\u001b[0m\u001b[0;34m,\u001b[0m \u001b[0mreturn_train_score\u001b[0m\u001b[0;34m=\u001b[0m\u001b[0;32mTrue\u001b[0m\u001b[0;34m)\u001b[0m\u001b[0;34m\u001b[0m\u001b[0;34m\u001b[0m\u001b[0m\n\u001b[0;32m----> 5\u001b[0;31m \u001b[0mGB_grid\u001b[0m\u001b[0;34m.\u001b[0m\u001b[0mfit\u001b[0m\u001b[0;34m(\u001b[0m\u001b[0mdf_X_dev\u001b[0m\u001b[0;34m,\u001b[0m \u001b[0mdf_y_dev\u001b[0m\u001b[0;34m)\u001b[0m\u001b[0;34m\u001b[0m\u001b[0;34m\u001b[0m\u001b[0m\n\u001b[0m\u001b[1;32m      6\u001b[0m \u001b[0;34m\u001b[0m\u001b[0m\n\u001b[1;32m      7\u001b[0m \u001b[0met\u001b[0m \u001b[0;34m=\u001b[0m \u001b[0mtime\u001b[0m\u001b[0;34m.\u001b[0m\u001b[0mtime\u001b[0m\u001b[0;34m(\u001b[0m\u001b[0;34m)\u001b[0m\u001b[0;34m\u001b[0m\u001b[0;34m\u001b[0m\u001b[0m\n",
            "\u001b[0;32m/usr/local/lib/python3.7/dist-packages/sklearn/model_selection/_search.py\u001b[0m in \u001b[0;36mfit\u001b[0;34m(self, X, y, groups, **fit_params)\u001b[0m\n\u001b[1;32m    889\u001b[0m                 \u001b[0;32mreturn\u001b[0m \u001b[0mresults\u001b[0m\u001b[0;34m\u001b[0m\u001b[0;34m\u001b[0m\u001b[0m\n\u001b[1;32m    890\u001b[0m \u001b[0;34m\u001b[0m\u001b[0m\n\u001b[0;32m--> 891\u001b[0;31m             \u001b[0mself\u001b[0m\u001b[0;34m.\u001b[0m\u001b[0m_run_search\u001b[0m\u001b[0;34m(\u001b[0m\u001b[0mevaluate_candidates\u001b[0m\u001b[0;34m)\u001b[0m\u001b[0;34m\u001b[0m\u001b[0;34m\u001b[0m\u001b[0m\n\u001b[0m\u001b[1;32m    892\u001b[0m \u001b[0;34m\u001b[0m\u001b[0m\n\u001b[1;32m    893\u001b[0m             \u001b[0;31m# multimetric is determined here because in the case of a callable\u001b[0m\u001b[0;34m\u001b[0m\u001b[0;34m\u001b[0m\u001b[0;34m\u001b[0m\u001b[0m\n",
            "\u001b[0;32m/usr/local/lib/python3.7/dist-packages/sklearn/model_selection/_search.py\u001b[0m in \u001b[0;36m_run_search\u001b[0;34m(self, evaluate_candidates)\u001b[0m\n\u001b[1;32m   1390\u001b[0m     \u001b[0;32mdef\u001b[0m \u001b[0m_run_search\u001b[0m\u001b[0;34m(\u001b[0m\u001b[0mself\u001b[0m\u001b[0;34m,\u001b[0m \u001b[0mevaluate_candidates\u001b[0m\u001b[0;34m)\u001b[0m\u001b[0;34m:\u001b[0m\u001b[0;34m\u001b[0m\u001b[0;34m\u001b[0m\u001b[0m\n\u001b[1;32m   1391\u001b[0m         \u001b[0;34m\"\"\"Search all candidates in param_grid\"\"\"\u001b[0m\u001b[0;34m\u001b[0m\u001b[0;34m\u001b[0m\u001b[0m\n\u001b[0;32m-> 1392\u001b[0;31m         \u001b[0mevaluate_candidates\u001b[0m\u001b[0;34m(\u001b[0m\u001b[0mParameterGrid\u001b[0m\u001b[0;34m(\u001b[0m\u001b[0mself\u001b[0m\u001b[0;34m.\u001b[0m\u001b[0mparam_grid\u001b[0m\u001b[0;34m)\u001b[0m\u001b[0;34m)\u001b[0m\u001b[0;34m\u001b[0m\u001b[0;34m\u001b[0m\u001b[0m\n\u001b[0m\u001b[1;32m   1393\u001b[0m \u001b[0;34m\u001b[0m\u001b[0m\n\u001b[1;32m   1394\u001b[0m \u001b[0;34m\u001b[0m\u001b[0m\n",
            "\u001b[0;32m/usr/local/lib/python3.7/dist-packages/sklearn/model_selection/_search.py\u001b[0m in \u001b[0;36mevaluate_candidates\u001b[0;34m(candidate_params, cv, more_results)\u001b[0m\n\u001b[1;32m    849\u001b[0m                     )\n\u001b[1;32m    850\u001b[0m                     for (cand_idx, parameters), (split_idx, (train, test)) in product(\n\u001b[0;32m--> 851\u001b[0;31m                         \u001b[0menumerate\u001b[0m\u001b[0;34m(\u001b[0m\u001b[0mcandidate_params\u001b[0m\u001b[0;34m)\u001b[0m\u001b[0;34m,\u001b[0m \u001b[0menumerate\u001b[0m\u001b[0;34m(\u001b[0m\u001b[0mcv\u001b[0m\u001b[0;34m.\u001b[0m\u001b[0msplit\u001b[0m\u001b[0;34m(\u001b[0m\u001b[0mX\u001b[0m\u001b[0;34m,\u001b[0m \u001b[0my\u001b[0m\u001b[0;34m,\u001b[0m \u001b[0mgroups\u001b[0m\u001b[0;34m)\u001b[0m\u001b[0;34m)\u001b[0m\u001b[0;34m\u001b[0m\u001b[0;34m\u001b[0m\u001b[0m\n\u001b[0m\u001b[1;32m    852\u001b[0m                     )\n\u001b[1;32m    853\u001b[0m                 )\n",
            "\u001b[0;32m/usr/local/lib/python3.7/dist-packages/joblib/parallel.py\u001b[0m in \u001b[0;36m__call__\u001b[0;34m(self, iterable)\u001b[0m\n\u001b[1;32m   1086\u001b[0m                 \u001b[0mself\u001b[0m\u001b[0;34m.\u001b[0m\u001b[0m_iterating\u001b[0m \u001b[0;34m=\u001b[0m \u001b[0mself\u001b[0m\u001b[0;34m.\u001b[0m\u001b[0m_original_iterator\u001b[0m \u001b[0;32mis\u001b[0m \u001b[0;32mnot\u001b[0m \u001b[0;32mNone\u001b[0m\u001b[0;34m\u001b[0m\u001b[0;34m\u001b[0m\u001b[0m\n\u001b[1;32m   1087\u001b[0m \u001b[0;34m\u001b[0m\u001b[0m\n\u001b[0;32m-> 1088\u001b[0;31m             \u001b[0;32mwhile\u001b[0m \u001b[0mself\u001b[0m\u001b[0;34m.\u001b[0m\u001b[0mdispatch_one_batch\u001b[0m\u001b[0;34m(\u001b[0m\u001b[0miterator\u001b[0m\u001b[0;34m)\u001b[0m\u001b[0;34m:\u001b[0m\u001b[0;34m\u001b[0m\u001b[0;34m\u001b[0m\u001b[0m\n\u001b[0m\u001b[1;32m   1089\u001b[0m                 \u001b[0;32mpass\u001b[0m\u001b[0;34m\u001b[0m\u001b[0;34m\u001b[0m\u001b[0m\n\u001b[1;32m   1090\u001b[0m \u001b[0;34m\u001b[0m\u001b[0m\n",
            "\u001b[0;32m/usr/local/lib/python3.7/dist-packages/joblib/parallel.py\u001b[0m in \u001b[0;36mdispatch_one_batch\u001b[0;34m(self, iterator)\u001b[0m\n\u001b[1;32m    899\u001b[0m                 \u001b[0;32mreturn\u001b[0m \u001b[0;32mFalse\u001b[0m\u001b[0;34m\u001b[0m\u001b[0;34m\u001b[0m\u001b[0m\n\u001b[1;32m    900\u001b[0m             \u001b[0;32melse\u001b[0m\u001b[0;34m:\u001b[0m\u001b[0;34m\u001b[0m\u001b[0;34m\u001b[0m\u001b[0m\n\u001b[0;32m--> 901\u001b[0;31m                 \u001b[0mself\u001b[0m\u001b[0;34m.\u001b[0m\u001b[0m_dispatch\u001b[0m\u001b[0;34m(\u001b[0m\u001b[0mtasks\u001b[0m\u001b[0;34m)\u001b[0m\u001b[0;34m\u001b[0m\u001b[0;34m\u001b[0m\u001b[0m\n\u001b[0m\u001b[1;32m    902\u001b[0m                 \u001b[0;32mreturn\u001b[0m \u001b[0;32mTrue\u001b[0m\u001b[0;34m\u001b[0m\u001b[0;34m\u001b[0m\u001b[0m\n\u001b[1;32m    903\u001b[0m \u001b[0;34m\u001b[0m\u001b[0m\n",
            "\u001b[0;32m/usr/local/lib/python3.7/dist-packages/joblib/parallel.py\u001b[0m in \u001b[0;36m_dispatch\u001b[0;34m(self, batch)\u001b[0m\n\u001b[1;32m    817\u001b[0m         \u001b[0;32mwith\u001b[0m \u001b[0mself\u001b[0m\u001b[0;34m.\u001b[0m\u001b[0m_lock\u001b[0m\u001b[0;34m:\u001b[0m\u001b[0;34m\u001b[0m\u001b[0;34m\u001b[0m\u001b[0m\n\u001b[1;32m    818\u001b[0m             \u001b[0mjob_idx\u001b[0m \u001b[0;34m=\u001b[0m \u001b[0mlen\u001b[0m\u001b[0;34m(\u001b[0m\u001b[0mself\u001b[0m\u001b[0;34m.\u001b[0m\u001b[0m_jobs\u001b[0m\u001b[0;34m)\u001b[0m\u001b[0;34m\u001b[0m\u001b[0;34m\u001b[0m\u001b[0m\n\u001b[0;32m--> 819\u001b[0;31m             \u001b[0mjob\u001b[0m \u001b[0;34m=\u001b[0m \u001b[0mself\u001b[0m\u001b[0;34m.\u001b[0m\u001b[0m_backend\u001b[0m\u001b[0;34m.\u001b[0m\u001b[0mapply_async\u001b[0m\u001b[0;34m(\u001b[0m\u001b[0mbatch\u001b[0m\u001b[0;34m,\u001b[0m \u001b[0mcallback\u001b[0m\u001b[0;34m=\u001b[0m\u001b[0mcb\u001b[0m\u001b[0;34m)\u001b[0m\u001b[0;34m\u001b[0m\u001b[0;34m\u001b[0m\u001b[0m\n\u001b[0m\u001b[1;32m    820\u001b[0m             \u001b[0;31m# A job can complete so quickly than its callback is\u001b[0m\u001b[0;34m\u001b[0m\u001b[0;34m\u001b[0m\u001b[0;34m\u001b[0m\u001b[0m\n\u001b[1;32m    821\u001b[0m             \u001b[0;31m# called before we get here, causing self._jobs to\u001b[0m\u001b[0;34m\u001b[0m\u001b[0;34m\u001b[0m\u001b[0;34m\u001b[0m\u001b[0m\n",
            "\u001b[0;32m/usr/local/lib/python3.7/dist-packages/joblib/_parallel_backends.py\u001b[0m in \u001b[0;36mapply_async\u001b[0;34m(self, func, callback)\u001b[0m\n\u001b[1;32m    206\u001b[0m     \u001b[0;32mdef\u001b[0m \u001b[0mapply_async\u001b[0m\u001b[0;34m(\u001b[0m\u001b[0mself\u001b[0m\u001b[0;34m,\u001b[0m \u001b[0mfunc\u001b[0m\u001b[0;34m,\u001b[0m \u001b[0mcallback\u001b[0m\u001b[0;34m=\u001b[0m\u001b[0;32mNone\u001b[0m\u001b[0;34m)\u001b[0m\u001b[0;34m:\u001b[0m\u001b[0;34m\u001b[0m\u001b[0;34m\u001b[0m\u001b[0m\n\u001b[1;32m    207\u001b[0m         \u001b[0;34m\"\"\"Schedule a func to be run\"\"\"\u001b[0m\u001b[0;34m\u001b[0m\u001b[0;34m\u001b[0m\u001b[0m\n\u001b[0;32m--> 208\u001b[0;31m         \u001b[0mresult\u001b[0m \u001b[0;34m=\u001b[0m \u001b[0mImmediateResult\u001b[0m\u001b[0;34m(\u001b[0m\u001b[0mfunc\u001b[0m\u001b[0;34m)\u001b[0m\u001b[0;34m\u001b[0m\u001b[0;34m\u001b[0m\u001b[0m\n\u001b[0m\u001b[1;32m    209\u001b[0m         \u001b[0;32mif\u001b[0m \u001b[0mcallback\u001b[0m\u001b[0;34m:\u001b[0m\u001b[0;34m\u001b[0m\u001b[0;34m\u001b[0m\u001b[0m\n\u001b[1;32m    210\u001b[0m             \u001b[0mcallback\u001b[0m\u001b[0;34m(\u001b[0m\u001b[0mresult\u001b[0m\u001b[0;34m)\u001b[0m\u001b[0;34m\u001b[0m\u001b[0;34m\u001b[0m\u001b[0m\n",
            "\u001b[0;32m/usr/local/lib/python3.7/dist-packages/joblib/_parallel_backends.py\u001b[0m in \u001b[0;36m__init__\u001b[0;34m(self, batch)\u001b[0m\n\u001b[1;32m    595\u001b[0m         \u001b[0;31m# Don't delay the application, to avoid keeping the input\u001b[0m\u001b[0;34m\u001b[0m\u001b[0;34m\u001b[0m\u001b[0;34m\u001b[0m\u001b[0m\n\u001b[1;32m    596\u001b[0m         \u001b[0;31m# arguments in memory\u001b[0m\u001b[0;34m\u001b[0m\u001b[0;34m\u001b[0m\u001b[0;34m\u001b[0m\u001b[0m\n\u001b[0;32m--> 597\u001b[0;31m         \u001b[0mself\u001b[0m\u001b[0;34m.\u001b[0m\u001b[0mresults\u001b[0m \u001b[0;34m=\u001b[0m \u001b[0mbatch\u001b[0m\u001b[0;34m(\u001b[0m\u001b[0;34m)\u001b[0m\u001b[0;34m\u001b[0m\u001b[0;34m\u001b[0m\u001b[0m\n\u001b[0m\u001b[1;32m    598\u001b[0m \u001b[0;34m\u001b[0m\u001b[0m\n\u001b[1;32m    599\u001b[0m     \u001b[0;32mdef\u001b[0m \u001b[0mget\u001b[0m\u001b[0;34m(\u001b[0m\u001b[0mself\u001b[0m\u001b[0;34m)\u001b[0m\u001b[0;34m:\u001b[0m\u001b[0;34m\u001b[0m\u001b[0;34m\u001b[0m\u001b[0m\n",
            "\u001b[0;32m/usr/local/lib/python3.7/dist-packages/joblib/parallel.py\u001b[0m in \u001b[0;36m__call__\u001b[0;34m(self)\u001b[0m\n\u001b[1;32m    287\u001b[0m         \u001b[0;32mwith\u001b[0m \u001b[0mparallel_backend\u001b[0m\u001b[0;34m(\u001b[0m\u001b[0mself\u001b[0m\u001b[0;34m.\u001b[0m\u001b[0m_backend\u001b[0m\u001b[0;34m,\u001b[0m \u001b[0mn_jobs\u001b[0m\u001b[0;34m=\u001b[0m\u001b[0mself\u001b[0m\u001b[0;34m.\u001b[0m\u001b[0m_n_jobs\u001b[0m\u001b[0;34m)\u001b[0m\u001b[0;34m:\u001b[0m\u001b[0;34m\u001b[0m\u001b[0;34m\u001b[0m\u001b[0m\n\u001b[1;32m    288\u001b[0m             return [func(*args, **kwargs)\n\u001b[0;32m--> 289\u001b[0;31m                     for func, args, kwargs in self.items]\n\u001b[0m\u001b[1;32m    290\u001b[0m \u001b[0;34m\u001b[0m\u001b[0m\n\u001b[1;32m    291\u001b[0m     \u001b[0;32mdef\u001b[0m \u001b[0m__reduce__\u001b[0m\u001b[0;34m(\u001b[0m\u001b[0mself\u001b[0m\u001b[0;34m)\u001b[0m\u001b[0;34m:\u001b[0m\u001b[0;34m\u001b[0m\u001b[0;34m\u001b[0m\u001b[0m\n",
            "\u001b[0;32m/usr/local/lib/python3.7/dist-packages/joblib/parallel.py\u001b[0m in \u001b[0;36m<listcomp>\u001b[0;34m(.0)\u001b[0m\n\u001b[1;32m    287\u001b[0m         \u001b[0;32mwith\u001b[0m \u001b[0mparallel_backend\u001b[0m\u001b[0;34m(\u001b[0m\u001b[0mself\u001b[0m\u001b[0;34m.\u001b[0m\u001b[0m_backend\u001b[0m\u001b[0;34m,\u001b[0m \u001b[0mn_jobs\u001b[0m\u001b[0;34m=\u001b[0m\u001b[0mself\u001b[0m\u001b[0;34m.\u001b[0m\u001b[0m_n_jobs\u001b[0m\u001b[0;34m)\u001b[0m\u001b[0;34m:\u001b[0m\u001b[0;34m\u001b[0m\u001b[0;34m\u001b[0m\u001b[0m\n\u001b[1;32m    288\u001b[0m             return [func(*args, **kwargs)\n\u001b[0;32m--> 289\u001b[0;31m                     for func, args, kwargs in self.items]\n\u001b[0m\u001b[1;32m    290\u001b[0m \u001b[0;34m\u001b[0m\u001b[0m\n\u001b[1;32m    291\u001b[0m     \u001b[0;32mdef\u001b[0m \u001b[0m__reduce__\u001b[0m\u001b[0;34m(\u001b[0m\u001b[0mself\u001b[0m\u001b[0;34m)\u001b[0m\u001b[0;34m:\u001b[0m\u001b[0;34m\u001b[0m\u001b[0;34m\u001b[0m\u001b[0m\n",
            "\u001b[0;32m/usr/local/lib/python3.7/dist-packages/sklearn/utils/fixes.py\u001b[0m in \u001b[0;36m__call__\u001b[0;34m(self, *args, **kwargs)\u001b[0m\n\u001b[1;32m    214\u001b[0m     \u001b[0;32mdef\u001b[0m \u001b[0m__call__\u001b[0m\u001b[0;34m(\u001b[0m\u001b[0mself\u001b[0m\u001b[0;34m,\u001b[0m \u001b[0;34m*\u001b[0m\u001b[0margs\u001b[0m\u001b[0;34m,\u001b[0m \u001b[0;34m**\u001b[0m\u001b[0mkwargs\u001b[0m\u001b[0;34m)\u001b[0m\u001b[0;34m:\u001b[0m\u001b[0;34m\u001b[0m\u001b[0;34m\u001b[0m\u001b[0m\n\u001b[1;32m    215\u001b[0m         \u001b[0;32mwith\u001b[0m \u001b[0mconfig_context\u001b[0m\u001b[0;34m(\u001b[0m\u001b[0;34m**\u001b[0m\u001b[0mself\u001b[0m\u001b[0;34m.\u001b[0m\u001b[0mconfig\u001b[0m\u001b[0;34m)\u001b[0m\u001b[0;34m:\u001b[0m\u001b[0;34m\u001b[0m\u001b[0;34m\u001b[0m\u001b[0m\n\u001b[0;32m--> 216\u001b[0;31m             \u001b[0;32mreturn\u001b[0m \u001b[0mself\u001b[0m\u001b[0;34m.\u001b[0m\u001b[0mfunction\u001b[0m\u001b[0;34m(\u001b[0m\u001b[0;34m*\u001b[0m\u001b[0margs\u001b[0m\u001b[0;34m,\u001b[0m \u001b[0;34m**\u001b[0m\u001b[0mkwargs\u001b[0m\u001b[0;34m)\u001b[0m\u001b[0;34m\u001b[0m\u001b[0;34m\u001b[0m\u001b[0m\n\u001b[0m\u001b[1;32m    217\u001b[0m \u001b[0;34m\u001b[0m\u001b[0m\n\u001b[1;32m    218\u001b[0m \u001b[0;34m\u001b[0m\u001b[0m\n",
            "\u001b[0;32m/usr/local/lib/python3.7/dist-packages/sklearn/model_selection/_validation.py\u001b[0m in \u001b[0;36m_fit_and_score\u001b[0;34m(estimator, X, y, scorer, train, test, verbose, parameters, fit_params, return_train_score, return_parameters, return_n_test_samples, return_times, return_estimator, split_progress, candidate_progress, error_score)\u001b[0m\n\u001b[1;32m    678\u001b[0m             \u001b[0mestimator\u001b[0m\u001b[0;34m.\u001b[0m\u001b[0mfit\u001b[0m\u001b[0;34m(\u001b[0m\u001b[0mX_train\u001b[0m\u001b[0;34m,\u001b[0m \u001b[0;34m**\u001b[0m\u001b[0mfit_params\u001b[0m\u001b[0;34m)\u001b[0m\u001b[0;34m\u001b[0m\u001b[0;34m\u001b[0m\u001b[0m\n\u001b[1;32m    679\u001b[0m         \u001b[0;32melse\u001b[0m\u001b[0;34m:\u001b[0m\u001b[0;34m\u001b[0m\u001b[0;34m\u001b[0m\u001b[0m\n\u001b[0;32m--> 680\u001b[0;31m             \u001b[0mestimator\u001b[0m\u001b[0;34m.\u001b[0m\u001b[0mfit\u001b[0m\u001b[0;34m(\u001b[0m\u001b[0mX_train\u001b[0m\u001b[0;34m,\u001b[0m \u001b[0my_train\u001b[0m\u001b[0;34m,\u001b[0m \u001b[0;34m**\u001b[0m\u001b[0mfit_params\u001b[0m\u001b[0;34m)\u001b[0m\u001b[0;34m\u001b[0m\u001b[0;34m\u001b[0m\u001b[0m\n\u001b[0m\u001b[1;32m    681\u001b[0m \u001b[0;34m\u001b[0m\u001b[0m\n\u001b[1;32m    682\u001b[0m     \u001b[0;32mexcept\u001b[0m \u001b[0mException\u001b[0m\u001b[0;34m:\u001b[0m\u001b[0;34m\u001b[0m\u001b[0;34m\u001b[0m\u001b[0m\n",
            "\u001b[0;32m/usr/local/lib/python3.7/dist-packages/sklearn/ensemble/_gb.py\u001b[0m in \u001b[0;36mfit\u001b[0;34m(self, X, y, sample_weight, monitor)\u001b[0m\n\u001b[1;32m    594\u001b[0m             \u001b[0msample_weight_val\u001b[0m\u001b[0;34m,\u001b[0m\u001b[0;34m\u001b[0m\u001b[0;34m\u001b[0m\u001b[0m\n\u001b[1;32m    595\u001b[0m             \u001b[0mbegin_at_stage\u001b[0m\u001b[0;34m,\u001b[0m\u001b[0;34m\u001b[0m\u001b[0;34m\u001b[0m\u001b[0m\n\u001b[0;32m--> 596\u001b[0;31m             \u001b[0mmonitor\u001b[0m\u001b[0;34m,\u001b[0m\u001b[0;34m\u001b[0m\u001b[0;34m\u001b[0m\u001b[0m\n\u001b[0m\u001b[1;32m    597\u001b[0m         )\n\u001b[1;32m    598\u001b[0m \u001b[0;34m\u001b[0m\u001b[0m\n",
            "\u001b[0;32m/usr/local/lib/python3.7/dist-packages/sklearn/ensemble/_gb.py\u001b[0m in \u001b[0;36m_fit_stages\u001b[0;34m(self, X, y, raw_predictions, sample_weight, random_state, X_val, y_val, sample_weight_val, begin_at_stage, monitor)\u001b[0m\n\u001b[1;32m    670\u001b[0m                 \u001b[0mrandom_state\u001b[0m\u001b[0;34m,\u001b[0m\u001b[0;34m\u001b[0m\u001b[0;34m\u001b[0m\u001b[0m\n\u001b[1;32m    671\u001b[0m                 \u001b[0mX_csc\u001b[0m\u001b[0;34m,\u001b[0m\u001b[0;34m\u001b[0m\u001b[0;34m\u001b[0m\u001b[0m\n\u001b[0;32m--> 672\u001b[0;31m                 \u001b[0mX_csr\u001b[0m\u001b[0;34m,\u001b[0m\u001b[0;34m\u001b[0m\u001b[0;34m\u001b[0m\u001b[0m\n\u001b[0m\u001b[1;32m    673\u001b[0m             )\n\u001b[1;32m    674\u001b[0m \u001b[0;34m\u001b[0m\u001b[0m\n",
            "\u001b[0;32m/usr/local/lib/python3.7/dist-packages/sklearn/ensemble/_gb.py\u001b[0m in \u001b[0;36m_fit_stage\u001b[0;34m(self, i, X, y, raw_predictions, sample_weight, sample_mask, random_state, X_csc, X_csr)\u001b[0m\n\u001b[1;32m    244\u001b[0m \u001b[0;34m\u001b[0m\u001b[0m\n\u001b[1;32m    245\u001b[0m             \u001b[0mX\u001b[0m \u001b[0;34m=\u001b[0m \u001b[0mX_csr\u001b[0m \u001b[0;32mif\u001b[0m \u001b[0mX_csr\u001b[0m \u001b[0;32mis\u001b[0m \u001b[0;32mnot\u001b[0m \u001b[0;32mNone\u001b[0m \u001b[0;32melse\u001b[0m \u001b[0mX\u001b[0m\u001b[0;34m\u001b[0m\u001b[0;34m\u001b[0m\u001b[0m\n\u001b[0;32m--> 246\u001b[0;31m             \u001b[0mtree\u001b[0m\u001b[0;34m.\u001b[0m\u001b[0mfit\u001b[0m\u001b[0;34m(\u001b[0m\u001b[0mX\u001b[0m\u001b[0;34m,\u001b[0m \u001b[0mresidual\u001b[0m\u001b[0;34m,\u001b[0m \u001b[0msample_weight\u001b[0m\u001b[0;34m=\u001b[0m\u001b[0msample_weight\u001b[0m\u001b[0;34m,\u001b[0m \u001b[0mcheck_input\u001b[0m\u001b[0;34m=\u001b[0m\u001b[0;32mFalse\u001b[0m\u001b[0;34m)\u001b[0m\u001b[0;34m\u001b[0m\u001b[0;34m\u001b[0m\u001b[0m\n\u001b[0m\u001b[1;32m    247\u001b[0m \u001b[0;34m\u001b[0m\u001b[0m\n\u001b[1;32m    248\u001b[0m             \u001b[0;31m# update tree leaves\u001b[0m\u001b[0;34m\u001b[0m\u001b[0;34m\u001b[0m\u001b[0;34m\u001b[0m\u001b[0m\n",
            "\u001b[0;32m/usr/local/lib/python3.7/dist-packages/sklearn/tree/_classes.py\u001b[0m in \u001b[0;36mfit\u001b[0;34m(self, X, y, sample_weight, check_input, X_idx_sorted)\u001b[0m\n\u001b[1;32m   1318\u001b[0m             \u001b[0msample_weight\u001b[0m\u001b[0;34m=\u001b[0m\u001b[0msample_weight\u001b[0m\u001b[0;34m,\u001b[0m\u001b[0;34m\u001b[0m\u001b[0;34m\u001b[0m\u001b[0m\n\u001b[1;32m   1319\u001b[0m             \u001b[0mcheck_input\u001b[0m\u001b[0;34m=\u001b[0m\u001b[0mcheck_input\u001b[0m\u001b[0;34m,\u001b[0m\u001b[0;34m\u001b[0m\u001b[0;34m\u001b[0m\u001b[0m\n\u001b[0;32m-> 1320\u001b[0;31m             \u001b[0mX_idx_sorted\u001b[0m\u001b[0;34m=\u001b[0m\u001b[0mX_idx_sorted\u001b[0m\u001b[0;34m,\u001b[0m\u001b[0;34m\u001b[0m\u001b[0;34m\u001b[0m\u001b[0m\n\u001b[0m\u001b[1;32m   1321\u001b[0m         )\n\u001b[1;32m   1322\u001b[0m         \u001b[0;32mreturn\u001b[0m \u001b[0mself\u001b[0m\u001b[0;34m\u001b[0m\u001b[0;34m\u001b[0m\u001b[0m\n",
            "\u001b[0;32m/usr/local/lib/python3.7/dist-packages/sklearn/tree/_classes.py\u001b[0m in \u001b[0;36mfit\u001b[0;34m(self, X, y, sample_weight, check_input, X_idx_sorted)\u001b[0m\n\u001b[1;32m    418\u001b[0m             )\n\u001b[1;32m    419\u001b[0m \u001b[0;34m\u001b[0m\u001b[0m\n\u001b[0;32m--> 420\u001b[0;31m         \u001b[0mbuilder\u001b[0m\u001b[0;34m.\u001b[0m\u001b[0mbuild\u001b[0m\u001b[0;34m(\u001b[0m\u001b[0mself\u001b[0m\u001b[0;34m.\u001b[0m\u001b[0mtree_\u001b[0m\u001b[0;34m,\u001b[0m \u001b[0mX\u001b[0m\u001b[0;34m,\u001b[0m \u001b[0my\u001b[0m\u001b[0;34m,\u001b[0m \u001b[0msample_weight\u001b[0m\u001b[0;34m)\u001b[0m\u001b[0;34m\u001b[0m\u001b[0;34m\u001b[0m\u001b[0m\n\u001b[0m\u001b[1;32m    421\u001b[0m \u001b[0;34m\u001b[0m\u001b[0m\n\u001b[1;32m    422\u001b[0m         \u001b[0;32mif\u001b[0m \u001b[0mself\u001b[0m\u001b[0;34m.\u001b[0m\u001b[0mn_outputs_\u001b[0m \u001b[0;34m==\u001b[0m \u001b[0;36m1\u001b[0m \u001b[0;32mand\u001b[0m \u001b[0mis_classifier\u001b[0m\u001b[0;34m(\u001b[0m\u001b[0mself\u001b[0m\u001b[0;34m)\u001b[0m\u001b[0;34m:\u001b[0m\u001b[0;34m\u001b[0m\u001b[0;34m\u001b[0m\u001b[0m\n",
            "\u001b[0;31mKeyboardInterrupt\u001b[0m: "
          ]
        }
      ],
      "source": [
        "st = time.time()\n",
        "\n",
        "GB=GradientBoostingClassifier(random_state=0)\n",
        "GB_grid = GridSearchCV(GB, param_grid=[{'learning_rate':learn_rate, 'max_depth': max_depths, 'n_estimators': n_estimators}], cv=5, return_train_score=True)\n",
        "GB_grid.fit(df_X_dev, df_y_dev)\n",
        "\n",
        "et = time.time()"
      ]
    },
    {
      "cell_type": "code",
      "execution_count": 77,
      "metadata": {
        "colab": {
          "base_uri": "https://localhost:8080/",
          "height": 0
        },
        "id": "Sj-xqrDcQJVS",
        "outputId": "d9abac2f-c27a-43eb-f402-1ee605bf1b53"
      },
      "outputs": [
        {
          "name": "stdout",
          "output_type": "stream",
          "text": [
            "time to tune GradientBoostingClassifier: 566.3709967136383 seconds\n",
            "GradientBoostingClassifier best hyperparameters: {'learning_rate': 0.05, 'max_depth': 3, 'n_estimators': 200}\n"
          ]
        }
      ],
      "source": [
        "print('time to tune GradientBoostingClassifier:', et-st, 'seconds')\n",
        "print('GradientBoostingClassifier best hyperparameters:', GB_grid.best_params_)"
      ]
    },
    {
      "cell_type": "code",
      "execution_count": 78,
      "metadata": {
        "colab": {
          "base_uri": "https://localhost:8080/",
          "height": 0
        },
        "id": "xl_cXP_lQJVS",
        "outputId": "7892e85d-ff37-4619-842c-455b8d5a0820",
        "scrolled": true
      },
      "outputs": [
        {
          "name": "stdout",
          "output_type": "stream",
          "text": [
            "performance of tuned GradientBoostingClassifier on the test set:\n",
            "              precision    recall  f1-score   support\n",
            "\n",
            "           0       0.87      0.97      0.91      1593\n",
            "           1       0.76      0.42      0.54       407\n",
            "\n",
            "    accuracy                           0.85      2000\n",
            "   macro avg       0.81      0.69      0.73      2000\n",
            "weighted avg       0.84      0.85      0.84      2000\n",
            "\n"
          ]
        },
        {
          "data": {
            "text/plain": [
              "0.854"
            ]
          },
          "execution_count": 78,
          "metadata": {},
          "output_type": "execute_result"
        }
      ],
      "source": [
        "GB_tuned=GradientBoostingClassifier(learning_rate=0.05, max_depth=3, n_estimators=200, random_state=0)\n",
        "GB_tuned.fit(df_X_dev, df_y_dev)\n",
        "GB_tuned_y_test_pred = GB_tuned.predict(df_X_test)\n",
        "print('performance of tuned GradientBoostingClassifier on the test set:')\n",
        "print(classification_report(df_y_test, GB_tuned_y_test_pred))\n",
        "GB_tuned.score(df_X_test,df_y_test)"
      ]
    },
    {
      "cell_type": "code",
      "execution_count": 79,
      "metadata": {
        "id": "OGD93NQtQJVS"
      },
      "outputs": [],
      "source": [
        "st = time.time()\n",
        "\n",
        "HGB=HistGradientBoostingClassifier(random_state=0)\n",
        "HGB_grid = GridSearchCV(HGB, param_grid=[{'learning_rate':learn_rate, 'max_depth': max_depths, 'max_iter': n_estimators}], cv=5, return_train_score=True)\n",
        "HGB_grid.fit(df_X_dev, df_y_dev)\n",
        "\n",
        "et = time.time()"
      ]
    },
    {
      "cell_type": "code",
      "execution_count": 80,
      "metadata": {
        "colab": {
          "base_uri": "https://localhost:8080/",
          "height": 0
        },
        "id": "_SmIxnz7QJVS",
        "outputId": "1b222a54-11f0-4934-8a3a-61d1b0ade487"
      },
      "outputs": [
        {
          "name": "stdout",
          "output_type": "stream",
          "text": [
            "time to tune HistGradientBoostingClassifier: 208.9365336894989 seconds\n",
            "HistGradientBoostingClassifier best hyperparameters: {'learning_rate': 0.05, 'max_depth': 4, 'max_iter': 200}\n"
          ]
        }
      ],
      "source": [
        "print('time to tune HistGradientBoostingClassifier:', et-st, 'seconds')\n",
        "print('HistGradientBoostingClassifier best hyperparameters:', HGB_grid.best_params_)"
      ]
    },
    {
      "cell_type": "code",
      "execution_count": 81,
      "metadata": {
        "colab": {
          "base_uri": "https://localhost:8080/",
          "height": 0
        },
        "id": "FQc6CpLhQJVT",
        "outputId": "24fb15b9-ca0e-4e90-fe05-460db47d80b0",
        "scrolled": true
      },
      "outputs": [
        {
          "name": "stdout",
          "output_type": "stream",
          "text": [
            "performance of tuned HistGradientBoostingClassifier on the test set:\n",
            "              precision    recall  f1-score   support\n",
            "\n",
            "           0       0.87      0.96      0.91      1593\n",
            "           1       0.74      0.42      0.54       407\n",
            "\n",
            "    accuracy                           0.85      2000\n",
            "   macro avg       0.81      0.69      0.72      2000\n",
            "weighted avg       0.84      0.85      0.84      2000\n",
            "\n"
          ]
        },
        {
          "data": {
            "text/plain": [
              "0.8525"
            ]
          },
          "execution_count": 81,
          "metadata": {},
          "output_type": "execute_result"
        }
      ],
      "source": [
        "HGB_tuned=HistGradientBoostingClassifier(learning_rate=0.05, max_depth=4, max_iter=200, random_state=0)\n",
        "HGB_tuned.fit(df_X_dev, df_y_dev)\n",
        "HGB_tuned_y_test_pred = HGB_tuned.predict(df_X_test)\n",
        "print('performance of tuned HistGradientBoostingClassifier on the test set:')\n",
        "print(classification_report(df_y_test, HGB_tuned_y_test_pred))\n",
        "HGB_tuned.score(df_X_test,df_y_test)"
      ]
    },
    {
      "cell_type": "markdown",
      "metadata": {
        "id": "SnFKfVOWOUIC"
      },
      "source": [
        "**3.2: Train an XGBoost model by tuning 3 hyperparameters using 10 fold cross-validation. Compare the performance of the trained XGBoost model on the test dataset against the performances obtained from 3.1**"
      ]
    },
    {
      "cell_type": "code",
      "execution_count": 39,
      "metadata": {
        "colab": {
          "base_uri": "https://localhost:8080/",
          "height": 0
        },
        "collapsed": true,
        "id": "9-w1UDwOtjL8",
        "outputId": "9938bc25-7c17-41c1-bb8b-11509ebd22d5"
      },
      "outputs": [
        {
          "name": "stdout",
          "output_type": "stream",
          "text": [
            "Looking in indexes: https://pypi.org/simple, https://us-python.pkg.dev/colab-wheels/public/simple/\n",
            "Collecting xgboost\n",
            "  Downloading xgboost-1.6.2-py3-none-manylinux2014_x86_64.whl (255.9 MB)\n",
            "\u001b[K     |████████████████████████████████| 255.9 MB 50 kB/s \n",
            "\u001b[?25hRequirement already satisfied: numpy in /usr/local/lib/python3.7/dist-packages (from xgboost) (1.21.6)\n",
            "Requirement already satisfied: scipy in /usr/local/lib/python3.7/dist-packages (from xgboost) (1.7.3)\n",
            "Installing collected packages: xgboost\n",
            "Successfully installed xgboost-1.6.2\n"
          ]
        }
      ],
      "source": [
        "# pip install xgboost"
      ]
    },
    {
      "cell_type": "code",
      "execution_count": 40,
      "metadata": {
        "id": "UFi4OCJYQJVT"
      },
      "outputs": [],
      "source": [
        "from xgboost import XGBClassifier"
      ]
    },
    {
      "cell_type": "code",
      "execution_count": 41,
      "metadata": {
        "colab": {
          "base_uri": "https://localhost:8080/",
          "height": 1393
        },
        "collapsed": true,
        "id": "Y5UrNbbxtjL9",
        "outputId": "4a2dbddd-ee3a-4206-b95e-7b2e43745796"
      },
      "outputs": [
        {
          "name": "stdout",
          "output_type": "stream",
          "text": [
            "Fitting 10 folds for each of 64 candidates, totalling 640 fits\n",
            "[CV 1/10] END learning_rate=0.05, max_depth=3, n_estimators=100;, score=0.861 total time=   4.0s\n",
            "[CV 2/10] END learning_rate=0.05, max_depth=3, n_estimators=100;, score=0.863 total time=   1.1s\n",
            "[CV 3/10] END learning_rate=0.05, max_depth=3, n_estimators=100;, score=0.866 total time=   2.2s\n",
            "[CV 4/10] END learning_rate=0.05, max_depth=3, n_estimators=100;, score=0.864 total time=   0.6s\n",
            "[CV 5/10] END learning_rate=0.05, max_depth=3, n_estimators=100;, score=0.861 total time=   1.8s\n",
            "[CV 6/10] END learning_rate=0.05, max_depth=3, n_estimators=100;, score=0.866 total time=   0.9s\n",
            "[CV 7/10] END learning_rate=0.05, max_depth=3, n_estimators=100;, score=0.855 total time=   0.2s\n",
            "[CV 8/10] END learning_rate=0.05, max_depth=3, n_estimators=100;, score=0.861 total time=   0.2s\n",
            "[CV 9/10] END learning_rate=0.05, max_depth=3, n_estimators=100;, score=0.844 total time=   1.3s\n",
            "[CV 10/10] END learning_rate=0.05, max_depth=3, n_estimators=100;, score=0.861 total time=   0.9s\n",
            "[CV 1/10] END learning_rate=0.05, max_depth=3, n_estimators=200;, score=0.868 total time=   0.4s\n",
            "[CV 2/10] END learning_rate=0.05, max_depth=3, n_estimators=200;, score=0.864 total time=   0.4s\n",
            "[CV 3/10] END learning_rate=0.05, max_depth=3, n_estimators=200;, score=0.871 total time=   0.4s\n",
            "[CV 4/10] END learning_rate=0.05, max_depth=3, n_estimators=200;, score=0.866 total time=   0.4s\n",
            "[CV 5/10] END learning_rate=0.05, max_depth=3, n_estimators=200;, score=0.863 total time=   0.4s\n",
            "[CV 6/10] END learning_rate=0.05, max_depth=3, n_estimators=200;, score=0.863 total time=   0.4s\n",
            "[CV 7/10] END learning_rate=0.05, max_depth=3, n_estimators=200;, score=0.856 total time=   0.4s\n",
            "[CV 8/10] END learning_rate=0.05, max_depth=3, n_estimators=200;, score=0.864 total time=   0.4s\n",
            "[CV 9/10] END learning_rate=0.05, max_depth=3, n_estimators=200;, score=0.850 total time=   0.4s\n",
            "[CV 10/10] END learning_rate=0.05, max_depth=3, n_estimators=200;, score=0.865 total time=   0.4s\n",
            "[CV 1/10] END learning_rate=0.05, max_depth=3, n_estimators=300;, score=0.869 total time=   0.6s\n",
            "[CV 2/10] END learning_rate=0.05, max_depth=3, n_estimators=300;, score=0.866 total time=   0.6s\n",
            "[CV 3/10] END learning_rate=0.05, max_depth=3, n_estimators=300;, score=0.871 total time=   0.5s\n",
            "[CV 4/10] END learning_rate=0.05, max_depth=3, n_estimators=300;, score=0.859 total time=   0.6s\n",
            "[CV 5/10] END learning_rate=0.05, max_depth=3, n_estimators=300;, score=0.860 total time=   1.8s\n",
            "[CV 6/10] END learning_rate=0.05, max_depth=3, n_estimators=300;, score=0.859 total time=   0.6s\n",
            "[CV 7/10] END learning_rate=0.05, max_depth=3, n_estimators=300;, score=0.856 total time=   0.6s\n",
            "[CV 8/10] END learning_rate=0.05, max_depth=3, n_estimators=300;, score=0.865 total time=   0.6s\n",
            "[CV 9/10] END learning_rate=0.05, max_depth=3, n_estimators=300;, score=0.850 total time=   0.5s\n",
            "[CV 10/10] END learning_rate=0.05, max_depth=3, n_estimators=300;, score=0.865 total time=   0.5s\n",
            "[CV 1/10] END learning_rate=0.05, max_depth=3, n_estimators=400;, score=0.869 total time=   0.8s\n",
            "[CV 2/10] END learning_rate=0.05, max_depth=3, n_estimators=400;, score=0.861 total time=   0.7s\n",
            "[CV 3/10] END learning_rate=0.05, max_depth=3, n_estimators=400;, score=0.869 total time=   0.7s\n",
            "[CV 4/10] END learning_rate=0.05, max_depth=3, n_estimators=400;, score=0.856 total time=   0.7s\n",
            "[CV 5/10] END learning_rate=0.05, max_depth=3, n_estimators=400;, score=0.860 total time=   0.8s\n",
            "[CV 6/10] END learning_rate=0.05, max_depth=3, n_estimators=400;, score=0.859 total time=   2.0s\n",
            "[CV 7/10] END learning_rate=0.05, max_depth=3, n_estimators=400;, score=0.858 total time=   1.4s\n",
            "[CV 8/10] END learning_rate=0.05, max_depth=3, n_estimators=400;, score=0.868 total time=   0.7s\n",
            "[CV 9/10] END learning_rate=0.05, max_depth=3, n_estimators=400;, score=0.850 total time=   0.7s\n",
            "[CV 10/10] END learning_rate=0.05, max_depth=3, n_estimators=400;, score=0.866 total time=   0.7s\n",
            "[CV 1/10] END learning_rate=0.05, max_depth=4, n_estimators=100;, score=0.864 total time=   0.3s\n",
            "[CV 2/10] END learning_rate=0.05, max_depth=4, n_estimators=100;, score=0.861 total time=   0.3s\n",
            "[CV 3/10] END learning_rate=0.05, max_depth=4, n_estimators=100;, score=0.870 total time=   0.3s\n",
            "[CV 4/10] END learning_rate=0.05, max_depth=4, n_estimators=100;, score=0.865 total time=   0.3s\n",
            "[CV 5/10] END learning_rate=0.05, max_depth=4, n_estimators=100;, score=0.860 total time=   0.3s\n",
            "[CV 6/10] END learning_rate=0.05, max_depth=4, n_estimators=100;, score=0.868 total time=   0.3s\n",
            "[CV 7/10] END learning_rate=0.05, max_depth=4, n_estimators=100;, score=0.860 total time=   0.3s\n",
            "[CV 8/10] END learning_rate=0.05, max_depth=4, n_estimators=100;, score=0.864 total time=   0.3s\n",
            "[CV 9/10] END learning_rate=0.05, max_depth=4, n_estimators=100;, score=0.849 total time=   0.3s\n",
            "[CV 10/10] END learning_rate=0.05, max_depth=4, n_estimators=100;, score=0.863 total time=   0.3s\n",
            "[CV 1/10] END learning_rate=0.05, max_depth=4, n_estimators=200;, score=0.866 total time=   0.5s\n",
            "[CV 2/10] END learning_rate=0.05, max_depth=4, n_estimators=200;, score=0.861 total time=   0.5s\n",
            "[CV 3/10] END learning_rate=0.05, max_depth=4, n_estimators=200;, score=0.873 total time=   0.5s\n",
            "[CV 4/10] END learning_rate=0.05, max_depth=4, n_estimators=200;, score=0.860 total time=   0.5s\n",
            "[CV 5/10] END learning_rate=0.05, max_depth=4, n_estimators=200;, score=0.866 total time=   0.5s\n",
            "[CV 6/10] END learning_rate=0.05, max_depth=4, n_estimators=200;, score=0.859 total time=   0.5s\n"
          ]
        },
        {
          "ename": "KeyboardInterrupt",
          "evalue": "ignored",
          "output_type": "error",
          "traceback": [
            "\u001b[0;31m---------------------------------------------------------------------------\u001b[0m",
            "\u001b[0;31mKeyboardInterrupt\u001b[0m                         Traceback (most recent call last)",
            "\u001b[0;32m<ipython-input-41-420ff21684d6>\u001b[0m in \u001b[0;36m<module>\u001b[0;34m\u001b[0m\n\u001b[1;32m      1\u001b[0m \u001b[0mXGBC\u001b[0m\u001b[0;34m=\u001b[0m\u001b[0mXGBClassifier\u001b[0m\u001b[0;34m(\u001b[0m\u001b[0mrandom_state\u001b[0m\u001b[0;34m=\u001b[0m\u001b[0;36m0\u001b[0m\u001b[0;34m)\u001b[0m\u001b[0;34m\u001b[0m\u001b[0;34m\u001b[0m\u001b[0m\n\u001b[1;32m      2\u001b[0m \u001b[0mXGBC_grid\u001b[0m \u001b[0;34m=\u001b[0m \u001b[0mGridSearchCV\u001b[0m\u001b[0;34m(\u001b[0m\u001b[0mXGBC\u001b[0m\u001b[0;34m,\u001b[0m \u001b[0mparam_grid\u001b[0m\u001b[0;34m=\u001b[0m\u001b[0;34m[\u001b[0m\u001b[0;34m{\u001b[0m\u001b[0;34m'learning_rate'\u001b[0m\u001b[0;34m:\u001b[0m\u001b[0mlearn_rate\u001b[0m\u001b[0;34m,\u001b[0m \u001b[0;34m'max_depth'\u001b[0m\u001b[0;34m:\u001b[0m \u001b[0mmax_depths\u001b[0m\u001b[0;34m,\u001b[0m \u001b[0;34m'n_estimators'\u001b[0m\u001b[0;34m:\u001b[0m \u001b[0mn_estimators\u001b[0m\u001b[0;34m}\u001b[0m\u001b[0;34m]\u001b[0m\u001b[0;34m,\u001b[0m \u001b[0mcv\u001b[0m\u001b[0;34m=\u001b[0m\u001b[0;36m10\u001b[0m\u001b[0;34m,\u001b[0m \u001b[0mverbose\u001b[0m\u001b[0;34m=\u001b[0m\u001b[0;36m5\u001b[0m\u001b[0;34m,\u001b[0m \u001b[0mscoring\u001b[0m\u001b[0;34m=\u001b[0m\u001b[0;34m'accuracy'\u001b[0m\u001b[0;34m)\u001b[0m\u001b[0;34m\u001b[0m\u001b[0;34m\u001b[0m\u001b[0m\n\u001b[0;32m----> 3\u001b[0;31m \u001b[0mXGBC_grid\u001b[0m\u001b[0;34m.\u001b[0m\u001b[0mfit\u001b[0m\u001b[0;34m(\u001b[0m\u001b[0mdf_X_dev\u001b[0m\u001b[0;34m,\u001b[0m \u001b[0mdf_y_dev\u001b[0m\u001b[0;34m)\u001b[0m\u001b[0;34m\u001b[0m\u001b[0;34m\u001b[0m\u001b[0m\n\u001b[0m",
            "\u001b[0;32m/usr/local/lib/python3.7/dist-packages/sklearn/model_selection/_search.py\u001b[0m in \u001b[0;36mfit\u001b[0;34m(self, X, y, groups, **fit_params)\u001b[0m\n\u001b[1;32m    889\u001b[0m                 \u001b[0;32mreturn\u001b[0m \u001b[0mresults\u001b[0m\u001b[0;34m\u001b[0m\u001b[0;34m\u001b[0m\u001b[0m\n\u001b[1;32m    890\u001b[0m \u001b[0;34m\u001b[0m\u001b[0m\n\u001b[0;32m--> 891\u001b[0;31m             \u001b[0mself\u001b[0m\u001b[0;34m.\u001b[0m\u001b[0m_run_search\u001b[0m\u001b[0;34m(\u001b[0m\u001b[0mevaluate_candidates\u001b[0m\u001b[0;34m)\u001b[0m\u001b[0;34m\u001b[0m\u001b[0;34m\u001b[0m\u001b[0m\n\u001b[0m\u001b[1;32m    892\u001b[0m \u001b[0;34m\u001b[0m\u001b[0m\n\u001b[1;32m    893\u001b[0m             \u001b[0;31m# multimetric is determined here because in the case of a callable\u001b[0m\u001b[0;34m\u001b[0m\u001b[0;34m\u001b[0m\u001b[0;34m\u001b[0m\u001b[0m\n",
            "\u001b[0;32m/usr/local/lib/python3.7/dist-packages/sklearn/model_selection/_search.py\u001b[0m in \u001b[0;36m_run_search\u001b[0;34m(self, evaluate_candidates)\u001b[0m\n\u001b[1;32m   1390\u001b[0m     \u001b[0;32mdef\u001b[0m \u001b[0m_run_search\u001b[0m\u001b[0;34m(\u001b[0m\u001b[0mself\u001b[0m\u001b[0;34m,\u001b[0m \u001b[0mevaluate_candidates\u001b[0m\u001b[0;34m)\u001b[0m\u001b[0;34m:\u001b[0m\u001b[0;34m\u001b[0m\u001b[0;34m\u001b[0m\u001b[0m\n\u001b[1;32m   1391\u001b[0m         \u001b[0;34m\"\"\"Search all candidates in param_grid\"\"\"\u001b[0m\u001b[0;34m\u001b[0m\u001b[0;34m\u001b[0m\u001b[0m\n\u001b[0;32m-> 1392\u001b[0;31m         \u001b[0mevaluate_candidates\u001b[0m\u001b[0;34m(\u001b[0m\u001b[0mParameterGrid\u001b[0m\u001b[0;34m(\u001b[0m\u001b[0mself\u001b[0m\u001b[0;34m.\u001b[0m\u001b[0mparam_grid\u001b[0m\u001b[0;34m)\u001b[0m\u001b[0;34m)\u001b[0m\u001b[0;34m\u001b[0m\u001b[0;34m\u001b[0m\u001b[0m\n\u001b[0m\u001b[1;32m   1393\u001b[0m \u001b[0;34m\u001b[0m\u001b[0m\n\u001b[1;32m   1394\u001b[0m \u001b[0;34m\u001b[0m\u001b[0m\n",
            "\u001b[0;32m/usr/local/lib/python3.7/dist-packages/sklearn/model_selection/_search.py\u001b[0m in \u001b[0;36mevaluate_candidates\u001b[0;34m(candidate_params, cv, more_results)\u001b[0m\n\u001b[1;32m    849\u001b[0m                     )\n\u001b[1;32m    850\u001b[0m                     for (cand_idx, parameters), (split_idx, (train, test)) in product(\n\u001b[0;32m--> 851\u001b[0;31m                         \u001b[0menumerate\u001b[0m\u001b[0;34m(\u001b[0m\u001b[0mcandidate_params\u001b[0m\u001b[0;34m)\u001b[0m\u001b[0;34m,\u001b[0m \u001b[0menumerate\u001b[0m\u001b[0;34m(\u001b[0m\u001b[0mcv\u001b[0m\u001b[0;34m.\u001b[0m\u001b[0msplit\u001b[0m\u001b[0;34m(\u001b[0m\u001b[0mX\u001b[0m\u001b[0;34m,\u001b[0m \u001b[0my\u001b[0m\u001b[0;34m,\u001b[0m \u001b[0mgroups\u001b[0m\u001b[0;34m)\u001b[0m\u001b[0;34m)\u001b[0m\u001b[0;34m\u001b[0m\u001b[0;34m\u001b[0m\u001b[0m\n\u001b[0m\u001b[1;32m    852\u001b[0m                     )\n\u001b[1;32m    853\u001b[0m                 )\n",
            "\u001b[0;32m/usr/local/lib/python3.7/dist-packages/joblib/parallel.py\u001b[0m in \u001b[0;36m__call__\u001b[0;34m(self, iterable)\u001b[0m\n\u001b[1;32m   1086\u001b[0m                 \u001b[0mself\u001b[0m\u001b[0;34m.\u001b[0m\u001b[0m_iterating\u001b[0m \u001b[0;34m=\u001b[0m \u001b[0mself\u001b[0m\u001b[0;34m.\u001b[0m\u001b[0m_original_iterator\u001b[0m \u001b[0;32mis\u001b[0m \u001b[0;32mnot\u001b[0m \u001b[0;32mNone\u001b[0m\u001b[0;34m\u001b[0m\u001b[0;34m\u001b[0m\u001b[0m\n\u001b[1;32m   1087\u001b[0m \u001b[0;34m\u001b[0m\u001b[0m\n\u001b[0;32m-> 1088\u001b[0;31m             \u001b[0;32mwhile\u001b[0m \u001b[0mself\u001b[0m\u001b[0;34m.\u001b[0m\u001b[0mdispatch_one_batch\u001b[0m\u001b[0;34m(\u001b[0m\u001b[0miterator\u001b[0m\u001b[0;34m)\u001b[0m\u001b[0;34m:\u001b[0m\u001b[0;34m\u001b[0m\u001b[0;34m\u001b[0m\u001b[0m\n\u001b[0m\u001b[1;32m   1089\u001b[0m                 \u001b[0;32mpass\u001b[0m\u001b[0;34m\u001b[0m\u001b[0;34m\u001b[0m\u001b[0m\n\u001b[1;32m   1090\u001b[0m \u001b[0;34m\u001b[0m\u001b[0m\n",
            "\u001b[0;32m/usr/local/lib/python3.7/dist-packages/joblib/parallel.py\u001b[0m in \u001b[0;36mdispatch_one_batch\u001b[0;34m(self, iterator)\u001b[0m\n\u001b[1;32m    899\u001b[0m                 \u001b[0;32mreturn\u001b[0m \u001b[0;32mFalse\u001b[0m\u001b[0;34m\u001b[0m\u001b[0;34m\u001b[0m\u001b[0m\n\u001b[1;32m    900\u001b[0m             \u001b[0;32melse\u001b[0m\u001b[0;34m:\u001b[0m\u001b[0;34m\u001b[0m\u001b[0;34m\u001b[0m\u001b[0m\n\u001b[0;32m--> 901\u001b[0;31m                 \u001b[0mself\u001b[0m\u001b[0;34m.\u001b[0m\u001b[0m_dispatch\u001b[0m\u001b[0;34m(\u001b[0m\u001b[0mtasks\u001b[0m\u001b[0;34m)\u001b[0m\u001b[0;34m\u001b[0m\u001b[0;34m\u001b[0m\u001b[0m\n\u001b[0m\u001b[1;32m    902\u001b[0m                 \u001b[0;32mreturn\u001b[0m \u001b[0;32mTrue\u001b[0m\u001b[0;34m\u001b[0m\u001b[0;34m\u001b[0m\u001b[0m\n\u001b[1;32m    903\u001b[0m \u001b[0;34m\u001b[0m\u001b[0m\n",
            "\u001b[0;32m/usr/local/lib/python3.7/dist-packages/joblib/parallel.py\u001b[0m in \u001b[0;36m_dispatch\u001b[0;34m(self, batch)\u001b[0m\n\u001b[1;32m    817\u001b[0m         \u001b[0;32mwith\u001b[0m \u001b[0mself\u001b[0m\u001b[0;34m.\u001b[0m\u001b[0m_lock\u001b[0m\u001b[0;34m:\u001b[0m\u001b[0;34m\u001b[0m\u001b[0;34m\u001b[0m\u001b[0m\n\u001b[1;32m    818\u001b[0m             \u001b[0mjob_idx\u001b[0m \u001b[0;34m=\u001b[0m \u001b[0mlen\u001b[0m\u001b[0;34m(\u001b[0m\u001b[0mself\u001b[0m\u001b[0;34m.\u001b[0m\u001b[0m_jobs\u001b[0m\u001b[0;34m)\u001b[0m\u001b[0;34m\u001b[0m\u001b[0;34m\u001b[0m\u001b[0m\n\u001b[0;32m--> 819\u001b[0;31m             \u001b[0mjob\u001b[0m \u001b[0;34m=\u001b[0m \u001b[0mself\u001b[0m\u001b[0;34m.\u001b[0m\u001b[0m_backend\u001b[0m\u001b[0;34m.\u001b[0m\u001b[0mapply_async\u001b[0m\u001b[0;34m(\u001b[0m\u001b[0mbatch\u001b[0m\u001b[0;34m,\u001b[0m \u001b[0mcallback\u001b[0m\u001b[0;34m=\u001b[0m\u001b[0mcb\u001b[0m\u001b[0;34m)\u001b[0m\u001b[0;34m\u001b[0m\u001b[0;34m\u001b[0m\u001b[0m\n\u001b[0m\u001b[1;32m    820\u001b[0m             \u001b[0;31m# A job can complete so quickly than its callback is\u001b[0m\u001b[0;34m\u001b[0m\u001b[0;34m\u001b[0m\u001b[0;34m\u001b[0m\u001b[0m\n\u001b[1;32m    821\u001b[0m             \u001b[0;31m# called before we get here, causing self._jobs to\u001b[0m\u001b[0;34m\u001b[0m\u001b[0;34m\u001b[0m\u001b[0;34m\u001b[0m\u001b[0m\n",
            "\u001b[0;32m/usr/local/lib/python3.7/dist-packages/joblib/_parallel_backends.py\u001b[0m in \u001b[0;36mapply_async\u001b[0;34m(self, func, callback)\u001b[0m\n\u001b[1;32m    206\u001b[0m     \u001b[0;32mdef\u001b[0m \u001b[0mapply_async\u001b[0m\u001b[0;34m(\u001b[0m\u001b[0mself\u001b[0m\u001b[0;34m,\u001b[0m \u001b[0mfunc\u001b[0m\u001b[0;34m,\u001b[0m \u001b[0mcallback\u001b[0m\u001b[0;34m=\u001b[0m\u001b[0;32mNone\u001b[0m\u001b[0;34m)\u001b[0m\u001b[0;34m:\u001b[0m\u001b[0;34m\u001b[0m\u001b[0;34m\u001b[0m\u001b[0m\n\u001b[1;32m    207\u001b[0m         \u001b[0;34m\"\"\"Schedule a func to be run\"\"\"\u001b[0m\u001b[0;34m\u001b[0m\u001b[0;34m\u001b[0m\u001b[0m\n\u001b[0;32m--> 208\u001b[0;31m         \u001b[0mresult\u001b[0m \u001b[0;34m=\u001b[0m \u001b[0mImmediateResult\u001b[0m\u001b[0;34m(\u001b[0m\u001b[0mfunc\u001b[0m\u001b[0;34m)\u001b[0m\u001b[0;34m\u001b[0m\u001b[0;34m\u001b[0m\u001b[0m\n\u001b[0m\u001b[1;32m    209\u001b[0m         \u001b[0;32mif\u001b[0m \u001b[0mcallback\u001b[0m\u001b[0;34m:\u001b[0m\u001b[0;34m\u001b[0m\u001b[0;34m\u001b[0m\u001b[0m\n\u001b[1;32m    210\u001b[0m             \u001b[0mcallback\u001b[0m\u001b[0;34m(\u001b[0m\u001b[0mresult\u001b[0m\u001b[0;34m)\u001b[0m\u001b[0;34m\u001b[0m\u001b[0;34m\u001b[0m\u001b[0m\n",
            "\u001b[0;32m/usr/local/lib/python3.7/dist-packages/joblib/_parallel_backends.py\u001b[0m in \u001b[0;36m__init__\u001b[0;34m(self, batch)\u001b[0m\n\u001b[1;32m    595\u001b[0m         \u001b[0;31m# Don't delay the application, to avoid keeping the input\u001b[0m\u001b[0;34m\u001b[0m\u001b[0;34m\u001b[0m\u001b[0;34m\u001b[0m\u001b[0m\n\u001b[1;32m    596\u001b[0m         \u001b[0;31m# arguments in memory\u001b[0m\u001b[0;34m\u001b[0m\u001b[0;34m\u001b[0m\u001b[0;34m\u001b[0m\u001b[0m\n\u001b[0;32m--> 597\u001b[0;31m         \u001b[0mself\u001b[0m\u001b[0;34m.\u001b[0m\u001b[0mresults\u001b[0m \u001b[0;34m=\u001b[0m \u001b[0mbatch\u001b[0m\u001b[0;34m(\u001b[0m\u001b[0;34m)\u001b[0m\u001b[0;34m\u001b[0m\u001b[0;34m\u001b[0m\u001b[0m\n\u001b[0m\u001b[1;32m    598\u001b[0m \u001b[0;34m\u001b[0m\u001b[0m\n\u001b[1;32m    599\u001b[0m     \u001b[0;32mdef\u001b[0m \u001b[0mget\u001b[0m\u001b[0;34m(\u001b[0m\u001b[0mself\u001b[0m\u001b[0;34m)\u001b[0m\u001b[0;34m:\u001b[0m\u001b[0;34m\u001b[0m\u001b[0;34m\u001b[0m\u001b[0m\n",
            "\u001b[0;32m/usr/local/lib/python3.7/dist-packages/joblib/parallel.py\u001b[0m in \u001b[0;36m__call__\u001b[0;34m(self)\u001b[0m\n\u001b[1;32m    287\u001b[0m         \u001b[0;32mwith\u001b[0m \u001b[0mparallel_backend\u001b[0m\u001b[0;34m(\u001b[0m\u001b[0mself\u001b[0m\u001b[0;34m.\u001b[0m\u001b[0m_backend\u001b[0m\u001b[0;34m,\u001b[0m \u001b[0mn_jobs\u001b[0m\u001b[0;34m=\u001b[0m\u001b[0mself\u001b[0m\u001b[0;34m.\u001b[0m\u001b[0m_n_jobs\u001b[0m\u001b[0;34m)\u001b[0m\u001b[0;34m:\u001b[0m\u001b[0;34m\u001b[0m\u001b[0;34m\u001b[0m\u001b[0m\n\u001b[1;32m    288\u001b[0m             return [func(*args, **kwargs)\n\u001b[0;32m--> 289\u001b[0;31m                     for func, args, kwargs in self.items]\n\u001b[0m\u001b[1;32m    290\u001b[0m \u001b[0;34m\u001b[0m\u001b[0m\n\u001b[1;32m    291\u001b[0m     \u001b[0;32mdef\u001b[0m \u001b[0m__reduce__\u001b[0m\u001b[0;34m(\u001b[0m\u001b[0mself\u001b[0m\u001b[0;34m)\u001b[0m\u001b[0;34m:\u001b[0m\u001b[0;34m\u001b[0m\u001b[0;34m\u001b[0m\u001b[0m\n",
            "\u001b[0;32m/usr/local/lib/python3.7/dist-packages/joblib/parallel.py\u001b[0m in \u001b[0;36m<listcomp>\u001b[0;34m(.0)\u001b[0m\n\u001b[1;32m    287\u001b[0m         \u001b[0;32mwith\u001b[0m \u001b[0mparallel_backend\u001b[0m\u001b[0;34m(\u001b[0m\u001b[0mself\u001b[0m\u001b[0;34m.\u001b[0m\u001b[0m_backend\u001b[0m\u001b[0;34m,\u001b[0m \u001b[0mn_jobs\u001b[0m\u001b[0;34m=\u001b[0m\u001b[0mself\u001b[0m\u001b[0;34m.\u001b[0m\u001b[0m_n_jobs\u001b[0m\u001b[0;34m)\u001b[0m\u001b[0;34m:\u001b[0m\u001b[0;34m\u001b[0m\u001b[0;34m\u001b[0m\u001b[0m\n\u001b[1;32m    288\u001b[0m             return [func(*args, **kwargs)\n\u001b[0;32m--> 289\u001b[0;31m                     for func, args, kwargs in self.items]\n\u001b[0m\u001b[1;32m    290\u001b[0m \u001b[0;34m\u001b[0m\u001b[0m\n\u001b[1;32m    291\u001b[0m     \u001b[0;32mdef\u001b[0m \u001b[0m__reduce__\u001b[0m\u001b[0;34m(\u001b[0m\u001b[0mself\u001b[0m\u001b[0;34m)\u001b[0m\u001b[0;34m:\u001b[0m\u001b[0;34m\u001b[0m\u001b[0;34m\u001b[0m\u001b[0m\n",
            "\u001b[0;32m/usr/local/lib/python3.7/dist-packages/sklearn/utils/fixes.py\u001b[0m in \u001b[0;36m__call__\u001b[0;34m(self, *args, **kwargs)\u001b[0m\n\u001b[1;32m    214\u001b[0m     \u001b[0;32mdef\u001b[0m \u001b[0m__call__\u001b[0m\u001b[0;34m(\u001b[0m\u001b[0mself\u001b[0m\u001b[0;34m,\u001b[0m \u001b[0;34m*\u001b[0m\u001b[0margs\u001b[0m\u001b[0;34m,\u001b[0m \u001b[0;34m**\u001b[0m\u001b[0mkwargs\u001b[0m\u001b[0;34m)\u001b[0m\u001b[0;34m:\u001b[0m\u001b[0;34m\u001b[0m\u001b[0;34m\u001b[0m\u001b[0m\n\u001b[1;32m    215\u001b[0m         \u001b[0;32mwith\u001b[0m \u001b[0mconfig_context\u001b[0m\u001b[0;34m(\u001b[0m\u001b[0;34m**\u001b[0m\u001b[0mself\u001b[0m\u001b[0;34m.\u001b[0m\u001b[0mconfig\u001b[0m\u001b[0;34m)\u001b[0m\u001b[0;34m:\u001b[0m\u001b[0;34m\u001b[0m\u001b[0;34m\u001b[0m\u001b[0m\n\u001b[0;32m--> 216\u001b[0;31m             \u001b[0;32mreturn\u001b[0m \u001b[0mself\u001b[0m\u001b[0;34m.\u001b[0m\u001b[0mfunction\u001b[0m\u001b[0;34m(\u001b[0m\u001b[0;34m*\u001b[0m\u001b[0margs\u001b[0m\u001b[0;34m,\u001b[0m \u001b[0;34m**\u001b[0m\u001b[0mkwargs\u001b[0m\u001b[0;34m)\u001b[0m\u001b[0;34m\u001b[0m\u001b[0;34m\u001b[0m\u001b[0m\n\u001b[0m\u001b[1;32m    217\u001b[0m \u001b[0;34m\u001b[0m\u001b[0m\n\u001b[1;32m    218\u001b[0m \u001b[0;34m\u001b[0m\u001b[0m\n",
            "\u001b[0;32m/usr/local/lib/python3.7/dist-packages/sklearn/model_selection/_validation.py\u001b[0m in \u001b[0;36m_fit_and_score\u001b[0;34m(estimator, X, y, scorer, train, test, verbose, parameters, fit_params, return_train_score, return_parameters, return_n_test_samples, return_times, return_estimator, split_progress, candidate_progress, error_score)\u001b[0m\n\u001b[1;32m    678\u001b[0m             \u001b[0mestimator\u001b[0m\u001b[0;34m.\u001b[0m\u001b[0mfit\u001b[0m\u001b[0;34m(\u001b[0m\u001b[0mX_train\u001b[0m\u001b[0;34m,\u001b[0m \u001b[0;34m**\u001b[0m\u001b[0mfit_params\u001b[0m\u001b[0;34m)\u001b[0m\u001b[0;34m\u001b[0m\u001b[0;34m\u001b[0m\u001b[0m\n\u001b[1;32m    679\u001b[0m         \u001b[0;32melse\u001b[0m\u001b[0;34m:\u001b[0m\u001b[0;34m\u001b[0m\u001b[0;34m\u001b[0m\u001b[0m\n\u001b[0;32m--> 680\u001b[0;31m             \u001b[0mestimator\u001b[0m\u001b[0;34m.\u001b[0m\u001b[0mfit\u001b[0m\u001b[0;34m(\u001b[0m\u001b[0mX_train\u001b[0m\u001b[0;34m,\u001b[0m \u001b[0my_train\u001b[0m\u001b[0;34m,\u001b[0m \u001b[0;34m**\u001b[0m\u001b[0mfit_params\u001b[0m\u001b[0;34m)\u001b[0m\u001b[0;34m\u001b[0m\u001b[0;34m\u001b[0m\u001b[0m\n\u001b[0m\u001b[1;32m    681\u001b[0m \u001b[0;34m\u001b[0m\u001b[0m\n\u001b[1;32m    682\u001b[0m     \u001b[0;32mexcept\u001b[0m \u001b[0mException\u001b[0m\u001b[0;34m:\u001b[0m\u001b[0;34m\u001b[0m\u001b[0;34m\u001b[0m\u001b[0m\n",
            "\u001b[0;32m/usr/local/lib/python3.7/dist-packages/xgboost/core.py\u001b[0m in \u001b[0;36minner_f\u001b[0;34m(*args, **kwargs)\u001b[0m\n\u001b[1;32m    573\u001b[0m         \u001b[0;32mfor\u001b[0m \u001b[0mk\u001b[0m\u001b[0;34m,\u001b[0m \u001b[0marg\u001b[0m \u001b[0;32min\u001b[0m \u001b[0mzip\u001b[0m\u001b[0;34m(\u001b[0m\u001b[0msig\u001b[0m\u001b[0;34m.\u001b[0m\u001b[0mparameters\u001b[0m\u001b[0;34m,\u001b[0m \u001b[0margs\u001b[0m\u001b[0;34m)\u001b[0m\u001b[0;34m:\u001b[0m\u001b[0;34m\u001b[0m\u001b[0;34m\u001b[0m\u001b[0m\n\u001b[1;32m    574\u001b[0m             \u001b[0mkwargs\u001b[0m\u001b[0;34m[\u001b[0m\u001b[0mk\u001b[0m\u001b[0;34m]\u001b[0m \u001b[0;34m=\u001b[0m \u001b[0marg\u001b[0m\u001b[0;34m\u001b[0m\u001b[0;34m\u001b[0m\u001b[0m\n\u001b[0;32m--> 575\u001b[0;31m         \u001b[0;32mreturn\u001b[0m \u001b[0mf\u001b[0m\u001b[0;34m(\u001b[0m\u001b[0;34m**\u001b[0m\u001b[0mkwargs\u001b[0m\u001b[0;34m)\u001b[0m\u001b[0;34m\u001b[0m\u001b[0;34m\u001b[0m\u001b[0m\n\u001b[0m\u001b[1;32m    576\u001b[0m \u001b[0;34m\u001b[0m\u001b[0m\n\u001b[1;32m    577\u001b[0m     \u001b[0;32mreturn\u001b[0m \u001b[0minner_f\u001b[0m\u001b[0;34m\u001b[0m\u001b[0;34m\u001b[0m\u001b[0m\n",
            "\u001b[0;32m/usr/local/lib/python3.7/dist-packages/xgboost/sklearn.py\u001b[0m in \u001b[0;36mfit\u001b[0;34m(self, X, y, sample_weight, base_margin, eval_set, eval_metric, early_stopping_rounds, verbose, xgb_model, sample_weight_eval_set, base_margin_eval_set, feature_weights, callbacks)\u001b[0m\n\u001b[1;32m   1409\u001b[0m             \u001b[0mverbose_eval\u001b[0m\u001b[0;34m=\u001b[0m\u001b[0mverbose\u001b[0m\u001b[0;34m,\u001b[0m\u001b[0;34m\u001b[0m\u001b[0;34m\u001b[0m\u001b[0m\n\u001b[1;32m   1410\u001b[0m             \u001b[0mxgb_model\u001b[0m\u001b[0;34m=\u001b[0m\u001b[0mmodel\u001b[0m\u001b[0;34m,\u001b[0m\u001b[0;34m\u001b[0m\u001b[0;34m\u001b[0m\u001b[0m\n\u001b[0;32m-> 1411\u001b[0;31m             \u001b[0mcallbacks\u001b[0m\u001b[0;34m=\u001b[0m\u001b[0mcallbacks\u001b[0m\u001b[0;34m,\u001b[0m\u001b[0;34m\u001b[0m\u001b[0;34m\u001b[0m\u001b[0m\n\u001b[0m\u001b[1;32m   1412\u001b[0m         )\n\u001b[1;32m   1413\u001b[0m \u001b[0;34m\u001b[0m\u001b[0m\n",
            "\u001b[0;32m/usr/local/lib/python3.7/dist-packages/xgboost/core.py\u001b[0m in \u001b[0;36minner_f\u001b[0;34m(*args, **kwargs)\u001b[0m\n\u001b[1;32m    573\u001b[0m         \u001b[0;32mfor\u001b[0m \u001b[0mk\u001b[0m\u001b[0;34m,\u001b[0m \u001b[0marg\u001b[0m \u001b[0;32min\u001b[0m \u001b[0mzip\u001b[0m\u001b[0;34m(\u001b[0m\u001b[0msig\u001b[0m\u001b[0;34m.\u001b[0m\u001b[0mparameters\u001b[0m\u001b[0;34m,\u001b[0m \u001b[0margs\u001b[0m\u001b[0;34m)\u001b[0m\u001b[0;34m:\u001b[0m\u001b[0;34m\u001b[0m\u001b[0;34m\u001b[0m\u001b[0m\n\u001b[1;32m    574\u001b[0m             \u001b[0mkwargs\u001b[0m\u001b[0;34m[\u001b[0m\u001b[0mk\u001b[0m\u001b[0;34m]\u001b[0m \u001b[0;34m=\u001b[0m \u001b[0marg\u001b[0m\u001b[0;34m\u001b[0m\u001b[0;34m\u001b[0m\u001b[0m\n\u001b[0;32m--> 575\u001b[0;31m         \u001b[0;32mreturn\u001b[0m \u001b[0mf\u001b[0m\u001b[0;34m(\u001b[0m\u001b[0;34m**\u001b[0m\u001b[0mkwargs\u001b[0m\u001b[0;34m)\u001b[0m\u001b[0;34m\u001b[0m\u001b[0;34m\u001b[0m\u001b[0m\n\u001b[0m\u001b[1;32m    576\u001b[0m \u001b[0;34m\u001b[0m\u001b[0m\n\u001b[1;32m    577\u001b[0m     \u001b[0;32mreturn\u001b[0m \u001b[0minner_f\u001b[0m\u001b[0;34m\u001b[0m\u001b[0;34m\u001b[0m\u001b[0m\n",
            "\u001b[0;32m/usr/local/lib/python3.7/dist-packages/xgboost/training.py\u001b[0m in \u001b[0;36mtrain\u001b[0;34m(params, dtrain, num_boost_round, evals, obj, feval, maximize, early_stopping_rounds, evals_result, verbose_eval, xgb_model, callbacks, custom_metric)\u001b[0m\n\u001b[1;32m    179\u001b[0m         \u001b[0;32mif\u001b[0m \u001b[0mcb_container\u001b[0m\u001b[0;34m.\u001b[0m\u001b[0mbefore_iteration\u001b[0m\u001b[0;34m(\u001b[0m\u001b[0mbst\u001b[0m\u001b[0;34m,\u001b[0m \u001b[0mi\u001b[0m\u001b[0;34m,\u001b[0m \u001b[0mdtrain\u001b[0m\u001b[0;34m,\u001b[0m \u001b[0mevals\u001b[0m\u001b[0;34m)\u001b[0m\u001b[0;34m:\u001b[0m\u001b[0;34m\u001b[0m\u001b[0;34m\u001b[0m\u001b[0m\n\u001b[1;32m    180\u001b[0m             \u001b[0;32mbreak\u001b[0m\u001b[0;34m\u001b[0m\u001b[0;34m\u001b[0m\u001b[0m\n\u001b[0;32m--> 181\u001b[0;31m         \u001b[0mbst\u001b[0m\u001b[0;34m.\u001b[0m\u001b[0mupdate\u001b[0m\u001b[0;34m(\u001b[0m\u001b[0mdtrain\u001b[0m\u001b[0;34m,\u001b[0m \u001b[0mi\u001b[0m\u001b[0;34m,\u001b[0m \u001b[0mobj\u001b[0m\u001b[0;34m)\u001b[0m\u001b[0;34m\u001b[0m\u001b[0;34m\u001b[0m\u001b[0m\n\u001b[0m\u001b[1;32m    182\u001b[0m         \u001b[0;32mif\u001b[0m \u001b[0mcb_container\u001b[0m\u001b[0;34m.\u001b[0m\u001b[0mafter_iteration\u001b[0m\u001b[0;34m(\u001b[0m\u001b[0mbst\u001b[0m\u001b[0;34m,\u001b[0m \u001b[0mi\u001b[0m\u001b[0;34m,\u001b[0m \u001b[0mdtrain\u001b[0m\u001b[0;34m,\u001b[0m \u001b[0mevals\u001b[0m\u001b[0;34m)\u001b[0m\u001b[0;34m:\u001b[0m\u001b[0;34m\u001b[0m\u001b[0;34m\u001b[0m\u001b[0m\n\u001b[1;32m    183\u001b[0m             \u001b[0;32mbreak\u001b[0m\u001b[0;34m\u001b[0m\u001b[0;34m\u001b[0m\u001b[0m\n",
            "\u001b[0;32m/usr/local/lib/python3.7/dist-packages/xgboost/core.py\u001b[0m in \u001b[0;36mupdate\u001b[0;34m(self, dtrain, iteration, fobj)\u001b[0m\n\u001b[1;32m   1778\u001b[0m             _check_call(_LIB.XGBoosterUpdateOneIter(self.handle,\n\u001b[1;32m   1779\u001b[0m                                                     \u001b[0mctypes\u001b[0m\u001b[0;34m.\u001b[0m\u001b[0mc_int\u001b[0m\u001b[0;34m(\u001b[0m\u001b[0miteration\u001b[0m\u001b[0;34m)\u001b[0m\u001b[0;34m,\u001b[0m\u001b[0;34m\u001b[0m\u001b[0;34m\u001b[0m\u001b[0m\n\u001b[0;32m-> 1780\u001b[0;31m                                                     dtrain.handle))\n\u001b[0m\u001b[1;32m   1781\u001b[0m         \u001b[0;32melse\u001b[0m\u001b[0;34m:\u001b[0m\u001b[0;34m\u001b[0m\u001b[0;34m\u001b[0m\u001b[0m\n\u001b[1;32m   1782\u001b[0m             \u001b[0mpred\u001b[0m \u001b[0;34m=\u001b[0m \u001b[0mself\u001b[0m\u001b[0;34m.\u001b[0m\u001b[0mpredict\u001b[0m\u001b[0;34m(\u001b[0m\u001b[0mdtrain\u001b[0m\u001b[0;34m,\u001b[0m \u001b[0moutput_margin\u001b[0m\u001b[0;34m=\u001b[0m\u001b[0;32mTrue\u001b[0m\u001b[0;34m,\u001b[0m \u001b[0mtraining\u001b[0m\u001b[0;34m=\u001b[0m\u001b[0;32mTrue\u001b[0m\u001b[0;34m)\u001b[0m\u001b[0;34m\u001b[0m\u001b[0;34m\u001b[0m\u001b[0m\n",
            "\u001b[0;31mKeyboardInterrupt\u001b[0m: "
          ]
        }
      ],
      "source": [
        "XGBC=XGBClassifier(random_state=0)\n",
        "XGBC_tuned = GridSearchCV(XGBC, param_grid=[{'learning_rate':learn_rate, 'max_depth': max_depths, 'n_estimators': n_estimators}], cv=10, verbose=5, scoring='accuracy')\n",
        "XGBC_tuned.fit(df_X_dev, df_y_dev)"
      ]
    },
    {
      "cell_type": "code",
      "execution_count": 122,
      "metadata": {
        "colab": {
          "base_uri": "https://localhost:8080/",
          "height": 0
        },
        "id": "yr_OEC9RtjL9",
        "outputId": "af7e6ff2-8c75-4b7c-dcd5-f433755efe04"
      },
      "outputs": [
        {
          "name": "stdout",
          "output_type": "stream",
          "text": [
            "XGBClassifier best hyperparameters: {'learning_rate': 0.1, 'max_depth': 4, 'n_estimators': 100}\n"
          ]
        }
      ],
      "source": [
        "print('XGBClassifier best hyperparameters:', XGBC_grid.best_params_)"
      ]
    },
    {
      "cell_type": "code",
      "execution_count": 42,
      "metadata": {
        "colab": {
          "base_uri": "https://localhost:8080/",
          "height": 0
        },
        "id": "yN91CZYttjL9",
        "outputId": "f89e8e6a-0f08-4b8a-ea96-a9d65c62afcf"
      },
      "outputs": [
        {
          "name": "stdout",
          "output_type": "stream",
          "text": [
            "performance of tuned XGBClassifier on the test set:\n",
            "              precision    recall  f1-score   support\n",
            "\n",
            "           0       0.87      0.96      0.91      1593\n",
            "           1       0.74      0.42      0.54       407\n",
            "\n",
            "    accuracy                           0.85      2000\n",
            "   macro avg       0.80      0.69      0.72      2000\n",
            "weighted avg       0.84      0.85      0.84      2000\n",
            "\n"
          ]
        },
        {
          "data": {
            "text/plain": [
              "0.852"
            ]
          },
          "execution_count": 42,
          "metadata": {},
          "output_type": "execute_result"
        }
      ],
      "source": [
        "#XGBC_tuned=XGBClassifier(learning_rate=0.1, max_depth=4, n_estimators=100, random_state=0)\n",
        "#XGBC_tuned.fit(df_X_dev, df_y_dev)\n",
        "XGBC_tuned_y_test_pred = XGBC_tuned.predict(df_X_test)\n",
        "print('performance of tuned XGBClassifier on the test set:')\n",
        "print(classification_report(df_y_test, XGBC_tuned_y_test_pred))\n",
        "XGBC_tuned.score(df_X_test,df_y_test)"
      ]
    },
    {
      "cell_type": "markdown",
      "metadata": {
        "id": "yN8NIqDCVgmN"
      },
      "source": [
        "The performance of XGBoost model is similar with the perfomance of HistGradientBoostingClassifier and GradientBoostingClassifier in 3.1."
      ]
    },
    {
      "cell_type": "markdown",
      "metadata": {
        "id": "Tm8bpsHWOZE7"
      },
      "source": [
        "**3.3: Compare the results on the test dataset from XGBoost, HistGradientBoostingClassifier, GradientBoostingClassifier with results from Q1.6 and Q2.1. Which model tends to perform the best and which one does the worst? How big is the difference between the two? Which model would you choose among these 5 models and why?**"
      ]
    },
    {
      "cell_type": "code",
      "execution_count": null,
      "metadata": {
        "id": "1cFEo34bOVn7"
      },
      "outputs": [],
      "source": [
        "## YOUR ANSWER HERE"
      ]
    },
    {
      "cell_type": "markdown",
      "metadata": {
        "id": "6kP7OyaNXD0-"
      },
      "source": [
        "Decision tree has the worst performance. It has accuracy 0.801. It does not predict well for minority class (label=1) with precision of minority class = 0.51, f1-score of minority class = 0.47. Random forest performs better. It has accuracy 0.822. It also predict better for minority class with precision of minority class = 0.58, f1-score of minority class = 0.51.\n",
        "XGBoost, HistGradientBoostingClassifier, and GradientBoostingClassifier have similar performances. They have accuracies around 0.825, with the highest accuracy(accuracy of GradientBoostingClassifier) being 0.854. They also have higher precision for minority class. But GradientBoostingClassifier runs slowly. \n",
        "The difference of accuracy between the best and the worst model is 0.854-0.801=0.053. The difference of precision for minorty between the best and the worst model is 0.76-0.51=0.25. Though the difference of accuracy is small, the difference of precision for minorty class is large.\n",
        "\n",
        "Considering model performance and running time, I will use \n",
        "XGBoost or HistGradientBoostingClassifier."
      ]
    },
    {
      "cell_type": "markdown",
      "metadata": {
        "id": "3FnvtYpmOg8r"
      },
      "source": [
        "**3.4: Can you list the top 3 features from the trained XGBoost model? How do they differ from the features found from Random Forest and Decision Tree? Which one would you trust the most?**"
      ]
    },
    {
      "cell_type": "code",
      "execution_count": 89,
      "metadata": {
        "colab": {
          "base_uri": "https://localhost:8080/",
          "height": 143
        },
        "id": "qKoC04J4Oehl",
        "outputId": "b4b02c22-e438-4e07-d0b4-c6fb64eeb7d5",
        "scrolled": true
      },
      "outputs": [
        {
          "data": {
            "text/html": [
              "\n",
              "  <div id=\"df-d5113d2f-880c-494a-a26b-5661134a9dcc\">\n",
              "    <div class=\"colab-df-container\">\n",
              "      <div>\n",
              "<style scoped>\n",
              "    .dataframe tbody tr th:only-of-type {\n",
              "        vertical-align: middle;\n",
              "    }\n",
              "\n",
              "    .dataframe tbody tr th {\n",
              "        vertical-align: top;\n",
              "    }\n",
              "\n",
              "    .dataframe thead th {\n",
              "        text-align: right;\n",
              "    }\n",
              "</style>\n",
              "<table border=\"1\" class=\"dataframe\">\n",
              "  <thead>\n",
              "    <tr style=\"text-align: right;\">\n",
              "      <th></th>\n",
              "      <th>0</th>\n",
              "      <th>1</th>\n",
              "    </tr>\n",
              "  </thead>\n",
              "  <tbody>\n",
              "    <tr>\n",
              "      <th>2</th>\n",
              "      <td>NumOfProducts</td>\n",
              "      <td>0.274358</td>\n",
              "    </tr>\n",
              "    <tr>\n",
              "      <th>4</th>\n",
              "      <td>IsActiveMember</td>\n",
              "      <td>0.246694</td>\n",
              "    </tr>\n",
              "    <tr>\n",
              "      <th>0</th>\n",
              "      <td>Age</td>\n",
              "      <td>0.166711</td>\n",
              "    </tr>\n",
              "  </tbody>\n",
              "</table>\n",
              "</div>\n",
              "      <button class=\"colab-df-convert\" onclick=\"convertToInteractive('df-d5113d2f-880c-494a-a26b-5661134a9dcc')\"\n",
              "              title=\"Convert this dataframe to an interactive table.\"\n",
              "              style=\"display:none;\">\n",
              "        \n",
              "  <svg xmlns=\"http://www.w3.org/2000/svg\" height=\"24px\"viewBox=\"0 0 24 24\"\n",
              "       width=\"24px\">\n",
              "    <path d=\"M0 0h24v24H0V0z\" fill=\"none\"/>\n",
              "    <path d=\"M18.56 5.44l.94 2.06.94-2.06 2.06-.94-2.06-.94-.94-2.06-.94 2.06-2.06.94zm-11 1L8.5 8.5l.94-2.06 2.06-.94-2.06-.94L8.5 2.5l-.94 2.06-2.06.94zm10 10l.94 2.06.94-2.06 2.06-.94-2.06-.94-.94-2.06-.94 2.06-2.06.94z\"/><path d=\"M17.41 7.96l-1.37-1.37c-.4-.4-.92-.59-1.43-.59-.52 0-1.04.2-1.43.59L10.3 9.45l-7.72 7.72c-.78.78-.78 2.05 0 2.83L4 21.41c.39.39.9.59 1.41.59.51 0 1.02-.2 1.41-.59l7.78-7.78 2.81-2.81c.8-.78.8-2.07 0-2.86zM5.41 20L4 18.59l7.72-7.72 1.47 1.35L5.41 20z\"/>\n",
              "  </svg>\n",
              "      </button>\n",
              "      \n",
              "  <style>\n",
              "    .colab-df-container {\n",
              "      display:flex;\n",
              "      flex-wrap:wrap;\n",
              "      gap: 12px;\n",
              "    }\n",
              "\n",
              "    .colab-df-convert {\n",
              "      background-color: #E8F0FE;\n",
              "      border: none;\n",
              "      border-radius: 50%;\n",
              "      cursor: pointer;\n",
              "      display: none;\n",
              "      fill: #1967D2;\n",
              "      height: 32px;\n",
              "      padding: 0 0 0 0;\n",
              "      width: 32px;\n",
              "    }\n",
              "\n",
              "    .colab-df-convert:hover {\n",
              "      background-color: #E2EBFA;\n",
              "      box-shadow: 0px 1px 2px rgba(60, 64, 67, 0.3), 0px 1px 3px 1px rgba(60, 64, 67, 0.15);\n",
              "      fill: #174EA6;\n",
              "    }\n",
              "\n",
              "    [theme=dark] .colab-df-convert {\n",
              "      background-color: #3B4455;\n",
              "      fill: #D2E3FC;\n",
              "    }\n",
              "\n",
              "    [theme=dark] .colab-df-convert:hover {\n",
              "      background-color: #434B5C;\n",
              "      box-shadow: 0px 1px 3px 1px rgba(0, 0, 0, 0.15);\n",
              "      filter: drop-shadow(0px 1px 2px rgba(0, 0, 0, 0.3));\n",
              "      fill: #FFFFFF;\n",
              "    }\n",
              "  </style>\n",
              "\n",
              "      <script>\n",
              "        const buttonEl =\n",
              "          document.querySelector('#df-d5113d2f-880c-494a-a26b-5661134a9dcc button.colab-df-convert');\n",
              "        buttonEl.style.display =\n",
              "          google.colab.kernel.accessAllowed ? 'block' : 'none';\n",
              "\n",
              "        async function convertToInteractive(key) {\n",
              "          const element = document.querySelector('#df-d5113d2f-880c-494a-a26b-5661134a9dcc');\n",
              "          const dataTable =\n",
              "            await google.colab.kernel.invokeFunction('convertToInteractive',\n",
              "                                                     [key], {});\n",
              "          if (!dataTable) return;\n",
              "\n",
              "          const docLinkHtml = 'Like what you see? Visit the ' +\n",
              "            '<a target=\"_blank\" href=https://colab.research.google.com/notebooks/data_table.ipynb>data table notebook</a>'\n",
              "            + ' to learn more about interactive tables.';\n",
              "          element.innerHTML = '';\n",
              "          dataTable['output_type'] = 'display_data';\n",
              "          await google.colab.output.renderOutput(dataTable, element);\n",
              "          const docLink = document.createElement('div');\n",
              "          docLink.innerHTML = docLinkHtml;\n",
              "          element.appendChild(docLink);\n",
              "        }\n",
              "      </script>\n",
              "    </div>\n",
              "  </div>\n",
              "  "
            ],
            "text/plain": [
              "                0         1\n",
              "2   NumOfProducts  0.274358\n",
              "4  IsActiveMember  0.246694\n",
              "0             Age  0.166711"
            ]
          },
          "execution_count": 89,
          "metadata": {},
          "output_type": "execute_result"
        }
      ],
      "source": [
        "## YOUR CODE HERE\n",
        "feature_impor=zip(feature_names, XGBC_tuned.feature_importances_)\n",
        "a=pd.DataFrame(feature_impor)\n",
        "a\n",
        "a.sort_values(1, ascending=False).head(3)"
      ]
    },
    {
      "cell_type": "markdown",
      "metadata": {
        "id": "jFV94rrXtjL-"
      },
      "source": [
        "the top 3 features from the trained XGBoost model are: NumOfProducts, IsActiveMember, and Age. Compared with Random Forest and Decision Tree: age, NumOfProducts, and IsActiveMember. The features are the same, only the orders are different. I trust the XGBoost model the most. Because XGBoost trains regression trees in sequential manner on modified datasets, and each tree can learn from the previous one. Weights for each tree classifer are used to combine the outputs. XGBoost has the stability that random forest has, but plus the evolving learning process to improve the proformance of each trees classifer."
      ]
    },
    {
      "cell_type": "markdown",
      "metadata": {
        "id": "5a68qi1UOmua"
      },
      "source": [
        "**3.5: Can you choose the top 7 features (as given by feature importances from XGBoost) and repeat Q3.2? Does this model perform better than the one trained in Q3.2? Why or why not is the performance better?**"
      ]
    },
    {
      "cell_type": "code",
      "execution_count": 90,
      "metadata": {
        "colab": {
          "base_uri": "https://localhost:8080/",
          "height": 363
        },
        "id": "iUD8wfgsOjrY",
        "outputId": "f67147c0-b149-4ed7-ec3b-42ee724de592",
        "scrolled": true
      },
      "outputs": [
        {
          "data": {
            "text/html": [
              "\n",
              "  <div id=\"df-1f8ac4a1-7beb-40ed-bf8c-c4ac9efe57bb\">\n",
              "    <div class=\"colab-df-container\">\n",
              "      <div>\n",
              "<style scoped>\n",
              "    .dataframe tbody tr th:only-of-type {\n",
              "        vertical-align: middle;\n",
              "    }\n",
              "\n",
              "    .dataframe tbody tr th {\n",
              "        vertical-align: top;\n",
              "    }\n",
              "\n",
              "    .dataframe thead th {\n",
              "        text-align: right;\n",
              "    }\n",
              "</style>\n",
              "<table border=\"1\" class=\"dataframe\">\n",
              "  <thead>\n",
              "    <tr style=\"text-align: right;\">\n",
              "      <th></th>\n",
              "      <th>0</th>\n",
              "      <th>1</th>\n",
              "    </tr>\n",
              "  </thead>\n",
              "  <tbody>\n",
              "    <tr>\n",
              "      <th>2</th>\n",
              "      <td>NumOfProducts</td>\n",
              "      <td>0.274358</td>\n",
              "    </tr>\n",
              "    <tr>\n",
              "      <th>4</th>\n",
              "      <td>IsActiveMember</td>\n",
              "      <td>0.246694</td>\n",
              "    </tr>\n",
              "    <tr>\n",
              "      <th>0</th>\n",
              "      <td>Age</td>\n",
              "      <td>0.166711</td>\n",
              "    </tr>\n",
              "    <tr>\n",
              "      <th>6</th>\n",
              "      <td>Geography_Germany</td>\n",
              "      <td>0.137902</td>\n",
              "    </tr>\n",
              "    <tr>\n",
              "      <th>8</th>\n",
              "      <td>Gender_Female</td>\n",
              "      <td>0.069178</td>\n",
              "    </tr>\n",
              "    <tr>\n",
              "      <th>5</th>\n",
              "      <td>Geography_France</td>\n",
              "      <td>0.032874</td>\n",
              "    </tr>\n",
              "    <tr>\n",
              "      <th>7</th>\n",
              "      <td>Geography_Spain</td>\n",
              "      <td>0.027511</td>\n",
              "    </tr>\n",
              "    <tr>\n",
              "      <th>1</th>\n",
              "      <td>Tenure</td>\n",
              "      <td>0.023617</td>\n",
              "    </tr>\n",
              "    <tr>\n",
              "      <th>3</th>\n",
              "      <td>HasCrCard</td>\n",
              "      <td>0.021155</td>\n",
              "    </tr>\n",
              "    <tr>\n",
              "      <th>9</th>\n",
              "      <td>Gender_Male</td>\n",
              "      <td>0.000000</td>\n",
              "    </tr>\n",
              "  </tbody>\n",
              "</table>\n",
              "</div>\n",
              "      <button class=\"colab-df-convert\" onclick=\"convertToInteractive('df-1f8ac4a1-7beb-40ed-bf8c-c4ac9efe57bb')\"\n",
              "              title=\"Convert this dataframe to an interactive table.\"\n",
              "              style=\"display:none;\">\n",
              "        \n",
              "  <svg xmlns=\"http://www.w3.org/2000/svg\" height=\"24px\"viewBox=\"0 0 24 24\"\n",
              "       width=\"24px\">\n",
              "    <path d=\"M0 0h24v24H0V0z\" fill=\"none\"/>\n",
              "    <path d=\"M18.56 5.44l.94 2.06.94-2.06 2.06-.94-2.06-.94-.94-2.06-.94 2.06-2.06.94zm-11 1L8.5 8.5l.94-2.06 2.06-.94-2.06-.94L8.5 2.5l-.94 2.06-2.06.94zm10 10l.94 2.06.94-2.06 2.06-.94-2.06-.94-.94-2.06-.94 2.06-2.06.94z\"/><path d=\"M17.41 7.96l-1.37-1.37c-.4-.4-.92-.59-1.43-.59-.52 0-1.04.2-1.43.59L10.3 9.45l-7.72 7.72c-.78.78-.78 2.05 0 2.83L4 21.41c.39.39.9.59 1.41.59.51 0 1.02-.2 1.41-.59l7.78-7.78 2.81-2.81c.8-.78.8-2.07 0-2.86zM5.41 20L4 18.59l7.72-7.72 1.47 1.35L5.41 20z\"/>\n",
              "  </svg>\n",
              "      </button>\n",
              "      \n",
              "  <style>\n",
              "    .colab-df-container {\n",
              "      display:flex;\n",
              "      flex-wrap:wrap;\n",
              "      gap: 12px;\n",
              "    }\n",
              "\n",
              "    .colab-df-convert {\n",
              "      background-color: #E8F0FE;\n",
              "      border: none;\n",
              "      border-radius: 50%;\n",
              "      cursor: pointer;\n",
              "      display: none;\n",
              "      fill: #1967D2;\n",
              "      height: 32px;\n",
              "      padding: 0 0 0 0;\n",
              "      width: 32px;\n",
              "    }\n",
              "\n",
              "    .colab-df-convert:hover {\n",
              "      background-color: #E2EBFA;\n",
              "      box-shadow: 0px 1px 2px rgba(60, 64, 67, 0.3), 0px 1px 3px 1px rgba(60, 64, 67, 0.15);\n",
              "      fill: #174EA6;\n",
              "    }\n",
              "\n",
              "    [theme=dark] .colab-df-convert {\n",
              "      background-color: #3B4455;\n",
              "      fill: #D2E3FC;\n",
              "    }\n",
              "\n",
              "    [theme=dark] .colab-df-convert:hover {\n",
              "      background-color: #434B5C;\n",
              "      box-shadow: 0px 1px 3px 1px rgba(0, 0, 0, 0.15);\n",
              "      filter: drop-shadow(0px 1px 2px rgba(0, 0, 0, 0.3));\n",
              "      fill: #FFFFFF;\n",
              "    }\n",
              "  </style>\n",
              "\n",
              "      <script>\n",
              "        const buttonEl =\n",
              "          document.querySelector('#df-1f8ac4a1-7beb-40ed-bf8c-c4ac9efe57bb button.colab-df-convert');\n",
              "        buttonEl.style.display =\n",
              "          google.colab.kernel.accessAllowed ? 'block' : 'none';\n",
              "\n",
              "        async function convertToInteractive(key) {\n",
              "          const element = document.querySelector('#df-1f8ac4a1-7beb-40ed-bf8c-c4ac9efe57bb');\n",
              "          const dataTable =\n",
              "            await google.colab.kernel.invokeFunction('convertToInteractive',\n",
              "                                                     [key], {});\n",
              "          if (!dataTable) return;\n",
              "\n",
              "          const docLinkHtml = 'Like what you see? Visit the ' +\n",
              "            '<a target=\"_blank\" href=https://colab.research.google.com/notebooks/data_table.ipynb>data table notebook</a>'\n",
              "            + ' to learn more about interactive tables.';\n",
              "          element.innerHTML = '';\n",
              "          dataTable['output_type'] = 'display_data';\n",
              "          await google.colab.output.renderOutput(dataTable, element);\n",
              "          const docLink = document.createElement('div');\n",
              "          docLink.innerHTML = docLinkHtml;\n",
              "          element.appendChild(docLink);\n",
              "        }\n",
              "      </script>\n",
              "    </div>\n",
              "  </div>\n",
              "  "
            ],
            "text/plain": [
              "                   0         1\n",
              "2      NumOfProducts  0.274358\n",
              "4     IsActiveMember  0.246694\n",
              "0                Age  0.166711\n",
              "6  Geography_Germany  0.137902\n",
              "8      Gender_Female  0.069178\n",
              "5   Geography_France  0.032874\n",
              "7    Geography_Spain  0.027511\n",
              "1             Tenure  0.023617\n",
              "3          HasCrCard  0.021155\n",
              "9        Gender_Male  0.000000"
            ]
          },
          "execution_count": 90,
          "metadata": {},
          "output_type": "execute_result"
        }
      ],
      "source": [
        "## YOUR CODE HERE\n",
        "a.sort_values(1, ascending=False).head(7)\n",
        "a.sort_values(1, ascending=False)"
      ]
    },
    {
      "cell_type": "markdown",
      "metadata": {
        "id": "I0MW_V_ptjL-"
      },
      "source": [
        "the top 7 features (as given by feature importances from XGBoost): NumOfProducts, IsActiveMember, Age, Geography_Germany, Gender_Female, Geography_France, Geography_Spain."
      ]
    },
    {
      "cell_type": "code",
      "execution_count": 91,
      "metadata": {
        "id": "Lk8hjmbvtjL_"
      },
      "outputs": [],
      "source": [
        "df_X_dev_dropped=df_X_dev.drop(columns=['Gender_Male','HasCrCard','Tenure'])\n",
        "df_X_test_dropped=df_X_test.drop(columns=['Gender_Male','HasCrCard','Tenure'])"
      ]
    },
    {
      "cell_type": "code",
      "execution_count": null,
      "metadata": {
        "id": "IL1sXDbrtjL_"
      },
      "outputs": [],
      "source": [
        "#df_X_test_dropped # 7 col"
      ]
    },
    {
      "cell_type": "code",
      "execution_count": 94,
      "metadata": {
        "colab": {
          "base_uri": "https://localhost:8080/",
          "height": 0
        },
        "id": "k4UjYYNUtjL_",
        "outputId": "48eb7832-0931-4c09-8d7f-f677e53adc3b"
      },
      "outputs": [
        {
          "data": {
            "text/plain": [
              "GridSearchCV(cv=10, estimator=XGBClassifier(),\n",
              "             param_grid=[{'learning_rate': [0.05, 0.1, 0.15, 0.2],\n",
              "                          'max_depth': [3, 4, 5, 6],\n",
              "                          'n_estimators': [100, 200, 300, 400]}],\n",
              "             return_train_score=True)"
            ]
          },
          "execution_count": 94,
          "metadata": {},
          "output_type": "execute_result"
        }
      ],
      "source": [
        "XGBC_grid.fit(df_X_dev_dropped, df_y_dev)"
      ]
    },
    {
      "cell_type": "code",
      "execution_count": 95,
      "metadata": {
        "colab": {
          "base_uri": "https://localhost:8080/",
          "height": 0
        },
        "id": "i87ytVmstjL_",
        "outputId": "154bd304-3ae3-4357-cf53-1ae60df9333b"
      },
      "outputs": [
        {
          "name": "stdout",
          "output_type": "stream",
          "text": [
            "XGBClassifier with top 7 features: best hyperparameters: {'learning_rate': 0.05, 'max_depth': 4, 'n_estimators': 100}\n"
          ]
        }
      ],
      "source": [
        "print('XGBClassifier with top 7 features: best hyperparameters:', XGBC_grid.best_params_)"
      ]
    },
    {
      "cell_type": "code",
      "execution_count": 96,
      "metadata": {
        "colab": {
          "base_uri": "https://localhost:8080/",
          "height": 0
        },
        "id": "WvQs50-ftjL_",
        "outputId": "374c7c92-f306-4f0c-82ac-dc9160bfba93"
      },
      "outputs": [
        {
          "name": "stdout",
          "output_type": "stream",
          "text": [
            "performance of tuned XGBClassifier with top 7 features on the test set:\n",
            "              precision    recall  f1-score   support\n",
            "\n",
            "           0       0.86      0.96      0.91      1593\n",
            "           1       0.74      0.41      0.53       407\n",
            "\n",
            "    accuracy                           0.85      2000\n",
            "   macro avg       0.80      0.69      0.72      2000\n",
            "weighted avg       0.84      0.85      0.83      2000\n",
            "\n"
          ]
        },
        {
          "data": {
            "text/plain": [
              "0.8505"
            ]
          },
          "execution_count": 96,
          "metadata": {},
          "output_type": "execute_result"
        }
      ],
      "source": [
        "XGBC_tuned7=XGBClassifier(learning_rate=0.05, max_depth=4, n_estimators=100, random_state=0)\n",
        "XGBC_tuned7.fit(df_X_dev_dropped, df_y_dev)\n",
        "XGBC_tuned7_y_test_pred = XGBC_tuned7.predict(df_X_test_dropped)\n",
        "print('performance of tuned XGBClassifier with top 7 features on the test set:')\n",
        "print(classification_report(df_y_test, XGBC_tuned7_y_test_pred))\n",
        "XGBC_tuned7.score(df_X_test_dropped,df_y_test)"
      ]
    },
    {
      "cell_type": "markdown",
      "metadata": {
        "id": "thlqABSsdjT7"
      },
      "source": [
        "The performance is not better. Because it depends on hyperparameters and structure of the dataset. In this case, the performances are similar maybe because the total number of features is not large."
      ]
    },
    {
      "cell_type": "markdown",
      "metadata": {
        "id": "ZznZUx_zOrbr"
      },
      "source": [
        "## Question 4: Calibration"
      ]
    },
    {
      "cell_type": "markdown",
      "metadata": {
        "id": "IpsJySpEOtfi"
      },
      "source": [
        "**4.1: Estimate the brier score for the XGBoost model (trained with optimal hyperparameters from Q3.2) scored on the test dataset.**"
      ]
    },
    {
      "cell_type": "code",
      "execution_count": 43,
      "metadata": {
        "id": "BMp5ZpJKRQG6"
      },
      "outputs": [],
      "source": [
        "from sklearn.metrics import brier_score_loss"
      ]
    },
    {
      "cell_type": "code",
      "execution_count": 44,
      "metadata": {
        "id": "pPef0JgYRQKP"
      },
      "outputs": [],
      "source": [
        "from sklearn.calibration import CalibrationDisplay, CalibratedClassifierCV"
      ]
    },
    {
      "cell_type": "code",
      "execution_count": 45,
      "metadata": {
        "colab": {
          "base_uri": "https://localhost:8080/",
          "height": 0
        },
        "id": "tOMXa1AKTzjY",
        "outputId": "1cfbf569-bd0e-408c-e3a3-836ad62b0ea7"
      },
      "outputs": [
        {
          "name": "stdout",
          "output_type": "stream",
          "text": [
            "0.10891077276851999\n"
          ]
        }
      ],
      "source": [
        "print(brier_score_loss(df_y_test, XGBC_tuned.predict_proba(df_X_test)[:,1]))"
      ]
    },
    {
      "cell_type": "markdown",
      "metadata": {
        "id": "mnbRvxMsOyQz"
      },
      "source": [
        "**4.2: Calibrate the trained XGBoost model using isotonic regression as well as Platt scaling. Plot predicted v.s. actual on test datasets from both the calibration methods**"
      ]
    },
    {
      "cell_type": "code",
      "execution_count": 46,
      "metadata": {
        "id": "jYxm8kFJUKx8"
      },
      "outputs": [],
      "source": [
        "X_train, X_calib, y_train, y_calib = train_test_split(df_X_dev, df_y_dev, test_size=0.25, random_state=0)"
      ]
    },
    {
      "cell_type": "code",
      "execution_count": 47,
      "metadata": {
        "id": "eFBItIePUWLo"
      },
      "outputs": [],
      "source": [
        "cal_XGBC_iso=CalibratedClassifierCV(XGBC_tuned, cv='prefit', method='isotonic')\n"
      ]
    },
    {
      "cell_type": "code",
      "execution_count": 48,
      "metadata": {
        "colab": {
          "base_uri": "https://localhost:8080/",
          "height": 0
        },
        "id": "HgObYr6mUerA",
        "outputId": "ba36c006-4aa0-4f52-9801-b2aaadb98755"
      },
      "outputs": [
        {
          "data": {
            "text/plain": [
              "CalibratedClassifierCV(base_estimator=XGBClassifier(base_score=0.5,\n",
              "                                                    booster='gbtree',\n",
              "                                                    callbacks=None,\n",
              "                                                    colsample_bylevel=1,\n",
              "                                                    colsample_bynode=1,\n",
              "                                                    colsample_bytree=1,\n",
              "                                                    early_stopping_rounds=None,\n",
              "                                                    enable_categorical=False,\n",
              "                                                    eval_metric=None, gamma=0,\n",
              "                                                    gpu_id=-1,\n",
              "                                                    grow_policy='depthwise',\n",
              "                                                    importance_type=None,\n",
              "                                                    interaction_constraints='',\n",
              "                                                    learning_rate=0.1,\n",
              "                                                    max_bin=256,\n",
              "                                                    max_cat_to_onehot=4,\n",
              "                                                    max_delta_step=0,\n",
              "                                                    max_depth=4, max_leaves=0,\n",
              "                                                    min_child_weight=1,\n",
              "                                                    missing=nan,\n",
              "                                                    monotone_constraints='()',\n",
              "                                                    n_estimators=100, n_jobs=0,\n",
              "                                                    num_parallel_tree=1,\n",
              "                                                    predictor='auto',\n",
              "                                                    random_state=0, reg_alpha=0,\n",
              "                                                    reg_lambda=1, ...),\n",
              "                       cv='prefit', method='isotonic')"
            ]
          },
          "execution_count": 48,
          "metadata": {},
          "output_type": "execute_result"
        }
      ],
      "source": [
        "cal_XGBC_iso.fit(X_calib, y_calib)"
      ]
    },
    {
      "cell_type": "code",
      "execution_count": 49,
      "metadata": {
        "colab": {
          "base_uri": "https://localhost:8080/",
          "height": 279
        },
        "id": "EnSt12SPUeyF",
        "outputId": "9b55883a-7434-4121-fbbf-69379b468a5d"
      },
      "outputs": [
        {
          "data": {
            "image/png": "[encoded data removed]",
            "text/plain": [
              "<Figure size 432x288 with 1 Axes>"
            ]
          },
          "metadata": {
            "needs_background": "light"
          },
          "output_type": "display_data"
        }
      ],
      "source": [
        "display = CalibrationDisplay.from_estimator(cal_XGBC_iso, df_X_test, df_y_test, n_bins = 10)"
      ]
    },
    {
      "cell_type": "code",
      "execution_count": 68,
      "metadata": {
        "id": "tz24YIGBOvwZ"
      },
      "outputs": [],
      "source": [
        "## YOUR CODE HERE\n",
        "#You can plot a calibration graph similar to (Lecture 5 - Slide 60)"
      ]
    },
    {
      "cell_type": "code",
      "execution_count": 50,
      "metadata": {
        "id": "2XDup9xYROQ_"
      },
      "outputs": [],
      "source": [
        "cal_XGBC_platt=CalibratedClassifierCV(XGBC_tuned, cv='prefit', method='sigmoid')"
      ]
    },
    {
      "cell_type": "code",
      "execution_count": 51,
      "metadata": {
        "colab": {
          "base_uri": "https://localhost:8080/",
          "height": 0
        },
        "id": "1ldUBNtQX0U1",
        "outputId": "78a4adb6-985f-4460-cf5f-e622ed16a31b"
      },
      "outputs": [
        {
          "data": {
            "text/plain": [
              "CalibratedClassifierCV(base_estimator=XGBClassifier(base_score=0.5,\n",
              "                                                    booster='gbtree',\n",
              "                                                    callbacks=None,\n",
              "                                                    colsample_bylevel=1,\n",
              "                                                    colsample_bynode=1,\n",
              "                                                    colsample_bytree=1,\n",
              "                                                    early_stopping_rounds=None,\n",
              "                                                    enable_categorical=False,\n",
              "                                                    eval_metric=None, gamma=0,\n",
              "                                                    gpu_id=-1,\n",
              "                                                    grow_policy='depthwise',\n",
              "                                                    importance_type=None,\n",
              "                                                    interaction_constraints='',\n",
              "                                                    learning_rate=0.1,\n",
              "                                                    max_bin=256,\n",
              "                                                    max_cat_to_onehot=4,\n",
              "                                                    max_delta_step=0,\n",
              "                                                    max_depth=4, max_leaves=0,\n",
              "                                                    min_child_weight=1,\n",
              "                                                    missing=nan,\n",
              "                                                    monotone_constraints='()',\n",
              "                                                    n_estimators=100, n_jobs=0,\n",
              "                                                    num_parallel_tree=1,\n",
              "                                                    predictor='auto',\n",
              "                                                    random_state=0, reg_alpha=0,\n",
              "                                                    reg_lambda=1, ...),\n",
              "                       cv='prefit')"
            ]
          },
          "execution_count": 51,
          "metadata": {},
          "output_type": "execute_result"
        }
      ],
      "source": [
        "cal_XGBC_platt.fit(X_calib, y_calib)"
      ]
    },
    {
      "cell_type": "code",
      "execution_count": 52,
      "metadata": {
        "colab": {
          "base_uri": "https://localhost:8080/",
          "height": 279
        },
        "id": "q_qJNq7zX-XH",
        "outputId": "cee9bde4-a2c2-494f-b9d8-4411ecec1e0c"
      },
      "outputs": [
        {
          "data": {
            "image/png": "[encoded data removed]",
            "text/plain": [
              "<Figure size 432x288 with 1 Axes>"
            ]
          },
          "metadata": {
            "needs_background": "light"
          },
          "output_type": "display_data"
        }
      ],
      "source": [
        "display = CalibrationDisplay.from_estimator(cal_XGBC_platt, df_X_test, df_y_test, n_bins = 10)"
      ]
    },
    {
      "cell_type": "markdown",
      "metadata": {
        "id": "sePxHSd-O14T"
      },
      "source": [
        "**4.3: Report brier scores from both the calibration methods. Do the calibration methods help in having better predicted probabilities?**"
      ]
    },
    {
      "cell_type": "code",
      "execution_count": 54,
      "metadata": {
        "colab": {
          "base_uri": "https://localhost:8080/",
          "height": 0
        },
        "id": "1h7DyjGNOzgH",
        "outputId": "aea6b1a4-444b-43cc-dae3-bf13c734777b"
      },
      "outputs": [
        {
          "name": "stdout",
          "output_type": "stream",
          "text": [
            "brier scores for isotonic regression 0.11109663614053028\n"
          ]
        }
      ],
      "source": [
        "## YOUR CODE HERE\n",
        "print('brier scores for isotonic regression', brier_score_loss(df_y_test, cal_XGBC_iso.predict_proba(df_X_test)[:,1]))"
      ]
    },
    {
      "cell_type": "code",
      "execution_count": 55,
      "metadata": {
        "colab": {
          "base_uri": "https://localhost:8080/",
          "height": 0
        },
        "id": "ZQrfDxORYe2F",
        "outputId": "2c318344-2549-436c-b7b0-a85ef199bb88"
      },
      "outputs": [
        {
          "name": "stdout",
          "output_type": "stream",
          "text": [
            "brier scores for Platt scaling 0.11219462174776478\n"
          ]
        }
      ],
      "source": [
        "print('brier scores for Platt scaling', brier_score_loss(df_y_test, cal_XGBC_platt.predict_proba(df_X_test)[:,1]))"
      ]
    },
    {
      "cell_type": "markdown",
      "metadata": {
        "id": "nz_5iM4YYwtT"
      },
      "source": [
        "Based from the brier scores, calibration methods don't help in having better predicted probabilities. But calibration methods may be helpful for other cases."
      ]
    }
  ],
  "metadata": {
    "accelerator": "GPU",
    "colab": {
      "collapsed_sections": [],
      "provenance": []
    },
    "kernelspec": {
      "display_name": "Python 3.8.9 64-bit",
      "language": "python",
      "name": "python3"
    },
    "language_info": {
      "codemirror_mode": {
        "name": "ipython",
        "version": 3
      },
      "file_extension": ".py",
      "mimetype": "text/x-python",
      "name": "python",
      "nbconvert_exporter": "python",
      "pygments_lexer": "ipython3",
      "version": "3.8.9"
    },
    "vscode": {
      "interpreter": {
        "hash": "31f2aee4e71d21fbe5cf8b01ff0e069b9275f58929596ceb00d14d90e3e16cd6"
      }
    }
  },
  "nbformat": 4,
  "nbformat_minor": 0
}
