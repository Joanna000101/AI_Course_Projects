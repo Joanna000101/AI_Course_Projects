{
  "cells": [
    {
      "cell_type": "code",
      "execution_count": 1,
      "metadata": {
        "colab": {
          "base_uri": "https://localhost:8080/"
        },
        "id": "080d50fc",
        "outputId": "731b7890-df2c-4036-a16e-1e53474d0ed2"
      },
      "outputs": [
        {
          "output_type": "stream",
          "name": "stdout",
          "text": [
            "Collecting portalocker\n",
            "  Downloading portalocker-2.8.2-py3-none-any.whl (17 kB)\n",
            "Installing collected packages: portalocker\n",
            "Successfully installed portalocker-2.8.2\n",
            "Collecting torchmetrics\n",
            "  Downloading torchmetrics-1.2.0-py3-none-any.whl (805 kB)\n",
            "\u001b[2K     \u001b[90m━━━━━━━━━━━━━━━━━━━━━━━━━━━━━━━━━━━━━━━━\u001b[0m \u001b[32m805.2/805.2 kB\u001b[0m \u001b[31m9.0 MB/s\u001b[0m eta \u001b[36m0:00:00\u001b[0m\n",
            "\u001b[?25hRequirement already satisfied: numpy>1.20.0 in /usr/local/lib/python3.10/dist-packages (from torchmetrics) (1.23.5)\n",
            "Requirement already satisfied: torch>=1.8.1 in /usr/local/lib/python3.10/dist-packages (from torchmetrics) (2.1.0+cu118)\n",
            "Collecting lightning-utilities>=0.8.0 (from torchmetrics)\n",
            "  Downloading lightning_utilities-0.10.0-py3-none-any.whl (24 kB)\n",
            "Requirement already satisfied: packaging>=17.1 in /usr/local/lib/python3.10/dist-packages (from lightning-utilities>=0.8.0->torchmetrics) (23.2)\n",
            "Requirement already satisfied: setuptools in /usr/local/lib/python3.10/dist-packages (from lightning-utilities>=0.8.0->torchmetrics) (67.7.2)\n",
            "Requirement already satisfied: typing-extensions in /usr/local/lib/python3.10/dist-packages (from lightning-utilities>=0.8.0->torchmetrics) (4.5.0)\n",
            "Requirement already satisfied: filelock in /usr/local/lib/python3.10/dist-packages (from torch>=1.8.1->torchmetrics) (3.13.1)\n",
            "Requirement already satisfied: sympy in /usr/local/lib/python3.10/dist-packages (from torch>=1.8.1->torchmetrics) (1.12)\n",
            "Requirement already satisfied: networkx in /usr/local/lib/python3.10/dist-packages (from torch>=1.8.1->torchmetrics) (3.2.1)\n",
            "Requirement already satisfied: jinja2 in /usr/local/lib/python3.10/dist-packages (from torch>=1.8.1->torchmetrics) (3.1.2)\n",
            "Requirement already satisfied: fsspec in /usr/local/lib/python3.10/dist-packages (from torch>=1.8.1->torchmetrics) (2023.6.0)\n",
            "Requirement already satisfied: triton==2.1.0 in /usr/local/lib/python3.10/dist-packages (from torch>=1.8.1->torchmetrics) (2.1.0)\n",
            "Requirement already satisfied: MarkupSafe>=2.0 in /usr/local/lib/python3.10/dist-packages (from jinja2->torch>=1.8.1->torchmetrics) (2.1.3)\n",
            "Requirement already satisfied: mpmath>=0.19 in /usr/local/lib/python3.10/dist-packages (from sympy->torch>=1.8.1->torchmetrics) (1.3.0)\n",
            "Installing collected packages: lightning-utilities, torchmetrics\n",
            "Successfully installed lightning-utilities-0.10.0 torchmetrics-1.2.0\n"
          ]
        }
      ],
      "source": [
        "!pip install portalocker\n",
        "!pip install torchmetrics"
      ],
      "id": "080d50fc"
    },
    {
      "cell_type": "code",
      "execution_count": 2,
      "metadata": {
        "id": "B9XxyEQVWrO6"
      },
      "outputs": [],
      "source": [
        "import argparse\n",
        "import logging\n",
        "import time\n",
        "\n",
        "import torch\n",
        "from torch.utils.data import DataLoader\n",
        "from torch.utils.data.dataset import random_split\n",
        "from torchtext.data.functional import to_map_style_dataset\n",
        "from torchtext.data.utils import get_tokenizer, ngrams_iterator\n",
        "from torchtext.datasets import DATASETS\n",
        "from torchtext.prototype.transforms import load_sp_model, PRETRAINED_SP_MODEL, SentencePieceTokenizer\n",
        "from torchtext.utils import download_from_url\n",
        "from torchtext.vocab import build_vocab_from_iterator\n",
        "import torch.nn as nn\n",
        "from torch.nn.utils.rnn import pad_sequence\n",
        "import torch.nn.functional as F\n",
        "from torchtext.vocab import GloVe\n",
        "from tqdm import tqdm\n",
        "\n",
        "torch.autograd.set_detect_anomaly(True)\n",
        "\n",
        "FILL = '_FILL_'"
      ],
      "id": "B9XxyEQVWrO6"
    },
    {
      "cell_type": "markdown",
      "metadata": {
        "id": "66eb271d"
      },
      "source": [
        "### Information\n",
        "- torchtext repo: https://github.com/pytorch/text/tree/main/torchtext\n",
        "- torchtext documentation: https://pytorch.org/text/stable/index.html"
      ],
      "id": "66eb271d"
    },
    {
      "cell_type": "code",
      "execution_count": null,
      "metadata": {
        "id": "8c949153"
      },
      "outputs": [],
      "source": [],
      "id": "8c949153"
    },
    {
      "cell_type": "markdown",
      "metadata": {
        "id": "12d93d22"
      },
      "source": [
        "### Constants"
      ],
      "id": "12d93d22"
    },
    {
      "cell_type": "code",
      "execution_count": 3,
      "metadata": {
        "id": "329c056d"
      },
      "outputs": [],
      "source": [
        "DATASET = \"AG_NEWS\"\n",
        "DATA_DIR = \".data\"\n",
        "DEVICE = \"cpu\"\n",
        "EMBED_DIM = 300\n",
        "LR = 4.0\n",
        "BATCH_SIZE = 16\n",
        "NUM_EPOCHS = 5\n",
        "PADDING_VALUE = 0\n",
        "PADDING_IDX = PADDING_VALUE"
      ],
      "id": "329c056d"
    },
    {
      "cell_type": "code",
      "execution_count": null,
      "metadata": {
        "id": "ffada8d0"
      },
      "outputs": [],
      "source": [],
      "id": "ffada8d0"
    },
    {
      "cell_type": "markdown",
      "metadata": {
        "id": "1a61aede"
      },
      "source": [
        "### Get the tokenizer\n",
        "- Use the WordLevel tokenizer.\n"
      ],
      "id": "1a61aede"
    },
    {
      "cell_type": "code",
      "execution_count": 4,
      "metadata": {
        "id": "93e3b7cb"
      },
      "outputs": [],
      "source": [
        "basic_english_tokenizer = get_tokenizer(\"basic_english\")"
      ],
      "id": "93e3b7cb"
    },
    {
      "cell_type": "code",
      "execution_count": 5,
      "metadata": {
        "colab": {
          "base_uri": "https://localhost:8080/"
        },
        "id": "aa4b78e4",
        "outputId": "badd3c75-4a05-41fe-eea1-d7c97a12328b"
      },
      "outputs": [
        {
          "output_type": "execute_result",
          "data": {
            "text/plain": [
              "['this', 'is', 'some', 'text', '.', '.', '.']"
            ]
          },
          "metadata": {},
          "execution_count": 5
        }
      ],
      "source": [
        "basic_english_tokenizer(\"This is some text ...\")"
      ],
      "id": "aa4b78e4"
    },
    {
      "cell_type": "code",
      "execution_count": 6,
      "metadata": {
        "id": "505cf5ec"
      },
      "outputs": [],
      "source": [
        "# Needed later\n",
        "TOKENIZER = basic_english_tokenizer"
      ],
      "id": "505cf5ec"
    },
    {
      "cell_type": "markdown",
      "metadata": {
        "id": "64096cd8"
      },
      "source": [
        "### Get the data and get the vocabulary"
      ],
      "id": "64096cd8"
    },
    {
      "cell_type": "code",
      "execution_count": 7,
      "metadata": {
        "id": "ce4a0578"
      },
      "outputs": [],
      "source": [
        "def yield_tokens(data_iter):\n",
        "    for _, text in data_iter:\n",
        "        yield TOKENIZER(text)"
      ],
      "id": "ce4a0578"
    },
    {
      "cell_type": "code",
      "execution_count": 8,
      "metadata": {
        "id": "f48f23ab"
      },
      "outputs": [],
      "source": [
        "train_iter = DATASETS[DATASET](root=DATA_DIR, split=\"train\")\n",
        "VOCAB = build_vocab_from_iterator(yield_tokens(train_iter), specials=('<pad>', '<unk>'))\n",
        "\n",
        "# Make the default index the same as that of the unk_token\n",
        "VOCAB.set_default_index(VOCAB['<unk>'])"
      ],
      "id": "f48f23ab"
    },
    {
      "cell_type": "code",
      "execution_count": 9,
      "metadata": {
        "id": "552e7295",
        "colab": {
          "base_uri": "https://localhost:8080/"
        },
        "outputId": "da6ec97a-63c6-4cb4-89f5-c8ede93988f2"
      },
      "outputs": [
        {
          "output_type": "execute_result",
          "data": {
            "text/plain": [
              "95812"
            ]
          },
          "metadata": {},
          "execution_count": 9
        }
      ],
      "source": [
        "len(VOCAB)"
      ],
      "id": "552e7295"
    },
    {
      "cell_type": "markdown",
      "metadata": {
        "id": "31ce9367"
      },
      "source": [
        "### Get GloVe embeddings ... This will be slow ..."
      ],
      "id": "31ce9367"
    },
    {
      "cell_type": "code",
      "execution_count": 10,
      "metadata": {
        "colab": {
          "base_uri": "https://localhost:8080/"
        },
        "id": "a43f0226",
        "outputId": "ee3b2e09-da46-404c-87e5-90f36f18a59d"
      },
      "outputs": [
        {
          "output_type": "stream",
          "name": "stderr",
          "text": [
            ".vector_cache/glove.840B.300d.zip: 2.18GB [06:49, 5.31MB/s]                            \n",
            "100%|█████████▉| 2196016/2196017 [04:11<00:00, 8716.53it/s]\n"
          ]
        }
      ],
      "source": [
        "GLOVE = GloVe() # 13 min"
      ],
      "id": "a43f0226"
    },
    {
      "cell_type": "code",
      "execution_count": 11,
      "metadata": {
        "colab": {
          "base_uri": "https://localhost:8080/"
        },
        "id": "6302f433",
        "outputId": "2151301d-676f-47c2-a57a-e9896ece81ea"
      },
      "outputs": [
        {
          "output_type": "execute_result",
          "data": {
            "text/plain": [
              "(2196017, torch.Size([2196017, 300]))"
            ]
          },
          "metadata": {},
          "execution_count": 11
        }
      ],
      "source": [
        "len(GLOVE), GLOVE.vectors.shape"
      ],
      "id": "6302f433"
    },
    {
      "cell_type": "code",
      "execution_count": null,
      "metadata": {
        "id": "c1ba2b54"
      },
      "outputs": [],
      "source": [],
      "id": "c1ba2b54"
    },
    {
      "cell_type": "markdown",
      "metadata": {
        "id": "200b05fc"
      },
      "source": [
        "### Helper functions"
      ],
      "id": "200b05fc"
    },
    {
      "cell_type": "code",
      "execution_count": 12,
      "metadata": {
        "id": "16ca1ef5"
      },
      "outputs": [],
      "source": [
        "def text_pipeline(text):\n",
        "    return VOCAB(TOKENIZER(text))\n",
        "\n",
        "def label_pipeline(label):\n",
        "    return int(label) - 1"
      ],
      "id": "16ca1ef5"
    },
    {
      "cell_type": "markdown",
      "metadata": {
        "id": "67ef6734"
      },
      "source": [
        "Nice link on collate_fn and DataLoader in PyTorch: https://python.plainenglish.io/understanding-collate-fn-in-pytorch-f9d1742647d3"
      ],
      "id": "67ef6734"
    },
    {
      "cell_type": "code",
      "execution_count": 13,
      "metadata": {
        "id": "ff479986"
      },
      "outputs": [],
      "source": [
        "# What does this do?\n",
        "# How can this be improved?\n",
        "def collate_batch(batch):\n",
        "    label_list, text_list = [], []\n",
        "    for (_label, _text) in batch:\n",
        "        # Get the label from {1, 2, 3, 4} to {0, 1, 2, 3}\n",
        "        label_list.append(label_pipeline(_label))\n",
        "\n",
        "        # Return a list of ints.\n",
        "        processed_text = torch.tensor(text_pipeline(_text), dtype=torch.int64)\n",
        "        text_list.append(processed_text.clone().detach())\n",
        "\n",
        "    label_list = torch.tensor(label_list, dtype=torch.int64)\n",
        "    text_list = pad_sequence(text_list, batch_first=True)\n",
        "\n",
        "    return label_list.to(DEVICE), text_list.to(DEVICE)"
      ],
      "id": "ff479986"
    },
    {
      "cell_type": "code",
      "execution_count": null,
      "metadata": {
        "id": "aa668c1e"
      },
      "outputs": [],
      "source": [],
      "id": "aa668c1e"
    },
    {
      "cell_type": "markdown",
      "metadata": {
        "id": "c7fcf425"
      },
      "source": [
        "### Get the data"
      ],
      "id": "c7fcf425"
    },
    {
      "cell_type": "code",
      "execution_count": 14,
      "metadata": {
        "colab": {
          "base_uri": "https://localhost:8080/"
        },
        "id": "e617ddce",
        "outputId": "e76ae17d-789e-4c18-e85e-4869d529c01f"
      },
      "outputs": [
        {
          "output_type": "stream",
          "name": "stdout",
          "text": [
            "The number of classes is 4 ...\n"
          ]
        }
      ],
      "source": [
        "train_iter = DATASETS[DATASET](root=DATA_DIR, split=\"train\")\n",
        "num_class = len(set([label for (label, _) in train_iter]))\n",
        "# What are the classes?\n",
        "print(f\"The number of classes is {num_class} ...\")"
      ],
      "id": "e617ddce"
    },
    {
      "cell_type": "code",
      "execution_count": null,
      "metadata": {
        "id": "7770ac24"
      },
      "outputs": [],
      "source": [],
      "id": "7770ac24"
    },
    {
      "cell_type": "markdown",
      "metadata": {
        "id": "5aa8a40d"
      },
      "source": [
        "### Set up the model"
      ],
      "id": "5aa8a40d"
    },
    {
      "cell_type": "markdown",
      "metadata": {
        "id": "8abf2ede"
      },
      "source": [
        "Good reference on this type of model\n",
        "- Recurrent CNN: https://ojs.aaai.org/index.php/AAAI/article/view/9513/9372"
      ],
      "id": "8abf2ede"
    },
    {
      "cell_type": "code",
      "execution_count": 15,
      "metadata": {
        "id": "dc51c359"
      },
      "outputs": [],
      "source": [
        "class CNN1dTextClassificationModel(nn.Module):\n",
        "    def __init__(\n",
        "        self,\n",
        "        vocab_size,\n",
        "        num_class,\n",
        "        embed_dim = 300,\n",
        "        use_pretrained = True,\n",
        "        fine_tune_embeddings = True\n",
        "    ):\n",
        "\n",
        "        super(CNN1dTextClassificationModel, self).__init__()\n",
        "\n",
        "        # Set to embeddings layer of vocab_size and embed_dim vector dimension\n",
        "        # Set the PADDING_IDX appropriately\n",
        "        # from discription: use GLOVE embeddings\n",
        "        self.embedding = nn.Embedding(vocab_size, embed_dim, padding_idx=PADDING_IDX)\n",
        "\n",
        "        if use_pretrained:\n",
        "            # Set the embeddings to not requiring gradients since we'll try and modify\n",
        "            self.embedding.weight.requires_grad = False\n",
        "            for i in range(vocab_size):\n",
        "                # Get the token for the index i\n",
        "                token = VOCAB.lookup_token(i)\n",
        "                # Modify the embedding for index i by the embedding for that token\n",
        "                # Do this only if token is in the stoi dictionary for GLOVE\n",
        "                if token in GLOVE.stoi:\n",
        "                    self.embedding.weight[i, :] = GLOVE.vectors[GLOVE.stoi[token]]\n",
        "            # Reset to True the weights\n",
        "            self.embedding.weight.requires_grad = True\n",
        "        else:\n",
        "            # Otherwise, initialize the weights\n",
        "            self.init_weights()\n",
        "\n",
        "        # Turn off gradients\n",
        "        if not fine_tune_embeddings:\n",
        "            for param in self.embedding.parameters():\n",
        "                param.requires_grad = False\n",
        "\n",
        "        # Define 3 Conv1d layers each having 1 filter and kernel sizes 2, 3 and 4\n",
        "        self.cnn2 = nn.Conv1d(in_channels=embed_dim, out_channels=1, kernel_size=2)\n",
        "        self.cnn3 = nn.Conv1d(in_channels=embed_dim, out_channels=1, kernel_size=3)\n",
        "        self.cnn4 = nn.Conv1d(in_channels=embed_dim, out_channels=1, kernel_size=4)\n",
        "\n",
        "        # A linear map from some dimensions to num_class (you need to figure it out)\n",
        "        self.fc = nn.Linear(3, num_class) ##\n",
        "\n",
        "        # For drop out + ReLu, order does not matter below\n",
        "        self.dropout = nn.Dropout(p=0.2) ##\n",
        "\n",
        "        self.debug = False\n",
        "\n",
        "    def init_weights(self):\n",
        "        initrange = 0.5\n",
        "        # Initialize the embedding weight matrix to uniform between the [-0.5, 0.5]\n",
        "        self.embedding.weight.data.uniform_(-initrange, initrange)\n",
        "        # Initialize the weight matrix of fc to uniform between the [-0.5, 0.5]\n",
        "        self.fc.weight.data.uniform_(-initrange, initrange)\n",
        "        # Initialize the bias for fc to zero\n",
        "        self.fc.bias.data.zero_()\n",
        "\n",
        "    # B = batch_size, L = sequence length, D = vector dimension\n",
        "    def forward(self, text):\n",
        "\n",
        "        # B X L X D\n",
        "        # Get the embeddings for the text passed in\n",
        "        embedded = self.embedding(text)\n",
        "\n",
        "        if self.debug:\n",
        "            print('embedding', embedded.shape)\n",
        "\n",
        "        # B X D X L\n",
        "        # Transpose the embedding above as needed\n",
        "        embedded = embedded.transpose(1, 2)\n",
        "\n",
        "        # B X 1 X L - 1\n",
        "        # Pass through cnn2\n",
        "        cnn2 = self.cnn2(embedded)\n",
        "        if self.debug:\n",
        "            print('cnn2', cnn2.shape)\n",
        "\n",
        "        # B X 1 X L - 2\n",
        "        # Pass through cnn3\n",
        "        cnn3 = self.cnn3(embedded)\n",
        "        if self.debug:\n",
        "            print('cnn3', cnn3.shape)\n",
        "\n",
        "        # B X 1 X L - 3\n",
        "        # Pass through cnn4\n",
        "        cnn4 = self.cnn4(embedded)\n",
        "        if self.debug:\n",
        "            print('cnn4', cnn4.shape)\n",
        "\n",
        "        # B X 1 in all cases\n",
        "        # Apply max pooling to each of cnn2, cnn3 and cnn4\n",
        "        cnn2 = F.max_pool1d(cnn2, cnn2.size(2)).squeeze(2)\n",
        "        cnn3 = F.max_pool1d(cnn3, cnn3.size(2)).squeeze(2)\n",
        "        cnn4 = F.max_pool1d(cnn4, cnn4.size(2)).squeeze(2)\n",
        "        if self.debug:\n",
        "            print('cnn2 after max', cnn2.shape)\n",
        "\n",
        "        # B X 3\n",
        "        # Concatenate and add drop out to the result\n",
        "        cnn_concat = cnn_concat = torch.cat((cnn2, cnn3, cnn4), 1)\n",
        "        cnn_concat = self.dropout(cnn_concat)\n",
        "        # cnn_concat = self.relu(cnn_concat)\n",
        "        if self.debug:\n",
        "            print('cnn concat', cnn_concat.shape)\n",
        "            self.debug = False\n",
        "\n",
        "        # Pass through an appropriate Linear layer to get the right dimensions needed\n",
        "        out = self.fc(cnn_concat)\n",
        "\n",
        "        return out\n",
        "\n",
        "class RecurrentCNNModel(nn.Module):\n",
        "    def __init__(\n",
        "        self,\n",
        "        vocab_size,\n",
        "        num_class = 4,\n",
        "        e = 300, # embedding dimension\n",
        "        use_pretrained = True,\n",
        "        fine_tune_embeddings = True,\n",
        "        # If true, this will print out the shapes of data in the forward pass for the first batch\n",
        "        # This will be set to False after the first forward pass\n",
        "        debug = True\n",
        "    ):\n",
        "\n",
        "        super(RecurrentCNNModel, self).__init__()\n",
        "\n",
        "        # Set to a nn.Embedding laer for vocab_size size and e dimension\n",
        "        self.embedding = nn.Embedding(vocab_size, e, padding_idx=PADDING_IDX)\n",
        "\n",
        "        # Set as in the paper\n",
        "        self.c = 100\n",
        "        self.h = 100\n",
        "        self.initrange = 0.5\n",
        "\n",
        "        # Same as for the CNN model above\n",
        "        if use_pretrained:\n",
        "            self.embedding.weight.requires_grad = False\n",
        "            for i in range(vocab_size):\n",
        "                # Get the token for the index i\n",
        "                token = VOCAB.lookup_token(i)\n",
        "                # Modify the embedding for index i by the embedding for that token\n",
        "                # Do this only if token is in the stoi dictionary for GLOVE\n",
        "                if token in GLOVE.stoi:\n",
        "                    self.embedding.weight[i, :] = GLOVE[token]\n",
        "            # Reset to True the weights\n",
        "            self.embedding.weight.requires_grad = True\n",
        "        else:\n",
        "            # Otherwise, initialize the weights\n",
        "            self.init_weights()\n",
        "\n",
        "        if not fine_tune_embeddings:\n",
        "            # Turn off gradients for the embedding weight ## not the same\n",
        "            for param in self.embedding.parameters():\n",
        "                param.requires_grad = False\n",
        "\n",
        "        # Set Wl, Wr, Wsl, Wsr etc as in the paper\n",
        "        # Used in (1) and (2)\n",
        "        self.Wl = nn.Linear(self.c, self.c)\n",
        "        self.Wr = nn.Linear(self.c, self.c)\n",
        "\n",
        "        # Used in (1) and (2)\n",
        "        self.Wsl = nn.Linear(e, self.c)\n",
        "        self.Wsr = nn.Linear(e, self.c)\n",
        "\n",
        "        # Used in equations (4) and (6)\n",
        "        self.W2 = nn.Linear((2*self.c + e), self.h)\n",
        "        self.W4 = nn.Linear(self.h, num_class)\n",
        "\n",
        "        # For drop out + ReLu, order does not matter.\n",
        "        self.dropout = nn.Dropout(p=0.5)\n",
        "        self.relu = nn.ReLU()\n",
        "\n",
        "        self.debug = False\n",
        "\n",
        "    def init_weights(self):\n",
        "      # Set some of these to uniform on [-initrange, initrange]\n",
        "      # The biases can be set to 0\n",
        "      self.embedding.weight.data.uniform_(-self.initrange, self.initrange)\n",
        "\n",
        "    # B = batch_size, L = sequence length, e = vector dimension\n",
        "    def forward(self, text):\n",
        "        # Text is originally B X L\n",
        "\n",
        "        # B X L X e\n",
        "        embedded = self.embedding(text)\n",
        "\n",
        "        N, L, D = embedded.shape\n",
        "\n",
        "        # N X L X c\n",
        "        cr = torch.zeros(N, L, self.c, device=embedded.device)\n",
        "        if self.debug:\n",
        "            print('cr ', cr.shape)\n",
        "\n",
        "        # N X L X c\n",
        "        cl = torch.zeros(N, L, self.c, device=embedded.device)\n",
        "\n",
        "        # N X L X c\n",
        "        # We need to clone here or we get this error:\n",
        "        # https://nieznanm.medium.com/runtimeerror-one-of-the-variables-needed-for-gradient-computation-has-been-modified-by-an-inplace-85d0d207623\n",
        "        for l in range(1, L):\n",
        "            cl[:, l, :] = F.relu(self.Wl(cl[:, l - 1, :].clone()) + self.Wsl(embedded[:, l - 1, :].clone())) # relu as non-linear ??\n",
        "\n",
        "        # N X L X c\n",
        "        # Set cr as in the paper from equation (3)\n",
        "        for l in range(L-2, -1, -1):\n",
        "            cr[:, l, :] = F.relu(self.Wr(cr[:, l + 1, :].clone()) + self.Wsr(embedded[:, l + 1, :].clone()))\n",
        "\n",
        "        # B X L X (2c + e)\n",
        "        # Set x as in the paper; this is equation (3)\n",
        "        x = torch.cat((cl, embedded, cr), dim=2)\n",
        "        if self.debug:\n",
        "            print('x ', x.shape)\n",
        "\n",
        "        # B X L X h\n",
        "        # Set y2 as in equation (4)\n",
        "        y2 = torch.tanh(self.W2(x))\n",
        "        if self.debug:\n",
        "            print('y2 ', y2.shape)\n",
        "\n",
        "        # B X H X L\n",
        "        y2 = y2.transpose(1, 2)\n",
        "        if self.debug:\n",
        "            print('y2 ', y2.shape)\n",
        "\n",
        "        # Set y3 from y2 as in equation (5)\n",
        "        y3,_ = torch.max(y2, dim=2)\n",
        "        if self.debug:\n",
        "            print('y3 ', y3.shape)\n",
        "\n",
        "        # Set y4 from W4 and y3\n",
        "        y4 = self.W4(y3)\n",
        "        if self.debug:\n",
        "            print('y4 ', y4.shape)\n",
        "            # Set to False after this is done\n",
        "            self.debug = False\n",
        "\n",
        "        return y4"
      ],
      "id": "dc51c359"
    },
    {
      "cell_type": "code",
      "execution_count": null,
      "metadata": {
        "id": "25775647"
      },
      "outputs": [],
      "source": [],
      "id": "25775647"
    },
    {
      "cell_type": "markdown",
      "metadata": {
        "id": "3b3c6ed5"
      },
      "source": [
        "### Set up the model"
      ],
      "id": "3b3c6ed5"
    },
    {
      "cell_type": "code",
      "source": [
        "# If this is True, we will initialize the Embedding layer with GLOVE\n",
        "USE_PRETRANED = True,\n",
        "\n",
        "# If this is True, we will allow for gradient updates on the nn.Embedding layer\n",
        "FINE_TUNE_EMBEDDINGS = True\n",
        "\n",
        "# Set the loss appropriately\n",
        "criterion = torch.nn.CrossEntropyLoss().to(DEVICE)"
      ],
      "metadata": {
        "id": "zSpIDsg4dAEH"
      },
      "id": "zSpIDsg4dAEH",
      "execution_count": 16,
      "outputs": []
    },
    {
      "cell_type": "code",
      "execution_count": 17,
      "metadata": {
        "id": "cef585f4"
      },
      "outputs": [],
      "source": [
        "# Select the Recurrent CNN Model\n",
        "model = RecurrentCNNModel(vocab_size=len(VOCAB))\n",
        "\n",
        "# Set the optimizer to SGD\n",
        "optimizer = torch.optim.SGD(model.parameters(), lr=LR)\n",
        "\n",
        "# Set the scheduler to StepLR with gamma=0.1 and step_size = 1.0\n",
        "scheduler = torch.optim.lr_scheduler.StepLR(optimizer, step_size=1, gamma=0.1)"
      ],
      "id": "cef585f4"
    },
    {
      "cell_type": "code",
      "execution_count": null,
      "metadata": {
        "id": "f8a642bf"
      },
      "outputs": [],
      "source": [],
      "id": "f8a642bf"
    },
    {
      "cell_type": "markdown",
      "metadata": {
        "id": "26266d8a"
      },
      "source": [
        "### Set up the data"
      ],
      "id": "26266d8a"
    },
    {
      "cell_type": "code",
      "execution_count": 18,
      "metadata": {
        "id": "9c0aebb5"
      },
      "outputs": [],
      "source": [
        "train_iter, test_iter = DATASETS[DATASET]()\n",
        "train_dataset = to_map_style_dataset(train_iter)\n",
        "test_dataset = to_map_style_dataset(test_iter)\n",
        "\n",
        "num_train = int(len(train_dataset) * 0.95)\n",
        "split_train_, split_valid_ = random_split(train_dataset, [num_train, len(train_dataset) - num_train])\n",
        "\n",
        "train_dataloader = DataLoader(split_train_, batch_size=BATCH_SIZE, shuffle=True, collate_fn=collate_batch)\n",
        "valid_dataloader = DataLoader(split_valid_, batch_size=BATCH_SIZE, shuffle=True, collate_fn=collate_batch)\n",
        "test_dataloader = DataLoader(test_dataset, batch_size=BATCH_SIZE, shuffle=True, collate_fn=collate_batch)"
      ],
      "id": "9c0aebb5"
    },
    {
      "cell_type": "code",
      "execution_count": null,
      "metadata": {
        "id": "85773616"
      },
      "outputs": [],
      "source": [],
      "id": "85773616"
    },
    {
      "cell_type": "markdown",
      "metadata": {
        "id": "86476e2a"
      },
      "source": [
        "### Train the model"
      ],
      "id": "86476e2a"
    },
    {
      "cell_type": "code",
      "execution_count": 19,
      "metadata": {
        "id": "24950481"
      },
      "outputs": [],
      "source": [
        "def train(dataloader, model, optimizer, criterion, epoch):\n",
        "    model.train()\n",
        "    total_acc, total_count = 0, 0\n",
        "    log_interval = 100\n",
        "\n",
        "    for idx, (label, text) in tqdm(enumerate(dataloader)):\n",
        "        optimizer.zero_grad()\n",
        "        predicted_label = model(text)\n",
        "\n",
        "        # Get the loss\n",
        "        loss = criterion(predicted_label, label)\n",
        "\n",
        "        # Do back propagation\n",
        "        loss.backward()\n",
        "\n",
        "        # Clip the gradients at 0.1\n",
        "        torch.nn.utils.clip_grad_norm_(model.parameters(), 0.1)\n",
        "\n",
        "        # Do an optimization step\n",
        "        optimizer.step()\n",
        "        total_acc += (predicted_label.argmax(1) == label).sum().item()\n",
        "        total_count += label.size(0)\n",
        "        if idx % log_interval == 0 and idx > 0:\n",
        "            print(\n",
        "                \"| epoch {:3d} | {:5d}/{:5d} batches \"\n",
        "                \"| accuracy {:8.3f}\".format(epoch, idx, len(dataloader), total_acc / total_count)\n",
        "            )\n",
        "            total_acc, total_count = 0, 0"
      ],
      "id": "24950481"
    },
    {
      "cell_type": "code",
      "execution_count": 20,
      "metadata": {
        "id": "39a702be"
      },
      "outputs": [],
      "source": [
        "def evaluate(dataloader, model):\n",
        "    model.eval()\n",
        "    total_acc, total_count = 0, 0\n",
        "\n",
        "    with torch.no_grad():\n",
        "        for idx, (label, text) in enumerate(dataloader):\n",
        "            predited_label = FILL\n",
        "            total_acc += FILL\n",
        "            total_count += FILL\n",
        "    return total_acc / total_count"
      ],
      "id": "39a702be"
    },
    {
      "cell_type": "code",
      "execution_count": null,
      "metadata": {
        "colab": {
          "base_uri": "https://localhost:8080/",
          "height": 582
        },
        "id": "a9e02c09",
        "outputId": "33c1c202-63af-42f3-83f0-19a1495a6c44"
      },
      "outputs": [
        {
          "output_type": "stream",
          "name": "stderr",
          "text": [
            "101it [02:45,  1.69s/it]"
          ]
        },
        {
          "output_type": "stream",
          "name": "stdout",
          "text": [
            "| epoch   1 |   100/ 7125 batches | accuracy    0.709\n"
          ]
        },
        {
          "output_type": "stream",
          "name": "stderr",
          "text": [
            "201it [05:22,  1.56s/it]"
          ]
        },
        {
          "output_type": "stream",
          "name": "stdout",
          "text": [
            "| epoch   1 |   200/ 7125 batches | accuracy    0.848\n"
          ]
        },
        {
          "output_type": "stream",
          "name": "stderr",
          "text": [
            "301it [07:50,  1.41s/it]"
          ]
        },
        {
          "output_type": "stream",
          "name": "stdout",
          "text": [
            "| epoch   1 |   300/ 7125 batches | accuracy    0.854\n"
          ]
        },
        {
          "output_type": "stream",
          "name": "stderr",
          "text": [
            "401it [10:35,  1.52s/it]"
          ]
        },
        {
          "output_type": "stream",
          "name": "stdout",
          "text": [
            "| epoch   1 |   400/ 7125 batches | accuracy    0.873\n"
          ]
        },
        {
          "output_type": "stream",
          "name": "stderr",
          "text": [
            "501it [13:10,  1.42s/it]"
          ]
        },
        {
          "output_type": "stream",
          "name": "stdout",
          "text": [
            "| epoch   1 |   500/ 7125 batches | accuracy    0.873\n"
          ]
        },
        {
          "output_type": "stream",
          "name": "stderr",
          "text": [
            "601it [15:51,  1.60s/it]"
          ]
        },
        {
          "output_type": "stream",
          "name": "stdout",
          "text": [
            "| epoch   1 |   600/ 7125 batches | accuracy    0.889\n"
          ]
        },
        {
          "output_type": "stream",
          "name": "stderr",
          "text": [
            "701it [18:22,  1.44s/it]"
          ]
        },
        {
          "output_type": "stream",
          "name": "stdout",
          "text": [
            "| epoch   1 |   700/ 7125 batches | accuracy    0.869\n"
          ]
        },
        {
          "output_type": "stream",
          "name": "stderr",
          "text": [
            "801it [21:08,  1.59s/it]"
          ]
        },
        {
          "output_type": "stream",
          "name": "stdout",
          "text": [
            "| epoch   1 |   800/ 7125 batches | accuracy    0.884\n"
          ]
        },
        {
          "output_type": "stream",
          "name": "stderr",
          "text": [
            "901it [24:05,  1.87s/it]"
          ]
        },
        {
          "output_type": "stream",
          "name": "stdout",
          "text": [
            "| epoch   1 |   900/ 7125 batches | accuracy    0.879\n"
          ]
        },
        {
          "output_type": "stream",
          "name": "stderr",
          "text": [
            "1001it [26:50,  2.03s/it]"
          ]
        },
        {
          "output_type": "stream",
          "name": "stdout",
          "text": [
            "| epoch   1 |  1000/ 7125 batches | accuracy    0.882\n"
          ]
        },
        {
          "output_type": "stream",
          "name": "stderr",
          "text": [
            "1082it [28:57,  1.61s/it]\n"
          ]
        },
        {
          "output_type": "error",
          "ename": "KeyboardInterrupt",
          "evalue": "ignored",
          "traceback": [
            "\u001b[0;31m---------------------------------------------------------------------------\u001b[0m",
            "\u001b[0;31mKeyboardInterrupt\u001b[0m                         Traceback (most recent call last)",
            "\u001b[0;32m<ipython-input-59-7e2b09365376>\u001b[0m in \u001b[0;36m<cell line: 2>\u001b[0;34m()\u001b[0m\n\u001b[1;32m      2\u001b[0m \u001b[0;32mfor\u001b[0m \u001b[0mepoch\u001b[0m \u001b[0;32min\u001b[0m \u001b[0mrange\u001b[0m\u001b[0;34m(\u001b[0m\u001b[0;36m1\u001b[0m\u001b[0;34m,\u001b[0m \u001b[0mNUM_EPOCHS\u001b[0m \u001b[0;34m+\u001b[0m \u001b[0;36m1\u001b[0m\u001b[0;34m)\u001b[0m\u001b[0;34m:\u001b[0m\u001b[0;34m\u001b[0m\u001b[0;34m\u001b[0m\u001b[0m\n\u001b[1;32m      3\u001b[0m     \u001b[0mepoch_start_time\u001b[0m \u001b[0;34m=\u001b[0m \u001b[0mtime\u001b[0m\u001b[0;34m.\u001b[0m\u001b[0mtime\u001b[0m\u001b[0;34m(\u001b[0m\u001b[0;34m)\u001b[0m\u001b[0;34m\u001b[0m\u001b[0;34m\u001b[0m\u001b[0m\n\u001b[0;32m----> 4\u001b[0;31m     \u001b[0mtrain\u001b[0m\u001b[0;34m(\u001b[0m\u001b[0mtrain_dataloader\u001b[0m\u001b[0;34m,\u001b[0m \u001b[0mmodel\u001b[0m\u001b[0;34m,\u001b[0m \u001b[0moptimizer\u001b[0m\u001b[0;34m,\u001b[0m \u001b[0mcriterion\u001b[0m\u001b[0;34m,\u001b[0m \u001b[0mepoch\u001b[0m\u001b[0;34m)\u001b[0m\u001b[0;34m\u001b[0m\u001b[0;34m\u001b[0m\u001b[0m\n\u001b[0m\u001b[1;32m      5\u001b[0m     \u001b[0maccu_val\u001b[0m \u001b[0;34m=\u001b[0m \u001b[0mevaluate\u001b[0m\u001b[0;34m(\u001b[0m\u001b[0mvalid_dataloader\u001b[0m\u001b[0;34m,\u001b[0m \u001b[0mmodel\u001b[0m\u001b[0;34m)\u001b[0m\u001b[0;34m\u001b[0m\u001b[0;34m\u001b[0m\u001b[0m\n\u001b[1;32m      6\u001b[0m     \u001b[0mscheduler\u001b[0m\u001b[0;34m.\u001b[0m\u001b[0mstep\u001b[0m\u001b[0;34m(\u001b[0m\u001b[0;34m)\u001b[0m\u001b[0;34m\u001b[0m\u001b[0;34m\u001b[0m\u001b[0m\n",
            "\u001b[0;32m<ipython-input-57-165f21298797>\u001b[0m in \u001b[0;36mtrain\u001b[0;34m(dataloader, model, optimizer, criterion, epoch)\u001b[0m\n\u001b[1;32m     12\u001b[0m \u001b[0;34m\u001b[0m\u001b[0m\n\u001b[1;32m     13\u001b[0m         \u001b[0;31m# Do back propagation\u001b[0m\u001b[0;34m\u001b[0m\u001b[0;34m\u001b[0m\u001b[0m\n\u001b[0;32m---> 14\u001b[0;31m         \u001b[0mloss\u001b[0m\u001b[0;34m.\u001b[0m\u001b[0mbackward\u001b[0m\u001b[0;34m(\u001b[0m\u001b[0;34m)\u001b[0m\u001b[0;34m\u001b[0m\u001b[0;34m\u001b[0m\u001b[0m\n\u001b[0m\u001b[1;32m     15\u001b[0m \u001b[0;34m\u001b[0m\u001b[0m\n\u001b[1;32m     16\u001b[0m         \u001b[0;31m# Clip the gradients at 0.1\u001b[0m\u001b[0;34m\u001b[0m\u001b[0;34m\u001b[0m\u001b[0m\n",
            "\u001b[0;32m/usr/local/lib/python3.10/dist-packages/torch/_tensor.py\u001b[0m in \u001b[0;36mbackward\u001b[0;34m(self, gradient, retain_graph, create_graph, inputs)\u001b[0m\n\u001b[1;32m    490\u001b[0m                 \u001b[0minputs\u001b[0m\u001b[0;34m=\u001b[0m\u001b[0minputs\u001b[0m\u001b[0;34m,\u001b[0m\u001b[0;34m\u001b[0m\u001b[0;34m\u001b[0m\u001b[0m\n\u001b[1;32m    491\u001b[0m             )\n\u001b[0;32m--> 492\u001b[0;31m         torch.autograd.backward(\n\u001b[0m\u001b[1;32m    493\u001b[0m             \u001b[0mself\u001b[0m\u001b[0;34m,\u001b[0m \u001b[0mgradient\u001b[0m\u001b[0;34m,\u001b[0m \u001b[0mretain_graph\u001b[0m\u001b[0;34m,\u001b[0m \u001b[0mcreate_graph\u001b[0m\u001b[0;34m,\u001b[0m \u001b[0minputs\u001b[0m\u001b[0;34m=\u001b[0m\u001b[0minputs\u001b[0m\u001b[0;34m\u001b[0m\u001b[0;34m\u001b[0m\u001b[0m\n\u001b[1;32m    494\u001b[0m         )\n",
            "\u001b[0;32m/usr/local/lib/python3.10/dist-packages/torch/autograd/__init__.py\u001b[0m in \u001b[0;36mbackward\u001b[0;34m(tensors, grad_tensors, retain_graph, create_graph, grad_variables, inputs)\u001b[0m\n\u001b[1;32m    249\u001b[0m     \u001b[0;31m# some Python versions print out the first line of a multi-line function\u001b[0m\u001b[0;34m\u001b[0m\u001b[0;34m\u001b[0m\u001b[0m\n\u001b[1;32m    250\u001b[0m     \u001b[0;31m# calls in the traceback and some print out the last line\u001b[0m\u001b[0;34m\u001b[0m\u001b[0;34m\u001b[0m\u001b[0m\n\u001b[0;32m--> 251\u001b[0;31m     Variable._execution_engine.run_backward(  # Calls into the C++ engine to run the backward pass\n\u001b[0m\u001b[1;32m    252\u001b[0m         \u001b[0mtensors\u001b[0m\u001b[0;34m,\u001b[0m\u001b[0;34m\u001b[0m\u001b[0;34m\u001b[0m\u001b[0m\n\u001b[1;32m    253\u001b[0m         \u001b[0mgrad_tensors_\u001b[0m\u001b[0;34m,\u001b[0m\u001b[0;34m\u001b[0m\u001b[0;34m\u001b[0m\u001b[0m\n",
            "\u001b[0;31mKeyboardInterrupt\u001b[0m: "
          ]
        }
      ],
      "source": [
        "# Train the RNNCNN model\n",
        "for epoch in range(1, NUM_EPOCHS + 1):\n",
        "    epoch_start_time = time.time()\n",
        "    train(train_dataloader, model, optimizer, criterion, epoch)\n",
        "    accu_val = evaluate(valid_dataloader, model)\n",
        "    scheduler.step()\n",
        "    print(\"-\" * 59)\n",
        "    print(\n",
        "        \"| end of epoch {:3d} | time: {:5.2f}s | \"\n",
        "        \"valid accuracy {:8.3f} \".format(epoch, time.time() - epoch_start_time, accu_val)\n",
        "    )\n",
        "    print(\"-\" * 59)\n",
        "\n",
        "print(\"Checking the results of test dataset.\")\n",
        "accu_test = evaluate(test_dataloader, model)\n",
        "print(\"test accuracy {:8.3f}\".format(accu_test))"
      ],
      "id": "a9e02c09"
    },
    {
      "cell_type": "code",
      "source": [
        "# Make a Conv Text model\n",
        "model = CNN1dTextClassificationModel(vocab_size=len(VOCAB), num_class=4)\n",
        "\n",
        "# Set the optimizer to SGD\n",
        "optimizer = torch.optim.SGD(model.parameters(), lr=LR)\n",
        "\n",
        "# Set the scheduler to StepLR with gamma=0.1 and step_size = 1.0\n",
        "scheduler = torch.optim.lr_scheduler.StepLR(optimizer, step_size=1, gamma=0.1)"
      ],
      "metadata": {
        "id": "WuTptBdCblhJ"
      },
      "id": "WuTptBdCblhJ",
      "execution_count": 21,
      "outputs": []
    },
    {
      "cell_type": "code",
      "execution_count": 25,
      "metadata": {
        "colab": {
          "base_uri": "https://localhost:8080/",
          "height": 651
        },
        "id": "9f3b2754",
        "outputId": "5658b4d6-8328-49a9-a5a5-22ae511fb687"
      },
      "outputs": [
        {
          "output_type": "stream",
          "name": "stderr",
          "text": [
            "102it [00:08, 13.30it/s]"
          ]
        },
        {
          "output_type": "stream",
          "name": "stdout",
          "text": [
            "| epoch   1 |   100/ 7125 batches | accuracy    0.743\n"
          ]
        },
        {
          "output_type": "stream",
          "name": "stderr",
          "text": [
            "202it [00:15, 13.79it/s]"
          ]
        },
        {
          "output_type": "stream",
          "name": "stdout",
          "text": [
            "| epoch   1 |   200/ 7125 batches | accuracy    0.758\n"
          ]
        },
        {
          "output_type": "stream",
          "name": "stderr",
          "text": [
            "302it [00:23, 13.51it/s]"
          ]
        },
        {
          "output_type": "stream",
          "name": "stdout",
          "text": [
            "| epoch   1 |   300/ 7125 batches | accuracy    0.757\n"
          ]
        },
        {
          "output_type": "stream",
          "name": "stderr",
          "text": [
            "402it [00:31, 10.48it/s]"
          ]
        },
        {
          "output_type": "stream",
          "name": "stdout",
          "text": [
            "| epoch   1 |   400/ 7125 batches | accuracy    0.749\n"
          ]
        },
        {
          "output_type": "stream",
          "name": "stderr",
          "text": [
            "502it [00:38, 13.50it/s]"
          ]
        },
        {
          "output_type": "stream",
          "name": "stdout",
          "text": [
            "| epoch   1 |   500/ 7125 batches | accuracy    0.732\n"
          ]
        },
        {
          "output_type": "stream",
          "name": "stderr",
          "text": [
            "602it [00:46, 13.70it/s]"
          ]
        },
        {
          "output_type": "stream",
          "name": "stdout",
          "text": [
            "| epoch   1 |   600/ 7125 batches | accuracy    0.758\n"
          ]
        },
        {
          "output_type": "stream",
          "name": "stderr",
          "text": [
            "702it [00:54, 13.26it/s]"
          ]
        },
        {
          "output_type": "stream",
          "name": "stdout",
          "text": [
            "| epoch   1 |   700/ 7125 batches | accuracy    0.755\n"
          ]
        },
        {
          "output_type": "stream",
          "name": "stderr",
          "text": [
            "802it [01:02, 13.43it/s]"
          ]
        },
        {
          "output_type": "stream",
          "name": "stdout",
          "text": [
            "| epoch   1 |   800/ 7125 batches | accuracy    0.726\n"
          ]
        },
        {
          "output_type": "stream",
          "name": "stderr",
          "text": [
            "902it [01:09, 10.78it/s]"
          ]
        },
        {
          "output_type": "stream",
          "name": "stdout",
          "text": [
            "| epoch   1 |   900/ 7125 batches | accuracy    0.743\n"
          ]
        },
        {
          "output_type": "stream",
          "name": "stderr",
          "text": [
            "1002it [01:17, 13.53it/s]"
          ]
        },
        {
          "output_type": "stream",
          "name": "stdout",
          "text": [
            "| epoch   1 |  1000/ 7125 batches | accuracy    0.725\n"
          ]
        },
        {
          "output_type": "stream",
          "name": "stderr",
          "text": [
            "1102it [01:25, 13.17it/s]"
          ]
        },
        {
          "output_type": "stream",
          "name": "stdout",
          "text": [
            "| epoch   1 |  1100/ 7125 batches | accuracy    0.768\n"
          ]
        },
        {
          "output_type": "stream",
          "name": "stderr",
          "text": [
            "1202it [01:32, 13.79it/s]"
          ]
        },
        {
          "output_type": "stream",
          "name": "stdout",
          "text": [
            "| epoch   1 |  1200/ 7125 batches | accuracy    0.736\n"
          ]
        },
        {
          "output_type": "stream",
          "name": "stderr",
          "text": [
            "1302it [01:40, 13.75it/s]"
          ]
        },
        {
          "output_type": "stream",
          "name": "stdout",
          "text": [
            "| epoch   1 |  1300/ 7125 batches | accuracy    0.752\n"
          ]
        },
        {
          "output_type": "stream",
          "name": "stderr",
          "text": [
            "1402it [01:48, 10.22it/s]"
          ]
        },
        {
          "output_type": "stream",
          "name": "stdout",
          "text": [
            "| epoch   1 |  1400/ 7125 batches | accuracy    0.724\n"
          ]
        },
        {
          "output_type": "stream",
          "name": "stderr",
          "text": [
            "1435it [01:51, 12.91it/s]\n"
          ]
        },
        {
          "output_type": "error",
          "ename": "KeyboardInterrupt",
          "evalue": "ignored",
          "traceback": [
            "\u001b[0;31m---------------------------------------------------------------------------\u001b[0m",
            "\u001b[0;31mKeyboardInterrupt\u001b[0m                         Traceback (most recent call last)",
            "\u001b[0;32m<ipython-input-25-74ccc28dc3db>\u001b[0m in \u001b[0;36m<cell line: 2>\u001b[0;34m()\u001b[0m\n\u001b[1;32m      2\u001b[0m \u001b[0;32mfor\u001b[0m \u001b[0mepoch\u001b[0m \u001b[0;32min\u001b[0m \u001b[0mrange\u001b[0m\u001b[0;34m(\u001b[0m\u001b[0;36m1\u001b[0m\u001b[0;34m,\u001b[0m \u001b[0mNUM_EPOCHS\u001b[0m \u001b[0;34m+\u001b[0m \u001b[0;36m1\u001b[0m\u001b[0;34m)\u001b[0m\u001b[0;34m:\u001b[0m\u001b[0;34m\u001b[0m\u001b[0;34m\u001b[0m\u001b[0m\n\u001b[1;32m      3\u001b[0m     \u001b[0mepoch_start_time\u001b[0m \u001b[0;34m=\u001b[0m \u001b[0mtime\u001b[0m\u001b[0;34m.\u001b[0m\u001b[0mtime\u001b[0m\u001b[0;34m(\u001b[0m\u001b[0;34m)\u001b[0m\u001b[0;34m\u001b[0m\u001b[0;34m\u001b[0m\u001b[0m\n\u001b[0;32m----> 4\u001b[0;31m     \u001b[0mtrain\u001b[0m\u001b[0;34m(\u001b[0m\u001b[0mtrain_dataloader\u001b[0m\u001b[0;34m,\u001b[0m \u001b[0mmodel\u001b[0m\u001b[0;34m,\u001b[0m \u001b[0moptimizer\u001b[0m\u001b[0;34m,\u001b[0m \u001b[0mcriterion\u001b[0m\u001b[0;34m,\u001b[0m \u001b[0mepoch\u001b[0m\u001b[0;34m)\u001b[0m\u001b[0;34m\u001b[0m\u001b[0;34m\u001b[0m\u001b[0m\n\u001b[0m\u001b[1;32m      5\u001b[0m     \u001b[0maccu_val\u001b[0m \u001b[0;34m=\u001b[0m \u001b[0mevaluate\u001b[0m\u001b[0;34m(\u001b[0m\u001b[0mvalid_dataloader\u001b[0m\u001b[0;34m,\u001b[0m \u001b[0mmodel\u001b[0m\u001b[0;34m)\u001b[0m\u001b[0;34m\u001b[0m\u001b[0;34m\u001b[0m\u001b[0m\n\u001b[1;32m      6\u001b[0m     \u001b[0mscheduler\u001b[0m\u001b[0;34m.\u001b[0m\u001b[0mstep\u001b[0m\u001b[0;34m(\u001b[0m\u001b[0;34m)\u001b[0m\u001b[0;34m\u001b[0m\u001b[0;34m\u001b[0m\u001b[0m\n",
            "\u001b[0;32m<ipython-input-19-165f21298797>\u001b[0m in \u001b[0;36mtrain\u001b[0;34m(dataloader, model, optimizer, criterion, epoch)\u001b[0m\n\u001b[1;32m      6\u001b[0m     \u001b[0;32mfor\u001b[0m \u001b[0midx\u001b[0m\u001b[0;34m,\u001b[0m \u001b[0;34m(\u001b[0m\u001b[0mlabel\u001b[0m\u001b[0;34m,\u001b[0m \u001b[0mtext\u001b[0m\u001b[0;34m)\u001b[0m \u001b[0;32min\u001b[0m \u001b[0mtqdm\u001b[0m\u001b[0;34m(\u001b[0m\u001b[0menumerate\u001b[0m\u001b[0;34m(\u001b[0m\u001b[0mdataloader\u001b[0m\u001b[0;34m)\u001b[0m\u001b[0;34m)\u001b[0m\u001b[0;34m:\u001b[0m\u001b[0;34m\u001b[0m\u001b[0;34m\u001b[0m\u001b[0m\n\u001b[1;32m      7\u001b[0m         \u001b[0moptimizer\u001b[0m\u001b[0;34m.\u001b[0m\u001b[0mzero_grad\u001b[0m\u001b[0;34m(\u001b[0m\u001b[0;34m)\u001b[0m\u001b[0;34m\u001b[0m\u001b[0;34m\u001b[0m\u001b[0m\n\u001b[0;32m----> 8\u001b[0;31m         \u001b[0mpredicted_label\u001b[0m \u001b[0;34m=\u001b[0m \u001b[0mmodel\u001b[0m\u001b[0;34m(\u001b[0m\u001b[0mtext\u001b[0m\u001b[0;34m)\u001b[0m\u001b[0;34m\u001b[0m\u001b[0;34m\u001b[0m\u001b[0m\n\u001b[0m\u001b[1;32m      9\u001b[0m \u001b[0;34m\u001b[0m\u001b[0m\n\u001b[1;32m     10\u001b[0m         \u001b[0;31m# Get the loss\u001b[0m\u001b[0;34m\u001b[0m\u001b[0;34m\u001b[0m\u001b[0m\n",
            "\u001b[0;32m/usr/local/lib/python3.10/dist-packages/torch/nn/modules/module.py\u001b[0m in \u001b[0;36m_wrapped_call_impl\u001b[0;34m(self, *args, **kwargs)\u001b[0m\n\u001b[1;32m   1516\u001b[0m             \u001b[0;32mreturn\u001b[0m \u001b[0mself\u001b[0m\u001b[0;34m.\u001b[0m\u001b[0m_compiled_call_impl\u001b[0m\u001b[0;34m(\u001b[0m\u001b[0;34m*\u001b[0m\u001b[0margs\u001b[0m\u001b[0;34m,\u001b[0m \u001b[0;34m**\u001b[0m\u001b[0mkwargs\u001b[0m\u001b[0;34m)\u001b[0m  \u001b[0;31m# type: ignore[misc]\u001b[0m\u001b[0;34m\u001b[0m\u001b[0;34m\u001b[0m\u001b[0m\n\u001b[1;32m   1517\u001b[0m         \u001b[0;32melse\u001b[0m\u001b[0;34m:\u001b[0m\u001b[0;34m\u001b[0m\u001b[0;34m\u001b[0m\u001b[0m\n\u001b[0;32m-> 1518\u001b[0;31m             \u001b[0;32mreturn\u001b[0m \u001b[0mself\u001b[0m\u001b[0;34m.\u001b[0m\u001b[0m_call_impl\u001b[0m\u001b[0;34m(\u001b[0m\u001b[0;34m*\u001b[0m\u001b[0margs\u001b[0m\u001b[0;34m,\u001b[0m \u001b[0;34m**\u001b[0m\u001b[0mkwargs\u001b[0m\u001b[0;34m)\u001b[0m\u001b[0;34m\u001b[0m\u001b[0;34m\u001b[0m\u001b[0m\n\u001b[0m\u001b[1;32m   1519\u001b[0m \u001b[0;34m\u001b[0m\u001b[0m\n\u001b[1;32m   1520\u001b[0m     \u001b[0;32mdef\u001b[0m \u001b[0m_call_impl\u001b[0m\u001b[0;34m(\u001b[0m\u001b[0mself\u001b[0m\u001b[0;34m,\u001b[0m \u001b[0;34m*\u001b[0m\u001b[0margs\u001b[0m\u001b[0;34m,\u001b[0m \u001b[0;34m**\u001b[0m\u001b[0mkwargs\u001b[0m\u001b[0;34m)\u001b[0m\u001b[0;34m:\u001b[0m\u001b[0;34m\u001b[0m\u001b[0;34m\u001b[0m\u001b[0m\n",
            "\u001b[0;32m/usr/local/lib/python3.10/dist-packages/torch/nn/modules/module.py\u001b[0m in \u001b[0;36m_call_impl\u001b[0;34m(self, *args, **kwargs)\u001b[0m\n\u001b[1;32m   1525\u001b[0m                 \u001b[0;32mor\u001b[0m \u001b[0m_global_backward_pre_hooks\u001b[0m \u001b[0;32mor\u001b[0m \u001b[0m_global_backward_hooks\u001b[0m\u001b[0;34m\u001b[0m\u001b[0;34m\u001b[0m\u001b[0m\n\u001b[1;32m   1526\u001b[0m                 or _global_forward_hooks or _global_forward_pre_hooks):\n\u001b[0;32m-> 1527\u001b[0;31m             \u001b[0;32mreturn\u001b[0m \u001b[0mforward_call\u001b[0m\u001b[0;34m(\u001b[0m\u001b[0;34m*\u001b[0m\u001b[0margs\u001b[0m\u001b[0;34m,\u001b[0m \u001b[0;34m**\u001b[0m\u001b[0mkwargs\u001b[0m\u001b[0;34m)\u001b[0m\u001b[0;34m\u001b[0m\u001b[0;34m\u001b[0m\u001b[0m\n\u001b[0m\u001b[1;32m   1528\u001b[0m \u001b[0;34m\u001b[0m\u001b[0m\n\u001b[1;32m   1529\u001b[0m         \u001b[0;32mtry\u001b[0m\u001b[0;34m:\u001b[0m\u001b[0;34m\u001b[0m\u001b[0;34m\u001b[0m\u001b[0m\n",
            "\u001b[0;32m<ipython-input-15-472f3bfc3d38>\u001b[0m in \u001b[0;36mforward\u001b[0;34m(self, text)\u001b[0m\n\u001b[1;32m     93\u001b[0m         \u001b[0;31m# B X 1 in all cases\u001b[0m\u001b[0;34m\u001b[0m\u001b[0;34m\u001b[0m\u001b[0m\n\u001b[1;32m     94\u001b[0m         \u001b[0;31m# Apply max pooling to each of cnn2, cnn3 and cnn4\u001b[0m\u001b[0;34m\u001b[0m\u001b[0;34m\u001b[0m\u001b[0m\n\u001b[0;32m---> 95\u001b[0;31m         \u001b[0mcnn2\u001b[0m \u001b[0;34m=\u001b[0m \u001b[0mF\u001b[0m\u001b[0;34m.\u001b[0m\u001b[0mmax_pool1d\u001b[0m\u001b[0;34m(\u001b[0m\u001b[0mcnn2\u001b[0m\u001b[0;34m,\u001b[0m \u001b[0mcnn2\u001b[0m\u001b[0;34m.\u001b[0m\u001b[0msize\u001b[0m\u001b[0;34m(\u001b[0m\u001b[0;36m2\u001b[0m\u001b[0;34m)\u001b[0m\u001b[0;34m)\u001b[0m\u001b[0;34m.\u001b[0m\u001b[0msqueeze\u001b[0m\u001b[0;34m(\u001b[0m\u001b[0;36m2\u001b[0m\u001b[0;34m)\u001b[0m\u001b[0;34m\u001b[0m\u001b[0;34m\u001b[0m\u001b[0m\n\u001b[0m\u001b[1;32m     96\u001b[0m         \u001b[0mcnn3\u001b[0m \u001b[0;34m=\u001b[0m \u001b[0mF\u001b[0m\u001b[0;34m.\u001b[0m\u001b[0mmax_pool1d\u001b[0m\u001b[0;34m(\u001b[0m\u001b[0mcnn3\u001b[0m\u001b[0;34m,\u001b[0m \u001b[0mcnn3\u001b[0m\u001b[0;34m.\u001b[0m\u001b[0msize\u001b[0m\u001b[0;34m(\u001b[0m\u001b[0;36m2\u001b[0m\u001b[0;34m)\u001b[0m\u001b[0;34m)\u001b[0m\u001b[0;34m.\u001b[0m\u001b[0msqueeze\u001b[0m\u001b[0;34m(\u001b[0m\u001b[0;36m2\u001b[0m\u001b[0;34m)\u001b[0m\u001b[0;34m\u001b[0m\u001b[0;34m\u001b[0m\u001b[0m\n\u001b[1;32m     97\u001b[0m         \u001b[0mcnn4\u001b[0m \u001b[0;34m=\u001b[0m \u001b[0mF\u001b[0m\u001b[0;34m.\u001b[0m\u001b[0mmax_pool1d\u001b[0m\u001b[0;34m(\u001b[0m\u001b[0mcnn4\u001b[0m\u001b[0;34m,\u001b[0m \u001b[0mcnn4\u001b[0m\u001b[0;34m.\u001b[0m\u001b[0msize\u001b[0m\u001b[0;34m(\u001b[0m\u001b[0;36m2\u001b[0m\u001b[0;34m)\u001b[0m\u001b[0;34m)\u001b[0m\u001b[0;34m.\u001b[0m\u001b[0msqueeze\u001b[0m\u001b[0;34m(\u001b[0m\u001b[0;36m2\u001b[0m\u001b[0;34m)\u001b[0m\u001b[0;34m\u001b[0m\u001b[0;34m\u001b[0m\u001b[0m\n",
            "\u001b[0;32m/usr/local/lib/python3.10/dist-packages/torch/fx/traceback.py\u001b[0m in \u001b[0;36mformat_stack\u001b[0;34m()\u001b[0m\n\u001b[1;32m     66\u001b[0m     \u001b[0;32melse\u001b[0m\u001b[0;34m:\u001b[0m\u001b[0;34m\u001b[0m\u001b[0;34m\u001b[0m\u001b[0m\n\u001b[1;32m     67\u001b[0m         \u001b[0;31m# fallback to traceback.format_stack()\u001b[0m\u001b[0;34m\u001b[0m\u001b[0;34m\u001b[0m\u001b[0m\n\u001b[0;32m---> 68\u001b[0;31m         \u001b[0;32mreturn\u001b[0m \u001b[0mtraceback\u001b[0m\u001b[0;34m.\u001b[0m\u001b[0mformat_list\u001b[0m\u001b[0;34m(\u001b[0m\u001b[0mtraceback\u001b[0m\u001b[0;34m.\u001b[0m\u001b[0mextract_stack\u001b[0m\u001b[0;34m(\u001b[0m\u001b[0;34m)\u001b[0m\u001b[0;34m[\u001b[0m\u001b[0;34m:\u001b[0m\u001b[0;34m-\u001b[0m\u001b[0;36m1\u001b[0m\u001b[0;34m]\u001b[0m\u001b[0;34m)\u001b[0m\u001b[0;34m\u001b[0m\u001b[0;34m\u001b[0m\u001b[0m\n\u001b[0m\u001b[1;32m     69\u001b[0m \u001b[0;34m\u001b[0m\u001b[0m\n\u001b[1;32m     70\u001b[0m \u001b[0;34m\u001b[0m\u001b[0m\n",
            "\u001b[0;32m/usr/lib/python3.10/traceback.py\u001b[0m in \u001b[0;36mextract_stack\u001b[0;34m(f, limit)\u001b[0m\n\u001b[1;32m    225\u001b[0m     \u001b[0;32mif\u001b[0m \u001b[0mf\u001b[0m \u001b[0;32mis\u001b[0m \u001b[0;32mNone\u001b[0m\u001b[0;34m:\u001b[0m\u001b[0;34m\u001b[0m\u001b[0;34m\u001b[0m\u001b[0m\n\u001b[1;32m    226\u001b[0m         \u001b[0mf\u001b[0m \u001b[0;34m=\u001b[0m \u001b[0msys\u001b[0m\u001b[0;34m.\u001b[0m\u001b[0m_getframe\u001b[0m\u001b[0;34m(\u001b[0m\u001b[0;34m)\u001b[0m\u001b[0;34m.\u001b[0m\u001b[0mf_back\u001b[0m\u001b[0;34m\u001b[0m\u001b[0;34m\u001b[0m\u001b[0m\n\u001b[0;32m--> 227\u001b[0;31m     \u001b[0mstack\u001b[0m \u001b[0;34m=\u001b[0m \u001b[0mStackSummary\u001b[0m\u001b[0;34m.\u001b[0m\u001b[0mextract\u001b[0m\u001b[0;34m(\u001b[0m\u001b[0mwalk_stack\u001b[0m\u001b[0;34m(\u001b[0m\u001b[0mf\u001b[0m\u001b[0;34m)\u001b[0m\u001b[0;34m,\u001b[0m \u001b[0mlimit\u001b[0m\u001b[0;34m=\u001b[0m\u001b[0mlimit\u001b[0m\u001b[0;34m)\u001b[0m\u001b[0;34m\u001b[0m\u001b[0;34m\u001b[0m\u001b[0m\n\u001b[0m\u001b[1;32m    228\u001b[0m     \u001b[0mstack\u001b[0m\u001b[0;34m.\u001b[0m\u001b[0mreverse\u001b[0m\u001b[0;34m(\u001b[0m\u001b[0;34m)\u001b[0m\u001b[0;34m\u001b[0m\u001b[0;34m\u001b[0m\u001b[0m\n\u001b[1;32m    229\u001b[0m     \u001b[0;32mreturn\u001b[0m \u001b[0mstack\u001b[0m\u001b[0;34m\u001b[0m\u001b[0;34m\u001b[0m\u001b[0m\n",
            "\u001b[0;32m/usr/lib/python3.10/traceback.py\u001b[0m in \u001b[0;36mextract\u001b[0;34m(klass, frame_gen, limit, lookup_lines, capture_locals)\u001b[0m\n\u001b[1;32m    374\u001b[0m             \u001b[0;32melse\u001b[0m\u001b[0;34m:\u001b[0m\u001b[0;34m\u001b[0m\u001b[0;34m\u001b[0m\u001b[0m\n\u001b[1;32m    375\u001b[0m                 \u001b[0mf_locals\u001b[0m \u001b[0;34m=\u001b[0m \u001b[0;32mNone\u001b[0m\u001b[0;34m\u001b[0m\u001b[0;34m\u001b[0m\u001b[0m\n\u001b[0;32m--> 376\u001b[0;31m             result.append(FrameSummary(\n\u001b[0m\u001b[1;32m    377\u001b[0m                 filename, lineno, name, lookup_line=False, locals=f_locals))\n\u001b[1;32m    378\u001b[0m         \u001b[0;32mfor\u001b[0m \u001b[0mfilename\u001b[0m \u001b[0;32min\u001b[0m \u001b[0mfnames\u001b[0m\u001b[0;34m:\u001b[0m\u001b[0;34m\u001b[0m\u001b[0;34m\u001b[0m\u001b[0m\n",
            "\u001b[0;32m/usr/lib/python3.10/traceback.py\u001b[0m in \u001b[0;36m__init__\u001b[0;34m(self, filename, lineno, name, lookup_line, locals, line)\u001b[0m\n\u001b[1;32m    272\u001b[0m         \u001b[0mself\u001b[0m\u001b[0;34m.\u001b[0m\u001b[0mname\u001b[0m \u001b[0;34m=\u001b[0m \u001b[0mname\u001b[0m\u001b[0;34m\u001b[0m\u001b[0;34m\u001b[0m\u001b[0m\n\u001b[1;32m    273\u001b[0m         \u001b[0mself\u001b[0m\u001b[0;34m.\u001b[0m\u001b[0m_line\u001b[0m \u001b[0;34m=\u001b[0m \u001b[0mline\u001b[0m\u001b[0;34m\u001b[0m\u001b[0;34m\u001b[0m\u001b[0m\n\u001b[0;32m--> 274\u001b[0;31m         \u001b[0;32mif\u001b[0m \u001b[0mlookup_line\u001b[0m\u001b[0;34m:\u001b[0m\u001b[0;34m\u001b[0m\u001b[0;34m\u001b[0m\u001b[0m\n\u001b[0m\u001b[1;32m    275\u001b[0m             \u001b[0mself\u001b[0m\u001b[0;34m.\u001b[0m\u001b[0mline\u001b[0m\u001b[0;34m\u001b[0m\u001b[0;34m\u001b[0m\u001b[0m\n\u001b[1;32m    276\u001b[0m         \u001b[0mself\u001b[0m\u001b[0;34m.\u001b[0m\u001b[0mlocals\u001b[0m \u001b[0;34m=\u001b[0m \u001b[0;34m{\u001b[0m\u001b[0mk\u001b[0m\u001b[0;34m:\u001b[0m \u001b[0mrepr\u001b[0m\u001b[0;34m(\u001b[0m\u001b[0mv\u001b[0m\u001b[0;34m)\u001b[0m \u001b[0;32mfor\u001b[0m \u001b[0mk\u001b[0m\u001b[0;34m,\u001b[0m \u001b[0mv\u001b[0m \u001b[0;32min\u001b[0m \u001b[0mlocals\u001b[0m\u001b[0;34m.\u001b[0m\u001b[0mitems\u001b[0m\u001b[0;34m(\u001b[0m\u001b[0;34m)\u001b[0m\u001b[0;34m}\u001b[0m \u001b[0;32mif\u001b[0m \u001b[0mlocals\u001b[0m \u001b[0;32melse\u001b[0m \u001b[0;32mNone\u001b[0m\u001b[0;34m\u001b[0m\u001b[0;34m\u001b[0m\u001b[0m\n",
            "\u001b[0;31mKeyboardInterrupt\u001b[0m: "
          ]
        }
      ],
      "source": [
        "# Train the Conv1d model\n",
        "for epoch in range(1, NUM_EPOCHS + 1):\n",
        "    epoch_start_time = time.time()\n",
        "    train(train_dataloader, model, optimizer, criterion, epoch)\n",
        "    accu_val = evaluate(valid_dataloader, model)\n",
        "    scheduler.step()\n",
        "    print(\"-\" * 59)\n",
        "    print(\n",
        "        \"| end of epoch {:3d} | time: {:5.2f}s | \"\n",
        "        \"valid accuracy {:8.3f} \".format(epoch, time.time() - epoch_start_time, accu_val)\n",
        "    )\n",
        "    print(\"-\" * 59)\n",
        "\n",
        "print(\"Checking the results of test dataset.\")\n",
        "accu_test = evaluate(test_dataloader, model)\n",
        "print(\"test accuracy {:8.3f}\".format(accu_test))"
      ],
      "id": "9f3b2754"
    },
    {
      "cell_type": "markdown",
      "source": [
        "Why do you think this CNN does not do very well on this data? Also, please explain why. (Hint: the answer is fairly short)"
      ],
      "metadata": {
        "id": "gpNahYfwi_eT"
      },
      "id": "gpNahYfwi_eT"
    },
    {
      "cell_type": "markdown",
      "source": [
        "Because this CNN has no non-linearity. So, the model cannot capture any non-lineary relationship. The model maybe not complex enough to capture the pattern in the dataset.\n",
        "Plus, This CNN cannot capture the long-term information from the data. The CNN window size are 2,3,and 4. The AG_NEWS is about news topic classification. But we can only gain little information from 4 words. So, the CNN doesn't do well on the data.\n"
      ],
      "metadata": {
        "id": "z--jsMutlyF-"
      },
      "id": "z--jsMutlyF-"
    }
  ],
  "metadata": {
    "colab": {
      "provenance": [],
      "gpuType": "V100",
      "machine_shape": "hm"
    },
    "kernelspec": {
      "display_name": "Python 3",
      "name": "python3"
    },
    "language_info": {
      "codemirror_mode": {
        "name": "ipython",
        "version": 3
      },
      "file_extension": ".py",
      "mimetype": "text/x-python",
      "name": "python",
      "nbconvert_exporter": "python",
      "pygments_lexer": "ipython3",
      "version": "3.8.15"
    },
    "accelerator": "GPU"
  },
  "nbformat": 4,
  "nbformat_minor": 5
}