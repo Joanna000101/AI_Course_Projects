{
  "cells": [
    {
      "cell_type": "code",
      "execution_count": 1,
      "id": "080d50fc",
      "metadata": {
        "id": "080d50fc"
      },
      "outputs": [],
      "source": [
        "import time\n",
        "import torch\n",
        "from torch.utils.data import DataLoader, TensorDataset\n",
        "from torchtext.data.utils import get_tokenizer\n",
        "from torchtext.datasets import DATASETS\n",
        "from torchtext.vocab import build_vocab_from_iterator\n",
        "import torch.nn as nn\n",
        "from tqdm import tqdm\n",
        "import pickle\n",
        "import random\n",
        "import numpy as np\n",
        "from collections import Counter, defaultdict\n",
        "import numpy as np\n",
        "import matplotlib.pyplot as plt\n",
        "from sklearn.decomposition import PCA\n",
        "from gensim.test.utils import datapath, get_tmpfile\n",
        "from gensim.models import KeyedVectors\n",
        "import gensim.downloader\n",
        "from torch import FloatTensor as FT\n",
        "\n",
        "# Get the interactive Tools for Matplotlib\n",
        "%matplotlib notebook\n",
        "%matplotlib inline\n",
        "\n",
        "plt.style.use('ggplot')"
      ]
    },
    {
      "cell_type": "code",
      "execution_count": null,
      "id": "f5419c32",
      "metadata": {
        "id": "f5419c32"
      },
      "outputs": [],
      "source": []
    },
    {
      "cell_type": "markdown",
      "id": "66eb271d",
      "metadata": {
        "id": "66eb271d"
      },
      "source": [
        "### Instructions\n",
        "For this part, fill in the required code and make the notebook work. This wll be very similar to the Skip-Gram model, but a little more difficult. Look for the \"\"\" FILL IN \"\"\" string to guide you."
      ]
    },
    {
      "cell_type": "code",
      "execution_count": 2,
      "id": "31b412ca",
      "metadata": {
        "id": "31b412ca"
      },
      "outputs": [],
      "source": [
        "# Where do I want to run my job. You can do \"cuda\" on linux machines\n",
        "DEVICE = \"mps\" if torch.backends.mps.is_available() else  \"cpu\"\n",
        "# DEVICE = \"cuda\" if torch.cuda.is_available() else  \"cpu\"\n",
        "\n",
        "# The batch size in Adam or SGD\n",
        "BATCH_SIZE = 512\n",
        "\n",
        "# Number of epochs\n",
        "NUM_EPOCHS = 10\n",
        "\n",
        "# Predict from 2 words the inner word for CBOW\n",
        "# I.e. I'll have a window like [\"a\", \"b\", \"c\"] of continuous text (each is a word)\n",
        "# We'll predict each of wc = [\"a\", \"c\"] from \"b\" = wc for Skip-Gram\n",
        "# For CBOW, we'll use [\"a\", \"c\"] to predict \"b\" = wo\n",
        "WINDOW = 1\n",
        "\n",
        "# Negative samples.\n",
        "K = 4"
      ]
    },
    {
      "cell_type": "code",
      "execution_count": null,
      "id": "e3311ae5",
      "metadata": {
        "id": "e3311ae5"
      },
      "outputs": [],
      "source": []
    },
    {
      "cell_type": "markdown",
      "id": "3ec9f90a",
      "metadata": {
        "id": "3ec9f90a"
      },
      "source": [
        "The text8 Wikipedia corpus. 100M characters."
      ]
    },
    {
      "cell_type": "code",
      "execution_count": 3,
      "id": "3217b67b",
      "metadata": {
        "colab": {
          "base_uri": "https://localhost:8080/"
        },
        "id": "3217b67b",
        "outputId": "ebd6443f-f453-4349-88b1-e5aa0445b910"
      },
      "outputs": [
        {
          "name": "stdout",
          "output_type": "stream",
          "text": [
            "Mounted at /content/drive\n",
            "du: cannot access 'text8': No such file or directory\n",
            "100000000\n"
          ]
        }
      ],
      "source": [
        "# Put the data in your Google Drive\n",
        "# You can get the data from the HW page\n",
        "from google.colab import drive\n",
        "drive.mount('/content/drive')\n",
        "\n",
        "!du -h text8\n",
        "\n",
        "f = open('/content/drive/MyDrive/Colab Notebooks/text8', 'r')\n",
        "#/content/drive/MyDrive/Colab Notebooks/text8\n",
        "text = f.read()\n",
        "# One big string of size 100M\n",
        "print(len(text))"
      ]
    },
    {
      "cell_type": "code",
      "execution_count": 4,
      "id": "6c1bf892",
      "metadata": {
        "id": "6c1bf892"
      },
      "outputs": [],
      "source": [
        "punc = '!\"#$%&()*+,-./:;<=>?@[\\\\]^_\\'{|}~\\t\\n'\n",
        "\n",
        "# Can do regular expressions here too\n",
        "for c in punc:\n",
        "    if c in text:\n",
        "        text.replace(c, ' ')"
      ]
    },
    {
      "cell_type": "code",
      "execution_count": null,
      "id": "451bf3ab",
      "metadata": {
        "id": "451bf3ab"
      },
      "outputs": [],
      "source": []
    },
    {
      "cell_type": "code",
      "execution_count": 5,
      "id": "0bc19b0c",
      "metadata": {
        "id": "0bc19b0c"
      },
      "outputs": [],
      "source": [
        "# A very crude tokenizer you get for free: lower case and also split on spaces\n",
        "TOKENIZER = get_tokenizer(\"basic_english\")"
      ]
    },
    {
      "cell_type": "code",
      "execution_count": 6,
      "id": "ff8fd598",
      "metadata": {
        "id": "ff8fd598"
      },
      "outputs": [],
      "source": [
        "words = TOKENIZER(text)\n",
        "f = Counter(words)"
      ]
    },
    {
      "cell_type": "code",
      "execution_count": 7,
      "id": "ba7f72f8",
      "metadata": {
        "colab": {
          "base_uri": "https://localhost:8080/"
        },
        "id": "ba7f72f8",
        "outputId": "9baa1806-f19c-4d9f-e097-82a50eee4c57"
      },
      "outputs": [
        {
          "data": {
            "text/plain": [
              "17005207"
            ]
          },
          "execution_count": 7,
          "metadata": {},
          "output_type": "execute_result"
        }
      ],
      "source": [
        "len(words)"
      ]
    },
    {
      "cell_type": "code",
      "execution_count": 9,
      "id": "16b736a4",
      "metadata": {
        "id": "16b736a4"
      },
      "outputs": [],
      "source": [
        "# Do a very crude filter on the text which removes all very popular words\n",
        "text = [word for word in words if f[word] > 5]"
      ]
    },
    {
      "cell_type": "code",
      "execution_count": 10,
      "id": "6916a763",
      "metadata": {
        "colab": {
          "base_uri": "https://localhost:8080/"
        },
        "id": "6916a763",
        "outputId": "9b22e47d-3f64-4c58-fd8d-5a22b80301a6"
      },
      "outputs": [
        {
          "data": {
            "text/plain": [
              "['anarchism', 'originated', 'as', 'a', 'term']"
            ]
          },
          "execution_count": 10,
          "metadata": {},
          "output_type": "execute_result"
        }
      ],
      "source": [
        "text[0:5]"
      ]
    },
    {
      "cell_type": "code",
      "execution_count": 11,
      "id": "10ad817a",
      "metadata": {
        "id": "10ad817a"
      },
      "outputs": [],
      "source": [
        "VOCAB = build_vocab_from_iterator([text])"
      ]
    },
    {
      "cell_type": "code",
      "execution_count": 12,
      "id": "a7f69fc9",
      "metadata": {
        "id": "a7f69fc9"
      },
      "outputs": [],
      "source": [
        "# word -> int hash map, str to int\n",
        "stoi = VOCAB.get_stoi()\n",
        "# int -> word hash map, into to str\n",
        "itos = VOCAB.get_itos()"
      ]
    },
    {
      "cell_type": "code",
      "execution_count": 13,
      "id": "9991f9ab",
      "metadata": {
        "colab": {
          "base_uri": "https://localhost:8080/"
        },
        "id": "9991f9ab",
        "outputId": "239fead2-e80b-49ab-ae2e-03938352ed23"
      },
      "outputs": [
        {
          "data": {
            "text/plain": [
              "11"
            ]
          },
          "execution_count": 13,
          "metadata": {},
          "output_type": "execute_result"
        }
      ],
      "source": [
        "stoi['as']"
      ]
    },
    {
      "cell_type": "code",
      "execution_count": 14,
      "id": "0f49f5fa",
      "metadata": {
        "colab": {
          "base_uri": "https://localhost:8080/"
        },
        "id": "0f49f5fa",
        "outputId": "d00a1410-012e-4ef1-f6b6-7c5fb7eae7d2"
      },
      "outputs": [
        {
          "data": {
            "text/plain": [
              "63641"
            ]
          },
          "execution_count": 14,
          "metadata": {},
          "output_type": "execute_result"
        }
      ],
      "source": [
        "# Total number of words\n",
        "len(stoi)"
      ]
    },
    {
      "cell_type": "code",
      "execution_count": 15,
      "id": "6c5c415a",
      "metadata": {
        "id": "6c5c415a"
      },
      "outputs": [],
      "source": [
        "f = Counter(text)\n",
        "# This is the probability that we pick a word in the corpus\n",
        "z = {word: f[word] / len(text) for word in f}"
      ]
    },
    {
      "cell_type": "code",
      "execution_count": 16,
      "id": "1e543e1e",
      "metadata": {
        "id": "1e543e1e"
      },
      "outputs": [],
      "source": [
        "threshold = 1e-5\n",
        "# Probability that word is kept while subsampling\n",
        "# This is explained here and sightly differet from the paper: http://mccormickml.com/2017/01/11/word2vec-tutorial-part-2-negative-sampling/\n",
        "p_keep = {word: (np.sqrt(z[word] / 0.001) + 1)*(0.0001 / z[word]) for word in f}"
      ]
    },
    {
      "cell_type": "code",
      "execution_count": 17,
      "id": "dd22119d",
      "metadata": {
        "id": "dd22119d"
      },
      "outputs": [],
      "source": [
        "# This is in the integer space\n",
        "train_dataset = [word for word in text if random.random() < p_keep[word]]\n",
        "\n",
        "# Rebuild the vocabulary\n",
        "VOCAB = build_vocab_from_iterator([train_dataset])"
      ]
    },
    {
      "cell_type": "code",
      "execution_count": 18,
      "id": "a2d695da",
      "metadata": {
        "colab": {
          "base_uri": "https://localhost:8080/"
        },
        "id": "a2d695da",
        "outputId": "ce193bb4-9f0e-42be-ebdc-f58b882f8623"
      },
      "outputs": [
        {
          "data": {
            "text/plain": [
              "7847401"
            ]
          },
          "execution_count": 18,
          "metadata": {},
          "output_type": "execute_result"
        }
      ],
      "source": [
        "len(train_dataset)"
      ]
    },
    {
      "cell_type": "code",
      "execution_count": 19,
      "id": "30d67549",
      "metadata": {
        "id": "30d67549"
      },
      "outputs": [],
      "source": [
        "# word -> int mapping\n",
        "stoi = VOCAB.get_stoi()\n",
        "# int -> word mapping\n",
        "itos = VOCAB.get_itos()"
      ]
    },
    {
      "cell_type": "code",
      "execution_count": 20,
      "id": "b46337b8",
      "metadata": {
        "colab": {
          "base_uri": "https://localhost:8080/"
        },
        "id": "b46337b8",
        "outputId": "a37a87b3-ff58-4744-a6fb-408f7422d98b"
      },
      "outputs": [
        {
          "data": {
            "text/plain": [
              "63641"
            ]
          },
          "execution_count": 20,
          "metadata": {},
          "output_type": "execute_result"
        }
      ],
      "source": [
        "# The vocabulary size after we do all the filters\n",
        "len(VOCAB)"
      ]
    },
    {
      "cell_type": "code",
      "execution_count": 21,
      "id": "c9346f36",
      "metadata": {
        "id": "c9346f36"
      },
      "outputs": [],
      "source": [
        "# The probability we draw something for negative sampling\n",
        "f = Counter(train_dataset)\n",
        "p = torch.zeros(len(VOCAB))\n",
        "\n",
        "# Downsample frequent words and upsample less frequent\n",
        "s = sum([np.power(freq, 0.75) for word, freq in f.items()])\n",
        "\n",
        "for word in f:\n",
        "    p[stoi[word]] = np.power(f[word], 0.75) / s"
      ]
    },
    {
      "cell_type": "code",
      "execution_count": 22,
      "id": "dd713c15",
      "metadata": {
        "id": "dd713c15"
      },
      "outputs": [],
      "source": [
        "# Map everything to integers\n",
        "train_dataset = [stoi[word] for word in text]"
      ]
    },
    {
      "cell_type": "code",
      "execution_count": 25,
      "id": "8e96c0c4",
      "metadata": {
        "id": "8e96c0c4"
      },
      "outputs": [],
      "source": [
        "# This just gets the (wc, wo) pairs that are positive - they are seen together!\n",
        "def get_tokenized_dataset(dataset, verbose=False):\n",
        "    x_list = []\n",
        "\n",
        "    for i, token in enumerate(dataset):\n",
        "        m = 1\n",
        "\n",
        "        # Get the left and right tokens\n",
        "        start = max(0, i - m)\n",
        "        left_tokens = dataset[start:i]\n",
        "\n",
        "        end = min(len(dataset), i + m + 1)\n",
        "        right_tokens = dataset[i + 1:end]\n",
        "\n",
        "        # Check these are the same length, and if so use them to add a row of data. This should be a list like\n",
        "        # [a, c, b] where b is the center word\n",
        "        if len(left_tokens) == len(right_tokens):\n",
        "            w_context = left_tokens + right_tokens\n",
        "\n",
        "            wc = [token]\n",
        "\n",
        "            x_list.extend(\n",
        "                [w_context + wc]\n",
        "            )\n",
        "\n",
        "    return x_list"
      ]
    },
    {
      "cell_type": "code",
      "execution_count": 26,
      "id": "3eb82aad",
      "metadata": {
        "id": "3eb82aad"
      },
      "outputs": [],
      "source": [
        "train_x_list = get_tokenized_dataset(train_dataset, verbose=False)"
      ]
    },
    {
      "cell_type": "code",
      "execution_count": 27,
      "id": "8412ee4d",
      "metadata": {
        "id": "8412ee4d"
      },
      "outputs": [],
      "source": [
        "pickle.dump(train_x_list, open('train_x_list.pkl', 'wb'))"
      ]
    },
    {
      "cell_type": "code",
      "execution_count": 28,
      "id": "3fd54caf",
      "metadata": {
        "id": "3fd54caf"
      },
      "outputs": [],
      "source": [
        "train_x_list = pickle.load(open('train_x_list.pkl', 'rb'))"
      ]
    },
    {
      "cell_type": "code",
      "execution_count": 29,
      "id": "576765f3",
      "metadata": {
        "colab": {
          "base_uri": "https://localhost:8080/"
        },
        "id": "576765f3",
        "outputId": "204365e1-3890-43e0-da72-478435df6c9e"
      },
      "outputs": [
        {
          "data": {
            "text/plain": [
              "[[5233, 11, 3083],\n",
              " [3083, 5, 11],\n",
              " [11, 166, 5],\n",
              " [5, 1, 166],\n",
              " [166, 3133, 1],\n",
              " [1, 45, 3133],\n",
              " [3133, 61, 45],\n",
              " [45, 136, 61],\n",
              " [61, 140, 136],\n",
              " [136, 741, 140]]"
            ]
          },
          "execution_count": 29,
          "metadata": {},
          "output_type": "execute_result"
        }
      ],
      "source": [
        "# These are (wc, wo) pairs. All are y = +1 by design\n",
        "train_x_list[:10]"
      ]
    },
    {
      "cell_type": "code",
      "execution_count": 30,
      "id": "316df1dc",
      "metadata": {
        "id": "316df1dc"
      },
      "outputs": [],
      "source": [
        "# The number of things of BATCH_SIZE = 512\n",
        "assert(len(train_x_list) // BATCH_SIZE == 32579)"
      ]
    },
    {
      "cell_type": "code",
      "execution_count": null,
      "id": "8012d03d",
      "metadata": {
        "id": "8012d03d"
      },
      "outputs": [],
      "source": []
    },
    {
      "cell_type": "markdown",
      "id": "488c3519",
      "metadata": {
        "id": "488c3519"
      },
      "source": [
        "### Set up the dataloader."
      ]
    },
    {
      "cell_type": "code",
      "execution_count": 31,
      "id": "2e31ae4b",
      "metadata": {
        "id": "2e31ae4b"
      },
      "outputs": [],
      "source": [
        "train_dl = DataLoader(\n",
        "    TensorDataset(\n",
        "        torch.tensor(train_x_list).to(DEVICE),\n",
        "    ),\n",
        "    batch_size=BATCH_SIZE,\n",
        "    shuffle=True\n",
        ")"
      ]
    },
    {
      "cell_type": "code",
      "execution_count": 32,
      "id": "e9c42f50",
      "metadata": {
        "id": "e9c42f50"
      },
      "outputs": [],
      "source": [
        "for xb in train_dl:\n",
        "    assert(xb[0].shape == (BATCH_SIZE, 3))\n",
        "    break"
      ]
    },
    {
      "cell_type": "code",
      "execution_count": null,
      "id": "8c949153",
      "metadata": {
        "id": "8c949153"
      },
      "outputs": [],
      "source": []
    },
    {
      "cell_type": "markdown",
      "id": "12d93d22",
      "metadata": {
        "id": "12d93d22"
      },
      "source": [
        "### Words we'll use to asses the quality of the model ..."
      ]
    },
    {
      "cell_type": "code",
      "execution_count": 33,
      "id": "ffada8d0",
      "metadata": {
        "id": "ffada8d0"
      },
      "outputs": [],
      "source": [
        "valid_ids = torch.tensor([\n",
        "    stoi['money'],\n",
        "    stoi['lion'],\n",
        "    stoi['africa'],\n",
        "    stoi['musician'],\n",
        "    stoi['dance'],\n",
        "])"
      ]
    },
    {
      "cell_type": "code",
      "execution_count": null,
      "id": "867d3a88",
      "metadata": {
        "id": "867d3a88"
      },
      "outputs": [],
      "source": []
    },
    {
      "cell_type": "markdown",
      "id": "64096cd8",
      "metadata": {
        "id": "64096cd8"
      },
      "source": [
        "### Get the model."
      ]
    },
    {
      "cell_type": "code",
      "execution_count": 34,
      "id": "dc51c359",
      "metadata": {
        "id": "dc51c359"
      },
      "outputs": [],
      "source": [
        "class CBOWNegativeSampling(nn.Module):\n",
        "    def __init__(self, vocab_size, embed_dim):\n",
        "        super(CBOWNegativeSampling, self).__init__()\n",
        "        self.A = nn.Embedding(vocab_size, embed_dim) # Context vectors - center word\n",
        "        self.B = nn.Embedding(vocab_size, embed_dim) # Output vectors - words around the center word\n",
        "        self.init_weights()\n",
        "\n",
        "    def init_weights(self):\n",
        "        # Is this the best way? Not sure\n",
        "        initrange = 0.5\n",
        "        self.A.weight.data.uniform_(-initrange, initrange)\n",
        "        self.B.weight.data.uniform_(-initrange, initrange)\n",
        "\n",
        "    def forward(self, x):\n",
        "        # N is the batch size\n",
        "        # x is (N, 3)\n",
        "\n",
        "        # Context words are 2m things, m = 1 so w_context is (N, 2) while wc is N\n",
        "        w_context, wc = x[:, 0:2], x[:, 2]\n",
        "\n",
        "        # Each of these is (N, 2, D) since each context has 2 word\n",
        "        # We want this to be (N, D) and this is what we get\n",
        "\n",
        "        # (N, 2, D)\n",
        "        a = self.A(w_context)\n",
        "\n",
        "        # (N, D)\n",
        "        a_avg = torch.mean(a, dim=1)\n",
        "\n",
        "        # Each of these is (N, D) since each target has 1 word\n",
        "        b = self.B(wc)\n",
        "\n",
        "        # The product between each context and target vector. Look at the Skip-Gram code.\n",
        "        # The logits is now (N, 1) since we sum across the final dimension.\n",
        "        logits = (a_avg * b).sum(axis=-1)\n",
        "\n",
        "        return logits"
      ]
    },
    {
      "cell_type": "code",
      "execution_count": null,
      "id": "7ae817c1",
      "metadata": {
        "id": "7ae817c1"
      },
      "outputs": [],
      "source": []
    },
    {
      "cell_type": "code",
      "execution_count": 35,
      "id": "ed9c509d",
      "metadata": {
        "id": "ed9c509d"
      },
      "outputs": [],
      "source": [
        "@torch.no_grad()\n",
        "def validate_embeddings(\n",
        "    model,\n",
        "    valid_ids,\n",
        "    itos\n",
        "):\n",
        "    \"\"\" Validation logic \"\"\"\n",
        "\n",
        "    # We will use context embeddings to get the most similar words\n",
        "    # Other strategies include: using target embeddings, mean embeddings after avaraging context/target\n",
        "    embedding_weights = model.A.weight\n",
        "\n",
        "    normalized_embeddings = embedding_weights.cpu() / np.sqrt(\n",
        "        np.sum(embedding_weights.cpu().numpy()**2, axis=1, keepdims=True)\n",
        "    )\n",
        "\n",
        "    # Get the embeddings corresponding to valid_term_ids\n",
        "    valid_embeddings = normalized_embeddings[valid_ids, :]\n",
        "\n",
        "    # Compute the similarity between valid_term_ids (S) and all the embeddings (V)\n",
        "    # We do S x d (d x V) => S x D and sort by negative similarity\n",
        "    top_k = 10 # Top k items will be displayed\n",
        "    similarity = np.dot(valid_embeddings.cpu().numpy(), normalized_embeddings.cpu().numpy().T)\n",
        "\n",
        "    # Invert similarity matrix to negative\n",
        "    # Ignore the first one because that would be the same word as the probe word\n",
        "    similarity_top_k = np.argsort(-similarity, axis=1)[:, 1: top_k+1]\n",
        "\n",
        "    # Print the output.\n",
        "    for i, word_id in enumerate(valid_ids):\n",
        "        # j >= 1 here since we don't want to include the word itself.\n",
        "        similar_word_str = ', '.join([itos[j] for j in similarity_top_k[i, :] if j >= 1])\n",
        "        print(f\"{itos[word_id]}: {similar_word_str}\")\n",
        "\n",
        "    print('\\n')"
      ]
    },
    {
      "cell_type": "code",
      "execution_count": null,
      "id": "b0c194b8",
      "metadata": {
        "id": "b0c194b8"
      },
      "outputs": [],
      "source": []
    },
    {
      "cell_type": "markdown",
      "id": "3b3c6ed5",
      "metadata": {
        "id": "3b3c6ed5"
      },
      "source": [
        "### Set up the model"
      ]
    },
    {
      "cell_type": "code",
      "execution_count": 40,
      "id": "16da95d1",
      "metadata": {
        "id": "16da95d1"
      },
      "outputs": [],
      "source": [
        "LR = 10.0\n",
        "NUM_EPOCHS = 10\n",
        "EMBED_DIM = 300"
      ]
    },
    {
      "cell_type": "code",
      "execution_count": 37,
      "id": "cef585f4",
      "metadata": {
        "id": "cef585f4"
      },
      "outputs": [],
      "source": [
        "model = CBOWNegativeSampling(len(VOCAB), EMBED_DIM).to(DEVICE)\n",
        "optimizer = torch.optim.SGD(model.parameters(), lr=LR)\n",
        "# The learning rate is lowered every epoch by 1/10.\n",
        "# Is this a good idea?\n",
        "scheduler = torch.optim.lr_scheduler.StepLR(optimizer, 1, gamma=0.1)"
      ]
    },
    {
      "cell_type": "code",
      "execution_count": 41,
      "id": "f8a642bf",
      "metadata": {
        "colab": {
          "base_uri": "https://localhost:8080/"
        },
        "id": "f8a642bf",
        "outputId": "63837ed0-e43c-4398-a2d8-89790c51e98e"
      },
      "outputs": [
        {
          "data": {
            "text/plain": [
              "CBOWNegativeSampling(\n",
              "  (A): Embedding(63641, 300)\n",
              "  (B): Embedding(63641, 300)\n",
              ")"
            ]
          },
          "execution_count": 41,
          "metadata": {},
          "output_type": "execute_result"
        }
      ],
      "source": [
        "model"
      ]
    },
    {
      "cell_type": "code",
      "execution_count": 39,
      "id": "85773616",
      "metadata": {
        "colab": {
          "base_uri": "https://localhost:8080/"
        },
        "id": "85773616",
        "outputId": "24a13612-c26b-45f1-8768-c54a8bf29308"
      },
      "outputs": [
        {
          "name": "stdout",
          "output_type": "stream",
          "text": [
            "money: ova, mariani, harmonies, musei, dollars, orel, guam, beatmatching, uncodified, hearsay\n",
            "lion: tavistock, bromides, sayed, hellen, sponges, hwa, entail, firmness, enormous, wilt\n",
            "africa: mccormack, bootlegs, squirrel, bak, postponed, poster, flaws, dem, became, willed\n",
            "musician: generosity, unimpressive, sident, covariance, redundantly, ribera, inuyasha, excitation, treason, mastering\n",
            "dance: formulations, diethyl, saarland, goodhue, kamatari, wider, rire, watchers, bianchi, millimetres\n",
            "\n",
            "\n"
          ]
        }
      ],
      "source": [
        "validate_embeddings(model, valid_ids, itos)"
      ]
    },
    {
      "cell_type": "code",
      "execution_count": null,
      "id": "66075f5e",
      "metadata": {
        "id": "66075f5e"
      },
      "outputs": [],
      "source": []
    },
    {
      "cell_type": "markdown",
      "id": "86476e2a",
      "metadata": {
        "id": "86476e2a"
      },
      "source": [
        "### Train the model"
      ]
    },
    {
      "cell_type": "code",
      "execution_count": 44,
      "id": "24950481",
      "metadata": {
        "id": "24950481"
      },
      "outputs": [],
      "source": [
        "ratios = []\n",
        "\n",
        "def train(dataloader, model, optimizer, epoch):\n",
        "    model.train()\n",
        "    total_acc, total_count, total_loss, total_batches = 0, 0, 0.0, 0.0\n",
        "    log_interval = 500\n",
        "\n",
        "    for idx, x_batch in tqdm(enumerate(dataloader)):\n",
        "\n",
        "        x_batch = x_batch[0]\n",
        "\n",
        "        batch_size = x_batch.shape[0]\n",
        "\n",
        "        # Zero the gradient so they don't accumulate\n",
        "        optimizer.zero_grad()\n",
        "\n",
        "        logits = model(x_batch)\n",
        "\n",
        "        # Get the positive samples loss. Notice we use weights here\n",
        "        positive_loss = torch.nn.BCEWithLogitsLoss()(input=logits, target=torch.ones(batch_size).to(DEVICE).float())\n",
        "\n",
        "        # For each batch, get some negative samples\n",
        "        # We need a total of len(y_batch) * K samples across a batch\n",
        "        # We then reshape this batch\n",
        "        # These are effectively the output words\n",
        "        negative_samples = torch.multinomial(p, batch_size * K, replacement=True)\n",
        "\n",
        "        # Context words are 2m things, m = 1 so w_context is (N, 2) while wc is (N, )\n",
        "        w_context, wc = x_batch[:, 0:2], x_batch[:, 2]\n",
        "\n",
        "        \"\"\"\n",
        "        if w_context looks like below (batch_size = 3)\n",
        "        [\n",
        "        (a, b),\n",
        "        (c, d),\n",
        "        (e, f)\n",
        "        ] and K = 2 we'd like to get:\n",
        "\n",
        "        [\n",
        "        (a, b),\n",
        "        (a, b),\n",
        "        (c, d),\n",
        "        (c, d),\n",
        "        (e, f),\n",
        "        (e, f)\n",
        "        ]\n",
        "\n",
        "        This will be batch_size * K rows.\n",
        "        \"\"\"\n",
        "\n",
        "        # This should be (N * K, 2)\n",
        "        w_context = torch.concat([\n",
        "            w.repeat(K, 1) for w in torch.tensor(w_context).split(1)\n",
        "        ])\n",
        "\n",
        "        # Add a last dimension and set wc to the negative samples\n",
        "        wc = negative_samples\n",
        "\n",
        "        # Get the negative samples. This should be (N * K, 3)\n",
        "        # Concatenate the w_context and wc along the column. Make sure everything is on CUDA / MPS or CPU\n",
        "        x_batch_negative = torch.cat((w_context, wc.view(-1, 1)), dim=1).to(DEVICE)\n",
        "        \"\"\"\n",
        "        Note the way we formulated the targets: they are all 0 since these are negative samples.\n",
        "        We do the BCEWithLogitsLoss by hand basically here.\n",
        "        Notice we sum across the negative samples, per positive word.\n",
        "\n",
        "        This is literally the equation in the lecture notes.\n",
        "        \"\"\"\n",
        "\n",
        "        # (N, K, D) -> (N, D) -> (N)\n",
        "        # Look at the Skip-Gram notebook\n",
        "        negative_loss = model(x_batch_negative).neg().sigmoid().log().reshape(\n",
        "            batch_size, K\n",
        "        ).sum(1).mean().neg().to(DEVICE)\n",
        "\n",
        "        loss = (positive_loss + negative_loss).mean()\n",
        "\n",
        "        # Get the gradients via back propagation\n",
        "        loss.backward()\n",
        "\n",
        "        # Clip the gradients? Generally a good idea\n",
        "        torch.nn.utils.clip_grad_norm_(model.parameters(), 0.1)\n",
        "\n",
        "        # Used for optimization. This should be roughly 0.001, on average\n",
        "        # You can use this to see if your learning rate is right - you can also plot the loss performance\n",
        "        with torch.no_grad():\n",
        "            r = [\n",
        "                (LR * p.grad.std() / p.data.std()).log10().item() for _, p in model.named_parameters()\n",
        "            ]\n",
        "            ratios.append(r)\n",
        "\n",
        "        # Do an optimization step. Update the parameters A and B\n",
        "        optimizer.step()\n",
        "        # Get the new loss.\n",
        "        total_loss += loss.item()\n",
        "        # Update the batch count\n",
        "        total_batches += 1\n",
        "\n",
        "        if idx % log_interval == 0:\n",
        "            print(\n",
        "                \"| epoch {:3d} | {:5d}/{:5d} batches \"\n",
        "                \"| loss {:8.3f} \".format(\n",
        "                    epoch,\n",
        "                    idx,\n",
        "                    len(dataloader),\n",
        "                    total_loss / total_batches\n",
        "                )\n",
        "            )\n",
        "            validate_embeddings(model, valid_ids, itos)\n",
        "            total_loss, total_batches = 0.0, 0.0"
      ]
    },
    {
      "cell_type": "markdown",
      "id": "0764d675",
      "metadata": {
        "id": "0764d675"
      },
      "source": [
        "### Some results from the run look like below:\n",
        "\n",
        "Somewhere inside of 2 iterations you should get sensible associattions.\n",
        "Paste here a screenshot of the closest vectors.\n",
        "\n",
        "closest vectors:\n",
        "\n",
        "- money: result, need, example, even, addition, seen, lack, able, rome, given \n",
        "- lion: read, p, h, create, v, need, fact, beauty, father, goal \n",
        "- africa: america, europe, india, nine, germany, addition, end, england, part, france \n",
        "- musician: singer, actress, actor, addition, writer, author, nine, politician, composer, seven\n",
        "- dance: music, addition, small, culture, early, prominent, whole, popular, modern, cultural \n",
        "\n",
        "\n",
        "Trained for 1 epoch. the loss is already low. No more computational resource available."
      ]
    },
    {
      "cell_type": "code",
      "execution_count": 45,
      "id": "a9e02c09",
      "metadata": {
        "colab": {
          "base_uri": "https://localhost:8080/",
          "height": 1000
        },
        "id": "a9e02c09",
        "outputId": "9ca94e22-35be-43f0-ddac-5e9e220ab621"
      },
      "outputs": [
        {
          "name": "stderr",
          "output_type": "stream",
          "text": [
            "\r0it [00:00, ?it/s]<ipython-input-44-9e9ee2229378>:53: UserWarning: To copy construct from a tensor, it is recommended to use sourceTensor.clone().detach() or sourceTensor.clone().detach().requires_grad_(True), rather than torch.tensor(sourceTensor).\n",
            "  w.repeat(K, 1) for w in torch.tensor(w_context).split(1)\n",
            "1it [00:01,  1.49s/it]"
          ]
        },
        {
          "name": "stdout",
          "output_type": "stream",
          "text": [
            "| epoch   1 |     0/32580 batches | loss    3.983 \n",
            "money: ova, mariani, harmonies, musei, dollars, orel, guam, beatmatching, uncodified, hearsay\n",
            "lion: tavistock, bromides, sayed, hellen, sponges, hwa, entail, firmness, enormous, wilt\n",
            "africa: mccormack, bootlegs, squirrel, bak, postponed, poster, flaws, dem, became, willed\n",
            "musician: generosity, unimpressive, sident, covariance, redundantly, ribera, inuyasha, excitation, treason, mastering\n",
            "dance: formulations, diethyl, saarland, goodhue, kamatari, wider, rire, watchers, bianchi, millimetres\n",
            "\n",
            "\n"
          ]
        },
        {
          "name": "stderr",
          "output_type": "stream",
          "text": [
            "501it [01:18,  5.77it/s]"
          ]
        },
        {
          "name": "stdout",
          "output_type": "stream",
          "text": [
            "| epoch   1 |   500/32580 batches | loss    3.719 \n",
            "money: ova, mariani, harmonies, musei, dollars, guam, orel, beatmatching, daigo, uncodified\n",
            "lion: tavistock, bromides, hellen, sayed, sponges, hwa, entail, firmness, enormous, wilt\n",
            "africa: mccormack, squirrel, bootlegs, postponed, bak, flaws, dem, panavia, jfk, poster\n",
            "musician: generosity, sident, unimpressive, covariance, redundantly, ribera, inuyasha, excitation, mastering, treason\n",
            "dance: saarland, formulations, diethyl, goodhue, wider, kamatari, rire, watchers, millimetres, bianchi\n",
            "\n",
            "\n"
          ]
        },
        {
          "name": "stderr",
          "output_type": "stream",
          "text": [
            "1001it [02:36,  5.61it/s]"
          ]
        },
        {
          "name": "stdout",
          "output_type": "stream",
          "text": [
            "| epoch   1 |  1000/32580 batches | loss    3.352 \n",
            "money: ova, mariani, harmonies, guam, musei, orel, beatmatching, dollars, daigo, uncodified\n",
            "lion: tavistock, bromides, hellen, sponges, sayed, entail, hwa, firmness, wilt, enormous\n",
            "africa: mccormack, squirrel, postponed, bootlegs, bak, dem, jfk, panavia, flaws, ashe\n",
            "musician: generosity, sident, unimpressive, covariance, ribera, redundantly, inuyasha, excitation, mastering, treason\n",
            "dance: saarland, diethyl, formulations, goodhue, kamatari, wider, rire, watchers, zeitschrift, millimetres\n",
            "\n",
            "\n"
          ]
        },
        {
          "name": "stderr",
          "output_type": "stream",
          "text": [
            "1501it [03:55,  5.68it/s]"
          ]
        },
        {
          "name": "stdout",
          "output_type": "stream",
          "text": [
            "| epoch   1 |  1500/32580 batches | loss    3.022 \n",
            "money: ova, mariani, harmonies, guam, musei, beatmatching, daigo, dollars, orel, perk\n",
            "lion: tavistock, bromides, hellen, sponges, sayed, entail, hwa, firmness, wilt, enormous\n",
            "africa: mccormack, postponed, squirrel, dem, bootlegs, jfk, bak, panavia, became, flaws\n",
            "musician: generosity, sident, unimpressive, covariance, redundantly, ribera, inuyasha, ritualistic, mastering, excitation\n",
            "dance: diethyl, saarland, goodhue, formulations, kamatari, wider, rire, watchers, hoffmann, zeitschrift\n",
            "\n",
            "\n"
          ]
        },
        {
          "name": "stderr",
          "output_type": "stream",
          "text": [
            "2001it [05:15,  4.27it/s]"
          ]
        },
        {
          "name": "stdout",
          "output_type": "stream",
          "text": [
            "| epoch   1 |  2000/32580 batches | loss    2.789 \n",
            "money: ova, harmonies, mariani, guam, daigo, beatmatching, musei, dollars, orel, perk\n",
            "lion: tavistock, bromides, hellen, entail, sponges, sayed, hwa, firmness, wilt, enormous\n",
            "africa: mccormack, postponed, became, squirrel, dem, panavia, jfk, bak, bootlegs, bowell\n",
            "musician: generosity, sident, unimpressive, covariance, ribera, redundantly, ritualistic, inuyasha, unspoiled, mastering\n",
            "dance: diethyl, saarland, formulations, goodhue, kamatari, wider, rire, watchers, millimetres, zeitschrift\n",
            "\n",
            "\n"
          ]
        },
        {
          "name": "stderr",
          "output_type": "stream",
          "text": [
            "2501it [06:34,  5.53it/s]"
          ]
        },
        {
          "name": "stdout",
          "output_type": "stream",
          "text": [
            "| epoch   1 |  2500/32580 batches | loss    2.618 \n",
            "money: ova, harmonies, guam, mariani, daigo, beatmatching, orel, dollars, musei, enigma\n",
            "lion: tavistock, bromides, entail, hellen, sponges, sayed, hwa, firmness, wilt, enormous\n",
            "africa: became, mccormack, postponed, one, squirrel, dem, jfk, panavia, eight, two\n",
            "musician: generosity, sident, unimpressive, covariance, ribera, redundantly, ritualistic, unspoiled, treason, inuyasha\n",
            "dance: diethyl, saarland, goodhue, formulations, kamatari, wider, rire, battering, millimetres, goal\n",
            "\n",
            "\n"
          ]
        },
        {
          "name": "stderr",
          "output_type": "stream",
          "text": [
            "3001it [07:52,  5.48it/s]"
          ]
        },
        {
          "name": "stdout",
          "output_type": "stream",
          "text": [
            "| epoch   1 |  3000/32580 batches | loss    2.479 \n",
            "money: ova, guam, harmonies, used, daigo, mariani, state, beatmatching, musei, example\n",
            "lion: tavistock, bromides, entail, hellen, sponges, hwa, sayed, firmness, wilt, enormous\n",
            "africa: became, one, this, his, two, eight, known, an, five, mccormack\n",
            "musician: generosity, sident, unimpressive, ribera, covariance, redundantly, unspoiled, ritualistic, model, treason\n",
            "dance: diethyl, saarland, kamatari, formulations, goodhue, battering, wider, rire, recently, goal\n",
            "\n",
            "\n"
          ]
        },
        {
          "name": "stderr",
          "output_type": "stream",
          "text": [
            "3501it [09:12,  4.38it/s]"
          ]
        },
        {
          "name": "stdout",
          "output_type": "stream",
          "text": [
            "| epoch   1 |  3500/32580 batches | loss    2.376 \n",
            "money: ova, used, state, example, guam, harmonies, only, both, daigo, modern\n",
            "lion: tavistock, bromides, entail, sponges, hellen, hwa, firmness, sayed, wilt, enormous\n",
            "africa: this, became, one, two, seven, known, his, eight, their, three\n",
            "musician: generosity, sident, unimpressive, ribera, covariance, unspoiled, redundantly, model, ritualistic, jack\n",
            "dance: diethyl, saarland, may, battering, formulations, goal, recently, goodhue, wider, kamatari\n",
            "\n",
            "\n"
          ]
        },
        {
          "name": "stderr",
          "output_type": "stream",
          "text": [
            "4001it [10:31,  5.52it/s]"
          ]
        },
        {
          "name": "stdout",
          "output_type": "stream",
          "text": [
            "| epoch   1 |  4000/32580 batches | loss    2.296 \n",
            "money: used, ova, example, state, guam, both, modern, only, harmonies, known\n",
            "lion: tavistock, bromides, entail, hellen, sponges, firmness, hwa, sayed, enormous, wilt\n",
            "africa: their, one, this, known, became, two, three, seven, nine, many\n",
            "musician: generosity, sident, unimpressive, unspoiled, model, ribera, also, covariance, ritualistic, redundantly\n",
            "dance: diethyl, may, saarland, important, battering, recently, goal, wider, formulations, smaller\n",
            "\n",
            "\n"
          ]
        },
        {
          "name": "stderr",
          "output_type": "stream",
          "text": [
            "4501it [11:50,  5.66it/s]"
          ]
        },
        {
          "name": "stdout",
          "output_type": "stream",
          "text": [
            "| epoch   1 |  4500/32580 batches | loss    2.217 \n",
            "money: used, state, example, ova, both, only, modern, known, guam, many\n",
            "lion: tavistock, bromides, entail, hellen, sponges, hwa, firmness, enormous, theorizes, sayed\n",
            "africa: known, one, this, seven, their, two, three, nine, city, many\n",
            "musician: generosity, also, model, unspoiled, sident, use, unimpressive, people, one, then\n",
            "dance: may, diethyl, important, saarland, recently, battering, goal, smaller, high, small\n",
            "\n",
            "\n"
          ]
        },
        {
          "name": "stderr",
          "output_type": "stream",
          "text": [
            "5001it [13:10,  5.54it/s]"
          ]
        },
        {
          "name": "stdout",
          "output_type": "stream",
          "text": [
            "| epoch   1 |  5000/32580 batches | loss    2.159 \n",
            "money: used, example, state, both, ova, only, modern, known, does, even\n",
            "lion: tavistock, bromides, entail, hellen, sponges, hwa, firmness, enormous, theorizes, h\n",
            "africa: known, one, seven, their, three, many, this, life, eight, nine\n",
            "musician: model, also, generosity, people, use, seven, system, then, following\n",
            "dance: may, important, diethyl, high, small, saarland, first, battering, recently, smaller\n",
            "\n",
            "\n"
          ]
        },
        {
          "name": "stderr",
          "output_type": "stream",
          "text": [
            "5501it [14:31,  5.47it/s]"
          ]
        },
        {
          "name": "stdout",
          "output_type": "stream",
          "text": [
            "| epoch   1 |  5500/32580 batches | loss    2.105 \n",
            "money: used, example, state, both, modern, only, even, known, does, u\n",
            "lion: tavistock, bromides, entail, hellen, sponges, h, hwa, firmness, enormous, theorizes\n",
            "africa: known, one, seven, life, eight, many, three, city, became, nine\n",
            "musician: also, use, people, model, system, seven, all, then, one\n",
            "dance: may, important, high, small, diethyl, first, of, war, goal, battering\n",
            "\n",
            "\n"
          ]
        },
        {
          "name": "stderr",
          "output_type": "stream",
          "text": [
            "6001it [15:51,  5.45it/s]"
          ]
        },
        {
          "name": "stdout",
          "output_type": "stream",
          "text": [
            "| epoch   1 |  6000/32580 batches | loss    2.057 \n",
            "money: used, example, state, both, even, modern, only, does, u, men\n",
            "lion: tavistock, bromides, entail, h, hellen, sponges, firmness, hwa, enormous, beauty\n",
            "africa: known, eight, seven, one, life, many, nine, city, three, became\n",
            "musician: use, people, also, model, system, seven, then, eight, nine, b\n",
            "dance: may, important, high, small, first, war, diethyl, of, under, others\n",
            "\n",
            "\n"
          ]
        },
        {
          "name": "stderr",
          "output_type": "stream",
          "text": [
            "6501it [17:12,  5.27it/s]"
          ]
        },
        {
          "name": "stdout",
          "output_type": "stream",
          "text": [
            "| epoch   1 |  6500/32580 batches | loss    2.018 \n",
            "money: used, example, state, both, even, modern, does, links, u, french\n",
            "lion: tavistock, bromides, h, entail, hellen, sponges, found, enormous, firmness, hwa\n",
            "africa: known, life, seven, eight, nine, city, many, one, three, became\n",
            "musician: use, people, system, seven, model, also, which, then, nine, following\n",
            "dance: important, high, may, small, first, war, of, others, under, did\n",
            "\n",
            "\n"
          ]
        },
        {
          "name": "stderr",
          "output_type": "stream",
          "text": [
            "7001it [18:33,  5.48it/s]"
          ]
        },
        {
          "name": "stdout",
          "output_type": "stream",
          "text": [
            "| epoch   1 |  7000/32580 batches | loss    1.977 \n",
            "money: used, example, state, even, both, modern, does, u, links, men\n",
            "lion: tavistock, h, bromides, entail, found, sponges, hellen, beauty, enormous, firmness\n",
            "africa: known, life, seven, eight, nine, city, one, three, work, six\n",
            "musician: use, people, one, then, model, system, which, term, seven, following\n",
            "dance: important, high, may, of, small, first, war, early, under, did\n",
            "\n",
            "\n"
          ]
        },
        {
          "name": "stderr",
          "output_type": "stream",
          "text": [
            "7501it [19:54,  5.58it/s]"
          ]
        },
        {
          "name": "stdout",
          "output_type": "stream",
          "text": [
            "| epoch   1 |  7500/32580 batches | loss    1.947 \n",
            "money: example, used, state, even, u, both, links, modern, men, does\n",
            "lion: tavistock, h, bromides, entail, found, hellen, enormous, sponges, beauty, international\n",
            "africa: known, seven, eight, life, city, nine, one, work, world, six\n",
            "musician: use, people, one, then, system, following, seven, term, model, all\n",
            "dance: high, important, may, small, first, or, history, war, did, early\n",
            "\n",
            "\n"
          ]
        },
        {
          "name": "stderr",
          "output_type": "stream",
          "text": [
            "8001it [21:15,  5.46it/s]"
          ]
        },
        {
          "name": "stdout",
          "output_type": "stream",
          "text": [
            "| epoch   1 |  8000/32580 batches | loss    1.915 \n",
            "money: used, example, state, even, u, links, modern, order, does, men\n",
            "lion: tavistock, h, bromides, entail, found, enormous, sponges, hellen, beauty, firmness\n",
            "africa: known, seven, eight, life, nine, city, world, one, work, part\n",
            "musician: use, people, one, following, then, term, seven, model, system, eight\n",
            "dance: high, important, may, small, first, history, did, war, under, early\n",
            "\n",
            "\n"
          ]
        },
        {
          "name": "stderr",
          "output_type": "stream",
          "text": [
            "8501it [22:35,  5.51it/s]"
          ]
        },
        {
          "name": "stdout",
          "output_type": "stream",
          "text": [
            "| epoch   1 |  8500/32580 batches | loss    1.885 \n",
            "money: used, example, even, u, links, order, does, school, state, modern\n",
            "lion: tavistock, h, bromides, found, entail, enormous, beauty, sponges, hellen, hwa\n",
            "africa: known, seven, one, life, nine, eight, city, work, part, world\n",
            "musician: use, people, one, following, g, seven, then, term, model, nine\n",
            "dance: high, important, small, may, history, first, did, war, early, common\n",
            "\n",
            "\n"
          ]
        },
        {
          "name": "stderr",
          "output_type": "stream",
          "text": [
            "9001it [23:58,  3.93it/s]"
          ]
        },
        {
          "name": "stdout",
          "output_type": "stream",
          "text": [
            "| epoch   1 |  9000/32580 batches | loss    1.862 \n",
            "money: example, used, order, u, does, links, school, found, even, men\n",
            "lion: h, tavistock, found, bromides, enormous, beauty, entail, p, sponges, international\n",
            "africa: known, seven, one, nine, eight, part, life, work, city, example\n",
            "musician: people, use, g, then, model, following, seven, one, term, nine\n",
            "dance: high, small, important, may, history, early, did, common, like, first\n",
            "\n",
            "\n"
          ]
        },
        {
          "name": "stderr",
          "output_type": "stream",
          "text": [
            "9501it [25:19,  5.26it/s]"
          ]
        },
        {
          "name": "stdout",
          "output_type": "stream",
          "text": [
            "| epoch   1 |  9500/32580 batches | loss    1.839 \n",
            "money: example, used, order, u, does, school, links, found, even, men\n",
            "lion: h, tavistock, found, bromides, enormous, beauty, entail, p, considered, international\n",
            "africa: seven, known, nine, city, part, work, eight, life, one, two\n",
            "musician: people, use, g, seven, model, following, one, term, then, eight\n",
            "dance: high, small, important, history, may, early, like, did, common, first\n",
            "\n",
            "\n"
          ]
        },
        {
          "name": "stderr",
          "output_type": "stream",
          "text": [
            "10001it [26:41,  5.47it/s]"
          ]
        },
        {
          "name": "stdout",
          "output_type": "stream",
          "text": [
            "| epoch   1 | 10000/32580 batches | loss    1.818 \n",
            "money: example, used, does, order, u, links, school, found, men, even\n",
            "lion: h, found, tavistock, international, enormous, beauty, created, p, bromides, entail\n",
            "africa: seven, nine, part, city, known, life, eight, work, example, two\n",
            "musician: people, use, g, model, seven, following, term, four, nine, eight\n",
            "dance: high, small, important, history, may, early, like, began, did, common\n",
            "\n",
            "\n"
          ]
        },
        {
          "name": "stderr",
          "output_type": "stream",
          "text": [
            "10501it [28:03,  5.45it/s]"
          ]
        },
        {
          "name": "stdout",
          "output_type": "stream",
          "text": [
            "| epoch   1 | 10500/32580 batches | loss    1.799 \n",
            "money: example, used, does, order, u, found, school, men, links, even\n",
            "lion: h, found, tavistock, international, created, p, enormous, considered, beauty, create\n",
            "africa: nine, seven, part, eight, city, known, work, life, one, example\n",
            "musician: people, use, g, following, model, one, term, seven, nine, four\n",
            "dance: high, small, important, history, like, early, may, began, order, did\n",
            "\n",
            "\n"
          ]
        },
        {
          "name": "stderr",
          "output_type": "stream",
          "text": [
            "11001it [29:24,  5.48it/s]"
          ]
        },
        {
          "name": "stdout",
          "output_type": "stream",
          "text": [
            "| epoch   1 | 11000/32580 batches | loss    1.774 \n",
            "money: example, order, does, used, school, found, u, men, links, death\n",
            "lion: h, found, tavistock, p, considered, enormous, created, international, beauty, read\n",
            "africa: nine, seven, part, city, eight, known, work, life, example, five\n",
            "musician: people, use, g, following, eight, term, model, one, seven, u\n",
            "dance: high, small, important, early, history, like, order, may, began, did\n",
            "\n",
            "\n"
          ]
        },
        {
          "name": "stderr",
          "output_type": "stream",
          "text": [
            "11501it [30:47,  5.54it/s]"
          ]
        },
        {
          "name": "stdout",
          "output_type": "stream",
          "text": [
            "| epoch   1 | 11500/32580 batches | loss    1.759 \n",
            "money: example, order, does, used, u, school, men, found, death, links\n",
            "lion: h, found, international, tavistock, considered, p, created, read, enormous, create\n",
            "africa: nine, part, city, eight, seven, work, known, example, life, place\n",
            "musician: people, use, g, term, u, following, nine, model, eight, seven\n",
            "dance: small, high, important, early, history, like, began, did, may, order\n",
            "\n",
            "\n"
          ]
        },
        {
          "name": "stderr",
          "output_type": "stream",
          "text": [
            "12001it [32:07,  5.51it/s]"
          ]
        },
        {
          "name": "stdout",
          "output_type": "stream",
          "text": [
            "| epoch   1 | 12000/32580 batches | loss    1.738 \n",
            "money: example, order, does, used, u, found, men, death, school, held\n",
            "lion: h, found, created, international, p, considered, read, tavistock, create, enormous\n",
            "africa: nine, part, seven, city, eight, work, known, example, life, made\n",
            "musician: people, use, g, model, u, following, term, nine, addition, seven\n",
            "dance: small, high, important, early, began, history, order, may, like, did\n",
            "\n",
            "\n"
          ]
        },
        {
          "name": "stderr",
          "output_type": "stream",
          "text": [
            "12501it [33:28,  5.42it/s]"
          ]
        },
        {
          "name": "stdout",
          "output_type": "stream",
          "text": [
            "| epoch   1 | 12500/32580 batches | loss    1.723 \n",
            "money: example, order, does, u, men, death, found, held, used, links\n",
            "lion: h, found, created, international, read, considered, p, create, tavistock, beauty\n",
            "africa: nine, part, seven, eight, city, work, example, known, one, life\n",
            "musician: people, use, model, g, u, term, addition, following, nine, four\n",
            "dance: high, small, important, early, history, order, began, may, like, did\n",
            "\n",
            "\n"
          ]
        },
        {
          "name": "stderr",
          "output_type": "stream",
          "text": [
            "13001it [34:49,  5.44it/s]"
          ]
        },
        {
          "name": "stdout",
          "output_type": "stream",
          "text": [
            "| epoch   1 | 13000/32580 batches | loss    1.712 \n",
            "money: example, order, does, held, men, u, found, used, links, death\n",
            "lion: h, found, created, read, considered, p, international, create, beauty, tavistock\n",
            "africa: nine, part, seven, work, city, eight, example, known, end, place\n",
            "musician: people, use, model, g, u, addition, following, term, nine, seven\n",
            "dance: high, small, important, early, order, history, began, like, may, theory\n",
            "\n",
            "\n"
          ]
        },
        {
          "name": "stderr",
          "output_type": "stream",
          "text": [
            "13501it [36:12,  5.20it/s]"
          ]
        },
        {
          "name": "stdout",
          "output_type": "stream",
          "text": [
            "| epoch   1 | 13500/32580 batches | loss    1.697 \n",
            "money: example, order, does, held, men, links, found, u, death, used\n",
            "lion: h, found, read, created, p, considered, international, create, beauty, father\n",
            "africa: nine, part, eight, city, seven, work, end, known, example, order\n",
            "musician: people, use, model, addition, u, g, nine, one, eight, form\n",
            "dance: high, small, important, early, history, order, like, began, may, united\n",
            "\n",
            "\n"
          ]
        },
        {
          "name": "stderr",
          "output_type": "stream",
          "text": [
            "14001it [37:34,  5.23it/s]"
          ]
        },
        {
          "name": "stdout",
          "output_type": "stream",
          "text": [
            "| epoch   1 | 14000/32580 batches | loss    1.685 \n",
            "money: example, order, does, held, links, men, found, u, used, death\n",
            "lion: h, found, read, p, created, considered, beauty, father, create, act\n",
            "africa: nine, part, eight, seven, city, work, end, known, example, order\n",
            "musician: people, use, model, addition, u, nine, g, eight, seven, form\n",
            "dance: small, high, early, important, like, history, order, united, began, both\n",
            "\n",
            "\n"
          ]
        },
        {
          "name": "stderr",
          "output_type": "stream",
          "text": [
            "14501it [38:56,  5.39it/s]"
          ]
        },
        {
          "name": "stdout",
          "output_type": "stream",
          "text": [
            "| epoch   1 | 14500/32580 batches | loss    1.666 \n",
            "money: example, order, held, does, links, u, found, men, used, death\n",
            "lion: h, found, read, created, p, considered, beauty, father, act, create\n",
            "africa: nine, part, eight, seven, work, city, end, known, example, battle\n",
            "musician: people, addition, use, model, u, nine, form, seven, g, four\n",
            "dance: small, early, high, important, history, order, like, united, both, began\n",
            "\n",
            "\n"
          ]
        },
        {
          "name": "stderr",
          "output_type": "stream",
          "text": [
            "15001it [40:18,  5.50it/s]"
          ]
        },
        {
          "name": "stdout",
          "output_type": "stream",
          "text": [
            "| epoch   1 | 15000/32580 batches | loss    1.656 \n",
            "money: example, order, held, does, links, found, u, men, result, addition\n",
            "lion: h, found, read, created, p, considered, father, beauty, v, act\n",
            "africa: nine, part, end, seven, work, city, eight, america, known, battle\n",
            "musician: people, addition, model, use, u, nine, form, g, seven, role\n",
            "dance: small, important, early, high, history, order, united, like, both, fact\n",
            "\n",
            "\n"
          ]
        },
        {
          "name": "stderr",
          "output_type": "stream",
          "text": [
            "15501it [41:41,  5.42it/s]"
          ]
        },
        {
          "name": "stdout",
          "output_type": "stream",
          "text": [
            "| epoch   1 | 15500/32580 batches | loss    1.644 \n",
            "money: example, order, held, found, does, u, result, men, links, addition\n",
            "lion: h, found, read, p, created, v, father, considered, act, beauty\n",
            "africa: nine, part, seven, end, eight, city, battle, work, america, example\n",
            "musician: addition, people, model, u, nine, use, form, seven, g, role\n",
            "dance: small, important, early, high, like, united, history, order, both, fact\n",
            "\n",
            "\n"
          ]
        },
        {
          "name": "stderr",
          "output_type": "stream",
          "text": [
            "16001it [43:05,  5.36it/s]"
          ]
        },
        {
          "name": "stdout",
          "output_type": "stream",
          "text": [
            "| epoch   1 | 16000/32580 batches | loss    1.635 \n",
            "money: example, order, held, result, found, does, u, links, men, addition\n",
            "lion: h, found, p, read, created, father, v, considered, act, create\n",
            "africa: nine, part, end, eight, city, seven, battle, america, example, work\n",
            "musician: addition, people, model, form, u, use, seven, nine, role, eight\n",
            "dance: small, early, high, important, like, order, united, history, both, fact\n",
            "\n",
            "\n"
          ]
        },
        {
          "name": "stderr",
          "output_type": "stream",
          "text": [
            "16501it [44:28,  5.43it/s]"
          ]
        },
        {
          "name": "stdout",
          "output_type": "stream",
          "text": [
            "| epoch   1 | 16500/32580 batches | loss    1.619 \n",
            "money: example, order, held, does, result, u, links, found, addition, men\n",
            "lion: h, found, p, read, father, v, create, act, created, beauty\n",
            "africa: nine, part, end, eight, battle, seven, america, city, france, example\n",
            "musician: addition, model, people, u, form, nine, seven, role, use, eight\n",
            "dance: small, early, important, high, order, like, fact, united, history, both\n",
            "\n",
            "\n"
          ]
        },
        {
          "name": "stderr",
          "output_type": "stream",
          "text": [
            "17001it [45:51,  4.20it/s]"
          ]
        },
        {
          "name": "stdout",
          "output_type": "stream",
          "text": [
            "| epoch   1 | 17000/32580 batches | loss    1.613 \n",
            "money: example, order, does, result, held, u, links, addition, found, used\n",
            "lion: h, p, read, found, create, father, v, created, considered, act\n",
            "africa: nine, end, part, eight, seven, battle, america, one, france, city\n",
            "musician: addition, model, people, seven, u, nine, eight, form, role, use\n",
            "dance: small, early, important, high, order, united, history, fact, like, addition\n",
            "\n",
            "\n"
          ]
        },
        {
          "name": "stderr",
          "output_type": "stream",
          "text": [
            "17501it [47:14,  5.41it/s]"
          ]
        },
        {
          "name": "stdout",
          "output_type": "stream",
          "text": [
            "| epoch   1 | 17500/32580 batches | loss    1.605 \n",
            "money: example, order, held, does, result, addition, used, found, u, women\n",
            "lion: h, p, read, found, father, v, create, created, l, act\n",
            "africa: nine, end, part, eight, battle, america, seven, europe, france, addition\n",
            "musician: addition, model, people, u, eight, nine, seven, role, form, use\n",
            "dance: small, early, important, order, high, united, fact, addition, like, history\n",
            "\n",
            "\n"
          ]
        },
        {
          "name": "stderr",
          "output_type": "stream",
          "text": [
            "18001it [48:36,  3.96it/s]"
          ]
        },
        {
          "name": "stdout",
          "output_type": "stream",
          "text": [
            "| epoch   1 | 18000/32580 batches | loss    1.594 \n",
            "money: example, order, result, does, held, addition, used, found, need, women\n",
            "lion: h, p, read, found, v, father, create, considered, created, l\n",
            "africa: nine, end, part, eight, america, europe, battle, seven, france, addition\n",
            "musician: addition, model, nine, people, seven, u, role, eight, actress, form\n",
            "dance: small, early, important, order, united, fact, addition, nature, high, history\n",
            "\n",
            "\n"
          ]
        },
        {
          "name": "stderr",
          "output_type": "stream",
          "text": [
            "18501it [49:59,  5.58it/s]"
          ]
        },
        {
          "name": "stdout",
          "output_type": "stream",
          "text": [
            "| epoch   1 | 18500/32580 batches | loss    1.586 \n",
            "money: example, order, does, result, held, addition, found, women, need, rome\n",
            "lion: h, p, read, found, create, father, v, created, considered, l\n",
            "africa: nine, end, part, eight, america, europe, battle, france, england, seven\n",
            "musician: addition, model, nine, people, eight, u, seven, actress, role, singer\n",
            "dance: small, early, important, order, addition, fact, united, nature, battle, high\n",
            "\n",
            "\n"
          ]
        },
        {
          "name": "stderr",
          "output_type": "stream",
          "text": [
            "19001it [51:24,  5.43it/s]"
          ]
        },
        {
          "name": "stdout",
          "output_type": "stream",
          "text": [
            "| epoch   1 | 19000/32580 batches | loss    1.582 \n",
            "money: example, order, result, addition, found, held, need, women, rome, does\n",
            "lion: h, p, found, read, create, father, considered, created, v, l\n",
            "africa: nine, end, part, europe, eight, seven, america, battle, france, england\n",
            "musician: addition, nine, seven, model, actress, people, u, eight, role, singer\n",
            "dance: early, small, important, addition, order, united, fact, history, nature, battle\n",
            "\n",
            "\n"
          ]
        },
        {
          "name": "stderr",
          "output_type": "stream",
          "text": [
            "19501it [52:47,  4.11it/s]"
          ]
        },
        {
          "name": "stdout",
          "output_type": "stream",
          "text": [
            "| epoch   1 | 19500/32580 batches | loss    1.568 \n",
            "money: example, result, order, addition, held, women, need, found, rome, does\n",
            "lion: h, p, read, found, create, considered, l, v, father, beauty\n",
            "africa: nine, end, america, part, europe, seven, eight, france, battle, addition\n",
            "musician: addition, seven, actress, people, nine, model, u, singer, role, eight\n",
            "dance: early, small, important, addition, order, history, united, fact, nature, battle\n",
            "\n",
            "\n"
          ]
        },
        {
          "name": "stderr",
          "output_type": "stream",
          "text": [
            "20001it [54:09,  5.39it/s]"
          ]
        },
        {
          "name": "stdout",
          "output_type": "stream",
          "text": [
            "| epoch   1 | 20000/32580 batches | loss    1.562 \n",
            "money: example, result, addition, order, need, women, held, found, seen, does\n",
            "lion: h, p, found, read, create, considered, beauty, l, father, v\n",
            "africa: nine, end, america, part, europe, eight, addition, france, seven, battle\n",
            "musician: addition, seven, actress, nine, model, singer, people, u, role, four\n",
            "dance: early, small, addition, important, united, history, order, fact, nature, links\n",
            "\n",
            "\n"
          ]
        },
        {
          "name": "stderr",
          "output_type": "stream",
          "text": [
            "20501it [55:31,  4.27it/s]"
          ]
        },
        {
          "name": "stdout",
          "output_type": "stream",
          "text": [
            "| epoch   1 | 20500/32580 batches | loss    1.550 \n",
            "money: example, result, addition, order, need, held, women, found, seen, rome\n",
            "lion: h, p, found, read, create, considered, beauty, fact, v, l\n",
            "africa: nine, end, europe, america, eight, part, seven, france, addition, battle\n",
            "musician: addition, seven, nine, actress, singer, model, people, u, eight, role\n",
            "dance: early, small, addition, united, important, order, history, fact, battle, links\n",
            "\n",
            "\n"
          ]
        },
        {
          "name": "stderr",
          "output_type": "stream",
          "text": [
            "21001it [56:52,  5.41it/s]"
          ]
        },
        {
          "name": "stdout",
          "output_type": "stream",
          "text": [
            "| epoch   1 | 21000/32580 batches | loss    1.550 \n",
            "money: example, result, addition, need, order, women, held, seen, found, rome\n",
            "lion: p, h, found, read, create, considered, father, v, created, fact\n",
            "africa: nine, end, europe, eight, america, part, seven, addition, india, france\n",
            "musician: addition, seven, actress, nine, singer, model, eight, people, u, actor\n",
            "dance: early, small, addition, united, important, order, history, fact, battle, culture\n",
            "\n",
            "\n"
          ]
        },
        {
          "name": "stderr",
          "output_type": "stream",
          "text": [
            "21501it [58:15,  4.29it/s]"
          ]
        },
        {
          "name": "stdout",
          "output_type": "stream",
          "text": [
            "| epoch   1 | 21500/32580 batches | loss    1.539 \n",
            "money: example, result, addition, need, order, seen, women, found, held, does\n",
            "lion: h, p, found, read, create, father, considered, v, created, l\n",
            "africa: nine, europe, end, america, part, eight, addition, india, england, france\n",
            "musician: addition, actress, nine, singer, seven, model, u, eight, actor, role\n",
            "dance: early, small, addition, united, important, order, history, fact, music, battle\n",
            "\n",
            "\n"
          ]
        },
        {
          "name": "stderr",
          "output_type": "stream",
          "text": [
            "22001it [59:36,  5.33it/s]"
          ]
        },
        {
          "name": "stdout",
          "output_type": "stream",
          "text": [
            "| epoch   1 | 22000/32580 batches | loss    1.530 \n",
            "money: example, result, addition, need, women, order, rome, seen, found, held\n",
            "lion: p, h, create, read, found, father, considered, v, fact, created\n",
            "africa: nine, europe, america, end, part, eight, england, addition, india, france\n",
            "musician: addition, actress, singer, nine, seven, model, actor, role, u, people\n",
            "dance: early, small, addition, important, united, order, history, music, fact, battle\n",
            "\n",
            "\n"
          ]
        },
        {
          "name": "stderr",
          "output_type": "stream",
          "text": [
            "22501it [1:00:56,  5.48it/s]"
          ]
        },
        {
          "name": "stdout",
          "output_type": "stream",
          "text": [
            "| epoch   1 | 22500/32580 batches | loss    1.527 \n",
            "money: example, result, addition, need, women, order, held, rome, seen, does\n",
            "lion: p, h, create, read, found, father, considered, created, v, fact\n",
            "africa: europe, nine, america, end, part, france, india, addition, england, seven\n",
            "musician: addition, actress, singer, seven, nine, model, actor, author, role, u\n",
            "dance: early, small, addition, important, order, music, united, history, fact, battle\n",
            "\n",
            "\n"
          ]
        },
        {
          "name": "stderr",
          "output_type": "stream",
          "text": [
            "23001it [1:02:18,  5.49it/s]"
          ]
        },
        {
          "name": "stdout",
          "output_type": "stream",
          "text": [
            "| epoch   1 | 23000/32580 batches | loss    1.516 \n",
            "money: example, result, addition, need, women, seen, order, held, rome, does\n",
            "lion: p, h, create, read, v, father, considered, found, fact, created\n",
            "africa: nine, europe, america, end, seven, france, part, addition, india, england\n",
            "musician: addition, actress, seven, singer, nine, model, actor, author, writer, role\n",
            "dance: early, addition, small, important, united, order, music, history, fact, battle\n",
            "\n",
            "\n"
          ]
        },
        {
          "name": "stderr",
          "output_type": "stream",
          "text": [
            "23501it [1:03:39,  5.40it/s]"
          ]
        },
        {
          "name": "stdout",
          "output_type": "stream",
          "text": [
            "| epoch   1 | 23500/32580 batches | loss    1.506 \n",
            "money: example, result, addition, need, women, rome, seen, does, order, held\n",
            "lion: p, h, create, read, found, father, v, considered, fact, beauty\n",
            "africa: europe, nine, america, end, part, addition, france, india, eight, england\n",
            "musician: addition, actress, singer, seven, author, model, actor, nine, writer, u\n",
            "dance: early, addition, small, important, united, music, order, history, battle, fact\n",
            "\n",
            "\n"
          ]
        },
        {
          "name": "stderr",
          "output_type": "stream",
          "text": [
            "24001it [1:05:02,  5.35it/s]"
          ]
        },
        {
          "name": "stdout",
          "output_type": "stream",
          "text": [
            "| epoch   1 | 24000/32580 batches | loss    1.504 \n",
            "money: example, result, need, addition, women, order, rome, seen, held, does\n",
            "lion: p, h, create, read, found, v, considered, fact, father, beauty\n",
            "africa: europe, nine, america, end, part, seven, eight, addition, france, india\n",
            "musician: addition, singer, actress, seven, actor, writer, author, nine, model, role\n",
            "dance: small, addition, early, music, important, united, order, battle, history, fact\n",
            "\n",
            "\n"
          ]
        },
        {
          "name": "stderr",
          "output_type": "stream",
          "text": [
            "24501it [1:06:24,  5.11it/s]"
          ]
        },
        {
          "name": "stdout",
          "output_type": "stream",
          "text": [
            "| epoch   1 | 24500/32580 batches | loss    1.500 \n",
            "money: example, result, need, addition, seen, order, women, rome, held, found\n",
            "lion: p, h, create, read, found, v, fact, beauty, father, considered\n",
            "africa: nine, europe, america, eight, part, end, india, addition, france, seven\n",
            "musician: addition, singer, actress, nine, seven, actor, writer, author, eight, model\n",
            "dance: addition, small, early, music, important, united, order, history, battle, fact\n",
            "\n",
            "\n"
          ]
        },
        {
          "name": "stderr",
          "output_type": "stream",
          "text": [
            "25001it [1:07:48,  4.83it/s]"
          ]
        },
        {
          "name": "stdout",
          "output_type": "stream",
          "text": [
            "| epoch   1 | 25000/32580 batches | loss    1.494 \n",
            "money: example, result, need, addition, seen, order, found, rome, women, held\n",
            "lion: p, h, create, read, found, v, father, fact, gives, beauty\n",
            "africa: nine, europe, america, end, india, part, eight, france, seven, addition\n",
            "musician: addition, singer, actress, writer, actor, seven, author, nine, model, role\n",
            "dance: addition, music, small, early, important, united, order, battle, fact, culture\n",
            "\n",
            "\n"
          ]
        },
        {
          "name": "stderr",
          "output_type": "stream",
          "text": [
            "25501it [1:09:09,  5.51it/s]"
          ]
        },
        {
          "name": "stdout",
          "output_type": "stream",
          "text": [
            "| epoch   1 | 25500/32580 batches | loss    1.487 \n",
            "money: example, result, need, addition, seen, does, order, found, held, women\n",
            "lion: p, h, create, read, found, fact, v, father, beauty, gives\n",
            "africa: europe, nine, america, india, end, part, addition, france, seven, eight\n",
            "musician: addition, singer, actress, actor, writer, author, seven, nine, one, role\n",
            "dance: addition, music, small, early, important, united, culture, fact, battle, order\n",
            "\n",
            "\n"
          ]
        },
        {
          "name": "stderr",
          "output_type": "stream",
          "text": [
            "26001it [1:10:31,  5.45it/s]"
          ]
        },
        {
          "name": "stdout",
          "output_type": "stream",
          "text": [
            "| epoch   1 | 26000/32580 batches | loss    1.485 \n",
            "money: example, result, need, addition, seen, does, nine, order, said, women\n",
            "lion: p, h, create, read, found, v, father, fact, gives, beauty\n",
            "africa: europe, nine, america, india, end, part, addition, france, eight, england\n",
            "musician: addition, singer, actress, seven, actor, author, writer, nine, eight, one\n",
            "dance: music, addition, small, early, important, united, culture, order, cultural, nature\n",
            "\n",
            "\n"
          ]
        },
        {
          "name": "stderr",
          "output_type": "stream",
          "text": [
            "26501it [1:11:52,  5.42it/s]"
          ]
        },
        {
          "name": "stdout",
          "output_type": "stream",
          "text": [
            "| epoch   1 | 26500/32580 batches | loss    1.472 \n",
            "money: result, example, need, addition, seen, does, order, said, even, women\n",
            "lion: p, h, read, create, father, fact, v, beauty, gives, found\n",
            "africa: europe, nine, india, america, part, end, addition, france, eight, germany\n",
            "musician: singer, addition, actress, actor, writer, seven, author, nine, eight, one\n",
            "dance: addition, music, small, early, important, culture, united, fact, history, order\n",
            "\n",
            "\n"
          ]
        },
        {
          "name": "stderr",
          "output_type": "stream",
          "text": [
            "27001it [1:13:14,  5.52it/s]"
          ]
        },
        {
          "name": "stdout",
          "output_type": "stream",
          "text": [
            "| epoch   1 | 27000/32580 batches | loss    1.471 \n",
            "money: result, need, example, addition, seen, does, order, rome, said, nine\n",
            "lion: p, read, h, create, fact, v, father, beauty, gives, need\n",
            "africa: europe, india, nine, america, part, addition, end, france, seven, kingdom\n",
            "musician: singer, addition, actress, actor, writer, author, seven, nine, eight, u\n",
            "dance: music, addition, small, early, important, culture, united, cultural, history, fact\n",
            "\n",
            "\n"
          ]
        },
        {
          "name": "stderr",
          "output_type": "stream",
          "text": [
            "27501it [1:14:35,  5.36it/s]"
          ]
        },
        {
          "name": "stdout",
          "output_type": "stream",
          "text": [
            "| epoch   1 | 27500/32580 batches | loss    1.468 \n",
            "money: result, need, example, addition, seen, order, does, rome, nine, even\n",
            "lion: read, h, p, create, father, fact, v, beauty, gives, found\n",
            "africa: europe, nine, india, america, addition, end, part, france, eight, seven\n",
            "musician: singer, actress, addition, actor, writer, author, nine, seven, eight, kingdom\n",
            "dance: music, addition, small, early, united, important, culture, popular, cultural, whole\n",
            "\n",
            "\n"
          ]
        },
        {
          "name": "stderr",
          "output_type": "stream",
          "text": [
            "28001it [1:15:57,  5.43it/s]"
          ]
        },
        {
          "name": "stdout",
          "output_type": "stream",
          "text": [
            "| epoch   1 | 28000/32580 batches | loss    1.459 \n",
            "money: result, need, example, addition, seen, does, order, rome, nine, even\n",
            "lion: read, create, p, h, father, fact, found, beauty, gives, v\n",
            "africa: europe, nine, america, india, addition, end, part, france, germany, england\n",
            "musician: singer, actress, addition, actor, writer, author, nine, seven, eight, kingdom\n",
            "dance: music, addition, small, early, culture, united, important, cultural, popular, whole\n",
            "\n",
            "\n"
          ]
        },
        {
          "name": "stderr",
          "output_type": "stream",
          "text": [
            "28501it [1:17:18,  5.54it/s]"
          ]
        },
        {
          "name": "stdout",
          "output_type": "stream",
          "text": [
            "| epoch   1 | 28500/32580 batches | loss    1.451 \n",
            "money: result, need, example, addition, seen, does, even, rome, order, held\n",
            "lion: read, create, p, h, father, v, beauty, fact, need, found\n",
            "africa: europe, america, india, nine, addition, part, end, france, kingdom, germany\n",
            "musician: singer, actress, addition, actor, writer, author, nine, seven, eight, kingdom\n",
            "dance: music, addition, small, early, culture, united, important, popular, whole, cultural\n",
            "\n",
            "\n"
          ]
        },
        {
          "name": "stderr",
          "output_type": "stream",
          "text": [
            "29001it [1:18:39,  4.76it/s]"
          ]
        },
        {
          "name": "stdout",
          "output_type": "stream",
          "text": [
            "| epoch   1 | 29000/32580 batches | loss    1.447 \n",
            "money: result, need, example, addition, seen, even, rome, able, lack, women\n",
            "lion: read, create, p, h, v, father, fact, found, beauty, need\n",
            "africa: europe, america, india, nine, addition, part, end, france, eight, england\n",
            "musician: singer, actress, addition, actor, writer, author, nine, seven, eight, kingdom\n",
            "dance: music, addition, small, culture, early, united, whole, important, cultural, popular\n",
            "\n",
            "\n"
          ]
        },
        {
          "name": "stderr",
          "output_type": "stream",
          "text": [
            "29501it [1:19:59,  5.61it/s]"
          ]
        },
        {
          "name": "stdout",
          "output_type": "stream",
          "text": [
            "| epoch   1 | 29500/32580 batches | loss    1.446 \n",
            "money: result, need, example, addition, seen, even, able, order, nine, lack\n",
            "lion: read, create, h, p, v, father, found, fact, need, beauty\n",
            "africa: europe, america, india, nine, addition, part, end, germany, france, england\n",
            "musician: singer, actress, addition, actor, writer, author, nine, eight, seven, kingdom\n",
            "dance: music, addition, small, early, culture, whole, cultural, important, united, popular\n",
            "\n",
            "\n"
          ]
        },
        {
          "name": "stderr",
          "output_type": "stream",
          "text": [
            "30001it [1:21:20,  4.07it/s]"
          ]
        },
        {
          "name": "stdout",
          "output_type": "stream",
          "text": [
            "| epoch   1 | 30000/32580 batches | loss    1.439 \n",
            "money: result, need, example, addition, seen, even, able, get, women, lack\n",
            "lion: h, read, create, p, v, found, father, beauty, fact, suggested\n",
            "africa: europe, america, india, nine, addition, end, france, part, england, germany\n",
            "musician: singer, actress, addition, actor, writer, author, nine, eight, seven, kingdom\n",
            "dance: music, addition, small, early, culture, whole, popular, united, cultural, modern\n",
            "\n",
            "\n"
          ]
        },
        {
          "name": "stderr",
          "output_type": "stream",
          "text": [
            "30501it [1:22:41,  5.43it/s]"
          ]
        },
        {
          "name": "stdout",
          "output_type": "stream",
          "text": [
            "| epoch   1 | 30500/32580 batches | loss    1.436 \n",
            "money: result, example, need, addition, seen, even, able, get, lack, rome\n",
            "lion: h, read, p, create, v, fact, beauty, father, considered, found\n",
            "africa: america, europe, india, nine, addition, end, england, part, france, germany\n",
            "musician: singer, actress, addition, actor, writer, author, nine, eight, seven, kingdom\n",
            "dance: music, addition, culture, early, small, popular, united, whole, modern, cultural\n",
            "\n",
            "\n"
          ]
        },
        {
          "name": "stderr",
          "output_type": "stream",
          "text": [
            "31001it [1:24:03,  4.05it/s]"
          ]
        },
        {
          "name": "stdout",
          "output_type": "stream",
          "text": [
            "| epoch   1 | 31000/32580 batches | loss    1.432 \n",
            "money: result, need, example, addition, seen, even, lack, able, rome, get\n",
            "lion: h, p, read, create, v, beauty, fact, father, considered, need\n",
            "africa: america, europe, india, nine, addition, end, england, germany, part, kingdom\n",
            "musician: singer, actress, addition, actor, writer, author, nine, seven, eight, kingdom\n",
            "dance: music, addition, small, early, culture, popular, modern, whole, cultural, united\n",
            "\n",
            "\n"
          ]
        },
        {
          "name": "stderr",
          "output_type": "stream",
          "text": [
            "31501it [1:25:26,  5.24it/s]"
          ]
        },
        {
          "name": "stdout",
          "output_type": "stream",
          "text": [
            "| epoch   1 | 31500/32580 batches | loss    1.423 \n",
            "money: result, need, example, even, addition, seen, lack, rome, able, get\n",
            "lion: p, h, read, create, v, beauty, father, need, fact, suggested\n",
            "africa: america, europe, india, nine, addition, end, germany, england, part, eight\n",
            "musician: singer, actress, addition, actor, writer, author, nine, eight, seven, kingdom\n",
            "dance: music, addition, small, culture, early, modern, popular, whole, prominent, cultural\n",
            "\n",
            "\n"
          ]
        },
        {
          "name": "stderr",
          "output_type": "stream",
          "text": [
            "32001it [1:26:47,  4.01it/s]"
          ]
        },
        {
          "name": "stdout",
          "output_type": "stream",
          "text": [
            "| epoch   1 | 32000/32580 batches | loss    1.425 \n",
            "money: result, need, example, even, addition, seen, rome, able, lack, given\n",
            "lion: p, read, h, create, v, need, beauty, father, fact, suggested\n",
            "africa: america, europe, india, nine, end, germany, addition, part, eight, england\n",
            "musician: singer, actress, actor, addition, writer, author, nine, seven, eight, composer\n",
            "dance: music, addition, small, early, culture, prominent, whole, popular, digital, modern\n",
            "\n",
            "\n"
          ]
        },
        {
          "name": "stderr",
          "output_type": "stream",
          "text": [
            "32501it [1:28:10,  5.35it/s]"
          ]
        },
        {
          "name": "stdout",
          "output_type": "stream",
          "text": [
            "| epoch   1 | 32500/32580 batches | loss    1.417 \n",
            "money: result, need, example, even, addition, seen, lack, able, rome, return\n",
            "lion: read, p, h, create, v, need, beauty, fact, suggested, considered\n",
            "africa: america, europe, india, nine, end, germany, addition, england, part, kingdom\n",
            "musician: singer, actress, actor, addition, writer, author, nine, politician, composer, seven\n",
            "dance: music, addition, small, culture, early, prominent, whole, modern, popular, cultural\n",
            "\n",
            "\n"
          ]
        },
        {
          "name": "stderr",
          "output_type": "stream",
          "text": [
            "32580it [1:28:24,  6.14it/s]\n",
            "1it [00:01,  1.35s/it]"
          ]
        },
        {
          "name": "stdout",
          "output_type": "stream",
          "text": [
            "| epoch   2 |     0/32580 batches | loss    1.404 \n",
            "money: result, need, example, even, addition, seen, lack, able, rome, given\n",
            "lion: read, p, h, create, v, need, beauty, fact, father, goal\n",
            "africa: america, europe, india, nine, germany, addition, end, england, part, france\n",
            "musician: singer, actress, actor, addition, writer, author, nine, politician, composer, seven\n",
            "dance: music, addition, small, culture, early, prominent, whole, modern, popular, cultural\n",
            "\n",
            "\n"
          ]
        },
        {
          "name": "stderr",
          "output_type": "stream",
          "text": [
            "501it [01:24,  5.41it/s]"
          ]
        },
        {
          "name": "stdout",
          "output_type": "stream",
          "text": [
            "| epoch   2 |   500/32580 batches | loss    1.381 \n",
            "money: result, need, example, even, addition, seen, lack, able, rome, work\n",
            "lion: read, p, h, create, v, need, beauty, fact, father, goal\n",
            "africa: america, europe, india, nine, germany, addition, end, england, part, france\n",
            "musician: singer, actress, actor, addition, writer, author, nine, politician, composer, seven\n",
            "dance: music, addition, small, culture, early, prominent, whole, modern, popular, cultural\n",
            "\n",
            "\n"
          ]
        },
        {
          "name": "stderr",
          "output_type": "stream",
          "text": [
            "1001it [02:49,  5.46it/s]"
          ]
        },
        {
          "name": "stdout",
          "output_type": "stream",
          "text": [
            "| epoch   2 |  1000/32580 batches | loss    1.371 \n",
            "money: result, need, example, even, addition, seen, lack, able, rome, given\n",
            "lion: read, p, h, create, v, need, beauty, fact, father, goal\n",
            "africa: america, europe, india, nine, germany, addition, end, england, part, france\n",
            "musician: singer, actress, actor, addition, writer, author, nine, politician, composer, seven\n",
            "dance: music, addition, small, culture, early, prominent, whole, popular, modern, cultural\n",
            "\n",
            "\n"
          ]
        },
        {
          "name": "stderr",
          "output_type": "stream",
          "text": [
            "1501it [04:12,  4.98it/s]"
          ]
        },
        {
          "name": "stdout",
          "output_type": "stream",
          "text": [
            "| epoch   2 |  1500/32580 batches | loss    1.371 \n",
            "money: result, need, example, even, addition, seen, lack, able, rome, given\n",
            "lion: read, p, h, create, v, need, fact, beauty, father, goal\n",
            "africa: america, europe, india, nine, germany, addition, end, england, part, france\n",
            "musician: singer, actress, actor, addition, writer, author, nine, politician, composer, seven\n",
            "dance: music, addition, small, culture, early, prominent, whole, popular, modern, cultural\n",
            "\n",
            "\n"
          ]
        },
        {
          "name": "stderr",
          "output_type": "stream",
          "text": [
            "1696it [04:45,  5.94it/s]\n"
          ]
        },
        {
          "ename": "KeyboardInterrupt",
          "evalue": "ignored",
          "output_type": "error",
          "traceback": [
            "\u001b[0;31m---------------------------------------------------------------------------\u001b[0m",
            "\u001b[0;31mKeyboardInterrupt\u001b[0m                         Traceback (most recent call last)",
            "\u001b[0;32m<ipython-input-45-e381918da54f>\u001b[0m in \u001b[0;36m<cell line: 1>\u001b[0;34m()\u001b[0m\n\u001b[1;32m      2\u001b[0m     \u001b[0mepoch_start_time\u001b[0m \u001b[0;34m=\u001b[0m \u001b[0mtime\u001b[0m\u001b[0;34m.\u001b[0m\u001b[0mtime\u001b[0m\u001b[0;34m(\u001b[0m\u001b[0;34m)\u001b[0m\u001b[0;34m\u001b[0m\u001b[0;34m\u001b[0m\u001b[0m\n\u001b[1;32m      3\u001b[0m \u001b[0;34m\u001b[0m\u001b[0m\n\u001b[0;32m----> 4\u001b[0;31m     \u001b[0mtrain\u001b[0m\u001b[0;34m(\u001b[0m\u001b[0mtrain_dl\u001b[0m\u001b[0;34m,\u001b[0m \u001b[0mmodel\u001b[0m\u001b[0;34m,\u001b[0m \u001b[0moptimizer\u001b[0m\u001b[0;34m,\u001b[0m \u001b[0mepoch\u001b[0m\u001b[0;34m)\u001b[0m\u001b[0;34m\u001b[0m\u001b[0;34m\u001b[0m\u001b[0m\n\u001b[0m\u001b[1;32m      5\u001b[0m     \u001b[0;31m# We have a learning rate scheduler here\u001b[0m\u001b[0;34m\u001b[0m\u001b[0;34m\u001b[0m\u001b[0m\n\u001b[1;32m      6\u001b[0m     \u001b[0;31m# Basically, given the state of the optimizer, this lowers the learning rate in a smart way\u001b[0m\u001b[0;34m\u001b[0m\u001b[0;34m\u001b[0m\u001b[0m\n",
            "\u001b[0;32m<ipython-input-44-9e9ee2229378>\u001b[0m in \u001b[0;36mtrain\u001b[0;34m(dataloader, model, optimizer, epoch)\u001b[0m\n\u001b[1;32m     50\u001b[0m \u001b[0;34m\u001b[0m\u001b[0m\n\u001b[1;32m     51\u001b[0m         \u001b[0;31m# This should be (N * K, 2)\u001b[0m\u001b[0;34m\u001b[0m\u001b[0;34m\u001b[0m\u001b[0m\n\u001b[0;32m---> 52\u001b[0;31m         w_context = torch.concat([\n\u001b[0m\u001b[1;32m     53\u001b[0m             \u001b[0mw\u001b[0m\u001b[0;34m.\u001b[0m\u001b[0mrepeat\u001b[0m\u001b[0;34m(\u001b[0m\u001b[0mK\u001b[0m\u001b[0;34m,\u001b[0m \u001b[0;36m1\u001b[0m\u001b[0;34m)\u001b[0m \u001b[0;32mfor\u001b[0m \u001b[0mw\u001b[0m \u001b[0;32min\u001b[0m \u001b[0mtorch\u001b[0m\u001b[0;34m.\u001b[0m\u001b[0mtensor\u001b[0m\u001b[0;34m(\u001b[0m\u001b[0mw_context\u001b[0m\u001b[0;34m)\u001b[0m\u001b[0;34m.\u001b[0m\u001b[0msplit\u001b[0m\u001b[0;34m(\u001b[0m\u001b[0;36m1\u001b[0m\u001b[0;34m)\u001b[0m\u001b[0;34m\u001b[0m\u001b[0;34m\u001b[0m\u001b[0m\n\u001b[1;32m     54\u001b[0m         ])\n",
            "\u001b[0;32m<ipython-input-44-9e9ee2229378>\u001b[0m in \u001b[0;36m<listcomp>\u001b[0;34m(.0)\u001b[0m\n\u001b[1;32m     51\u001b[0m         \u001b[0;31m# This should be (N * K, 2)\u001b[0m\u001b[0;34m\u001b[0m\u001b[0;34m\u001b[0m\u001b[0m\n\u001b[1;32m     52\u001b[0m         w_context = torch.concat([\n\u001b[0;32m---> 53\u001b[0;31m             \u001b[0mw\u001b[0m\u001b[0;34m.\u001b[0m\u001b[0mrepeat\u001b[0m\u001b[0;34m(\u001b[0m\u001b[0mK\u001b[0m\u001b[0;34m,\u001b[0m \u001b[0;36m1\u001b[0m\u001b[0;34m)\u001b[0m \u001b[0;32mfor\u001b[0m \u001b[0mw\u001b[0m \u001b[0;32min\u001b[0m \u001b[0mtorch\u001b[0m\u001b[0;34m.\u001b[0m\u001b[0mtensor\u001b[0m\u001b[0;34m(\u001b[0m\u001b[0mw_context\u001b[0m\u001b[0;34m)\u001b[0m\u001b[0;34m.\u001b[0m\u001b[0msplit\u001b[0m\u001b[0;34m(\u001b[0m\u001b[0;36m1\u001b[0m\u001b[0;34m)\u001b[0m\u001b[0;34m\u001b[0m\u001b[0;34m\u001b[0m\u001b[0m\n\u001b[0m\u001b[1;32m     54\u001b[0m         ])\n\u001b[1;32m     55\u001b[0m \u001b[0;34m\u001b[0m\u001b[0m\n",
            "\u001b[0;31mKeyboardInterrupt\u001b[0m: "
          ]
        }
      ],
      "source": [
        "for epoch in range(1, NUM_EPOCHS + 1): # ?? how to train faster with pro?\n",
        "    epoch_start_time = time.time()\n",
        "\n",
        "    train(train_dl, model, optimizer, epoch)\n",
        "    # We have a learning rate scheduler here\n",
        "    # Basically, given the state of the optimizer, this lowers the learning rate in a smart way\n",
        "    scheduler.step()"
      ]
    },
    {
      "cell_type": "code",
      "execution_count": null,
      "id": "b0227888",
      "metadata": {
        "id": "b0227888"
      },
      "outputs": [],
      "source": []
    }
  ],
  "metadata": {
    "accelerator": "GPU",
    "colab": {
      "gpuType": "V100",
      "machine_shape": "hm",
      "provenance": []
    },
    "kernelspec": {
      "display_name": "Python 3",
      "name": "python3"
    },
    "language_info": {
      "codemirror_mode": {
        "name": "ipython",
        "version": 3
      },
      "file_extension": ".py",
      "mimetype": "text/x-python",
      "name": "python",
      "nbconvert_exporter": "python",
      "pygments_lexer": "ipython3",
      "version": "3.8.15"
    }
  },
  "nbformat": 4,
  "nbformat_minor": 5
}
