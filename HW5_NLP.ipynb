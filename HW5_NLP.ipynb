{
  "cells": [
    {
      "cell_type": "markdown",
      "id": "d9bcdbd2-3401-41ad-a83f-830e9346e607",
      "metadata": {
        "id": "d9bcdbd2-3401-41ad-a83f-830e9346e607"
      },
      "source": [
        "# **Applied Machine Learning Homework 5**\n",
        "**Due 12 Dec,2022 (Monday) 11:59PM EST**"
      ]
    },
    {
      "cell_type": "markdown",
      "id": "70df26be-5638-4b0d-a252-4437eb76aa46",
      "metadata": {
        "id": "70df26be-5638-4b0d-a252-4437eb76aa46"
      },
      "source": [
        "### Natural Language Processing\n",
        "We will train a supervised model to predict if a movie has a positive or a negative review."
      ]
    },
    {
      "cell_type": "markdown",
      "id": "2e0d9a19-25ea-4490-b0e8-7909bcdc3d9d",
      "metadata": {
        "id": "2e0d9a19-25ea-4490-b0e8-7909bcdc3d9d"
      },
      "source": [
        "####  **Dataset loading & dev/test splits**"
      ]
    },
    {
      "cell_type": "markdown",
      "id": "fafa37c4-c8fc-4697-9bbe-11539d710bf7",
      "metadata": {
        "id": "fafa37c4-c8fc-4697-9bbe-11539d710bf7"
      },
      "source": [
        "**1.0) Load the movie reviews dataset from NLTK library**"
      ]
    },
    {
      "cell_type": "code",
      "execution_count": 185,
      "id": "5f4ce405-237b-42d2-9c81-25ff28deaf4a",
      "metadata": {
        "colab": {
          "base_uri": "https://localhost:8080/",
          "height": 0
        },
        "id": "5f4ce405-237b-42d2-9c81-25ff28deaf4a",
        "outputId": "df681632-22ea-456d-ca8d-6707805516c3"
      },
      "outputs": [
        {
          "name": "stderr",
          "output_type": "stream",
          "text": [
            "[nltk_data] Downloading package movie_reviews to /root/nltk_data...\n",
            "[nltk_data]   Package movie_reviews is already up-to-date!\n",
            "[nltk_data] Downloading package stopwords to /root/nltk_data...\n",
            "[nltk_data]   Package stopwords is already up-to-date!\n",
            "[nltk_data] Downloading package punkt to /root/nltk_data...\n",
            "[nltk_data]   Package punkt is already up-to-date!\n"
          ]
        }
      ],
      "source": [
        "import nltk\n",
        "nltk.download(\"movie_reviews\")\n",
        "import pandas as pd\n",
        "from nltk.corpus import twitter_samples \n",
        "from sklearn.model_selection import train_test_split\n",
        "from nltk.corpus import stopwords\n",
        "nltk.download('stopwords')\n",
        "nltk.download('punkt')\n",
        "stop = stopwords.words('english')\n",
        "import string\n",
        "import re\n",
        "from nltk.stem import PorterStemmer\n",
        "from nltk.tokenize import word_tokenize\n",
        "from sklearn.feature_extraction.text import CountVectorizer\n",
        "from sklearn.linear_model import LogisticRegression\n",
        "from sklearn.feature_extraction.text import TfidfVectorizer\n",
        "\n",
        "from nltk.corpus import movie_reviews"
      ]
    },
    {
      "cell_type": "code",
      "execution_count": 68,
      "id": "Nmt1nVaNpkKy",
      "metadata": {
        "id": "Nmt1nVaNpkKy"
      },
      "outputs": [],
      "source": [
        "negative_fileids = movie_reviews.fileids('neg')\n",
        "positive_fileids = movie_reviews.fileids('pos')\n",
        "\n",
        "pos_document = [(' '.join(movie_reviews.words(file_id)),category) for file_id in movie_reviews.fileids() for category in movie_reviews.categories(file_id) if category == 'pos']\n",
        "neg_document = [(' '.join(movie_reviews.words(file_id)),category) for file_id in movie_reviews.fileids() for category in movie_reviews.categories(file_id) if category == 'neg']\n",
        "\n",
        "# List of postive and negative reviews\n",
        "pos_list = [pos[0] for pos in pos_document]\n",
        "neg_list = [neg[0] for neg in neg_document]"
      ]
    },
    {
      "cell_type": "markdown",
      "id": "-B4xT6L714l2",
      "metadata": {
        "id": "-B4xT6L714l2"
      },
      "source": [
        "**1.1) Make a data frame that has reviews and its label**"
      ]
    },
    {
      "cell_type": "code",
      "execution_count": 69,
      "id": "zFkLGJ5p118y",
      "metadata": {
        "id": "zFkLGJ5p118y"
      },
      "outputs": [],
      "source": [
        "# code here\n",
        "df = []\n",
        "for i in range(len(pos_list)):\n",
        "  df.append([pos_list[i], 'positive'])\n",
        "\n",
        "for i in range(len(neg_list)):\n",
        "  df.append([neg_list[i], 'negative'])\n",
        "\n",
        "df = pd.DataFrame(df, columns=['review', 'label'])"
      ]
    },
    {
      "cell_type": "code",
      "execution_count": 70,
      "id": "pRqd3TcVMVCz",
      "metadata": {
        "colab": {
          "base_uri": "https://localhost:8080/",
          "height": 206
        },
        "id": "pRqd3TcVMVCz",
        "outputId": "afcc54fd-6946-492d-eee8-c6017e6caa30"
      },
      "outputs": [
        {
          "data": {
            "text/html": [
              "\n",
              "  <div id=\"df-fe8cf98b-2045-4984-a409-92c30f4610bc\">\n",
              "    <div class=\"colab-df-container\">\n",
              "      <div>\n",
              "<style scoped>\n",
              "    .dataframe tbody tr th:only-of-type {\n",
              "        vertical-align: middle;\n",
              "    }\n",
              "\n",
              "    .dataframe tbody tr th {\n",
              "        vertical-align: top;\n",
              "    }\n",
              "\n",
              "    .dataframe thead th {\n",
              "        text-align: right;\n",
              "    }\n",
              "</style>\n",
              "<table border=\"1\" class=\"dataframe\">\n",
              "  <thead>\n",
              "    <tr style=\"text-align: right;\">\n",
              "      <th></th>\n",
              "      <th>review</th>\n",
              "      <th>label</th>\n",
              "    </tr>\n",
              "  </thead>\n",
              "  <tbody>\n",
              "    <tr>\n",
              "      <th>0</th>\n",
              "      <td>films adapted from comic books have had plenty...</td>\n",
              "      <td>positive</td>\n",
              "    </tr>\n",
              "    <tr>\n",
              "      <th>1</th>\n",
              "      <td>every now and then a movie comes along from a ...</td>\n",
              "      <td>positive</td>\n",
              "    </tr>\n",
              "    <tr>\n",
              "      <th>2</th>\n",
              "      <td>you ' ve got mail works alot better than it de...</td>\n",
              "      <td>positive</td>\n",
              "    </tr>\n",
              "    <tr>\n",
              "      <th>3</th>\n",
              "      <td>\" jaws \" is a rare film that grabs your attent...</td>\n",
              "      <td>positive</td>\n",
              "    </tr>\n",
              "    <tr>\n",
              "      <th>4</th>\n",
              "      <td>moviemaking is a lot like being the general ma...</td>\n",
              "      <td>positive</td>\n",
              "    </tr>\n",
              "  </tbody>\n",
              "</table>\n",
              "</div>\n",
              "      <button class=\"colab-df-convert\" onclick=\"convertToInteractive('df-fe8cf98b-2045-4984-a409-92c30f4610bc')\"\n",
              "              title=\"Convert this dataframe to an interactive table.\"\n",
              "              style=\"display:none;\">\n",
              "        \n",
              "  <svg xmlns=\"http://www.w3.org/2000/svg\" height=\"24px\"viewBox=\"0 0 24 24\"\n",
              "       width=\"24px\">\n",
              "    <path d=\"M0 0h24v24H0V0z\" fill=\"none\"/>\n",
              "    <path d=\"M18.56 5.44l.94 2.06.94-2.06 2.06-.94-2.06-.94-.94-2.06-.94 2.06-2.06.94zm-11 1L8.5 8.5l.94-2.06 2.06-.94-2.06-.94L8.5 2.5l-.94 2.06-2.06.94zm10 10l.94 2.06.94-2.06 2.06-.94-2.06-.94-.94-2.06-.94 2.06-2.06.94z\"/><path d=\"M17.41 7.96l-1.37-1.37c-.4-.4-.92-.59-1.43-.59-.52 0-1.04.2-1.43.59L10.3 9.45l-7.72 7.72c-.78.78-.78 2.05 0 2.83L4 21.41c.39.39.9.59 1.41.59.51 0 1.02-.2 1.41-.59l7.78-7.78 2.81-2.81c.8-.78.8-2.07 0-2.86zM5.41 20L4 18.59l7.72-7.72 1.47 1.35L5.41 20z\"/>\n",
              "  </svg>\n",
              "      </button>\n",
              "      \n",
              "  <style>\n",
              "    .colab-df-container {\n",
              "      display:flex;\n",
              "      flex-wrap:wrap;\n",
              "      gap: 12px;\n",
              "    }\n",
              "\n",
              "    .colab-df-convert {\n",
              "      background-color: #E8F0FE;\n",
              "      border: none;\n",
              "      border-radius: 50%;\n",
              "      cursor: pointer;\n",
              "      display: none;\n",
              "      fill: #1967D2;\n",
              "      height: 32px;\n",
              "      padding: 0 0 0 0;\n",
              "      width: 32px;\n",
              "    }\n",
              "\n",
              "    .colab-df-convert:hover {\n",
              "      background-color: #E2EBFA;\n",
              "      box-shadow: 0px 1px 2px rgba(60, 64, 67, 0.3), 0px 1px 3px 1px rgba(60, 64, 67, 0.15);\n",
              "      fill: #174EA6;\n",
              "    }\n",
              "\n",
              "    [theme=dark] .colab-df-convert {\n",
              "      background-color: #3B4455;\n",
              "      fill: #D2E3FC;\n",
              "    }\n",
              "\n",
              "    [theme=dark] .colab-df-convert:hover {\n",
              "      background-color: #434B5C;\n",
              "      box-shadow: 0px 1px 3px 1px rgba(0, 0, 0, 0.15);\n",
              "      filter: drop-shadow(0px 1px 2px rgba(0, 0, 0, 0.3));\n",
              "      fill: #FFFFFF;\n",
              "    }\n",
              "  </style>\n",
              "\n",
              "      <script>\n",
              "        const buttonEl =\n",
              "          document.querySelector('#df-fe8cf98b-2045-4984-a409-92c30f4610bc button.colab-df-convert');\n",
              "        buttonEl.style.display =\n",
              "          google.colab.kernel.accessAllowed ? 'block' : 'none';\n",
              "\n",
              "        async function convertToInteractive(key) {\n",
              "          const element = document.querySelector('#df-fe8cf98b-2045-4984-a409-92c30f4610bc');\n",
              "          const dataTable =\n",
              "            await google.colab.kernel.invokeFunction('convertToInteractive',\n",
              "                                                     [key], {});\n",
              "          if (!dataTable) return;\n",
              "\n",
              "          const docLinkHtml = 'Like what you see? Visit the ' +\n",
              "            '<a target=\"_blank\" href=https://colab.research.google.com/notebooks/data_table.ipynb>data table notebook</a>'\n",
              "            + ' to learn more about interactive tables.';\n",
              "          element.innerHTML = '';\n",
              "          dataTable['output_type'] = 'display_data';\n",
              "          await google.colab.output.renderOutput(dataTable, element);\n",
              "          const docLink = document.createElement('div');\n",
              "          docLink.innerHTML = docLinkHtml;\n",
              "          element.appendChild(docLink);\n",
              "        }\n",
              "      </script>\n",
              "    </div>\n",
              "  </div>\n",
              "  "
            ],
            "text/plain": [
              "                                              review     label\n",
              "0  films adapted from comic books have had plenty...  positive\n",
              "1  every now and then a movie comes along from a ...  positive\n",
              "2  you ' ve got mail works alot better than it de...  positive\n",
              "3  \" jaws \" is a rare film that grabs your attent...  positive\n",
              "4  moviemaking is a lot like being the general ma...  positive"
            ]
          },
          "execution_count": 70,
          "metadata": {},
          "output_type": "execute_result"
        }
      ],
      "source": [
        "df.head()"
      ]
    },
    {
      "cell_type": "markdown",
      "id": "eWdYSe2xxxCz",
      "metadata": {
        "id": "eWdYSe2xxxCz"
      },
      "source": [
        "**1.2 look at the class distribution of the movie reviews**"
      ]
    },
    {
      "cell_type": "code",
      "execution_count": 71,
      "id": "2be173e3",
      "metadata": {
        "colab": {
          "base_uri": "https://localhost:8080/",
          "height": 0
        },
        "id": "2be173e3",
        "outputId": "0ad2bfa6-dda4-41df-9ed8-7eb80137fcba"
      },
      "outputs": [
        {
          "name": "stdout",
          "output_type": "stream",
          "text": [
            "positive    1000\n",
            "negative    1000\n",
            "Name: label, dtype: int64\n"
          ]
        }
      ],
      "source": [
        "# code here\n",
        "print(df['label'].value_counts())"
      ]
    },
    {
      "cell_type": "markdown",
      "id": "12eae071-fd8a-4a46-9958-0525c635fd88",
      "metadata": {
        "id": "12eae071-fd8a-4a46-9958-0525c635fd88"
      },
      "source": [
        "**1.3) Create a development & test split (80/20 ratio):**"
      ]
    },
    {
      "cell_type": "code",
      "execution_count": 143,
      "id": "1a09323b",
      "metadata": {
        "id": "1a09323b"
      },
      "outputs": [],
      "source": [
        "# code here\n",
        "text=df.drop(columns=['label']) #dataframe\n",
        "y=df['label'] #series\n",
        "\n",
        "dev_text, test_text, dev_y, test_y = train_test_split(text, y, test_size=0.2, random_state=0)"
      ]
    },
    {
      "cell_type": "markdown",
      "id": "32b23398-e80e-4624-b89e-c02fabfd3f8d",
      "metadata": {
        "id": "32b23398-e80e-4624-b89e-c02fabfd3f8d"
      },
      "source": [
        "#### **Data preprocessing**\n",
        "We will do some data preprocessing before we tokenize the data. We will remove `#` symbol, hyperlinks, stop words & punctuations from the data. You may use `re` package for this. "
      ]
    },
    {
      "cell_type": "markdown",
      "id": "f89d9d69-1640-4583-a7b7-7ec04ccf3310",
      "metadata": {
        "id": "f89d9d69-1640-4583-a7b7-7ec04ccf3310"
      },
      "source": [
        "**1.4) Replace the `#` symbol with '' in every review**"
      ]
    },
    {
      "cell_type": "code",
      "execution_count": 144,
      "id": "5db4dd6d-e775-49d3-96e1-57620c042d46",
      "metadata": {
        "id": "5db4dd6d-e775-49d3-96e1-57620c042d46"
      },
      "outputs": [],
      "source": [
        "# code here\n",
        "for i in range(len(dev_text)):\n",
        "  dev_text.iloc[i,0]=dev_text.iloc[i,0].replace('#', '')\n",
        "\n",
        "for i in range(len(test_text)):\n",
        "  test_text.iloc[i,0]=test_text.iloc[i,0].replace('#', '')"
      ]
    },
    {
      "cell_type": "markdown",
      "id": "24c4caa8-d71d-46a8-8859-a8e85c56acfe",
      "metadata": {
        "id": "24c4caa8-d71d-46a8-8859-a8e85c56acfe"
      },
      "source": [
        "**1.5) Replace hyperlinks with '' in every review**\n",
        "\n",
        "We understand the removing hyperlinks is not straightforward for this data set since the hyperlink themselves have spaces between them. Feel free to ignore this question and proceed with normal analysis. We will not deduct marks for this question."
      ]
    },
    {
      "cell_type": "code",
      "execution_count": null,
      "id": "ff5a7411-df49-427b-adef-5e8e63224db0",
      "metadata": {
        "id": "ff5a7411-df49-427b-adef-5e8e63224db0"
      },
      "outputs": [],
      "source": [
        "# code here"
      ]
    },
    {
      "cell_type": "markdown",
      "id": "492ae463-b611-4292-9ad2-b778856bf8bc",
      "metadata": {
        "id": "492ae463-b611-4292-9ad2-b778856bf8bc"
      },
      "source": [
        "**1.6) Remove all stop words**"
      ]
    },
    {
      "cell_type": "code",
      "execution_count": 145,
      "id": "961d73fd-a662-46f2-85a2-83bf6b978189",
      "metadata": {
        "id": "961d73fd-a662-46f2-85a2-83bf6b978189"
      },
      "outputs": [],
      "source": [
        "# code here\n",
        "for i in range(len(dev_text)):\n",
        "  tokens=word_tokenize(dev_text.iloc[i,0])\n",
        "  tokens=[word for word in tokens if word not in stop]\n",
        "  dev_text.iloc[i,0]=\" \".join(tokens)\n",
        "\n",
        "for i in range(len(test_text)):\n",
        "  tokens=word_tokenize(test_text.iloc[i,0])\n",
        "  tokens=[word for word in tokens if word not in stop]\n",
        "  test_text.iloc[i,0]=\" \".join(tokens)"
      ]
    },
    {
      "cell_type": "markdown",
      "id": "169bf8ad-f7ba-4e67-a1a0-92fcdd193ab9",
      "metadata": {
        "id": "169bf8ad-f7ba-4e67-a1a0-92fcdd193ab9"
      },
      "source": [
        "**1.7) Remove all punctuations**"
      ]
    },
    {
      "cell_type": "code",
      "execution_count": 148,
      "id": "774743e0-8cf0-4dbb-a6fa-006ff076bb9e",
      "metadata": {
        "id": "774743e0-8cf0-4dbb-a6fa-006ff076bb9e"
      },
      "outputs": [],
      "source": [
        "# code here\n",
        "for i in range(len(dev_text)):\n",
        "  for character in string.punctuation:\n",
        "    dev_text.iloc[i,0]=dev_text.iloc[i,0].replace(character, '')\n",
        "\n",
        "for i in range(len(test_text)):\n",
        "  for character in string.punctuation:\n",
        "    test_text.iloc[i,0]=test_text.iloc[i,0].replace(character, '')"
      ]
    },
    {
      "cell_type": "markdown",
      "id": "b2f1af18-0c07-4ffb-994e-daead4740a53",
      "metadata": {
        "id": "b2f1af18-0c07-4ffb-994e-daead4740a53"
      },
      "source": [
        "**1.8) Apply stemming on the development & test datasets using Porter algorithm**"
      ]
    },
    {
      "cell_type": "code",
      "execution_count": 149,
      "id": "c84a52f6-a62a-4033-8d1d-239ff6904248",
      "metadata": {
        "id": "c84a52f6-a62a-4033-8d1d-239ff6904248"
      },
      "outputs": [],
      "source": [
        "#code here\n",
        "porter=PorterStemmer()\n",
        "\n",
        "def stemsentence(sentence):\n",
        "  token_words=word_tokenize(sentence)\n",
        "  stem_sentence=[porter.stem(word) for word in token_words]\n",
        "  return \" \".join(stem_sentence)\n",
        "\n",
        "for i in range(len(dev_text)):\n",
        "  dev_text.iloc[i,0]=stemsentence(dev_text.iloc[i,0])\n",
        "\n",
        "for i in range(len(test_text)):\n",
        "  test_text.iloc[i,0]=stemsentence(test_text.iloc[i,0])"
      ]
    },
    {
      "cell_type": "markdown",
      "id": "687e23ef-dafd-4183-b2f1-86089e281dd8",
      "metadata": {
        "id": "687e23ef-dafd-4183-b2f1-86089e281dd8"
      },
      "source": [
        "#### **Model training**"
      ]
    },
    {
      "cell_type": "markdown",
      "id": "0c40fa44-01ad-4788-98b9-9c8f0c1252ef",
      "metadata": {
        "id": "0c40fa44-01ad-4788-98b9-9c8f0c1252ef"
      },
      "source": [
        "**1.9) Create bag of words features for each review in the development dataset**"
      ]
    },
    {
      "cell_type": "code",
      "execution_count": 176,
      "id": "c17c6b99-9dfb-4d30-9e03-d596a9da880a",
      "metadata": {
        "colab": {
          "base_uri": "https://localhost:8080/",
          "height": 206
        },
        "id": "c17c6b99-9dfb-4d30-9e03-d596a9da880a",
        "outputId": "a9793ca7-9ccf-4376-d5e6-2a1449fad8bd"
      },
      "outputs": [
        {
          "data": {
            "text/html": [
              "\n",
              "  <div id=\"df-82b3ef43-d382-43f9-b4d3-4bc91148e810\">\n",
              "    <div class=\"colab-df-container\">\n",
              "      <div>\n",
              "<style scoped>\n",
              "    .dataframe tbody tr th:only-of-type {\n",
              "        vertical-align: middle;\n",
              "    }\n",
              "\n",
              "    .dataframe tbody tr th {\n",
              "        vertical-align: top;\n",
              "    }\n",
              "\n",
              "    .dataframe thead th {\n",
              "        text-align: right;\n",
              "    }\n",
              "</style>\n",
              "<table border=\"1\" class=\"dataframe\">\n",
              "  <thead>\n",
              "    <tr style=\"text-align: right;\">\n",
              "      <th></th>\n",
              "      <th>review</th>\n",
              "      <th>BOW</th>\n",
              "    </tr>\n",
              "  </thead>\n",
              "  <tbody>\n",
              "    <tr>\n",
              "      <th>582</th>\n",
              "      <td>note may consid portion follow text spoiler fo...</td>\n",
              "      <td>(0, 210)\\t1\\n  (0, 189)\\t1\\n  (0, 62)\\t2\\n  ...</td>\n",
              "    </tr>\n",
              "    <tr>\n",
              "      <th>159</th>\n",
              "      <td>last two film shine snow fall cedar australian...</td>\n",
              "      <td>(0, 149)\\t1\\n  (0, 289)\\t2\\n  (0, 100)\\t5\\n ...</td>\n",
              "    </tr>\n",
              "    <tr>\n",
              "      <th>1827</th>\n",
              "      <td>best thing lake placid 80 minut long glad wast...</td>\n",
              "      <td>(0, 11)\\t2\\n  (0, 105)\\t1\\n  (0, 56)\\t4\\n  (...</td>\n",
              "    </tr>\n",
              "    <tr>\n",
              "      <th>318</th>\n",
              "      <td>year initi releas scream horror send veteran h...</td>\n",
              "      <td>(0, 297)\\t1\\n  (0, 133)\\t1\\n  (0, 205)\\t2\\n ...</td>\n",
              "    </tr>\n",
              "    <tr>\n",
              "      <th>708</th>\n",
              "      <td>upon time solitari ogr name shrek mike myer re...</td>\n",
              "      <td>(0, 296)\\t1\\n  (0, 280)\\t1\\n  (0, 248)\\t2\\n ...</td>\n",
              "    </tr>\n",
              "  </tbody>\n",
              "</table>\n",
              "</div>\n",
              "      <button class=\"colab-df-convert\" onclick=\"convertToInteractive('df-82b3ef43-d382-43f9-b4d3-4bc91148e810')\"\n",
              "              title=\"Convert this dataframe to an interactive table.\"\n",
              "              style=\"display:none;\">\n",
              "        \n",
              "  <svg xmlns=\"http://www.w3.org/2000/svg\" height=\"24px\"viewBox=\"0 0 24 24\"\n",
              "       width=\"24px\">\n",
              "    <path d=\"M0 0h24v24H0V0z\" fill=\"none\"/>\n",
              "    <path d=\"M18.56 5.44l.94 2.06.94-2.06 2.06-.94-2.06-.94-.94-2.06-.94 2.06-2.06.94zm-11 1L8.5 8.5l.94-2.06 2.06-.94-2.06-.94L8.5 2.5l-.94 2.06-2.06.94zm10 10l.94 2.06.94-2.06 2.06-.94-2.06-.94-.94-2.06-.94 2.06-2.06.94z\"/><path d=\"M17.41 7.96l-1.37-1.37c-.4-.4-.92-.59-1.43-.59-.52 0-1.04.2-1.43.59L10.3 9.45l-7.72 7.72c-.78.78-.78 2.05 0 2.83L4 21.41c.39.39.9.59 1.41.59.51 0 1.02-.2 1.41-.59l7.78-7.78 2.81-2.81c.8-.78.8-2.07 0-2.86zM5.41 20L4 18.59l7.72-7.72 1.47 1.35L5.41 20z\"/>\n",
              "  </svg>\n",
              "      </button>\n",
              "      \n",
              "  <style>\n",
              "    .colab-df-container {\n",
              "      display:flex;\n",
              "      flex-wrap:wrap;\n",
              "      gap: 12px;\n",
              "    }\n",
              "\n",
              "    .colab-df-convert {\n",
              "      background-color: #E8F0FE;\n",
              "      border: none;\n",
              "      border-radius: 50%;\n",
              "      cursor: pointer;\n",
              "      display: none;\n",
              "      fill: #1967D2;\n",
              "      height: 32px;\n",
              "      padding: 0 0 0 0;\n",
              "      width: 32px;\n",
              "    }\n",
              "\n",
              "    .colab-df-convert:hover {\n",
              "      background-color: #E2EBFA;\n",
              "      box-shadow: 0px 1px 2px rgba(60, 64, 67, 0.3), 0px 1px 3px 1px rgba(60, 64, 67, 0.15);\n",
              "      fill: #174EA6;\n",
              "    }\n",
              "\n",
              "    [theme=dark] .colab-df-convert {\n",
              "      background-color: #3B4455;\n",
              "      fill: #D2E3FC;\n",
              "    }\n",
              "\n",
              "    [theme=dark] .colab-df-convert:hover {\n",
              "      background-color: #434B5C;\n",
              "      box-shadow: 0px 1px 3px 1px rgba(0, 0, 0, 0.15);\n",
              "      filter: drop-shadow(0px 1px 2px rgba(0, 0, 0, 0.3));\n",
              "      fill: #FFFFFF;\n",
              "    }\n",
              "  </style>\n",
              "\n",
              "      <script>\n",
              "        const buttonEl =\n",
              "          document.querySelector('#df-82b3ef43-d382-43f9-b4d3-4bc91148e810 button.colab-df-convert');\n",
              "        buttonEl.style.display =\n",
              "          google.colab.kernel.accessAllowed ? 'block' : 'none';\n",
              "\n",
              "        async function convertToInteractive(key) {\n",
              "          const element = document.querySelector('#df-82b3ef43-d382-43f9-b4d3-4bc91148e810');\n",
              "          const dataTable =\n",
              "            await google.colab.kernel.invokeFunction('convertToInteractive',\n",
              "                                                     [key], {});\n",
              "          if (!dataTable) return;\n",
              "\n",
              "          const docLinkHtml = 'Like what you see? Visit the ' +\n",
              "            '<a target=\"_blank\" href=https://colab.research.google.com/notebooks/data_table.ipynb>data table notebook</a>'\n",
              "            + ' to learn more about interactive tables.';\n",
              "          element.innerHTML = '';\n",
              "          dataTable['output_type'] = 'display_data';\n",
              "          await google.colab.output.renderOutput(dataTable, element);\n",
              "          const docLink = document.createElement('div');\n",
              "          docLink.innerHTML = docLinkHtml;\n",
              "          element.appendChild(docLink);\n",
              "        }\n",
              "      </script>\n",
              "    </div>\n",
              "  </div>\n",
              "  "
            ],
            "text/plain": [
              "                                                 review  \\\n",
              "582   note may consid portion follow text spoiler fo...   \n",
              "159   last two film shine snow fall cedar australian...   \n",
              "1827  best thing lake placid 80 minut long glad wast...   \n",
              "318   year initi releas scream horror send veteran h...   \n",
              "708   upon time solitari ogr name shrek mike myer re...   \n",
              "\n",
              "                                                    BOW  \n",
              "582     (0, 210)\\t1\\n  (0, 189)\\t1\\n  (0, 62)\\t2\\n  ...  \n",
              "159     (0, 149)\\t1\\n  (0, 289)\\t2\\n  (0, 100)\\t5\\n ...  \n",
              "1827    (0, 11)\\t2\\n  (0, 105)\\t1\\n  (0, 56)\\t4\\n  (...  \n",
              "318     (0, 297)\\t1\\n  (0, 133)\\t1\\n  (0, 205)\\t2\\n ...  \n",
              "708     (0, 296)\\t1\\n  (0, 280)\\t1\\n  (0, 248)\\t2\\n ...  "
            ]
          },
          "execution_count": 176,
          "metadata": {},
          "output_type": "execute_result"
        }
      ],
      "source": [
        "#code here\n",
        "vector=CountVectorizer()\n",
        "\n",
        "BOW=[0] * len(dev_text)\n",
        "for i in range(len(dev_text)):\n",
        "  a=[dev_text.iloc[i,0]]\n",
        "  BOW[i]=vector.fit_transform(a)\n",
        "\n",
        "dev_text['BOW']=BOW\n",
        "dev_text.head()"
      ]
    },
    {
      "cell_type": "markdown",
      "id": "4baf65cd-019b-4ff4-b93c-3ca8cfffca8e",
      "metadata": {
        "id": "4baf65cd-019b-4ff4-b93c-3ca8cfffca8e"
      },
      "source": [
        "**1.10) Train a Logistic Regression model on the development dataset**"
      ]
    },
    {
      "cell_type": "code",
      "execution_count": 179,
      "id": "ppbYPUJkCHu6",
      "metadata": {
        "id": "ppbYPUJkCHu6"
      },
      "outputs": [],
      "source": [
        "dev_x_BOW=vector.fit_transform(list(dev_text['review']))\n",
        "test_x_BOW=vector.transform(list(test_text['review']))"
      ]
    },
    {
      "cell_type": "code",
      "execution_count": 180,
      "id": "3433a6b0-408d-462e-9072-3495b21bc97b",
      "metadata": {
        "colab": {
          "base_uri": "https://localhost:8080/",
          "height": 0
        },
        "id": "3433a6b0-408d-462e-9072-3495b21bc97b",
        "outputId": "dca0a271-bf6c-4a52-b855-7db7078ae5a9"
      },
      "outputs": [
        {
          "name": "stderr",
          "output_type": "stream",
          "text": [
            "/usr/local/lib/python3.8/dist-packages/sklearn/linear_model/_logistic.py:814: ConvergenceWarning: lbfgs failed to converge (status=1):\n",
            "STOP: TOTAL NO. of ITERATIONS REACHED LIMIT.\n",
            "\n",
            "Increase the number of iterations (max_iter) or scale the data as shown in:\n",
            "    https://scikit-learn.org/stable/modules/preprocessing.html\n",
            "Please also refer to the documentation for alternative solver options:\n",
            "    https://scikit-learn.org/stable/modules/linear_model.html#logistic-regression\n",
            "  n_iter_i = _check_optimize_result(\n"
          ]
        }
      ],
      "source": [
        "#code here\n",
        "lr=LogisticRegression().fit(dev_x_BOW, dev_y)"
      ]
    },
    {
      "cell_type": "code",
      "execution_count": 181,
      "id": "q4ifJFOyFjIS",
      "metadata": {
        "colab": {
          "base_uri": "https://localhost:8080/",
          "height": 0
        },
        "id": "q4ifJFOyFjIS",
        "outputId": "4b658488-2623-4600-82c2-fd66d3e3ff0b"
      },
      "outputs": [
        {
          "data": {
            "text/plain": [
              "0.83"
            ]
          },
          "execution_count": 181,
          "metadata": {},
          "output_type": "execute_result"
        }
      ],
      "source": [
        "lr.score(test_x_BOW, test_y)"
      ]
    },
    {
      "cell_type": "markdown",
      "id": "1c16c6f6-7ab2-4d7a-b9dc-098a72381340",
      "metadata": {
        "id": "1c16c6f6-7ab2-4d7a-b9dc-098a72381340"
      },
      "source": [
        "**1.11) Create TF-IDF features for each review in the development dataset**"
      ]
    },
    {
      "cell_type": "code",
      "execution_count": 177,
      "id": "7b417843-ffc4-4614-b2ef-964f8ec3e510",
      "metadata": {
        "colab": {
          "base_uri": "https://localhost:8080/",
          "height": 206
        },
        "id": "7b417843-ffc4-4614-b2ef-964f8ec3e510",
        "outputId": "af391f54-5e4d-4abc-e4af-b237ede0b2e9"
      },
      "outputs": [
        {
          "data": {
            "text/html": [
              "\n",
              "  <div id=\"df-6a310139-ea9f-484c-a07c-d3a330ed7a45\">\n",
              "    <div class=\"colab-df-container\">\n",
              "      <div>\n",
              "<style scoped>\n",
              "    .dataframe tbody tr th:only-of-type {\n",
              "        vertical-align: middle;\n",
              "    }\n",
              "\n",
              "    .dataframe tbody tr th {\n",
              "        vertical-align: top;\n",
              "    }\n",
              "\n",
              "    .dataframe thead th {\n",
              "        text-align: right;\n",
              "    }\n",
              "</style>\n",
              "<table border=\"1\" class=\"dataframe\">\n",
              "  <thead>\n",
              "    <tr style=\"text-align: right;\">\n",
              "      <th></th>\n",
              "      <th>review</th>\n",
              "      <th>BOW</th>\n",
              "      <th>TF</th>\n",
              "    </tr>\n",
              "  </thead>\n",
              "  <tbody>\n",
              "    <tr>\n",
              "      <th>582</th>\n",
              "      <td>note may consid portion follow text spoiler fo...</td>\n",
              "      <td>(0, 210)\\t1\\n  (0, 189)\\t1\\n  (0, 62)\\t2\\n  ...</td>\n",
              "      <td>(0, 37)\\t0.020302737602678898\\n  (0, 6)\\t0.0...</td>\n",
              "    </tr>\n",
              "    <tr>\n",
              "      <th>159</th>\n",
              "      <td>last two film shine snow fall cedar australian...</td>\n",
              "      <td>(0, 149)\\t1\\n  (0, 289)\\t2\\n  (0, 100)\\t5\\n ...</td>\n",
              "      <td>(0, 83)\\t0.038604571824109146\\n  (0, 280)\\t0...</td>\n",
              "    </tr>\n",
              "    <tr>\n",
              "      <th>1827</th>\n",
              "      <td>best thing lake placid 80 minut long glad wast...</td>\n",
              "      <td>(0, 11)\\t2\\n  (0, 105)\\t1\\n  (0, 56)\\t4\\n  (...</td>\n",
              "      <td>(0, 110)\\t0.06868028197434452\\n  (0, 72)\\t0....</td>\n",
              "    </tr>\n",
              "    <tr>\n",
              "      <th>318</th>\n",
              "      <td>year initi releas scream horror send veteran h...</td>\n",
              "      <td>(0, 297)\\t1\\n  (0, 133)\\t1\\n  (0, 205)\\t2\\n ...</td>\n",
              "      <td>(0, 248)\\t0.03059950306810523\\n  (0, 170)\\t0...</td>\n",
              "    </tr>\n",
              "    <tr>\n",
              "      <th>708</th>\n",
              "      <td>upon time solitari ogr name shrek mike myer re...</td>\n",
              "      <td>(0, 296)\\t1\\n  (0, 280)\\t1\\n  (0, 248)\\t2\\n ...</td>\n",
              "      <td>(0, 55)\\t0.03454442679267334\\n  (0, 262)\\t0....</td>\n",
              "    </tr>\n",
              "  </tbody>\n",
              "</table>\n",
              "</div>\n",
              "      <button class=\"colab-df-convert\" onclick=\"convertToInteractive('df-6a310139-ea9f-484c-a07c-d3a330ed7a45')\"\n",
              "              title=\"Convert this dataframe to an interactive table.\"\n",
              "              style=\"display:none;\">\n",
              "        \n",
              "  <svg xmlns=\"http://www.w3.org/2000/svg\" height=\"24px\"viewBox=\"0 0 24 24\"\n",
              "       width=\"24px\">\n",
              "    <path d=\"M0 0h24v24H0V0z\" fill=\"none\"/>\n",
              "    <path d=\"M18.56 5.44l.94 2.06.94-2.06 2.06-.94-2.06-.94-.94-2.06-.94 2.06-2.06.94zm-11 1L8.5 8.5l.94-2.06 2.06-.94-2.06-.94L8.5 2.5l-.94 2.06-2.06.94zm10 10l.94 2.06.94-2.06 2.06-.94-2.06-.94-.94-2.06-.94 2.06-2.06.94z\"/><path d=\"M17.41 7.96l-1.37-1.37c-.4-.4-.92-.59-1.43-.59-.52 0-1.04.2-1.43.59L10.3 9.45l-7.72 7.72c-.78.78-.78 2.05 0 2.83L4 21.41c.39.39.9.59 1.41.59.51 0 1.02-.2 1.41-.59l7.78-7.78 2.81-2.81c.8-.78.8-2.07 0-2.86zM5.41 20L4 18.59l7.72-7.72 1.47 1.35L5.41 20z\"/>\n",
              "  </svg>\n",
              "      </button>\n",
              "      \n",
              "  <style>\n",
              "    .colab-df-container {\n",
              "      display:flex;\n",
              "      flex-wrap:wrap;\n",
              "      gap: 12px;\n",
              "    }\n",
              "\n",
              "    .colab-df-convert {\n",
              "      background-color: #E8F0FE;\n",
              "      border: none;\n",
              "      border-radius: 50%;\n",
              "      cursor: pointer;\n",
              "      display: none;\n",
              "      fill: #1967D2;\n",
              "      height: 32px;\n",
              "      padding: 0 0 0 0;\n",
              "      width: 32px;\n",
              "    }\n",
              "\n",
              "    .colab-df-convert:hover {\n",
              "      background-color: #E2EBFA;\n",
              "      box-shadow: 0px 1px 2px rgba(60, 64, 67, 0.3), 0px 1px 3px 1px rgba(60, 64, 67, 0.15);\n",
              "      fill: #174EA6;\n",
              "    }\n",
              "\n",
              "    [theme=dark] .colab-df-convert {\n",
              "      background-color: #3B4455;\n",
              "      fill: #D2E3FC;\n",
              "    }\n",
              "\n",
              "    [theme=dark] .colab-df-convert:hover {\n",
              "      background-color: #434B5C;\n",
              "      box-shadow: 0px 1px 3px 1px rgba(0, 0, 0, 0.15);\n",
              "      filter: drop-shadow(0px 1px 2px rgba(0, 0, 0, 0.3));\n",
              "      fill: #FFFFFF;\n",
              "    }\n",
              "  </style>\n",
              "\n",
              "      <script>\n",
              "        const buttonEl =\n",
              "          document.querySelector('#df-6a310139-ea9f-484c-a07c-d3a330ed7a45 button.colab-df-convert');\n",
              "        buttonEl.style.display =\n",
              "          google.colab.kernel.accessAllowed ? 'block' : 'none';\n",
              "\n",
              "        async function convertToInteractive(key) {\n",
              "          const element = document.querySelector('#df-6a310139-ea9f-484c-a07c-d3a330ed7a45');\n",
              "          const dataTable =\n",
              "            await google.colab.kernel.invokeFunction('convertToInteractive',\n",
              "                                                     [key], {});\n",
              "          if (!dataTable) return;\n",
              "\n",
              "          const docLinkHtml = 'Like what you see? Visit the ' +\n",
              "            '<a target=\"_blank\" href=https://colab.research.google.com/notebooks/data_table.ipynb>data table notebook</a>'\n",
              "            + ' to learn more about interactive tables.';\n",
              "          element.innerHTML = '';\n",
              "          dataTable['output_type'] = 'display_data';\n",
              "          await google.colab.output.renderOutput(dataTable, element);\n",
              "          const docLink = document.createElement('div');\n",
              "          docLink.innerHTML = docLinkHtml;\n",
              "          element.appendChild(docLink);\n",
              "        }\n",
              "      </script>\n",
              "    </div>\n",
              "  </div>\n",
              "  "
            ],
            "text/plain": [
              "                                                 review  \\\n",
              "582   note may consid portion follow text spoiler fo...   \n",
              "159   last two film shine snow fall cedar australian...   \n",
              "1827  best thing lake placid 80 minut long glad wast...   \n",
              "318   year initi releas scream horror send veteran h...   \n",
              "708   upon time solitari ogr name shrek mike myer re...   \n",
              "\n",
              "                                                    BOW  \\\n",
              "582     (0, 210)\\t1\\n  (0, 189)\\t1\\n  (0, 62)\\t2\\n  ...   \n",
              "159     (0, 149)\\t1\\n  (0, 289)\\t2\\n  (0, 100)\\t5\\n ...   \n",
              "1827    (0, 11)\\t2\\n  (0, 105)\\t1\\n  (0, 56)\\t4\\n  (...   \n",
              "318     (0, 297)\\t1\\n  (0, 133)\\t1\\n  (0, 205)\\t2\\n ...   \n",
              "708     (0, 296)\\t1\\n  (0, 280)\\t1\\n  (0, 248)\\t2\\n ...   \n",
              "\n",
              "                                                     TF  \n",
              "582     (0, 37)\\t0.020302737602678898\\n  (0, 6)\\t0.0...  \n",
              "159     (0, 83)\\t0.038604571824109146\\n  (0, 280)\\t0...  \n",
              "1827    (0, 110)\\t0.06868028197434452\\n  (0, 72)\\t0....  \n",
              "318     (0, 248)\\t0.03059950306810523\\n  (0, 170)\\t0...  \n",
              "708     (0, 55)\\t0.03454442679267334\\n  (0, 262)\\t0....  "
            ]
          },
          "execution_count": 177,
          "metadata": {},
          "output_type": "execute_result"
        }
      ],
      "source": [
        "#code here\n",
        "vector2=TfidfVectorizer()\n",
        "\n",
        "TF=[0] * len(dev_text)\n",
        "for i in range(len(dev_text)):\n",
        "  a=[dev_text.iloc[i,0]]\n",
        "  TF[i]=vector2.fit_transform(a)\n",
        "\n",
        "dev_text['TF']=TF\n",
        "dev_text.head()"
      ]
    },
    {
      "cell_type": "markdown",
      "id": "ea3c9776-aad9-4eda-b3c2-d9f6b3e52427",
      "metadata": {
        "id": "ea3c9776-aad9-4eda-b3c2-d9f6b3e52427"
      },
      "source": [
        "**1.12) Train the Logistic Regression model on the development dataset with TF-IDF features**"
      ]
    },
    {
      "cell_type": "code",
      "execution_count": 182,
      "id": "b8c7fe8b-61de-4daa-a338-74295a4902ce",
      "metadata": {
        "id": "b8c7fe8b-61de-4daa-a338-74295a4902ce"
      },
      "outputs": [],
      "source": [
        "#code here\n",
        "dev_x_TF=vector2.fit_transform(list(dev_text['review']))\n",
        "test_x_TF=vector2.transform(list(test_text['review']))"
      ]
    },
    {
      "cell_type": "code",
      "execution_count": 183,
      "id": "fP72CQDEE3Zi",
      "metadata": {
        "id": "fP72CQDEE3Zi"
      },
      "outputs": [],
      "source": [
        "lr=LogisticRegression().fit(dev_x_TF, dev_y)"
      ]
    },
    {
      "cell_type": "code",
      "execution_count": 184,
      "id": "ZXQDzKDhF6Dr",
      "metadata": {
        "colab": {
          "base_uri": "https://localhost:8080/",
          "height": 0
        },
        "id": "ZXQDzKDhF6Dr",
        "outputId": "20eff65c-c2da-41b1-b127-e4e858ce0be3"
      },
      "outputs": [
        {
          "data": {
            "text/plain": [
              "0.8325"
            ]
          },
          "execution_count": 184,
          "metadata": {},
          "output_type": "execute_result"
        }
      ],
      "source": [
        "lr.score(test_x_TF, test_y)"
      ]
    },
    {
      "cell_type": "markdown",
      "id": "ab0129e7-a0ea-473e-9ad1-667b44a13a92",
      "metadata": {
        "id": "ab0129e7-a0ea-473e-9ad1-667b44a13a92"
      },
      "source": [
        "**1.13) Compare the performance of the two models on the test dataset. Explain the difference in results obtained?**"
      ]
    },
    {
      "cell_type": "code",
      "execution_count": null,
      "id": "7ca644f9",
      "metadata": {
        "id": "7ca644f9"
      },
      "outputs": [],
      "source": [
        "#code here\n",
        "# code in 1.10 and 1.12"
      ]
    },
    {
      "cell_type": "markdown",
      "id": "cKDhh797GPGt",
      "metadata": {
        "id": "cKDhh797GPGt"
      },
      "source": [
        "Logistic Regression model on dataset with bag of words features has test performance score 0.83. Logistic Regression model on dataset with TF-IDF features has test performance score 0.8325. The logistic Regression model on dataset with TF-IDF features has slightly better performance. TF-IDF features may better capture the characteristic of reviews by putting more weights on terms frequent in a specific review and less weights on terms frequent in all reviews. This enlarges the difference between each review and may help improve the model performance."
      ]
    }
  ],
  "metadata": {
    "colab": {
      "provenance": []
    },
    "kernelspec": {
      "display_name": "Python 3 (ipykernel)",
      "language": "python",
      "name": "python3"
    },
    "language_info": {
      "codemirror_mode": {
        "name": "ipython",
        "version": 3
      },
      "file_extension": ".py",
      "mimetype": "text/x-python",
      "name": "python",
      "nbconvert_exporter": "python",
      "pygments_lexer": "ipython3",
      "version": "3.9.7"
    }
  },
  "nbformat": 4,
  "nbformat_minor": 5
}
