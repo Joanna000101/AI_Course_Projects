{
  "cells": [
    {
      "cell_type": "markdown",
      "metadata": {
        "id": "mkiYBKTBFV-Z"
      },
      "source": [
        "## Homework 3\n",
        "### Part 1: Imbalanced Dataset\n",
        "\n",
        " In this homework, you will be working with an imbalanced Dataset. The dataset is Credit Card Fraud Detection dataset which was hosted on Kaggle. The aim is to detect fraudlent transactions."
      ]
    },
    {
      "cell_type": "markdown",
      "metadata": {
        "id": "QXjHDwbBGaYB"
      },
      "source": [
        "### Instructions\n",
        "\n",
        "Please push the .ipynb, .py, and .pdf to Github Classroom prior to the deadline. Please include your UNI as well."
      ]
    },
    {
      "cell_type": "markdown",
      "metadata": {
        "id": "yCpeRNO9GjyP"
      },
      "source": [
        "### Setup"
      ]
    },
    {
      "cell_type": "code",
      "execution_count": null,
      "metadata": {
        "id": "UB0aoX-eGX0X"
      },
      "outputs": [],
      "source": [
        "import numpy as np\n",
        "import pandas as pd\n",
        "import matplotlib.pyplot as plt\n",
        "import seaborn as sns"
      ]
    },
    {
      "cell_type": "code",
      "execution_count": null,
      "metadata": {
        "id": "f25EsV59GmeU"
      },
      "outputs": [],
      "source": [
        "# Feel free to import any other packages you'd like to\n",
        "from sklearn.model_selection import train_test_split\n",
        "from sklearn.preprocessing import StandardScaler\n",
        "from sklearn.tree import DecisionTreeClassifier\n",
        "from sklearn.model_selection import cross_validate\n",
        "from sklearn.model_selection import cross_val_score\n",
        "from sklearn.metrics import roc_auc_score\n",
        "from sklearn.metrics._plot.confusion_matrix import confusion_matrix\n",
        "from sklearn.metrics._plot import roc_curve\n",
        "from sklearn.metrics import RocCurveDisplay\n",
        "#sklearn.__version__"
      ]
    },
    {
      "cell_type": "code",
      "execution_count": null,
      "metadata": {
        "id": "c1nlZM0Occ-q"
      },
      "outputs": [],
      "source": [
        "from imblearn.over_sampling import RandomOverSampler\n",
        "from imblearn.under_sampling import RandomUnderSampler\n",
        "from imblearn.over_sampling._smote.base import SMOTE  "
      ]
    },
    {
      "cell_type": "markdown",
      "metadata": {
        "id": "s6DdcyXWGtHm"
      },
      "source": [
        "### **Data Preprocessing and Exploration**\n",
        "Download the Kaggle Credit Card Fraud data set. Features V1, V2, … V28 are the principal components obtained with PCA, the only features which have not been transformed with PCA are 'Time' and 'Amount'. Feature 'Time' contains the seconds elapsed between each transaction and the first transaction in the dataset. The feature 'Amount' is the transaction Amount, this feature can be used for example-dependant cost-sensitive learning. Feature 'Class' is the response variable and it takes value 1 in case of fraud and 0 otherwise."
      ]
    },
    {
      "cell_type": "code",
      "execution_count": null,
      "metadata": {
        "colab": {
          "base_uri": "https://localhost:8080/",
          "height": 300
        },
        "id": "gzbL79SLGwTc",
        "outputId": "ea53abb3-7b00-4293-dead-26667d4e96bc"
      },
      "outputs": [
        {
          "data": {
            "text/html": [
              "\n",
              "  <div id=\"df-05f81fba-425b-47fe-9cb4-e6a2510ce777\">\n",
              "    <div class=\"colab-df-container\">\n",
              "      <div>\n",
              "<style scoped>\n",
              "    .dataframe tbody tr th:only-of-type {\n",
              "        vertical-align: middle;\n",
              "    }\n",
              "\n",
              "    .dataframe tbody tr th {\n",
              "        vertical-align: top;\n",
              "    }\n",
              "\n",
              "    .dataframe thead th {\n",
              "        text-align: right;\n",
              "    }\n",
              "</style>\n",
              "<table border=\"1\" class=\"dataframe\">\n",
              "  <thead>\n",
              "    <tr style=\"text-align: right;\">\n",
              "      <th></th>\n",
              "      <th>Time</th>\n",
              "      <th>V1</th>\n",
              "      <th>V2</th>\n",
              "      <th>V3</th>\n",
              "      <th>V4</th>\n",
              "      <th>V5</th>\n",
              "      <th>V6</th>\n",
              "      <th>V7</th>\n",
              "      <th>V8</th>\n",
              "      <th>V9</th>\n",
              "      <th>...</th>\n",
              "      <th>V21</th>\n",
              "      <th>V22</th>\n",
              "      <th>V23</th>\n",
              "      <th>V24</th>\n",
              "      <th>V25</th>\n",
              "      <th>V26</th>\n",
              "      <th>V27</th>\n",
              "      <th>V28</th>\n",
              "      <th>Amount</th>\n",
              "      <th>Class</th>\n",
              "    </tr>\n",
              "  </thead>\n",
              "  <tbody>\n",
              "    <tr>\n",
              "      <th>0</th>\n",
              "      <td>0.0</td>\n",
              "      <td>-1.359807</td>\n",
              "      <td>-0.072781</td>\n",
              "      <td>2.536347</td>\n",
              "      <td>1.378155</td>\n",
              "      <td>-0.338321</td>\n",
              "      <td>0.462388</td>\n",
              "      <td>0.239599</td>\n",
              "      <td>0.098698</td>\n",
              "      <td>0.363787</td>\n",
              "      <td>...</td>\n",
              "      <td>-0.018307</td>\n",
              "      <td>0.277838</td>\n",
              "      <td>-0.110474</td>\n",
              "      <td>0.066928</td>\n",
              "      <td>0.128539</td>\n",
              "      <td>-0.189115</td>\n",
              "      <td>0.133558</td>\n",
              "      <td>-0.021053</td>\n",
              "      <td>149.62</td>\n",
              "      <td>0</td>\n",
              "    </tr>\n",
              "    <tr>\n",
              "      <th>1</th>\n",
              "      <td>0.0</td>\n",
              "      <td>1.191857</td>\n",
              "      <td>0.266151</td>\n",
              "      <td>0.166480</td>\n",
              "      <td>0.448154</td>\n",
              "      <td>0.060018</td>\n",
              "      <td>-0.082361</td>\n",
              "      <td>-0.078803</td>\n",
              "      <td>0.085102</td>\n",
              "      <td>-0.255425</td>\n",
              "      <td>...</td>\n",
              "      <td>-0.225775</td>\n",
              "      <td>-0.638672</td>\n",
              "      <td>0.101288</td>\n",
              "      <td>-0.339846</td>\n",
              "      <td>0.167170</td>\n",
              "      <td>0.125895</td>\n",
              "      <td>-0.008983</td>\n",
              "      <td>0.014724</td>\n",
              "      <td>2.69</td>\n",
              "      <td>0</td>\n",
              "    </tr>\n",
              "    <tr>\n",
              "      <th>2</th>\n",
              "      <td>1.0</td>\n",
              "      <td>-1.358354</td>\n",
              "      <td>-1.340163</td>\n",
              "      <td>1.773209</td>\n",
              "      <td>0.379780</td>\n",
              "      <td>-0.503198</td>\n",
              "      <td>1.800499</td>\n",
              "      <td>0.791461</td>\n",
              "      <td>0.247676</td>\n",
              "      <td>-1.514654</td>\n",
              "      <td>...</td>\n",
              "      <td>0.247998</td>\n",
              "      <td>0.771679</td>\n",
              "      <td>0.909412</td>\n",
              "      <td>-0.689281</td>\n",
              "      <td>-0.327642</td>\n",
              "      <td>-0.139097</td>\n",
              "      <td>-0.055353</td>\n",
              "      <td>-0.059752</td>\n",
              "      <td>378.66</td>\n",
              "      <td>0</td>\n",
              "    </tr>\n",
              "    <tr>\n",
              "      <th>3</th>\n",
              "      <td>1.0</td>\n",
              "      <td>-0.966272</td>\n",
              "      <td>-0.185226</td>\n",
              "      <td>1.792993</td>\n",
              "      <td>-0.863291</td>\n",
              "      <td>-0.010309</td>\n",
              "      <td>1.247203</td>\n",
              "      <td>0.237609</td>\n",
              "      <td>0.377436</td>\n",
              "      <td>-1.387024</td>\n",
              "      <td>...</td>\n",
              "      <td>-0.108300</td>\n",
              "      <td>0.005274</td>\n",
              "      <td>-0.190321</td>\n",
              "      <td>-1.175575</td>\n",
              "      <td>0.647376</td>\n",
              "      <td>-0.221929</td>\n",
              "      <td>0.062723</td>\n",
              "      <td>0.061458</td>\n",
              "      <td>123.50</td>\n",
              "      <td>0</td>\n",
              "    </tr>\n",
              "    <tr>\n",
              "      <th>4</th>\n",
              "      <td>2.0</td>\n",
              "      <td>-1.158233</td>\n",
              "      <td>0.877737</td>\n",
              "      <td>1.548718</td>\n",
              "      <td>0.403034</td>\n",
              "      <td>-0.407193</td>\n",
              "      <td>0.095921</td>\n",
              "      <td>0.592941</td>\n",
              "      <td>-0.270533</td>\n",
              "      <td>0.817739</td>\n",
              "      <td>...</td>\n",
              "      <td>-0.009431</td>\n",
              "      <td>0.798278</td>\n",
              "      <td>-0.137458</td>\n",
              "      <td>0.141267</td>\n",
              "      <td>-0.206010</td>\n",
              "      <td>0.502292</td>\n",
              "      <td>0.219422</td>\n",
              "      <td>0.215153</td>\n",
              "      <td>69.99</td>\n",
              "      <td>0</td>\n",
              "    </tr>\n",
              "  </tbody>\n",
              "</table>\n",
              "<p>5 rows × 31 columns</p>\n",
              "</div>\n",
              "      <button class=\"colab-df-convert\" onclick=\"convertToInteractive('df-05f81fba-425b-47fe-9cb4-e6a2510ce777')\"\n",
              "              title=\"Convert this dataframe to an interactive table.\"\n",
              "              style=\"display:none;\">\n",
              "        \n",
              "  <svg xmlns=\"http://www.w3.org/2000/svg\" height=\"24px\"viewBox=\"0 0 24 24\"\n",
              "       width=\"24px\">\n",
              "    <path d=\"M0 0h24v24H0V0z\" fill=\"none\"/>\n",
              "    <path d=\"M18.56 5.44l.94 2.06.94-2.06 2.06-.94-2.06-.94-.94-2.06-.94 2.06-2.06.94zm-11 1L8.5 8.5l.94-2.06 2.06-.94-2.06-.94L8.5 2.5l-.94 2.06-2.06.94zm10 10l.94 2.06.94-2.06 2.06-.94-2.06-.94-.94-2.06-.94 2.06-2.06.94z\"/><path d=\"M17.41 7.96l-1.37-1.37c-.4-.4-.92-.59-1.43-.59-.52 0-1.04.2-1.43.59L10.3 9.45l-7.72 7.72c-.78.78-.78 2.05 0 2.83L4 21.41c.39.39.9.59 1.41.59.51 0 1.02-.2 1.41-.59l7.78-7.78 2.81-2.81c.8-.78.8-2.07 0-2.86zM5.41 20L4 18.59l7.72-7.72 1.47 1.35L5.41 20z\"/>\n",
              "  </svg>\n",
              "      </button>\n",
              "      \n",
              "  <style>\n",
              "    .colab-df-container {\n",
              "      display:flex;\n",
              "      flex-wrap:wrap;\n",
              "      gap: 12px;\n",
              "    }\n",
              "\n",
              "    .colab-df-convert {\n",
              "      background-color: #E8F0FE;\n",
              "      border: none;\n",
              "      border-radius: 50%;\n",
              "      cursor: pointer;\n",
              "      display: none;\n",
              "      fill: #1967D2;\n",
              "      height: 32px;\n",
              "      padding: 0 0 0 0;\n",
              "      width: 32px;\n",
              "    }\n",
              "\n",
              "    .colab-df-convert:hover {\n",
              "      background-color: #E2EBFA;\n",
              "      box-shadow: 0px 1px 2px rgba(60, 64, 67, 0.3), 0px 1px 3px 1px rgba(60, 64, 67, 0.15);\n",
              "      fill: #174EA6;\n",
              "    }\n",
              "\n",
              "    [theme=dark] .colab-df-convert {\n",
              "      background-color: #3B4455;\n",
              "      fill: #D2E3FC;\n",
              "    }\n",
              "\n",
              "    [theme=dark] .colab-df-convert:hover {\n",
              "      background-color: #434B5C;\n",
              "      box-shadow: 0px 1px 3px 1px rgba(0, 0, 0, 0.15);\n",
              "      filter: drop-shadow(0px 1px 2px rgba(0, 0, 0, 0.3));\n",
              "      fill: #FFFFFF;\n",
              "    }\n",
              "  </style>\n",
              "\n",
              "      <script>\n",
              "        const buttonEl =\n",
              "          document.querySelector('#df-05f81fba-425b-47fe-9cb4-e6a2510ce777 button.colab-df-convert');\n",
              "        buttonEl.style.display =\n",
              "          google.colab.kernel.accessAllowed ? 'block' : 'none';\n",
              "\n",
              "        async function convertToInteractive(key) {\n",
              "          const element = document.querySelector('#df-05f81fba-425b-47fe-9cb4-e6a2510ce777');\n",
              "          const dataTable =\n",
              "            await google.colab.kernel.invokeFunction('convertToInteractive',\n",
              "                                                     [key], {});\n",
              "          if (!dataTable) return;\n",
              "\n",
              "          const docLinkHtml = 'Like what you see? Visit the ' +\n",
              "            '<a target=\"_blank\" href=https://colab.research.google.com/notebooks/data_table.ipynb>data table notebook</a>'\n",
              "            + ' to learn more about interactive tables.';\n",
              "          element.innerHTML = '';\n",
              "          dataTable['output_type'] = 'display_data';\n",
              "          await google.colab.output.renderOutput(dataTable, element);\n",
              "          const docLink = document.createElement('div');\n",
              "          docLink.innerHTML = docLinkHtml;\n",
              "          element.appendChild(docLink);\n",
              "        }\n",
              "      </script>\n",
              "    </div>\n",
              "  </div>\n",
              "  "
            ],
            "text/plain": [
              "   Time        V1        V2        V3        V4        V5        V6        V7  \\\n",
              "0   0.0 -1.359807 -0.072781  2.536347  1.378155 -0.338321  0.462388  0.239599   \n",
              "1   0.0  1.191857  0.266151  0.166480  0.448154  0.060018 -0.082361 -0.078803   \n",
              "2   1.0 -1.358354 -1.340163  1.773209  0.379780 -0.503198  1.800499  0.791461   \n",
              "3   1.0 -0.966272 -0.185226  1.792993 -0.863291 -0.010309  1.247203  0.237609   \n",
              "4   2.0 -1.158233  0.877737  1.548718  0.403034 -0.407193  0.095921  0.592941   \n",
              "\n",
              "         V8        V9  ...       V21       V22       V23       V24       V25  \\\n",
              "0  0.098698  0.363787  ... -0.018307  0.277838 -0.110474  0.066928  0.128539   \n",
              "1  0.085102 -0.255425  ... -0.225775 -0.638672  0.101288 -0.339846  0.167170   \n",
              "2  0.247676 -1.514654  ...  0.247998  0.771679  0.909412 -0.689281 -0.327642   \n",
              "3  0.377436 -1.387024  ... -0.108300  0.005274 -0.190321 -1.175575  0.647376   \n",
              "4 -0.270533  0.817739  ... -0.009431  0.798278 -0.137458  0.141267 -0.206010   \n",
              "\n",
              "        V26       V27       V28  Amount  Class  \n",
              "0 -0.189115  0.133558 -0.021053  149.62      0  \n",
              "1  0.125895 -0.008983  0.014724    2.69      0  \n",
              "2 -0.139097 -0.055353 -0.059752  378.66      0  \n",
              "3 -0.221929  0.062723  0.061458  123.50      0  \n",
              "4  0.502292  0.219422  0.215153   69.99      0  \n",
              "\n",
              "[5 rows x 31 columns]"
            ]
          },
          "execution_count": 5,
          "metadata": {},
          "output_type": "execute_result"
        }
      ],
      "source": [
        "raw_df = pd.read_csv('https://storage.googleapis.com/download.tensorflow.org/data/creditcard.csv')\n",
        "raw_df.head()"
      ]
    },
    {
      "cell_type": "markdown",
      "metadata": {
        "id": "f7iaHyCqG6lk"
      },
      "source": [
        "#### **1.1 Examining the class Imbalance**\n",
        "**1.1.1 How many observations are in this dataset? How many are positive and negative?**\n",
        "(Note: Positive labels are labeled as 1)"
      ]
    },
    {
      "cell_type": "code",
      "execution_count": null,
      "metadata": {
        "colab": {
          "base_uri": "https://localhost:8080/"
        },
        "id": "BXv6y3-SG1JJ",
        "outputId": "57d55f80-4144-4fb5-93d9-61821292f6b8"
      },
      "outputs": [
        {
          "name": "stdout",
          "output_type": "stream",
          "text": [
            "284807 observations\n",
            "0    284315\n",
            "1       492\n",
            "Name: Class, dtype: int64\n"
          ]
        }
      ],
      "source": [
        "# Your Code here\n",
        "print(raw_df.shape[0], 'observations')\n",
        "print(raw_df['Class'].value_counts())"
      ]
    },
    {
      "cell_type": "markdown",
      "metadata": {
        "id": "lkJz9I5ovG0r"
      },
      "source": [
        "284315 negative, 492 positive"
      ]
    },
    {
      "cell_type": "markdown",
      "metadata": {
        "id": "La6L9rkGHZD7"
      },
      "source": [
        "#### **1.2 Cleaning and normalizing the data**\n",
        "The raw data has a few issues. We are not sure what the time column actually means so drop the Time column. The Amount column also has a wide range of values covered so we take the log of the Amount column to reduce its range."
      ]
    },
    {
      "cell_type": "code",
      "execution_count": null,
      "metadata": {
        "id": "weojo62PHXHj"
      },
      "outputs": [],
      "source": [
        "cleaned_df = raw_df.copy()\n",
        "\n",
        "# You don't want the `Time` column.\n",
        "cleaned_df.pop('Time')\n",
        "\n",
        "# The `Amount` column covers a huge range. Convert to log-space.\n",
        "eps = 0.001 # 0 => 0.1¢\n",
        "cleaned_df['Log Ammount'] = np.log(cleaned_df.pop('Amount')+eps)"
      ]
    },
    {
      "cell_type": "markdown",
      "metadata": {
        "id": "xOftMoAtI_QU"
      },
      "source": [
        "**1.2.1 Split the dataset into development and test sets. Please set test size as 0.2 and random state as 42. Print the shape of your development and test features**"
      ]
    },
    {
      "cell_type": "code",
      "execution_count": null,
      "metadata": {
        "colab": {
          "base_uri": "https://localhost:8080/"
        },
        "id": "Wn9dT8cXIvNi",
        "outputId": "4f416dd4-cf6c-4346-e160-2a9309e1c9c8"
      },
      "outputs": [
        {
          "name": "stdout",
          "output_type": "stream",
          "text": [
            "shape of development features: (227845, 29)\n",
            "shape of test features: (56962, 29)\n"
          ]
        }
      ],
      "source": [
        "# Your Code Here\n",
        "df_X=cleaned_df.drop(columns='Class')\n",
        "df_y=cleaned_df['Class']\n",
        "\n",
        "X_dev, X_test, y_dev, y_test = train_test_split(df_X, df_y, test_size=0.2, stratify=df_y, random_state=42)\n",
        "\n",
        "print('shape of development features:', X_dev.shape)\n",
        "print('shape of test features:',X_test.shape)"
      ]
    },
    {
      "cell_type": "markdown",
      "metadata": {
        "id": "xkdb9wmeJKx8"
      },
      "source": [
        "**1.2.2 Normalize the features using Standard Scaler from Sklearn.**"
      ]
    },
    {
      "cell_type": "code",
      "execution_count": null,
      "metadata": {
        "id": "6NQKlUcwJH1O"
      },
      "outputs": [],
      "source": [
        "# Your Code Here\n",
        "scaler = StandardScaler()\n",
        "X_dev = scaler.fit_transform(X_dev)   # Fit and transform scalar on X_train\n",
        "X_test = scaler.transform(X_test)"
      ]
    },
    {
      "cell_type": "markdown",
      "metadata": {
        "id": "xe_W1FPtJ3PQ"
      },
      "source": [
        "#### **1.3 Defining Model and Performance Metrics**"
      ]
    },
    {
      "cell_type": "markdown",
      "metadata": {
        "id": "8kSY6RNPKKhu"
      },
      "source": [
        "**1.3.1 First, let us fit a default Decision tree classifier. ( use max_depth=10 and random_state=42). Print the AUC and Average Precision values of 5 Fold Cross Validation**"
      ]
    },
    {
      "cell_type": "code",
      "execution_count": null,
      "metadata": {
        "id": "WUb3DJOHK2UA"
      },
      "outputs": [],
      "source": [
        "# Your Code here\n",
        "clf = DecisionTreeClassifier(max_depth=10, random_state=42)"
      ]
    },
    {
      "cell_type": "code",
      "execution_count": null,
      "metadata": {
        "id": "z0wULev4XycX"
      },
      "outputs": [],
      "source": [
        "scores=cross_validate(clf, X_dev, y_dev, cv=5, scoring=['roc_auc', 'average_precision'])"
      ]
    },
    {
      "cell_type": "code",
      "execution_count": null,
      "metadata": {
        "colab": {
          "base_uri": "https://localhost:8080/"
        },
        "id": "T03_bnshYJcv",
        "outputId": "e98008e6-16df-4d9b-b2a7-e8f5abbc82e8"
      },
      "outputs": [
        {
          "name": "stdout",
          "output_type": "stream",
          "text": [
            "AUC: [0.88756328 0.88400873 0.81260522 0.77454358 0.82104149]\n",
            "AUC mean: 0.8359524571279693\n",
            "Average Precision [0.62653551 0.71014615 0.60399496 0.58692296 0.68112078]\n",
            "Average Precision mean: 0.641744070059615\n"
          ]
        }
      ],
      "source": [
        "print('AUC:', scores['test_roc_auc'])\n",
        "print('AUC mean:', scores['test_roc_auc'].mean())\n",
        "print('Average Precision', scores['test_average_precision'])\n",
        "print('Average Precision mean:', scores['test_average_precision'].mean())\n",
        "# roc_auc:\n",
        "# Area Under the Receiver Operating Characteristic Curve \n",
        "# average_precision: \n",
        "# for the precision-recall curve, plot p(r), precision as a function of recall. \n",
        "# average_precision computes the average value of p(r) over the interval from r=0 to r=1"
      ]
    },
    {
      "cell_type": "markdown",
      "metadata": {
        "id": "WOKFElp7K7Dw"
      },
      "source": [
        "**1.3.2 Perform random oversampling on the development dataset.**\n",
        "\n",
        "\n",
        "*   What many positive and negative labels do you observe after random oversampling?\n",
        "*   What is the shape of your development dataset?\n",
        "\n",
        "(Note: Set random state as 42 when performing oversampling)\n"
      ]
    },
    {
      "cell_type": "code",
      "execution_count": null,
      "metadata": {
        "colab": {
          "base_uri": "https://localhost:8080/"
        },
        "id": "t-2VVTY8K5c4",
        "outputId": "8ba717fd-06dc-40b2-ba67-08ef80e9be03"
      },
      "outputs": [
        {
          "name": "stdout",
          "output_type": "stream",
          "text": [
            "shape of oversampled development dataset (454902, 29)\n",
            "0    227451\n",
            "1    227451\n",
            "Name: Class, dtype: int64\n"
          ]
        }
      ],
      "source": [
        "# Your Code here\n",
        "ros=RandomOverSampler(random_state=42)\n",
        "X_dev_oversample, y_dev_oversample=ros.fit_resample(X_dev, y_dev)\n",
        "print('shape of oversampled development dataset', X_dev_oversample.shape)\n",
        "print(y_dev_oversample.value_counts())"
      ]
    },
    {
      "cell_type": "markdown",
      "metadata": {
        "id": "45ayLBshLuKl"
      },
      "source": [
        "**1.3.3 Repeat 1.3.1 using the dataset you created in the above step(1.3.2 Random oversampling). (Make sure you use the same hyperparameters as 1.3.1. i.e., max_depth=10 and random_state=42. This will help us to compare the models)**"
      ]
    },
    {
      "cell_type": "code",
      "execution_count": null,
      "metadata": {
        "id": "7DDb_cTFLsKM"
      },
      "outputs": [],
      "source": [
        "# Your Code here\n",
        "scores=cross_validate(clf, X_dev_oversample, y_dev_oversample, cv=5, scoring=['roc_auc', 'average_precision'])"
      ]
    },
    {
      "cell_type": "code",
      "execution_count": null,
      "metadata": {
        "colab": {
          "base_uri": "https://localhost:8080/"
        },
        "id": "buV_m47QH11v",
        "outputId": "187d0665-2bb1-492a-f7a8-b27082b58eaf"
      },
      "outputs": [
        {
          "name": "stdout",
          "output_type": "stream",
          "text": [
            "AUC: [0.99886808 0.99929956 0.99900977 0.99926441 0.99932258]\n",
            "AUC mean: 0.9991528810903473\n",
            "Average Precision [0.99816396 0.99884446 0.99826911 0.9986672  0.99874564]\n",
            "Average Precision mean: 0.9985380738652964\n"
          ]
        }
      ],
      "source": [
        "print('AUC:', scores['test_roc_auc'])\n",
        "print('AUC mean:', scores['test_roc_auc'].mean())\n",
        "print('Average Precision', scores['test_average_precision'])\n",
        "print('Average Precision mean:', scores['test_average_precision'].mean())"
      ]
    },
    {
      "cell_type": "markdown",
      "metadata": {
        "id": "Z7un4RnfMX56"
      },
      "source": [
        "**1.3.4 Perform Random undersampling on the development dataset**. \n",
        "- What many positive and negative labels do you observe after random undersampling?\n",
        "- What is the shape of your development dataset?\n",
        "(Note: Set random state as 42 when performing undersampling)"
      ]
    },
    {
      "cell_type": "code",
      "execution_count": null,
      "metadata": {
        "colab": {
          "base_uri": "https://localhost:8080/"
        },
        "id": "9LSxKMiZMSTZ",
        "outputId": "95d4f26f-e385-4d64-ebf4-b602b8b08cbe"
      },
      "outputs": [
        {
          "name": "stdout",
          "output_type": "stream",
          "text": [
            "shape of undersampled development dataset (788, 29)\n",
            "0    394\n",
            "1    394\n",
            "Name: Class, dtype: int64\n"
          ]
        }
      ],
      "source": [
        "# Your Code here\n",
        "rus=RandomUnderSampler(replacement=False, random_state=42)\n",
        "X_dev_undersample,y_dev_undersample=rus.fit_resample(X_dev, y_dev)\n",
        "print('shape of undersampled development dataset', X_dev_undersample.shape)\n",
        "print(y_dev_undersample.value_counts())"
      ]
    },
    {
      "cell_type": "markdown",
      "metadata": {
        "id": "EYBOYBcqMr-9"
      },
      "source": [
        "**1.3.5 Repeat 1.3.1 using the dataset you created in the above step(1.3.4 Random undersampling). (Make sure you use the same hyperparameters as 1.3.1. i,e., max_depth=10 and random_state=42. This will help us to compare the models)**"
      ]
    },
    {
      "cell_type": "code",
      "execution_count": null,
      "metadata": {
        "id": "hMGzlKuQMrXA"
      },
      "outputs": [],
      "source": [
        "# Your Code here\n",
        "scores=cross_validate(clf, X_dev_undersample, y_dev_undersample, cv=5, scoring=['roc_auc', 'average_precision'])"
      ]
    },
    {
      "cell_type": "code",
      "execution_count": null,
      "metadata": {
        "colab": {
          "base_uri": "https://localhost:8080/"
        },
        "id": "L12_8xkzMhAU",
        "outputId": "b135b64c-bfa3-4094-8ec6-1129f50fe645"
      },
      "outputs": [
        {
          "name": "stdout",
          "output_type": "stream",
          "text": [
            "AUC: [0.93662875 0.94936709 0.9097901  0.92583577 0.92989289]\n",
            "AUC mean: 0.9303029182535673\n",
            "Average Precision [0.91336577 0.92661432 0.86678359 0.90629539 0.89830283]\n",
            "Average Precision mean: 0.9022723811037444\n"
          ]
        }
      ],
      "source": [
        "print('AUC:', scores['test_roc_auc'])\n",
        "print('AUC mean:', scores['test_roc_auc'].mean())\n",
        "print('Average Precision', scores['test_average_precision'])\n",
        "print('Average Precision mean:', scores['test_average_precision'].mean())"
      ]
    },
    {
      "cell_type": "markdown",
      "metadata": {
        "id": "D03K-7rlNOrI"
      },
      "source": [
        "**1.3.6 Perform Synthetic Minority Oversampling Technique(SMOTE) on the development dataset**\n",
        "- What many positive and negative labels do you observe after performing SMOTE?\n",
        "- What is the shape of your development dataset? (Note: Set random state as 42 when performing SMOTE)"
      ]
    },
    {
      "cell_type": "code",
      "execution_count": null,
      "metadata": {
        "colab": {
          "base_uri": "https://localhost:8080/"
        },
        "id": "bFzUvcRiMznd",
        "outputId": "e2ab84dd-a766-4a88-a6e3-47dbd1587872"
      },
      "outputs": [
        {
          "name": "stdout",
          "output_type": "stream",
          "text": [
            "shape of smote development dataset (454902, 29)\n",
            "0    227451\n",
            "1    227451\n",
            "Name: Class, dtype: int64\n"
          ]
        }
      ],
      "source": [
        "# Your code here\n",
        "smote=SMOTE(random_state=42)\n",
        "X_dev_smote,y_dev_smote=smote.fit_resample(X_dev, y_dev)\n",
        "print('shape of smote development dataset', X_dev_smote.shape)\n",
        "print(y_dev_smote.value_counts())"
      ]
    },
    {
      "cell_type": "markdown",
      "metadata": {
        "id": "ZkVRBIM-Nn9z"
      },
      "source": [
        "**1.3.7 Repeat 1.3.1 using the dataset you created in the above step(1.3.6 SMOTE). (Make sure you use the same hyperparameters as 1.3.1. i.e., max_depth=10 and random_state=42. This will help us to compare the models)**"
      ]
    },
    {
      "cell_type": "code",
      "execution_count": null,
      "metadata": {
        "id": "-JDjMP2kNnRJ"
      },
      "outputs": [],
      "source": [
        "# Your Code here # 2m\n",
        "scores=cross_validate(clf, X_dev_smote, y_dev_smote, cv=5, scoring=['roc_auc', 'average_precision'])"
      ]
    },
    {
      "cell_type": "code",
      "execution_count": null,
      "metadata": {
        "colab": {
          "base_uri": "https://localhost:8080/"
        },
        "id": "RM3i_lJDPAfv",
        "outputId": "93c60895-bee1-49a5-bc71-8402e82a56da"
      },
      "outputs": [
        {
          "name": "stdout",
          "output_type": "stream",
          "text": [
            "AUC: [0.99757923 0.99738426 0.99772842 0.9972463  0.99714931]\n",
            "AUC mean: 0.9974175030591891\n",
            "Average Precision [0.99667622 0.99645425 0.99685462 0.99619248 0.99611009]\n",
            "Average Precision mean: 0.9964575330041552\n"
          ]
        }
      ],
      "source": [
        "print('AUC:', scores['test_roc_auc'])\n",
        "print('AUC mean:', scores['test_roc_auc'].mean())\n",
        "print('Average Precision', scores['test_average_precision'])\n",
        "print('Average Precision mean:', scores['test_average_precision'].mean())"
      ]
    },
    {
      "cell_type": "markdown",
      "metadata": {
        "id": "3b5GAOgCN-pm"
      },
      "source": [
        "**1.3.8 Make predictions on the test set using the four models that you built and report their AUC values.**"
      ]
    },
    {
      "cell_type": "code",
      "execution_count": null,
      "metadata": {
        "colab": {
          "base_uri": "https://localhost:8080/"
        },
        "id": "h2Mc49J38OOC",
        "outputId": "39bc3e9d-b6d3-4ba4-a023-b33f758c928d"
      },
      "outputs": [
        {
          "name": "stdout",
          "output_type": "stream",
          "text": [
            "original test AUC: 0.8196316775866227\n"
          ]
        }
      ],
      "source": [
        "clf_original=clf.fit(X_dev, y_dev)\n",
        "y_pred_original=clf_original.predict_proba(X_test)[:, 1]\n",
        "y_pred_original_l=clf_original.predict(X_test)\n",
        "print('original test AUC:', roc_auc_score(y_test, y_pred_original))"
      ]
    },
    {
      "cell_type": "code",
      "execution_count": null,
      "metadata": {
        "colab": {
          "base_uri": "https://localhost:8080/"
        },
        "id": "IWIxud5bN9QT",
        "outputId": "4b64434d-b9cc-4978-8411-c77089a14b39"
      },
      "outputs": [
        {
          "name": "stdout",
          "output_type": "stream",
          "text": [
            "oversample test AUC: 0.9016732009348478\n"
          ]
        }
      ],
      "source": [
        "# Your Code here\n",
        "clf_oversample=clf.fit(X_dev_oversample, y_dev_oversample)\n",
        "y_pred_oversample=clf_oversample.predict_proba(X_test)[:, 1]\n",
        "y_pred_oversample_l=clf_oversample.predict(X_test)\n",
        "print('oversample test AUC:', roc_auc_score(y_test, y_pred_oversample))"
      ]
    },
    {
      "cell_type": "code",
      "execution_count": null,
      "metadata": {
        "colab": {
          "base_uri": "https://localhost:8080/"
        },
        "id": "-yhxkn-aTUbt",
        "outputId": "dfa3f852-f41c-4975-8e8e-ba32daeea733"
      },
      "outputs": [
        {
          "name": "stdout",
          "output_type": "stream",
          "text": [
            "undersample test AUC: 0.8959979162599198\n"
          ]
        }
      ],
      "source": [
        "clf_undersample=clf.fit(X_dev_undersample,y_dev_undersample)\n",
        "y_pred_undersample=clf_undersample.predict_proba(X_test)[:, 1]\n",
        "y_pred_undersample_l=clf_undersample.predict(X_test)\n",
        "print('undersample test AUC:', roc_auc_score(y_test, y_pred_undersample))"
      ]
    },
    {
      "cell_type": "code",
      "execution_count": null,
      "metadata": {
        "colab": {
          "base_uri": "https://localhost:8080/"
        },
        "id": "kHbamVjpiufa",
        "outputId": "44abdea9-ae99-4cfb-fefc-9f35b9de5fa6"
      },
      "outputs": [
        {
          "name": "stdout",
          "output_type": "stream",
          "text": [
            "SMOTE test AUC: 0.8752678248423735\n"
          ]
        }
      ],
      "source": [
        "clf_smote=clf.fit(X_dev_smote,y_dev_smote)\n",
        "y_pred_smote=clf_smote.predict_proba(X_test)[:, 1]\n",
        "y_pred_smote_l=clf_smote.predict(X_test)\n",
        "print('SMOTE test AUC:', roc_auc_score(y_test, y_pred_smote))"
      ]
    },
    {
      "cell_type": "markdown",
      "metadata": {
        "id": "8jSslBq5OhNs"
      },
      "source": [
        "**1.3.9 Plot Confusion Matrices for all the four models on the test set. Comment your results**"
      ]
    },
    {
      "cell_type": "code",
      "execution_count": null,
      "metadata": {
        "colab": {
          "base_uri": "https://localhost:8080/"
        },
        "id": "VO2ugTlfMgWo",
        "outputId": "f4319577-f5cb-42d4-f58a-584933b32aad"
      },
      "outputs": [
        {
          "name": "stdout",
          "output_type": "stream",
          "text": [
            "original data: \n",
            " [[56852    12]\n",
            " [   24    74]]\n",
            "oversample data: \n",
            " [[56326   538]\n",
            " [   19    79]]\n",
            "undersample data: \n",
            " [[52358  4506]\n",
            " [    9    89]]\n",
            "smote data: \n",
            " [[56032   832]\n",
            " [   17    81]]\n"
          ]
        }
      ],
      "source": [
        "# Your Code here\n",
        "print('original data: \\n', confusion_matrix(y_test, y_pred_original_l))\n",
        "print('oversample data: \\n', confusion_matrix(y_test, y_pred_oversample_l))\n",
        "print('undersample data: \\n', confusion_matrix(y_test, y_pred_undersample_l))\n",
        "print('smote data: \\n', confusion_matrix(y_test, y_pred_smote_l))"
      ]
    },
    {
      "cell_type": "markdown",
      "metadata": {
        "id": "ZEDaeZChDKqe"
      },
      "source": [
        "With the same model, the undersample data performs the best on the minority class (positive class). It has the highest true positive rate/recall. But the undersample data perform the worst on the majority class (zero class), with the lowest true negative rate. \n",
        "The original data perfoms the best on the majority data, with the highest true negative rate. But the original data performs data perform the worst on the minority class, with the lowest true positive rate.\n",
        "The oversample data and SMOTE data balance the performance on the majority and minority class. "
      ]
    },
    {
      "cell_type": "markdown",
      "metadata": {
        "id": "OqgVbbL0OwOh"
      },
      "source": [
        "**1.3.10 Plot ROC for all the four models on the test set in a single plot. Make sure you label axes and legend properly. Comment your results**"
      ]
    },
    {
      "cell_type": "code",
      "execution_count": null,
      "metadata": {
        "colab": {
          "base_uri": "https://localhost:8080/",
          "height": 279
        },
        "id": "oslykiR-OsEj",
        "outputId": "4a707fdd-0f4b-4182-c38b-310af6818f2a"
      },
      "outputs": [
        {
          "data": {
            "image/png": "[encoded data removed]",
            "text/plain": [
              "<Figure size 432x288 with 1 Axes>"
            ]
          },
          "metadata": {
            "needs_background": "light"
          },
          "output_type": "display_data"
        }
      ],
      "source": [
        "# Your code\n",
        "ax = plt.gca() # Get the current Axes\n",
        "RocCurveDisplay.from_predictions(y_test, y_pred_original, name='Decision tree - original dataset', ax=ax, alpha=0.8)\n",
        "RocCurveDisplay.from_predictions(y_test, y_pred_oversample, name='Decision tree - oversampled dataset', ax=ax, alpha=0.8)\n",
        "RocCurveDisplay.from_predictions(y_test, y_pred_undersample, name='Decision tree - undersampled dataset', ax=ax, alpha=0.8)\n",
        "RocCurveDisplay.from_predictions(y_test, y_pred_smote, name='Decision tree - SMOTE dataset', ax=ax, alpha=0.8)\n",
        "plt.show();\n",
        "#RocCurveDisplay(fpr=fpr_original, tpr=tpr_original, estimator_name='original dataset')"
      ]
    },
    {
      "cell_type": "markdown",
      "metadata": {
        "id": "SBIB9o5QeSga"
      },
      "source": [
        "The model trained with oversampled data has the highest AUC, so it's has the best general accuracy. It performs the best near the right end. The model trained with undersampled data performs the best around the range where FPR is from 0.1 to 0.7. In fact, the these two models have similar AUC, so we shall decide which model to use depends on our goal. "
      ]
    },
    {
      "cell_type": "markdown",
      "metadata": {
        "id": "7yzjUR8kPEgh"
      },
      "source": [
        "**1.3.11 Train a balanced default Decision tree classifier. (use max_depth=10 and random_state=42). ( balance the class weights). Print the AUC and average precision on dev set**"
      ]
    },
    {
      "cell_type": "code",
      "execution_count": null,
      "metadata": {
        "id": "vJdAv81NO7Zr"
      },
      "outputs": [],
      "source": [
        "# Your code here\n",
        "bal_clf=DecisionTreeClassifier(class_weight='balanced', max_depth=10, random_state=42)"
      ]
    },
    {
      "cell_type": "code",
      "execution_count": null,
      "metadata": {
        "id": "eSJ5zCzOgToG"
      },
      "outputs": [],
      "source": [
        "# 1m\n",
        "scores=cross_validate(bal_clf, X_dev, y_dev, cv=5, scoring=['roc_auc', 'average_precision'])"
      ]
    },
    {
      "cell_type": "code",
      "execution_count": null,
      "metadata": {
        "colab": {
          "base_uri": "https://localhost:8080/"
        },
        "id": "3_-npdQ-ghZc",
        "outputId": "52ae8d72-5767-4be5-ebec-84047395753c"
      },
      "outputs": [
        {
          "name": "stdout",
          "output_type": "stream",
          "text": [
            "AUC mean: 0.905514887383234\n",
            "Average Precision mean: 0.5236357414975382\n"
          ]
        }
      ],
      "source": [
        "print('AUC mean:', scores['test_roc_auc'].mean())\n",
        "print('Average Precision mean:', scores['test_average_precision'].mean())"
      ]
    },
    {
      "cell_type": "markdown",
      "metadata": {
        "id": "d3rKdyQOP1Eg"
      },
      "source": [
        "<!-- **1.3.12 Train a balanced Decision tree classifier. (You can use max_depth=10 and random_state=42)( balance the class weights). Print the AUC and average precision on test set** (Use Random state = 42) -->"
      ]
    },
    {
      "cell_type": "markdown",
      "metadata": {
        "id": "C0HfvhYWQMNf"
      },
      "source": [
        "**1.3.12 Plot confusion matrix on test set using the above model and comment on your results**"
      ]
    },
    {
      "cell_type": "code",
      "execution_count": null,
      "metadata": {
        "colab": {
          "base_uri": "https://localhost:8080/"
        },
        "id": "PIK5MUdeQLfZ",
        "outputId": "d56fb295-613b-4563-8803-bdf8305974b3"
      },
      "outputs": [
        {
          "data": {
            "text/plain": [
              "DecisionTreeClassifier(class_weight='balanced', max_depth=10, random_state=42)"
            ]
          },
          "execution_count": 96,
          "metadata": {},
          "output_type": "execute_result"
        }
      ],
      "source": [
        "# Your code here\n",
        "bal_clf.fit(X_dev, y_dev)"
      ]
    },
    {
      "cell_type": "code",
      "execution_count": null,
      "metadata": {
        "colab": {
          "base_uri": "https://localhost:8080/"
        },
        "id": "3VzOt4kThmV6",
        "outputId": "f2c70190-9bc2-4580-b171-b1d5d24a1bd4"
      },
      "outputs": [
        {
          "name": "stdout",
          "output_type": "stream",
          "text": [
            "balanced default Decision tree classifier on original data: \n",
            " [[56357   507]\n",
            " [   19    79]]\n"
          ]
        }
      ],
      "source": [
        "y_pred_bal_l=bal_clf.predict(X_test)\n",
        "print('balanced default Decision tree classifier on original data: \\n', confusion_matrix(y_test, y_pred_bal_l))"
      ]
    },
    {
      "cell_type": "markdown",
      "metadata": {
        "id": "xqq5A3_zh5Hj"
      },
      "source": [
        "Compared to the decision tree model trained on original data, the balanced deccision tree model trained on the same data has better performance on the minority class yet worse performance on the majority class. Compared to decision tree model trained on oversampled data, the balanced deccision tree model trained on the same data has the same performance on the minority class and better performance on the majority class. The balanced deccision tree model also has a slight higher AUC than the decision tree model trained on oversampled data. So, balanced deccision tree model improves the performance on the minority class at a low cost of the performance on the majority class. "
      ]
    }
  ],
  "metadata": {
    "colab": {
      "collapsed_sections": [],
      "provenance": [],
      "toc_visible": true
    },
    "kernelspec": {
      "display_name": "Python 3.9.6 64-bit",
      "language": "python",
      "name": "python3"
    },
    "language_info": {
      "codemirror_mode": {
        "name": "ipython",
        "version": 3
      },
      "file_extension": ".py",
      "mimetype": "text/x-python",
      "name": "python",
      "nbconvert_exporter": "python",
      "pygments_lexer": "ipython3",
      "version": "3.9.6"
    },
    "vscode": {
      "interpreter": {
        "hash": "aee8b7b246df8f9039afb4144a1f6fd8d2ca17a180786b69acc140d282b71a49"
      }
    }
  },
  "nbformat": 4,
  "nbformat_minor": 0
}
